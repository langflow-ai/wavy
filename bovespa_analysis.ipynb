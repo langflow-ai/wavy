{
 "cells": [
  {
   "cell_type": "code",
   "execution_count": 1,
   "metadata": {},
   "outputs": [
    {
     "name": "stdout",
     "output_type": "stream",
     "text": [
      "Init Plugin\n",
      "Init Graph Optimizer\n",
      "Init Kernel\n"
     ]
    }
   ],
   "source": [
    "%load_ext autoreload\n",
    "%autoreload 2\n",
    "\n",
    "from datetime import datetime\n",
    "import numpy as np\n",
    "import pandas as pd\n",
    "import tensorflow as tf\n",
    "\n",
    "import sys\n",
    "sys.path.append('../')\n",
    "\n",
    "import wavy\n",
    "\n",
    "import plotly.express as px\n",
    "import plotly.io as pio\n",
    "\n",
    "pio.renderers.default = 'notebook_connected'"
   ]
  },
  {
   "cell_type": "code",
   "execution_count": 2,
   "metadata": {},
   "outputs": [],
   "source": [
    "df = pd.read_pickle('processed.pkl')\n",
    "df = df[['LNC', 'MAS', 'CSX', 'CI', 'ANTM', 'VIAC', 'ALGN', 'PFE', 'CPB']]"
   ]
  },
  {
   "cell_type": "code",
   "execution_count": 5,
   "metadata": {},
   "outputs": [],
   "source": [
    "df = df.dropna()"
   ]
  },
  {
   "cell_type": "code",
   "execution_count": 7,
   "metadata": {},
   "outputs": [],
   "source": [
    "panel = wavy.from_data(df, lookback=10, horizon=3)"
   ]
  },
  {
   "cell_type": "code",
   "execution_count": 18,
   "metadata": {},
   "outputs": [
    {
     "name": "stderr",
     "output_type": "stream",
     "text": [
      "100%|██████████| 3735/3735 [00:09<00:00, 398.07it/s]\n",
      "100%|██████████| 3735/3735 [00:09<00:00, 394.75it/s]\n"
     ]
    }
   ],
   "source": [
    "panel2 = panel.filter(assets=['MAS'])"
   ]
  },
  {
   "cell_type": "code",
   "execution_count": 21,
   "metadata": {},
   "outputs": [],
   "source": [
    "block = panel2.x[0]"
   ]
  },
  {
   "cell_type": "code",
   "execution_count": 42,
   "metadata": {},
   "outputs": [
    {
     "data": {
      "text/plain": [
       "<wavy.side.PanelSide at 0x17f45b880>"
      ]
     },
     "execution_count": 42,
     "metadata": {},
     "output_type": "execute_result"
    }
   ],
   "source": [
    "panel.test.x"
   ]
  },
  {
   "cell_type": "code",
   "execution_count": null,
   "metadata": {},
   "outputs": [],
   "source": []
  },
  {
   "cell_type": "code",
   "execution_count": null,
   "metadata": {},
   "outputs": [],
   "source": []
  },
  {
   "cell_type": "code",
   "execution_count": null,
   "metadata": {},
   "outputs": [],
   "source": []
  },
  {
   "cell_type": "code",
   "execution_count": null,
   "metadata": {},
   "outputs": [],
   "source": [
    "panel = panel.dropna()"
   ]
  },
  {
   "cell_type": "code",
   "execution_count": null,
   "metadata": {},
   "outputs": [],
   "source": [
    "# Have plotly use the dark theme\n",
    "pio.templates.default = \"plotly_dark\""
   ]
  },
  {
   "cell_type": "code",
   "execution_count": null,
   "metadata": {},
   "outputs": [],
   "source": [
    "panel.x[0]"
   ]
  },
  {
   "cell_type": "code",
   "execution_count": null,
   "metadata": {},
   "outputs": [],
   "source": [
    "panel.y[0]"
   ]
  },
  {
   "cell_type": "code",
   "execution_count": null,
   "metadata": {},
   "outputs": [],
   "source": [
    "import numpy as np\n",
    "import pandas as pd\n",
    "import plotly as px\n",
    "import plotly.graph_objects as go\n",
    "import plotly.express as px\n",
    "\n",
    "pd.set_option(\"multi_sparse\", True)  # To see multilevel indexes\n",
    "pd.options.plotting.backend = \"plotly\"\n",
    "\n",
    "from plotly.subplots import make_subplots\n",
    "\n",
    "\n",
    "def pair_plot(panel, idx):\n",
    "\n",
    "    cmap = px.colors.qualitative.Plotly\n",
    "\n",
    "    fig = make_subplots(rows=len(panel.channels), cols=len(panel.assets), subplot_titles=panel.assets, shared_xaxes=True)\n",
    "\n",
    "    for j, channel in enumerate(panel.channels):\n",
    "        c = cmap[j]\n",
    "        for i, asset in enumerate(panel.assets):\n",
    "\n",
    "            showlegend = i <= 0\n",
    "            x_df = panel.x[idx].filter(assets=asset, channels=channel).smash()\n",
    "            y_df = panel.y[idx].filter(assets=asset, channels=channel).smash()\n",
    "\n",
    "            x_trace = go.Scatter(x=x_df.index, y=x_df.values.flatten(),\n",
    "                            line=dict(width=2, color=c), showlegend=showlegend, name=channel)\n",
    "\n",
    "            y_trace = go.Scatter(x=y_df.index, y=y_df.values.flatten(),\n",
    "                                line=dict(width=2, dash='dot', color=c), showlegend=False)\n",
    "\n",
    "            fig.add_trace(x_trace, row=j+1, col=i+1)\n",
    "            fig.add_trace(y_trace, row=j+1, col=i+1)\n",
    "\n",
    "    fig.update_layout(showlegend=True)\n",
    "    fig.show()\n",
    "\n",
    "\n",
    "panel = panel.filter('LNC', ['Open', 'High'])\n",
    "pair_plot(panel, 0)\n",
    "\n",
    "panel[0].plot()\n",
    "panel.y_ = model.predict()"
   ]
  },
  {
   "cell_type": "code",
   "execution_count": null,
   "metadata": {},
   "outputs": [],
   "source": [
    "\n",
    "\n",
    "x_trace = go.Scatter(x=x_df.index, y=x_df.values.flatten(),\n",
    "                        line=dict(width=2))\n",
    "\n",
    "y_trace = go.Scatter(x=y_df.index, y=y_df.values.flatten(),\n",
    "                    line=dict(width=2, dash='dot'))"
   ]
  },
  {
   "cell_type": "code",
   "execution_count": null,
   "metadata": {},
   "outputs": [],
   "source": [
    "def pair_plot(x_df, y_df):\n",
    "    fig = go.Figure()\n",
    "\n",
    "    fig.add_trace(go.Scatter(x=x_df.index, y=x_df.values.flatten(),\n",
    "                            line=dict(width=2)))\n",
    "\n",
    "    fig.add_trace(go.Scatter(x=y_df.index, y=y_df.values.flatten(),\n",
    "                             line=dict(width=2, dash='dot')))\n",
    "\n",
    "    fig.update_layout(title='', xaxis_title='Timestamps', yaxis_title='Values')\n",
    "    fig.show()\n",
    "\n",
    "\n",
    "asset = 'LNC'\n",
    "channel = 'Open'\n",
    "\n",
    "x_df = panel.x[0].filter(assets=asset, channels=channel).smash()\n",
    "y_df = panel.y[0].filter(assets=asset, channels=channel).smash()\n",
    "\n",
    "pair_plot(x_df, y_df)"
   ]
  },
  {
   "cell_type": "code",
   "execution_count": null,
   "metadata": {},
   "outputs": [],
   "source": []
  },
  {
   "cell_type": "code",
   "execution_count": null,
   "metadata": {},
   "outputs": [],
   "source": []
  },
  {
   "cell_type": "code",
   "execution_count": null,
   "metadata": {},
   "outputs": [],
   "source": []
  },
  {
   "cell_type": "code",
   "execution_count": null,
   "metadata": {},
   "outputs": [],
   "source": []
  },
  {
   "cell_type": "code",
   "execution_count": null,
   "metadata": {},
   "outputs": [],
   "source": []
  },
  {
   "cell_type": "code",
   "execution_count": null,
   "metadata": {},
   "outputs": [],
   "source": []
  },
  {
   "cell_type": "code",
   "execution_count": null,
   "metadata": {},
   "outputs": [],
   "source": []
  },
  {
   "cell_type": "code",
   "execution_count": null,
   "metadata": {},
   "outputs": [],
   "source": []
  },
  {
   "cell_type": "code",
   "execution_count": null,
   "metadata": {},
   "outputs": [],
   "source": [
    "y_df"
   ]
  },
  {
   "cell_type": "code",
   "execution_count": null,
   "metadata": {},
   "outputs": [],
   "source": []
  },
  {
   "cell_type": "code",
   "execution_count": null,
   "metadata": {},
   "outputs": [],
   "source": [
    "frames = list(panel.x)\n",
    "\n",
    "for i, frame in enumerate(frames):\n",
    "    frame['timestep'] = str(i)\n",
    "\n",
    "data = pd.concat(frames)\n",
    "data = data.smash()"
   ]
  },
  {
   "cell_type": "code",
   "execution_count": null,
   "metadata": {},
   "outputs": [],
   "source": [
    "fig = px.violin(data, x=\"LNC_High\", animation_frame=\"timestep\")\n",
    "fig.show(renderer='notebook_connected')"
   ]
  },
  {
   "cell_type": "code",
   "execution_count": null,
   "metadata": {},
   "outputs": [],
   "source": []
  },
  {
   "cell_type": "code",
   "execution_count": null,
   "metadata": {},
   "outputs": [],
   "source": []
  },
  {
   "cell_type": "code",
   "execution_count": null,
   "metadata": {},
   "outputs": [],
   "source": []
  },
  {
   "cell_type": "code",
   "execution_count": null,
   "metadata": {},
   "outputs": [],
   "source": [
    "block = panel.x[0]"
   ]
  },
  {
   "cell_type": "code",
   "execution_count": null,
   "metadata": {},
   "outputs": [],
   "source": [
    "block.loc[:, (slice(None), ['High'])]"
   ]
  },
  {
   "cell_type": "code",
   "execution_count": null,
   "metadata": {},
   "outputs": [],
   "source": [
    "block['ad'] = 1"
   ]
  },
  {
   "cell_type": "code",
   "execution_count": null,
   "metadata": {},
   "outputs": [],
   "source": [
    "block"
   ]
  },
  {
   "cell_type": "code",
   "execution_count": null,
   "metadata": {},
   "outputs": [],
   "source": []
  }
 ],
 "metadata": {
  "interpreter": {
   "hash": "9cb234d4e2c52173e43522c637a954180012c3ae1bff92a340992ea9042eea4e"
  },
  "kernelspec": {
   "display_name": "Python 3.8.10 64-bit ('tensorflow': conda)",
   "name": "python3"
  },
  "language_info": {
   "codemirror_mode": {
    "name": "ipython",
    "version": 3
   },
   "file_extension": ".py",
   "mimetype": "text/x-python",
   "name": "python",
   "nbconvert_exporter": "python",
   "pygments_lexer": "ipython3",
   "version": "3.8.10"
  }
 },
 "nbformat": 4,
 "nbformat_minor": 4
}
