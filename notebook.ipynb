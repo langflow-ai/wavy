{
 "cells": [
  {
   "cell_type": "code",
   "execution_count": 2,
   "source": [
    "import numpy as np\n",
    "import pandas as pd\n",
    "import tensorflow as tf\n",
    "\n",
    "from timelab import MultiColumn, from_data, from_xy_data"
   ],
   "outputs": [],
   "metadata": {}
  },
  {
   "cell_type": "code",
   "execution_count": 3,
   "source": [
    "df = pd.read_pickle('tests/test_data/multi_asset.pkl')\n",
    "df = df[['LNC', 'MAS', 'CSX']]"
   ],
   "outputs": [],
   "metadata": {}
  },
  {
   "cell_type": "code",
   "execution_count": 4,
   "source": [
    "panel = from_data(df, 10, 5, gap=0)"
   ],
   "outputs": [
    {
     "output_type": "stream",
     "name": "stderr",
     "text": [
      "/Volumes/GoogleDrive/My Drive/Logspace/Repositories/timeLab/timelab/panel.py:47: UserWarning: Frequency is either not constant or negative.\n",
      "  warnings.warn(\"Frequency is either not constant or negative.\")\n",
      "100%|██████████| 86/86 [00:00<00:00, 32989.77it/s]\n"
     ]
    }
   ],
   "metadata": {}
  },
  {
   "cell_type": "code",
   "execution_count": 5,
   "source": [
    "# xdata preprocessing\n",
    "\n",
    "xdata = df.pct_change().dropna()\n",
    "xdata = MultiColumn(xdata)\n",
    "xdata.head()"
   ],
   "outputs": [
    {
     "output_type": "execute_result",
     "data": {
      "text/plain": [
       "                 LNC                                                   MAS  \\\n",
       "                Open          High       Low     Close    Volume      Open   \n",
       "Date                                                                         \n",
       "2005-12-22  0.027751  1.001588e-07  0.019908 -0.004281 -0.499795  0.004950   \n",
       "2005-12-23 -0.003166  1.855704e-03  0.002065  0.007290 -0.462529 -0.006896   \n",
       "2005-12-27  0.011583  2.963881e-03  0.000562 -0.002226  0.584069 -0.001323   \n",
       "2005-12-28 -0.001478  4.616230e-03  0.006738  0.001859 -0.541975 -0.003973   \n",
       "2005-12-29 -0.003884 -5.882202e-03 -0.008181 -0.009467  0.246021 -0.002659   \n",
       "\n",
       "                                                         CSX            \\\n",
       "                High       Low     Close    Volume      Open      High   \n",
       "Date                                                                     \n",
       "2005-12-22  0.007526  0.000331 -0.008211  0.139214  0.021713  0.003367   \n",
       "2005-12-23 -0.017862 -0.011932 -0.005960  0.325702 -0.013108  0.015595   \n",
       "2005-12-27  0.001984  0.006373  0.001665 -0.230328  0.035419  0.000972   \n",
       "2005-12-28 -0.002970 -0.003000 -0.002328  0.259354 -0.015549 -0.010291   \n",
       "2005-12-29 -0.000331 -0.001337 -0.000667 -0.240734 -0.000593  0.012360   \n",
       "\n",
       "                                          \n",
       "                 Low     Close    Volume  \n",
       "Date                                      \n",
       "2005-12-22  0.018466  0.007570 -0.360517  \n",
       "2005-12-23 -0.009962  0.009095 -0.320835  \n",
       "2005-12-27  0.011471 -0.010580  0.351240  \n",
       "2005-12-28 -0.000995  0.002970 -0.270459  \n",
       "2005-12-29  0.007170  0.008687  0.277498  "
      ],
      "text/html": [
       "<div>\n",
       "<style scoped>\n",
       "    .dataframe tbody tr th:only-of-type {\n",
       "        vertical-align: middle;\n",
       "    }\n",
       "\n",
       "    .dataframe tbody tr th {\n",
       "        vertical-align: top;\n",
       "    }\n",
       "\n",
       "    .dataframe thead tr th {\n",
       "        text-align: left;\n",
       "    }\n",
       "\n",
       "    .dataframe thead tr:last-of-type th {\n",
       "        text-align: right;\n",
       "    }\n",
       "</style>\n",
       "<table border=\"1\" class=\"dataframe\">\n",
       "  <thead>\n",
       "    <tr>\n",
       "      <th></th>\n",
       "      <th colspan=\"5\" halign=\"left\">LNC</th>\n",
       "      <th colspan=\"5\" halign=\"left\">MAS</th>\n",
       "      <th colspan=\"5\" halign=\"left\">CSX</th>\n",
       "    </tr>\n",
       "    <tr>\n",
       "      <th></th>\n",
       "      <th>Open</th>\n",
       "      <th>High</th>\n",
       "      <th>Low</th>\n",
       "      <th>Close</th>\n",
       "      <th>Volume</th>\n",
       "      <th>Open</th>\n",
       "      <th>High</th>\n",
       "      <th>Low</th>\n",
       "      <th>Close</th>\n",
       "      <th>Volume</th>\n",
       "      <th>Open</th>\n",
       "      <th>High</th>\n",
       "      <th>Low</th>\n",
       "      <th>Close</th>\n",
       "      <th>Volume</th>\n",
       "    </tr>\n",
       "    <tr>\n",
       "      <th>Date</th>\n",
       "      <th></th>\n",
       "      <th></th>\n",
       "      <th></th>\n",
       "      <th></th>\n",
       "      <th></th>\n",
       "      <th></th>\n",
       "      <th></th>\n",
       "      <th></th>\n",
       "      <th></th>\n",
       "      <th></th>\n",
       "      <th></th>\n",
       "      <th></th>\n",
       "      <th></th>\n",
       "      <th></th>\n",
       "      <th></th>\n",
       "    </tr>\n",
       "  </thead>\n",
       "  <tbody>\n",
       "    <tr>\n",
       "      <th>2005-12-22</th>\n",
       "      <td>0.027751</td>\n",
       "      <td>1.001588e-07</td>\n",
       "      <td>0.019908</td>\n",
       "      <td>-0.004281</td>\n",
       "      <td>-0.499795</td>\n",
       "      <td>0.004950</td>\n",
       "      <td>0.007526</td>\n",
       "      <td>0.000331</td>\n",
       "      <td>-0.008211</td>\n",
       "      <td>0.139214</td>\n",
       "      <td>0.021713</td>\n",
       "      <td>0.003367</td>\n",
       "      <td>0.018466</td>\n",
       "      <td>0.007570</td>\n",
       "      <td>-0.360517</td>\n",
       "    </tr>\n",
       "    <tr>\n",
       "      <th>2005-12-23</th>\n",
       "      <td>-0.003166</td>\n",
       "      <td>1.855704e-03</td>\n",
       "      <td>0.002065</td>\n",
       "      <td>0.007290</td>\n",
       "      <td>-0.462529</td>\n",
       "      <td>-0.006896</td>\n",
       "      <td>-0.017862</td>\n",
       "      <td>-0.011932</td>\n",
       "      <td>-0.005960</td>\n",
       "      <td>0.325702</td>\n",
       "      <td>-0.013108</td>\n",
       "      <td>0.015595</td>\n",
       "      <td>-0.009962</td>\n",
       "      <td>0.009095</td>\n",
       "      <td>-0.320835</td>\n",
       "    </tr>\n",
       "    <tr>\n",
       "      <th>2005-12-27</th>\n",
       "      <td>0.011583</td>\n",
       "      <td>2.963881e-03</td>\n",
       "      <td>0.000562</td>\n",
       "      <td>-0.002226</td>\n",
       "      <td>0.584069</td>\n",
       "      <td>-0.001323</td>\n",
       "      <td>0.001984</td>\n",
       "      <td>0.006373</td>\n",
       "      <td>0.001665</td>\n",
       "      <td>-0.230328</td>\n",
       "      <td>0.035419</td>\n",
       "      <td>0.000972</td>\n",
       "      <td>0.011471</td>\n",
       "      <td>-0.010580</td>\n",
       "      <td>0.351240</td>\n",
       "    </tr>\n",
       "    <tr>\n",
       "      <th>2005-12-28</th>\n",
       "      <td>-0.001478</td>\n",
       "      <td>4.616230e-03</td>\n",
       "      <td>0.006738</td>\n",
       "      <td>0.001859</td>\n",
       "      <td>-0.541975</td>\n",
       "      <td>-0.003973</td>\n",
       "      <td>-0.002970</td>\n",
       "      <td>-0.003000</td>\n",
       "      <td>-0.002328</td>\n",
       "      <td>0.259354</td>\n",
       "      <td>-0.015549</td>\n",
       "      <td>-0.010291</td>\n",
       "      <td>-0.000995</td>\n",
       "      <td>0.002970</td>\n",
       "      <td>-0.270459</td>\n",
       "    </tr>\n",
       "    <tr>\n",
       "      <th>2005-12-29</th>\n",
       "      <td>-0.003884</td>\n",
       "      <td>-5.882202e-03</td>\n",
       "      <td>-0.008181</td>\n",
       "      <td>-0.009467</td>\n",
       "      <td>0.246021</td>\n",
       "      <td>-0.002659</td>\n",
       "      <td>-0.000331</td>\n",
       "      <td>-0.001337</td>\n",
       "      <td>-0.000667</td>\n",
       "      <td>-0.240734</td>\n",
       "      <td>-0.000593</td>\n",
       "      <td>0.012360</td>\n",
       "      <td>0.007170</td>\n",
       "      <td>0.008687</td>\n",
       "      <td>0.277498</td>\n",
       "    </tr>\n",
       "  </tbody>\n",
       "</table>\n",
       "</div>"
      ]
     },
     "metadata": {},
     "execution_count": 5
    }
   ],
   "metadata": {}
  },
  {
   "cell_type": "code",
   "execution_count": 6,
   "source": [
    "# ydata preprocessing\n",
    "\n",
    "ydata = xdata.copy()\n",
    "\n",
    "ydata = ydata.channel_apply(lambda x: x['High'] > 0, 'Raise')\n",
    "ydata = ydata.loc[xdata.index]\n",
    "ydata = MultiColumn(ydata)\n",
    "ydata.head()"
   ],
   "outputs": [
    {
     "output_type": "execute_result",
     "data": {
      "text/plain": [
       "              LNC    MAS    CSX\n",
       "            Raise  Raise  Raise\n",
       "Date                           \n",
       "2005-12-22   True   True   True\n",
       "2005-12-23   True  False   True\n",
       "2005-12-27   True   True   True\n",
       "2005-12-28   True  False  False\n",
       "2005-12-29  False  False   True"
      ],
      "text/html": [
       "<div>\n",
       "<style scoped>\n",
       "    .dataframe tbody tr th:only-of-type {\n",
       "        vertical-align: middle;\n",
       "    }\n",
       "\n",
       "    .dataframe tbody tr th {\n",
       "        vertical-align: top;\n",
       "    }\n",
       "\n",
       "    .dataframe thead tr th {\n",
       "        text-align: left;\n",
       "    }\n",
       "\n",
       "    .dataframe thead tr:last-of-type th {\n",
       "        text-align: right;\n",
       "    }\n",
       "</style>\n",
       "<table border=\"1\" class=\"dataframe\">\n",
       "  <thead>\n",
       "    <tr>\n",
       "      <th></th>\n",
       "      <th>LNC</th>\n",
       "      <th>MAS</th>\n",
       "      <th>CSX</th>\n",
       "    </tr>\n",
       "    <tr>\n",
       "      <th></th>\n",
       "      <th>Raise</th>\n",
       "      <th>Raise</th>\n",
       "      <th>Raise</th>\n",
       "    </tr>\n",
       "    <tr>\n",
       "      <th>Date</th>\n",
       "      <th></th>\n",
       "      <th></th>\n",
       "      <th></th>\n",
       "    </tr>\n",
       "  </thead>\n",
       "  <tbody>\n",
       "    <tr>\n",
       "      <th>2005-12-22</th>\n",
       "      <td>True</td>\n",
       "      <td>True</td>\n",
       "      <td>True</td>\n",
       "    </tr>\n",
       "    <tr>\n",
       "      <th>2005-12-23</th>\n",
       "      <td>True</td>\n",
       "      <td>False</td>\n",
       "      <td>True</td>\n",
       "    </tr>\n",
       "    <tr>\n",
       "      <th>2005-12-27</th>\n",
       "      <td>True</td>\n",
       "      <td>True</td>\n",
       "      <td>True</td>\n",
       "    </tr>\n",
       "    <tr>\n",
       "      <th>2005-12-28</th>\n",
       "      <td>True</td>\n",
       "      <td>False</td>\n",
       "      <td>False</td>\n",
       "    </tr>\n",
       "    <tr>\n",
       "      <th>2005-12-29</th>\n",
       "      <td>False</td>\n",
       "      <td>False</td>\n",
       "      <td>True</td>\n",
       "    </tr>\n",
       "  </tbody>\n",
       "</table>\n",
       "</div>"
      ]
     },
     "metadata": {},
     "execution_count": 6
    }
   ],
   "metadata": {}
  },
  {
   "cell_type": "code",
   "execution_count": 44,
   "source": [
    "lookback = 8\n",
    "horizon = 1\n",
    "gap = 0"
   ],
   "outputs": [],
   "metadata": {}
  },
  {
   "cell_type": "code",
   "execution_count": 45,
   "source": [
    "panel = from_xy_data(xdata, ydata, lookback=lookback, horizon=horizon, gap=gap)"
   ],
   "outputs": [
    {
     "output_type": "stream",
     "name": "stderr",
     "text": [
      "/Volumes/GoogleDrive/My Drive/Logspace/Repositories/timeLab/timelab/panel.py:47: UserWarning: Frequency is either not constant or negative.\n",
      "  warnings.warn(\"Frequency is either not constant or negative.\")\n",
      "100%|██████████| 91/91 [00:00<00:00, 63286.63it/s]\n"
     ]
    }
   ],
   "metadata": {}
  },
  {
   "cell_type": "code",
   "execution_count": 46,
   "source": [
    "panels = panel.split_units(split_yunits=True)"
   ],
   "outputs": [
    {
     "output_type": "stream",
     "name": "stderr",
     "text": [
      "100%|██████████| 91/91 [00:00<00:00, 19783.43it/s]\n",
      "100%|██████████| 91/91 [00:00<00:00, 70984.13it/s]\n",
      "100%|██████████| 91/91 [00:00<00:00, 52660.27it/s]\n",
      "100%|██████████| 3/3 [00:00<00:00, 31.17it/s]\n"
     ]
    }
   ],
   "metadata": {
    "tags": []
   }
  },
  {
   "cell_type": "code",
   "execution_count": 10,
   "source": [
    "stock_panel = panels[0]"
   ],
   "outputs": [],
   "metadata": {}
  },
  {
   "cell_type": "code",
   "execution_count": 11,
   "source": [
    "x = stock_panel.xflat()\n",
    "y = stock_panel.yflat()\n",
    "\n",
    "x_train = x.iloc[:50]\n",
    "y_train = y.iloc[:50][0] # first column\n",
    "\n",
    "x_test = x.iloc[50:]\n",
    "y_test = y.iloc[50:][0] # first column\n",
    "\n",
    "# A split by date here (e.g. y_train = y.loc[:'2006']) could cause problems, since predictions occur in the future.\n",
    "# A solution would be to map y indexes with x indexes, but we lose the prediction date information"
   ],
   "outputs": [],
   "metadata": {}
  },
  {
   "cell_type": "code",
   "execution_count": 12,
   "source": [
    "# Best solution is using time panel split:\n",
    "train, test = stock_panel.split_train_test(split_size=0.2)"
   ],
   "outputs": [],
   "metadata": {}
  },
  {
   "cell_type": "code",
   "execution_count": 13,
   "source": [
    "x_train = train.xflat()\n",
    "y_train = train.yflat()\n",
    "\n",
    "x_test = test.xflat()\n",
    "y_test = test.yflat()"
   ],
   "outputs": [],
   "metadata": {}
  },
  {
   "cell_type": "code",
   "execution_count": 14,
   "source": [
    "from sklearn.ensemble import RandomForestClassifier\n",
    "from sklearn.metrics import classification_report, roc_auc_score"
   ],
   "outputs": [],
   "metadata": {}
  },
  {
   "cell_type": "code",
   "execution_count": 22,
   "source": [
    "rf = RandomForestClassifier(class_weight={1:0.5, 0:10})\n",
    "rf.fit(x_train, y_train)\n",
    "rf.predict_proba(x_test)"
   ],
   "outputs": [
    {
     "output_type": "stream",
     "name": "stderr",
     "text": [
      "/var/folders/2f/p21ddq0n1m1fjxhp8r7hksv80000gn/T/ipykernel_1774/211340750.py:2: DataConversionWarning: A column-vector y was passed when a 1d array was expected. Please change the shape of y to (n_samples,), for example using ravel().\n",
      "  rf.fit(x_train, y_train)\n"
     ]
    },
    {
     "output_type": "execute_result",
     "data": {
      "text/plain": [
       "array([[0.11, 0.89],\n",
       "       [0.27, 0.73],\n",
       "       [0.39, 0.61],\n",
       "       [0.17, 0.83],\n",
       "       [0.48, 0.52],\n",
       "       [0.49, 0.51],\n",
       "       [0.76, 0.24],\n",
       "       [0.68, 0.32],\n",
       "       [0.87, 0.13],\n",
       "       [0.51, 0.49],\n",
       "       [0.55, 0.45],\n",
       "       [0.67, 0.33],\n",
       "       [0.7 , 0.3 ],\n",
       "       [0.45, 0.55],\n",
       "       [0.34, 0.66],\n",
       "       [0.46, 0.54],\n",
       "       [0.65, 0.35],\n",
       "       [0.62, 0.38]])"
      ]
     },
     "metadata": {},
     "execution_count": 22
    }
   ],
   "metadata": {}
  },
  {
   "cell_type": "code",
   "execution_count": 80,
   "source": [
    "# pred_data = pd.DataFrame(index=x_test.index,\n",
    "#                          data={'ytrue': y_test,\n",
    "#                                'ypred': preds}).astype(float)\n",
    "\n",
    "# pred_data['pred'] = pred_data.ypred > 0.5\n",
    "# roc_auc_score(pred_data.ytrue, pred_data.ypred)\n",
    "# print(classification_report(pred_data.ytrue, pred_data.pred))"
   ],
   "outputs": [],
   "metadata": {}
  },
  {
   "cell_type": "code",
   "execution_count": 47,
   "source": [
    "panel.xframe(0)"
   ],
   "outputs": [
    {
     "output_type": "execute_result",
     "data": {
      "text/plain": [
       "                 LNC                                                   MAS  \\\n",
       "                Open          High       Low     Close    Volume      Open   \n",
       "2005-12-22  0.027751  1.001588e-07  0.019908 -0.004281 -0.499795  0.004950   \n",
       "2005-12-23 -0.003166  1.855704e-03  0.002065  0.007290 -0.462529 -0.006896   \n",
       "2005-12-27  0.011583  2.963881e-03  0.000562 -0.002226  0.584069 -0.001323   \n",
       "2005-12-28 -0.001478  4.616230e-03  0.006738  0.001859 -0.541975 -0.003973   \n",
       "2005-12-29 -0.003884 -5.882202e-03 -0.008181 -0.009467  0.246021 -0.002659   \n",
       "2005-12-30 -0.012811 -1.682683e-02 -0.013123 -0.006184  0.116100 -0.000667   \n",
       "2006-01-03  0.001881  7.711192e-03 -0.002849  0.009429  0.251136  0.020014   \n",
       "2006-01-04  0.009011  9.331692e-03  0.023623  0.006912  0.375622  0.017640   \n",
       "\n",
       "                                                         CSX            \\\n",
       "                High       Low     Close    Volume      Open      High   \n",
       "2005-12-22  0.007526  0.000331 -0.008211  0.139214  0.021713  0.003367   \n",
       "2005-12-23 -0.017862 -0.011932 -0.005960  0.325702 -0.013108  0.015595   \n",
       "2005-12-27  0.001984  0.006373  0.001665 -0.230328  0.035419  0.000972   \n",
       "2005-12-28 -0.002970 -0.003000 -0.002328  0.259354 -0.015549 -0.010291   \n",
       "2005-12-29 -0.000331 -0.001337 -0.000667 -0.240734 -0.000593  0.012360   \n",
       "2005-12-30  0.002649  0.003348  0.007004  0.086383  0.004544 -0.011046   \n",
       "2006-01-03  0.030714  0.007675  0.033787  1.172430  0.001376 -0.000784   \n",
       "2006-01-04 -0.000968  0.016781 -0.009029 -0.343349 -0.018068 -0.016081   \n",
       "\n",
       "                                          \n",
       "                 Low     Close    Volume  \n",
       "2005-12-22  0.018466  0.007570 -0.360517  \n",
       "2005-12-23 -0.009962  0.009095 -0.320835  \n",
       "2005-12-27  0.011471 -0.010580  0.351240  \n",
       "2005-12-28 -0.000995  0.002970 -0.270459  \n",
       "2005-12-29  0.007170  0.008687  0.277498  \n",
       "2005-12-30  0.000791 -0.006263 -0.351358  \n",
       "2006-01-03 -0.022921 -0.016151  2.486240  \n",
       "2006-01-04  0.005662 -0.002603 -0.041152  "
      ],
      "text/html": [
       "<div>\n",
       "<style scoped>\n",
       "    .dataframe tbody tr th:only-of-type {\n",
       "        vertical-align: middle;\n",
       "    }\n",
       "\n",
       "    .dataframe tbody tr th {\n",
       "        vertical-align: top;\n",
       "    }\n",
       "\n",
       "    .dataframe thead tr th {\n",
       "        text-align: left;\n",
       "    }\n",
       "</style>\n",
       "<table border=\"1\" class=\"dataframe\">\n",
       "  <thead>\n",
       "    <tr>\n",
       "      <th></th>\n",
       "      <th colspan=\"5\" halign=\"left\">LNC</th>\n",
       "      <th colspan=\"5\" halign=\"left\">MAS</th>\n",
       "      <th colspan=\"5\" halign=\"left\">CSX</th>\n",
       "    </tr>\n",
       "    <tr>\n",
       "      <th></th>\n",
       "      <th>Open</th>\n",
       "      <th>High</th>\n",
       "      <th>Low</th>\n",
       "      <th>Close</th>\n",
       "      <th>Volume</th>\n",
       "      <th>Open</th>\n",
       "      <th>High</th>\n",
       "      <th>Low</th>\n",
       "      <th>Close</th>\n",
       "      <th>Volume</th>\n",
       "      <th>Open</th>\n",
       "      <th>High</th>\n",
       "      <th>Low</th>\n",
       "      <th>Close</th>\n",
       "      <th>Volume</th>\n",
       "    </tr>\n",
       "  </thead>\n",
       "  <tbody>\n",
       "    <tr>\n",
       "      <th>2005-12-22</th>\n",
       "      <td>0.027751</td>\n",
       "      <td>1.001588e-07</td>\n",
       "      <td>0.019908</td>\n",
       "      <td>-0.004281</td>\n",
       "      <td>-0.499795</td>\n",
       "      <td>0.004950</td>\n",
       "      <td>0.007526</td>\n",
       "      <td>0.000331</td>\n",
       "      <td>-0.008211</td>\n",
       "      <td>0.139214</td>\n",
       "      <td>0.021713</td>\n",
       "      <td>0.003367</td>\n",
       "      <td>0.018466</td>\n",
       "      <td>0.007570</td>\n",
       "      <td>-0.360517</td>\n",
       "    </tr>\n",
       "    <tr>\n",
       "      <th>2005-12-23</th>\n",
       "      <td>-0.003166</td>\n",
       "      <td>1.855704e-03</td>\n",
       "      <td>0.002065</td>\n",
       "      <td>0.007290</td>\n",
       "      <td>-0.462529</td>\n",
       "      <td>-0.006896</td>\n",
       "      <td>-0.017862</td>\n",
       "      <td>-0.011932</td>\n",
       "      <td>-0.005960</td>\n",
       "      <td>0.325702</td>\n",
       "      <td>-0.013108</td>\n",
       "      <td>0.015595</td>\n",
       "      <td>-0.009962</td>\n",
       "      <td>0.009095</td>\n",
       "      <td>-0.320835</td>\n",
       "    </tr>\n",
       "    <tr>\n",
       "      <th>2005-12-27</th>\n",
       "      <td>0.011583</td>\n",
       "      <td>2.963881e-03</td>\n",
       "      <td>0.000562</td>\n",
       "      <td>-0.002226</td>\n",
       "      <td>0.584069</td>\n",
       "      <td>-0.001323</td>\n",
       "      <td>0.001984</td>\n",
       "      <td>0.006373</td>\n",
       "      <td>0.001665</td>\n",
       "      <td>-0.230328</td>\n",
       "      <td>0.035419</td>\n",
       "      <td>0.000972</td>\n",
       "      <td>0.011471</td>\n",
       "      <td>-0.010580</td>\n",
       "      <td>0.351240</td>\n",
       "    </tr>\n",
       "    <tr>\n",
       "      <th>2005-12-28</th>\n",
       "      <td>-0.001478</td>\n",
       "      <td>4.616230e-03</td>\n",
       "      <td>0.006738</td>\n",
       "      <td>0.001859</td>\n",
       "      <td>-0.541975</td>\n",
       "      <td>-0.003973</td>\n",
       "      <td>-0.002970</td>\n",
       "      <td>-0.003000</td>\n",
       "      <td>-0.002328</td>\n",
       "      <td>0.259354</td>\n",
       "      <td>-0.015549</td>\n",
       "      <td>-0.010291</td>\n",
       "      <td>-0.000995</td>\n",
       "      <td>0.002970</td>\n",
       "      <td>-0.270459</td>\n",
       "    </tr>\n",
       "    <tr>\n",
       "      <th>2005-12-29</th>\n",
       "      <td>-0.003884</td>\n",
       "      <td>-5.882202e-03</td>\n",
       "      <td>-0.008181</td>\n",
       "      <td>-0.009467</td>\n",
       "      <td>0.246021</td>\n",
       "      <td>-0.002659</td>\n",
       "      <td>-0.000331</td>\n",
       "      <td>-0.001337</td>\n",
       "      <td>-0.000667</td>\n",
       "      <td>-0.240734</td>\n",
       "      <td>-0.000593</td>\n",
       "      <td>0.012360</td>\n",
       "      <td>0.007170</td>\n",
       "      <td>0.008687</td>\n",
       "      <td>0.277498</td>\n",
       "    </tr>\n",
       "    <tr>\n",
       "      <th>2005-12-30</th>\n",
       "      <td>-0.012811</td>\n",
       "      <td>-1.682683e-02</td>\n",
       "      <td>-0.013123</td>\n",
       "      <td>-0.006184</td>\n",
       "      <td>0.116100</td>\n",
       "      <td>-0.000667</td>\n",
       "      <td>0.002649</td>\n",
       "      <td>0.003348</td>\n",
       "      <td>0.007004</td>\n",
       "      <td>0.086383</td>\n",
       "      <td>0.004544</td>\n",
       "      <td>-0.011046</td>\n",
       "      <td>0.000791</td>\n",
       "      <td>-0.006263</td>\n",
       "      <td>-0.351358</td>\n",
       "    </tr>\n",
       "    <tr>\n",
       "      <th>2006-01-03</th>\n",
       "      <td>0.001881</td>\n",
       "      <td>7.711192e-03</td>\n",
       "      <td>-0.002849</td>\n",
       "      <td>0.009429</td>\n",
       "      <td>0.251136</td>\n",
       "      <td>0.020014</td>\n",
       "      <td>0.030714</td>\n",
       "      <td>0.007675</td>\n",
       "      <td>0.033787</td>\n",
       "      <td>1.172430</td>\n",
       "      <td>0.001376</td>\n",
       "      <td>-0.000784</td>\n",
       "      <td>-0.022921</td>\n",
       "      <td>-0.016151</td>\n",
       "      <td>2.486240</td>\n",
       "    </tr>\n",
       "    <tr>\n",
       "      <th>2006-01-04</th>\n",
       "      <td>0.009011</td>\n",
       "      <td>9.331692e-03</td>\n",
       "      <td>0.023623</td>\n",
       "      <td>0.006912</td>\n",
       "      <td>0.375622</td>\n",
       "      <td>0.017640</td>\n",
       "      <td>-0.000968</td>\n",
       "      <td>0.016781</td>\n",
       "      <td>-0.009029</td>\n",
       "      <td>-0.343349</td>\n",
       "      <td>-0.018068</td>\n",
       "      <td>-0.016081</td>\n",
       "      <td>0.005662</td>\n",
       "      <td>-0.002603</td>\n",
       "      <td>-0.041152</td>\n",
       "    </tr>\n",
       "  </tbody>\n",
       "</table>\n",
       "</div>"
      ]
     },
     "metadata": {},
     "execution_count": 47
    }
   ],
   "metadata": {}
  },
  {
   "cell_type": "code",
   "execution_count": 48,
   "source": [
    "from timelab.utils import smash_array"
   ],
   "outputs": [],
   "metadata": {}
  },
  {
   "cell_type": "code",
   "execution_count": 49,
   "source": [
    "# Pipeline for one unit\n",
    "panel = panels[0]\n",
    "\n",
    "# Remove unit dimension - it is already being processed separately.\n",
    "X = smash_array(panel.X)\n",
    "\n",
    "# y is 1D so flatten is enough\n",
    "y = panel.y.flatten()"
   ],
   "outputs": [],
   "metadata": {}
  },
  {
   "cell_type": "code",
   "execution_count": 53,
   "source": [
    "X.shape"
   ],
   "outputs": [
    {
     "output_type": "execute_result",
     "data": {
      "text/plain": [
       "(91, 8, 5)"
      ]
     },
     "metadata": {},
     "execution_count": 53
    }
   ],
   "metadata": {}
  },
  {
   "cell_type": "code",
   "execution_count": 68,
   "source": [
    "inputs = tf.keras.Input(shape=(X.shape[1:]))\n",
    "\n",
    "# Convoluting on the time dimension\n",
    "x = tf.keras.layers.SeparableConv1D(10, 8)(inputs)\n",
    "x = tf.keras.layers.Flatten()(x)\n",
    "x = tf.keras.layers.Dense(10, activation=tf.nn.relu)(x)\n",
    "x = tf.keras.layers.Dense(1, activation=tf.nn.sigmoid)(x)\n",
    "outputs = tf.keras.layers.Reshape(train.y.shape[1:])(x)\n",
    "\n",
    "model = tf.keras.Model(inputs=inputs, outputs=outputs)\n",
    "\n",
    "model.compile(optimizer=\"Adam\", loss=\"binary_crossentropy\", metrics=[\"binary_crossentropy\", 'AUC'])\n",
    "model.summary()"
   ],
   "outputs": [
    {
     "output_type": "stream",
     "name": "stdout",
     "text": [
      "Model: \"model_12\"\n",
      "_________________________________________________________________\n",
      "Layer (type)                 Output Shape              Param #   \n",
      "=================================================================\n",
      "input_15 (InputLayer)        [(None, 8, 5)]            0         \n",
      "_________________________________________________________________\n",
      "separable_conv1d_1 (Separabl (None, 1, 10)             100       \n",
      "_________________________________________________________________\n",
      "flatten_12 (Flatten)         (None, 10)                0         \n",
      "_________________________________________________________________\n",
      "dense_24 (Dense)             (None, 10)                110       \n",
      "_________________________________________________________________\n",
      "dense_25 (Dense)             (None, 1)                 11        \n",
      "_________________________________________________________________\n",
      "reshape_12 (Reshape)         (None, 1, 1, 1)           0         \n",
      "=================================================================\n",
      "Total params: 221\n",
      "Trainable params: 221\n",
      "Non-trainable params: 0\n",
      "_________________________________________________________________\n"
     ]
    }
   ],
   "metadata": {}
  },
  {
   "cell_type": "code",
   "execution_count": 21,
   "source": [
    "\n",
    "\n",
    "\n",
    "x = tf.keras.layers.Flatten()(x)\n",
    "x = tf.keras.layers.Dense(10, activation=tf.nn.relu)(x)\n",
    "x = tf.keras.layers.Dense(1, activation=tf.nn.sigmoid)(x)\n",
    "outputs = tf.keras.layers.Reshape(train.y.shape[1:])(x)\n",
    "\n",
    "model = tf.keras.Model(inputs=inputs, outputs=outputs)\n",
    "\n",
    "model.compile(optimizer=\"Adam\", loss=\"binary_crossentropy\", metrics=[\"binary_crossentropy\", 'AUC'])\n",
    "model.summary()"
   ],
   "outputs": [
    {
     "output_type": "stream",
     "name": "stdout",
     "text": [
      "TimePanel\n",
      "size                              94\n",
      "lookback                           5\n",
      "horizon                            1\n",
      "gap                                0\n",
      "num_xunits                         1\n",
      "num_yunits                         1\n",
      "num_xchannels                      5\n",
      "num_ychannels                      1\n",
      "start            2005-12-22 00:00:00\n",
      "end              2006-05-17 00:00:00\n",
      "Name: TimePanel, dtype: object\n",
      "TimePanel\n",
      "size                              94\n",
      "lookback                           5\n",
      "horizon                            1\n",
      "gap                                0\n",
      "num_xunits                         1\n",
      "num_yunits                         1\n",
      "num_xchannels                      5\n",
      "num_ychannels                      1\n",
      "start            2005-12-22 00:00:00\n",
      "end              2006-05-17 00:00:00\n",
      "Name: TimePanel, dtype: object\n",
      "TimePanel\n",
      "size                              94\n",
      "lookback                           5\n",
      "horizon                            1\n",
      "gap                                0\n",
      "num_xunits                         1\n",
      "num_yunits                         1\n",
      "num_xchannels                      5\n",
      "num_ychannels                      1\n",
      "start            2005-12-22 00:00:00\n",
      "end              2006-05-17 00:00:00\n",
      "Name: TimePanel, dtype: object\n"
     ]
    },
    {
     "output_type": "execute_result",
     "data": {
      "text/plain": [
       "[<TimePanel, size 94>, <TimePanel, size 94>, <TimePanel, size 94>]"
      ]
     },
     "metadata": {},
     "execution_count": 21
    }
   ],
   "metadata": {}
  },
  {
   "cell_type": "code",
   "execution_count": null,
   "source": [],
   "outputs": [],
   "metadata": {}
  },
  {
   "cell_type": "code",
   "execution_count": null,
   "source": [],
   "outputs": [],
   "metadata": {}
  },
  {
   "cell_type": "code",
   "execution_count": null,
   "source": [],
   "outputs": [],
   "metadata": {}
  },
  {
   "cell_type": "code",
   "execution_count": null,
   "source": [],
   "outputs": [],
   "metadata": {}
  },
  {
   "cell_type": "code",
   "execution_count": null,
   "source": [
    "import plotly.graph_objects as go\n",
    "import pandas as pd\n",
    "\n",
    "fig = go.Figure(data=[go.Candlestick(x=data.index,\n",
    "                open=data['Open'],\n",
    "                high=data['High'],\n",
    "                low=data['Low'],\n",
    "                close=data['Close'])\n",
    "                ])\n",
    "\n",
    "\n",
    "fig.update_layout(xaxis_rangeslider_visible=False)\n",
    "\n",
    "shapes = []\n",
    "for index in trues.index:\n",
    "    shapes.append(dict(type='line', yref='paper', y0=0, y1=1, xref='x',\n",
    "                 x0=index, x1=index))\n",
    "\n",
    "fig.update_layout(shapes=shapes)\n",
    "\n",
    "fig.show()"
   ],
   "outputs": [],
   "metadata": {}
  },
  {
   "cell_type": "code",
   "execution_count": null,
   "source": [],
   "outputs": [],
   "metadata": {}
  },
  {
   "cell_type": "code",
   "execution_count": null,
   "source": [],
   "outputs": [],
   "metadata": {}
  },
  {
   "cell_type": "code",
   "execution_count": null,
   "source": [],
   "outputs": [],
   "metadata": {}
  },
  {
   "cell_type": "code",
   "execution_count": null,
   "source": [],
   "outputs": [],
   "metadata": {}
  },
  {
   "cell_type": "code",
   "execution_count": null,
   "source": [],
   "outputs": [],
   "metadata": {}
  },
  {
   "cell_type": "code",
   "execution_count": null,
   "source": [
    "train, test = stock_panel.split_train_test(0.2)\n",
    "print(train.X.shape)\n",
    "print(train.y.shape)"
   ],
   "outputs": [],
   "metadata": {}
  },
  {
   "cell_type": "code",
   "execution_count": null,
   "source": [
    "inputs = tf.keras.Input(shape=(train.X.shape[1:]))\n",
    "\n",
    "x = tf.keras.layers.Conv1D(2, 2)(inputs)\n",
    "x = tf.keras.layers.Flatten()(x)\n",
    "x = tf.keras.layers.Dense(10, activation=tf.nn.relu)(x)\n",
    "x = tf.keras.layers.Dense(1, activation=tf.nn.sigmoid)(x)\n",
    "outputs = tf.keras.layers.Reshape(train.y.shape[1:])(x)\n",
    "\n",
    "model = tf.keras.Model(inputs=inputs, outputs=outputs)\n",
    "\n",
    "model.compile(optimizer=\"Adam\", loss=\"binary_crossentropy\", metrics=[\"binary_crossentropy\", 'AUC'])\n",
    "model.summary()"
   ],
   "outputs": [],
   "metadata": {}
  },
  {
   "cell_type": "code",
   "execution_count": null,
   "source": [
    "H = model.fit(train.X, train.y, epochs=120, validation_data=(test.X, test.y), verbose=0)"
   ],
   "outputs": [],
   "metadata": {
    "tags": []
   }
  },
  {
   "cell_type": "code",
   "execution_count": null,
   "source": [
    "losses = pd.DataFrame({'train_loss': H.history['loss'], 'val_loss': H.history['val_loss']})\n",
    "losses.plot()"
   ],
   "outputs": [],
   "metadata": {}
  },
  {
   "cell_type": "code",
   "execution_count": null,
   "source": [
    "aucs = pd.DataFrame({'train_auc': H.history['auc'], 'val_auc': H.history['val_auc']})\n",
    "aucs.plot()"
   ],
   "outputs": [],
   "metadata": {}
  },
  {
   "cell_type": "code",
   "execution_count": null,
   "source": [
    "preds = model.predict(test.X)\n",
    "\n",
    "pred_data = pd.DataFrame(index=test.yindex, \n",
    "                         data={'ytrue': test.y.flatten(), \n",
    "                               'ypred':preds.flatten()}).astype(float)\n",
    "\n",
    "pred_data['pred'] = pred_data.ypred > 0.9"
   ],
   "outputs": [],
   "metadata": {}
  },
  {
   "cell_type": "code",
   "execution_count": null,
   "source": [
    "pred_data.ypred.plot(kind='scatter')"
   ],
   "outputs": [],
   "metadata": {}
  },
  {
   "cell_type": "code",
   "execution_count": null,
   "source": [
    "thresh = 0.9\n",
    "pred_data[pred_data.ypred > thresh]"
   ],
   "outputs": [],
   "metadata": {}
  },
  {
   "cell_type": "code",
   "execution_count": null,
   "source": [
    "print(classification_report(pred_data.ytrue, pred_data.ypred > thresh))"
   ],
   "outputs": [],
   "metadata": {}
  },
  {
   "cell_type": "code",
   "execution_count": null,
   "source": [],
   "outputs": [],
   "metadata": {}
  },
  {
   "cell_type": "code",
   "execution_count": null,
   "source": [],
   "outputs": [],
   "metadata": {}
  },
  {
   "cell_type": "code",
   "execution_count": null,
   "source": [],
   "outputs": [],
   "metadata": {}
  },
  {
   "cell_type": "code",
   "execution_count": null,
   "source": [],
   "outputs": [],
   "metadata": {}
  },
  {
   "cell_type": "code",
   "execution_count": null,
   "source": [],
   "outputs": [],
   "metadata": {}
  },
  {
   "cell_type": "code",
   "execution_count": null,
   "source": [],
   "outputs": [],
   "metadata": {}
  },
  {
   "cell_type": "code",
   "execution_count": null,
   "source": [],
   "outputs": [],
   "metadata": {}
  },
  {
   "cell_type": "code",
   "execution_count": null,
   "source": [],
   "outputs": [],
   "metadata": {}
  },
  {
   "cell_type": "code",
   "execution_count": null,
   "source": [],
   "outputs": [],
   "metadata": {}
  },
  {
   "cell_type": "code",
   "execution_count": null,
   "source": [],
   "outputs": [],
   "metadata": {}
  },
  {
   "cell_type": "code",
   "execution_count": null,
   "source": [],
   "outputs": [],
   "metadata": {}
  },
  {
   "cell_type": "code",
   "execution_count": null,
   "source": [],
   "outputs": [],
   "metadata": {}
  },
  {
   "cell_type": "code",
   "execution_count": null,
   "source": [
    "# Option to add multilevel - one per column instead of one above all\n",
    "# Label: if (tomorrow high - today close) > 0"
   ],
   "outputs": [],
   "metadata": {}
  },
  {
   "cell_type": "code",
   "execution_count": null,
   "source": [
    "# xdata.loc[:, (slice(None), ['Volume'])] = xdata.loc[:, (slice(None), ['Volume'])].shift()"
   ],
   "outputs": [],
   "metadata": {}
  },
  {
   "cell_type": "code",
   "execution_count": null,
   "source": [],
   "outputs": [],
   "metadata": {}
  },
  {
   "cell_type": "code",
   "execution_count": null,
   "source": [],
   "outputs": [],
   "metadata": {}
  },
  {
   "cell_type": "code",
   "execution_count": null,
   "source": [
    "import plotly.graph_objects as go\n",
    "\n",
    "def pair_plot(pair, xunit, yunit, xchannels=None, ychannels=None):\n",
    "    \n",
    "    \n",
    "    x = pair.xframe\n",
    "    y = pair.yframe\n",
    "    \n",
    "    x = select(x, units=[xunit], channels=xchannels)\n",
    "    y = select(y, units=[yunit], channels=ychannels)\n",
    "\n",
    "    fig = go.Figure()\n",
    "\n",
    "    for _, channel in enumerate(xchannels):\n",
    "        c = random.choice(cmap1)\n",
    "        fig.add_trace(go.Scatter(x=x.index, y=x[channel], name=\"x_\" + channel,\n",
    "                                 line=dict(width=2, color=c)))\n",
    "        \n",
    "    for _, channel in enumerate(ychannels):\n",
    "        c = random.choice(cmap1)\n",
    "        fig.add_trace(go.Scatter(x=y.index, y=y[channel], name=\"y_\" + channel,\n",
    "                                 line=dict(width=2, dash='dot', color=c)))\n",
    "\n",
    "    fig.update_layout(title='', xaxis_title='Timestamps', yaxis_title='Values')\n",
    "    fig.show()"
   ],
   "outputs": [],
   "metadata": {}
  },
  {
   "cell_type": "code",
   "execution_count": null,
   "source": [],
   "outputs": [],
   "metadata": {}
  },
  {
   "cell_type": "code",
   "execution_count": null,
   "source": [
    "pair_plot(panel.pairs[0], 'MSFT', 'MSFT')"
   ],
   "outputs": [],
   "metadata": {}
  },
  {
   "cell_type": "code",
   "execution_count": null,
   "source": [],
   "outputs": [],
   "metadata": {}
  },
  {
   "cell_type": "code",
   "execution_count": null,
   "source": [
    "xdata['QCOM']['High'].plot()"
   ],
   "outputs": [],
   "metadata": {}
  }
 ],
 "metadata": {
  "kernelspec": {
   "name": "python3",
   "display_name": "Python 3.8.5 64-bit ('base': conda)"
  },
  "language_info": {
   "codemirror_mode": {
    "name": "ipython",
    "version": 3
   },
   "file_extension": ".py",
   "mimetype": "text/x-python",
   "name": "python",
   "nbconvert_exporter": "python",
   "pygments_lexer": "ipython3",
   "version": "3.8.5"
  },
  "interpreter": {
   "hash": "31d42e03d59d495c7188fb58c2f0e90fe480433e4e6ed55981f854d24a366180"
  }
 },
 "nbformat": 4,
 "nbformat_minor": 4
}