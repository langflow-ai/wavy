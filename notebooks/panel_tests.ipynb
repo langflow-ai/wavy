{
 "cells": [
  {
   "cell_type": "code",
   "execution_count": 1,
   "metadata": {},
   "outputs": [],
   "source": [
    "%load_ext autoreload\n",
    "%autoreload 2\n",
    "\n",
    "from datetime import datetime\n",
    "import numpy as np\n",
    "import pandas as pd\n",
    "import tensorflow as tf\n",
    "from tqdm.notebook import tqdm\n",
    "\n",
    "# from timelab import MultiColumn, from_data, from_xy_data\n",
    "# from timelab.utils import smash_array\n",
    "import sys\n",
    "sys.path.append('../')\n",
    "from wavy import *"
   ]
  },
  {
   "cell_type": "code",
   "execution_count": 2,
   "metadata": {},
   "outputs": [],
   "source": [
    "df = pd.read_pickle('processed.pkl')"
   ]
  },
  {
   "cell_type": "code",
   "execution_count": 3,
   "metadata": {},
   "outputs": [],
   "source": [
    "# df = df[['LNC', 'MAS', 'CSX']]\n",
    "df = df[['MAS']]"
   ]
  },
  {
   "cell_type": "code",
   "execution_count": 4,
   "metadata": {},
   "outputs": [
    {
     "data": {
      "text/html": [
       "<div>\n",
       "<style scoped>\n",
       "    .dataframe tbody tr th:only-of-type {\n",
       "        vertical-align: middle;\n",
       "    }\n",
       "\n",
       "    .dataframe tbody tr th {\n",
       "        vertical-align: top;\n",
       "    }\n",
       "\n",
       "    .dataframe thead tr th {\n",
       "        text-align: left;\n",
       "    }\n",
       "\n",
       "    .dataframe thead tr:last-of-type th {\n",
       "        text-align: right;\n",
       "    }\n",
       "</style>\n",
       "<table border=\"1\" class=\"dataframe\">\n",
       "  <thead>\n",
       "    <tr>\n",
       "      <th></th>\n",
       "      <th colspan=\"5\" halign=\"left\">MAS</th>\n",
       "    </tr>\n",
       "    <tr>\n",
       "      <th></th>\n",
       "      <th>Open</th>\n",
       "      <th>High</th>\n",
       "      <th>Low</th>\n",
       "      <th>Close</th>\n",
       "      <th>Volume</th>\n",
       "    </tr>\n",
       "    <tr>\n",
       "      <th>Date</th>\n",
       "      <th></th>\n",
       "      <th></th>\n",
       "      <th></th>\n",
       "      <th></th>\n",
       "      <th></th>\n",
       "    </tr>\n",
       "  </thead>\n",
       "  <tbody>\n",
       "    <tr>\n",
       "      <th>2005-12-21</th>\n",
       "      <td>18.991695</td>\n",
       "      <td>19.154659</td>\n",
       "      <td>18.903944</td>\n",
       "      <td>19.085712</td>\n",
       "      <td>1384200.0</td>\n",
       "    </tr>\n",
       "    <tr>\n",
       "      <th>2005-12-22</th>\n",
       "      <td>19.085703</td>\n",
       "      <td>19.298810</td>\n",
       "      <td>18.910202</td>\n",
       "      <td>18.929007</td>\n",
       "      <td>1576900.0</td>\n",
       "    </tr>\n",
       "    <tr>\n",
       "      <th>2005-12-23</th>\n",
       "      <td>18.954090</td>\n",
       "      <td>18.954090</td>\n",
       "      <td>18.684571</td>\n",
       "      <td>18.816196</td>\n",
       "      <td>2090500.0</td>\n",
       "    </tr>\n",
       "    <tr>\n",
       "      <th>2005-12-27</th>\n",
       "      <td>18.929008</td>\n",
       "      <td>18.991687</td>\n",
       "      <td>18.803650</td>\n",
       "      <td>18.847525</td>\n",
       "      <td>1609000.0</td>\n",
       "    </tr>\n",
       "    <tr>\n",
       "      <th>2005-12-28</th>\n",
       "      <td>18.853798</td>\n",
       "      <td>18.935281</td>\n",
       "      <td>18.747245</td>\n",
       "      <td>18.803656</td>\n",
       "      <td>2026300.0</td>\n",
       "    </tr>\n",
       "  </tbody>\n",
       "</table>\n",
       "</div>"
      ],
      "text/plain": [
       "                  MAS                                            \n",
       "                 Open       High        Low      Close     Volume\n",
       "Date                                                             \n",
       "2005-12-21  18.991695  19.154659  18.903944  19.085712  1384200.0\n",
       "2005-12-22  19.085703  19.298810  18.910202  18.929007  1576900.0\n",
       "2005-12-23  18.954090  18.954090  18.684571  18.816196  2090500.0\n",
       "2005-12-27  18.929008  18.991687  18.803650  18.847525  1609000.0\n",
       "2005-12-28  18.853798  18.935281  18.747245  18.803656  2026300.0"
      ]
     },
     "execution_count": 4,
     "metadata": {},
     "output_type": "execute_result"
    }
   ],
   "source": [
    "df.head(5)"
   ]
  },
  {
   "cell_type": "code",
   "execution_count": 5,
   "metadata": {},
   "outputs": [],
   "source": [
    "panel = from_data(df, lookback=10, horizon=1)"
   ]
  },
  {
   "cell_type": "code",
   "execution_count": 6,
   "metadata": {},
   "outputs": [
    {
     "name": "stdout",
     "output_type": "stream",
     "text": [
      "size                            3737\n",
      "lookback                          10\n",
      "horizon                            1\n",
      "gap                                0\n",
      "num_xassets                        1\n",
      "num_yassets                        1\n",
      "num_xchannels                      5\n",
      "num_ychannels                      5\n",
      "start            2005-12-21 00:00:00\n",
      "end              2020-11-10 00:00:00\n",
      "Name: Panel, dtype: object\n"
     ]
    },
    {
     "data": {
      "text/plain": [
       "<Panel, size 3737>"
      ]
     },
     "execution_count": 6,
     "metadata": {},
     "output_type": "execute_result"
    }
   ],
   "source": [
    "panel"
   ]
  },
  {
   "cell_type": "code",
   "execution_count": 7,
   "metadata": {},
   "outputs": [],
   "source": [
    "a = panel[0:5]"
   ]
  },
  {
   "cell_type": "code",
   "execution_count": 9,
   "metadata": {},
   "outputs": [
    {
     "name": "stdout",
     "output_type": "stream",
     "text": [
      "size                               5\n",
      "lookback                          10\n",
      "horizon                            1\n",
      "gap                                0\n",
      "num_xassets                        1\n",
      "num_yassets                        1\n",
      "num_xchannels                      5\n",
      "num_ychannels                      5\n",
      "start            2005-12-21 00:00:00\n",
      "end              2006-01-12 00:00:00\n",
      "Name: Panel, dtype: object\n"
     ]
    },
    {
     "data": {
      "text/plain": [
       "<Panel, size 5>"
      ]
     },
     "execution_count": 9,
     "metadata": {},
     "output_type": "execute_result"
    }
   ],
   "source": [
    "a"
   ]
  },
  {
   "cell_type": "code",
   "execution_count": null,
   "metadata": {},
   "outputs": [],
   "source": [
    "Panel(Side(panel.x[0:2]), Side(panel.y[0:2]))"
   ]
  },
  {
   "cell_type": "code",
   "execution_count": null,
   "metadata": {},
   "outputs": [],
   "source": [
    "type(a[0])"
   ]
  },
  {
   "cell_type": "code",
   "execution_count": null,
   "metadata": {},
   "outputs": [],
   "source": [
    "panel[2:]"
   ]
  },
  {
   "cell_type": "code",
   "execution_count": 10,
   "metadata": {},
   "outputs": [
    {
     "name": "stdout",
     "output_type": "stream",
     "text": [
      "size                               1\n",
      "lookback                          10\n",
      "horizon                            1\n",
      "gap                                0\n",
      "num_xassets                        1\n",
      "num_yassets                        1\n",
      "num_xchannels                      5\n",
      "num_ychannels                      5\n",
      "start            2005-12-21 00:00:00\n",
      "end              2006-01-06 00:00:00\n",
      "Name: Panel, dtype: object\n"
     ]
    },
    {
     "data": {
      "text/plain": [
       "<Panel, size 1>"
      ]
     },
     "execution_count": 10,
     "metadata": {},
     "output_type": "execute_result"
    }
   ],
   "source": [
    "panel[0]"
   ]
  },
  {
   "cell_type": "code",
   "execution_count": null,
   "metadata": {},
   "outputs": [],
   "source": [
    "a = panel.x.pct_change()"
   ]
  },
  {
   "cell_type": "code",
   "execution_count": null,
   "metadata": {},
   "outputs": [],
   "source": [
    "a[0]"
   ]
  },
  {
   "cell_type": "code",
   "execution_count": null,
   "metadata": {},
   "outputs": [],
   "source": [
    "panel.x = panel.x.iloc[1:]"
   ]
  },
  {
   "cell_type": "code",
   "execution_count": null,
   "metadata": {},
   "outputs": [],
   "source": [
    "panel"
   ]
  },
  {
   "cell_type": "code",
   "execution_count": null,
   "metadata": {},
   "outputs": [],
   "source": [
    "type(panel.x)"
   ]
  },
  {
   "cell_type": "code",
   "execution_count": null,
   "metadata": {},
   "outputs": [],
   "source": [
    "panel.x = panel.x.shift(2)"
   ]
  },
  {
   "cell_type": "code",
   "execution_count": null,
   "metadata": {},
   "outputs": [],
   "source": []
  },
  {
   "cell_type": "code",
   "execution_count": null,
   "metadata": {},
   "outputs": [],
   "source": [
    "panel.x.first"
   ]
  },
  {
   "cell_type": "code",
   "execution_count": null,
   "metadata": {},
   "outputs": [],
   "source": [
    "panel.x.tensor3d[1]"
   ]
  },
  {
   "cell_type": "code",
   "execution_count": null,
   "metadata": {},
   "outputs": [],
   "source": [
    "panel.x.dropna()"
   ]
  },
  {
   "cell_type": "code",
   "execution_count": null,
   "metadata": {},
   "outputs": [],
   "source": [
    "type(panel.x[0])"
   ]
  },
  {
   "cell_type": "code",
   "execution_count": null,
   "metadata": {},
   "outputs": [],
   "source": [
    "a = getattr(Block, 'iloc')"
   ]
  },
  {
   "cell_type": "code",
   "execution_count": null,
   "metadata": {},
   "outputs": [],
   "source": [
    "a"
   ]
  },
  {
   "cell_type": "code",
   "execution_count": null,
   "metadata": {},
   "outputs": [],
   "source": [
    "a = panel.x.iloc[:2]"
   ]
  },
  {
   "cell_type": "code",
   "execution_count": null,
   "metadata": {},
   "outputs": [],
   "source": [
    "a.first"
   ]
  },
  {
   "cell_type": "code",
   "execution_count": null,
   "metadata": {},
   "outputs": [],
   "source": [
    "getattr(panel.x.first, a[0].__name__)"
   ]
  },
  {
   "cell_type": "code",
   "execution_count": null,
   "metadata": {},
   "outputs": [],
   "source": [
    "panel.x.first.iloc[1:]"
   ]
  },
  {
   "cell_type": "code",
   "execution_count": null,
   "metadata": {},
   "outputs": [],
   "source": [
    "panel.x = panel.x.fillna(0)\n",
    "# WHAT? I commented this. Please take a look at panel.py >> 197"
   ]
  },
  {
   "cell_type": "code",
   "execution_count": null,
   "metadata": {},
   "outputs": [],
   "source": [
    "panel.x = panel.x.fillna(0)"
   ]
  },
  {
   "cell_type": "code",
   "execution_count": null,
   "metadata": {},
   "outputs": [],
   "source": [
    "panel.x[0]"
   ]
  },
  {
   "cell_type": "code",
   "execution_count": null,
   "metadata": {},
   "outputs": [],
   "source": [
    "panel.y[0]"
   ]
  },
  {
   "cell_type": "code",
   "execution_count": null,
   "metadata": {},
   "outputs": [],
   "source": [
    "panel.y = panel.y.filter(channels='High')\n",
    "# Too slow. Just imagine an initial df of 1M rows.\n",
    "# Let's time each of the panel/side functions and see try to speed up the slow ones."
   ]
  },
  {
   "cell_type": "code",
   "execution_count": null,
   "metadata": {},
   "outputs": [],
   "source": [
    "panel.y[0]"
   ]
  },
  {
   "cell_type": "code",
   "execution_count": null,
   "metadata": {},
   "outputs": [],
   "source": [
    "panel.y.values\n",
    "# ???"
   ]
  },
  {
   "cell_type": "code",
   "execution_count": null,
   "metadata": {},
   "outputs": [],
   "source": [
    "baseline = Baseline(panel)"
   ]
  },
  {
   "cell_type": "code",
   "execution_count": null,
   "metadata": {},
   "outputs": [],
   "source": [
    "y_true = panel.test.y.flatten()\n",
    "y_pred = baseline.predict()"
   ]
  },
  {
   "cell_type": "code",
   "execution_count": null,
   "metadata": {},
   "outputs": [],
   "source": [
    "y_pred = y_pred.predicted"
   ]
  },
  {
   "cell_type": "code",
   "execution_count": null,
   "metadata": {},
   "outputs": [],
   "source": [
    "y_true.shape"
   ]
  },
  {
   "cell_type": "code",
   "execution_count": null,
   "metadata": {},
   "outputs": [],
   "source": [
    "y_true[:3]"
   ]
  },
  {
   "cell_type": "code",
   "execution_count": null,
   "metadata": {},
   "outputs": [],
   "source": [
    "y_pred[:3]"
   ]
  },
  {
   "cell_type": "code",
   "execution_count": null,
   "metadata": {},
   "outputs": [],
   "source": [
    "# Maybe the predictions should come as series/dataframes indeed. Here, the INDEX is really important, and we could remove the first NaN as long as we keep the index of the second value explicit.\n",
    "\n",
    "# Let's think of a way to make indexes intuitive. They are simple when input index is dates, but when this is not passed, just numeric indexes would work?\n",
    "\n",
    "# This means quite a shift in the way we treat a panel's/side index. It should be fixed in a way that even when dropping samples or adding steps, etc. the index is still consistent."
   ]
  },
  {
   "cell_type": "code",
   "execution_count": null,
   "metadata": {},
   "outputs": [],
   "source": [
    "from sklearn.metrics import mean_squared_error\n",
    "\n",
    "mean_squared_error(y_true, y_pred)\n",
    "# NaN makes it not computable."
   ]
  },
  {
   "cell_type": "code",
   "execution_count": null,
   "metadata": {},
   "outputs": [],
   "source": [
    "mean_squared_error(y_true[1:], y_pred[1:]) # horizon = 1, thus that's the number of nans generated with baseline model.\n",
    "\n",
    "# If the index is explicit and we use dataframes, we could hide NaN values...\n",
    "# metrics such as mean_squared_error could be part of the Model, e.g. model.validate('mse'), model.test('mse)"
   ]
  },
  {
   "cell_type": "code",
   "execution_count": null,
   "metadata": {},
   "outputs": [],
   "source": [
    "panel.x.findna()"
   ]
  }
 ],
 "metadata": {
  "interpreter": {
   "hash": "9cb234d4e2c52173e43522c637a954180012c3ae1bff92a340992ea9042eea4e"
  },
  "kernelspec": {
   "display_name": "Python 3.8.10 64-bit ('tensorflow': conda)",
   "name": "python3"
  },
  "language_info": {
   "codemirror_mode": {
    "name": "ipython",
    "version": 3
   },
   "file_extension": ".py",
   "mimetype": "text/x-python",
   "name": "python",
   "nbconvert_exporter": "python",
   "pygments_lexer": "ipython3",
   "version": "3.8.12"
  }
 },
 "nbformat": 4,
 "nbformat_minor": 4
}
