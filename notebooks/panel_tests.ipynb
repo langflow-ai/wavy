{
 "cells": [
  {
   "cell_type": "code",
   "execution_count": 1,
   "metadata": {},
   "outputs": [],
   "source": [
    "%load_ext autoreload\n",
    "%autoreload 2\n",
    "\n",
    "from datetime import datetime\n",
    "import numpy as np\n",
    "import pandas as pd\n",
    "import tensorflow as tf\n",
    "from tqdm.notebook import tqdm\n",
    "\n",
    "# from timelab import MultiColumn, from_data, from_xy_data\n",
    "# from timelab.utils import smash_array\n",
    "import sys\n",
    "sys.path.append('../')\n",
    "from wavy import *"
   ]
  },
  {
   "cell_type": "code",
   "execution_count": 2,
   "metadata": {},
   "outputs": [],
   "source": [
    "df = pd.read_pickle('processed.pkl')"
   ]
  },
  {
   "cell_type": "code",
   "execution_count": 3,
   "metadata": {},
   "outputs": [],
   "source": [
    "# df = df[['LNC', 'MAS', 'CSX']]\n",
    "df = df[['MAS']]"
   ]
  },
  {
   "cell_type": "code",
   "execution_count": 4,
   "metadata": {},
   "outputs": [
    {
     "data": {
      "text/html": [
       "<div>\n",
       "<style scoped>\n",
       "    .dataframe tbody tr th:only-of-type {\n",
       "        vertical-align: middle;\n",
       "    }\n",
       "\n",
       "    .dataframe tbody tr th {\n",
       "        vertical-align: top;\n",
       "    }\n",
       "\n",
       "    .dataframe thead tr th {\n",
       "        text-align: left;\n",
       "    }\n",
       "\n",
       "    .dataframe thead tr:last-of-type th {\n",
       "        text-align: right;\n",
       "    }\n",
       "</style>\n",
       "<table border=\"1\" class=\"dataframe\">\n",
       "  <thead>\n",
       "    <tr>\n",
       "      <th></th>\n",
       "      <th colspan=\"5\" halign=\"left\">MAS</th>\n",
       "    </tr>\n",
       "    <tr>\n",
       "      <th></th>\n",
       "      <th>Open</th>\n",
       "      <th>High</th>\n",
       "      <th>Low</th>\n",
       "      <th>Close</th>\n",
       "      <th>Volume</th>\n",
       "    </tr>\n",
       "    <tr>\n",
       "      <th>Date</th>\n",
       "      <th></th>\n",
       "      <th></th>\n",
       "      <th></th>\n",
       "      <th></th>\n",
       "      <th></th>\n",
       "    </tr>\n",
       "  </thead>\n",
       "  <tbody>\n",
       "    <tr>\n",
       "      <th>2005-12-21</th>\n",
       "      <td>18.991695</td>\n",
       "      <td>19.154659</td>\n",
       "      <td>18.903944</td>\n",
       "      <td>19.085712</td>\n",
       "      <td>1384200.0</td>\n",
       "    </tr>\n",
       "    <tr>\n",
       "      <th>2005-12-22</th>\n",
       "      <td>19.085703</td>\n",
       "      <td>19.298810</td>\n",
       "      <td>18.910202</td>\n",
       "      <td>18.929007</td>\n",
       "      <td>1576900.0</td>\n",
       "    </tr>\n",
       "    <tr>\n",
       "      <th>2005-12-23</th>\n",
       "      <td>18.954090</td>\n",
       "      <td>18.954090</td>\n",
       "      <td>18.684571</td>\n",
       "      <td>18.816196</td>\n",
       "      <td>2090500.0</td>\n",
       "    </tr>\n",
       "    <tr>\n",
       "      <th>2005-12-27</th>\n",
       "      <td>18.929008</td>\n",
       "      <td>18.991687</td>\n",
       "      <td>18.803650</td>\n",
       "      <td>18.847525</td>\n",
       "      <td>1609000.0</td>\n",
       "    </tr>\n",
       "    <tr>\n",
       "      <th>2005-12-28</th>\n",
       "      <td>18.853798</td>\n",
       "      <td>18.935281</td>\n",
       "      <td>18.747245</td>\n",
       "      <td>18.803656</td>\n",
       "      <td>2026300.0</td>\n",
       "    </tr>\n",
       "  </tbody>\n",
       "</table>\n",
       "</div>"
      ],
      "text/plain": [
       "                  MAS                                            \n",
       "                 Open       High        Low      Close     Volume\n",
       "Date                                                             \n",
       "2005-12-21  18.991695  19.154659  18.903944  19.085712  1384200.0\n",
       "2005-12-22  19.085703  19.298810  18.910202  18.929007  1576900.0\n",
       "2005-12-23  18.954090  18.954090  18.684571  18.816196  2090500.0\n",
       "2005-12-27  18.929008  18.991687  18.803650  18.847525  1609000.0\n",
       "2005-12-28  18.853798  18.935281  18.747245  18.803656  2026300.0"
      ]
     },
     "execution_count": 4,
     "metadata": {},
     "output_type": "execute_result"
    }
   ],
   "source": [
    "df.head(5)"
   ]
  },
  {
   "cell_type": "code",
   "execution_count": 5,
   "metadata": {},
   "outputs": [],
   "source": [
    "panel = from_data(df, lookback=10, horizon=1)"
   ]
  },
  {
   "cell_type": "code",
   "execution_count": 6,
   "metadata": {},
   "outputs": [
    {
     "name": "stderr",
     "output_type": "stream",
     "text": [
      "/Users/ibiscp/GitHub/wavy/notebooks/../wavy/block.py:882: FutureWarning: In a future version of pandas all arguments of DataFrame.fillna except for the argument 'value' will be keyword-only\n",
      "  return super().fillna(value, method, axis, inplace, limit, downcast)\n"
     ]
    }
   ],
   "source": [
    "a = panel.x.pct_change()"
   ]
  },
  {
   "cell_type": "code",
   "execution_count": 7,
   "metadata": {},
   "outputs": [
    {
     "data": {
      "text/html": [
       "<div>\n",
       "<style scoped>\n",
       "    .dataframe tbody tr th:only-of-type {\n",
       "        vertical-align: middle;\n",
       "    }\n",
       "\n",
       "    .dataframe tbody tr th {\n",
       "        vertical-align: top;\n",
       "    }\n",
       "\n",
       "    .dataframe thead tr th {\n",
       "        text-align: left;\n",
       "    }\n",
       "\n",
       "    .dataframe thead tr:last-of-type th {\n",
       "        text-align: right;\n",
       "    }\n",
       "</style>\n",
       "<table border=\"1\" class=\"dataframe\">\n",
       "  <thead>\n",
       "    <tr>\n",
       "      <th></th>\n",
       "      <th colspan=\"5\" halign=\"left\">MAS</th>\n",
       "    </tr>\n",
       "    <tr>\n",
       "      <th></th>\n",
       "      <th>Open</th>\n",
       "      <th>High</th>\n",
       "      <th>Low</th>\n",
       "      <th>Close</th>\n",
       "      <th>Volume</th>\n",
       "    </tr>\n",
       "    <tr>\n",
       "      <th>Date</th>\n",
       "      <th></th>\n",
       "      <th></th>\n",
       "      <th></th>\n",
       "      <th></th>\n",
       "      <th></th>\n",
       "    </tr>\n",
       "  </thead>\n",
       "  <tbody>\n",
       "    <tr>\n",
       "      <th>2005-12-21</th>\n",
       "      <td>NaN</td>\n",
       "      <td>NaN</td>\n",
       "      <td>NaN</td>\n",
       "      <td>NaN</td>\n",
       "      <td>NaN</td>\n",
       "    </tr>\n",
       "    <tr>\n",
       "      <th>2005-12-22</th>\n",
       "      <td>0.004950</td>\n",
       "      <td>0.007526</td>\n",
       "      <td>0.000331</td>\n",
       "      <td>-0.008211</td>\n",
       "      <td>0.139214</td>\n",
       "    </tr>\n",
       "    <tr>\n",
       "      <th>2005-12-23</th>\n",
       "      <td>-0.006896</td>\n",
       "      <td>-0.017862</td>\n",
       "      <td>-0.011932</td>\n",
       "      <td>-0.005960</td>\n",
       "      <td>0.325702</td>\n",
       "    </tr>\n",
       "    <tr>\n",
       "      <th>2005-12-27</th>\n",
       "      <td>-0.001323</td>\n",
       "      <td>0.001984</td>\n",
       "      <td>0.006373</td>\n",
       "      <td>0.001665</td>\n",
       "      <td>-0.230328</td>\n",
       "    </tr>\n",
       "    <tr>\n",
       "      <th>2005-12-28</th>\n",
       "      <td>-0.003973</td>\n",
       "      <td>-0.002970</td>\n",
       "      <td>-0.003000</td>\n",
       "      <td>-0.002328</td>\n",
       "      <td>0.259354</td>\n",
       "    </tr>\n",
       "    <tr>\n",
       "      <th>2005-12-29</th>\n",
       "      <td>-0.002659</td>\n",
       "      <td>-0.000331</td>\n",
       "      <td>-0.001337</td>\n",
       "      <td>-0.000667</td>\n",
       "      <td>-0.240734</td>\n",
       "    </tr>\n",
       "    <tr>\n",
       "      <th>2005-12-30</th>\n",
       "      <td>-0.000667</td>\n",
       "      <td>0.002649</td>\n",
       "      <td>0.003348</td>\n",
       "      <td>0.007004</td>\n",
       "      <td>0.086383</td>\n",
       "    </tr>\n",
       "    <tr>\n",
       "      <th>2006-01-03</th>\n",
       "      <td>0.020014</td>\n",
       "      <td>0.030714</td>\n",
       "      <td>0.007675</td>\n",
       "      <td>0.033787</td>\n",
       "      <td>1.172430</td>\n",
       "    </tr>\n",
       "    <tr>\n",
       "      <th>2006-01-04</th>\n",
       "      <td>0.017640</td>\n",
       "      <td>-0.000968</td>\n",
       "      <td>0.016781</td>\n",
       "      <td>-0.009029</td>\n",
       "      <td>-0.343349</td>\n",
       "    </tr>\n",
       "    <tr>\n",
       "      <th>2006-01-05</th>\n",
       "      <td>-0.007115</td>\n",
       "      <td>0.000323</td>\n",
       "      <td>0.000655</td>\n",
       "      <td>-0.004556</td>\n",
       "      <td>0.082456</td>\n",
       "    </tr>\n",
       "  </tbody>\n",
       "</table>\n",
       "</div>"
      ],
      "text/plain": [
       "                 MAS                                        \n",
       "                Open      High       Low     Close    Volume\n",
       "Date                                                        \n",
       "2005-12-21       NaN       NaN       NaN       NaN       NaN\n",
       "2005-12-22  0.004950  0.007526  0.000331 -0.008211  0.139214\n",
       "2005-12-23 -0.006896 -0.017862 -0.011932 -0.005960  0.325702\n",
       "2005-12-27 -0.001323  0.001984  0.006373  0.001665 -0.230328\n",
       "2005-12-28 -0.003973 -0.002970 -0.003000 -0.002328  0.259354\n",
       "2005-12-29 -0.002659 -0.000331 -0.001337 -0.000667 -0.240734\n",
       "2005-12-30 -0.000667  0.002649  0.003348  0.007004  0.086383\n",
       "2006-01-03  0.020014  0.030714  0.007675  0.033787  1.172430\n",
       "2006-01-04  0.017640 -0.000968  0.016781 -0.009029 -0.343349\n",
       "2006-01-05 -0.007115  0.000323  0.000655 -0.004556  0.082456"
      ]
     },
     "execution_count": 7,
     "metadata": {},
     "output_type": "execute_result"
    }
   ],
   "source": [
    "a[0]"
   ]
  },
  {
   "cell_type": "code",
   "execution_count": 10,
   "metadata": {},
   "outputs": [],
   "source": [
    "panel.x = panel.x.iloc[1:]"
   ]
  },
  {
   "cell_type": "code",
   "execution_count": 11,
   "metadata": {},
   "outputs": [
    {
     "name": "stdout",
     "output_type": "stream",
     "text": [
      "size                            3737\n",
      "lookback                           9\n",
      "horizon                            1\n",
      "num_xassets                        1\n",
      "num_yassets                        1\n",
      "num_xchannels                      5\n",
      "num_ychannels                      5\n",
      "start            2005-12-22 00:00:00\n",
      "end              2020-11-10 00:00:00\n",
      "Name: TimePanel, dtype: object\n"
     ]
    },
    {
     "data": {
      "text/plain": [
       "<TimePanel, size 3737>"
      ]
     },
     "execution_count": 11,
     "metadata": {},
     "output_type": "execute_result"
    }
   ],
   "source": [
    "panel"
   ]
  },
  {
   "cell_type": "code",
   "execution_count": null,
   "metadata": {},
   "outputs": [],
   "source": [
    "type(panel.x)"
   ]
  },
  {
   "cell_type": "code",
   "execution_count": null,
   "metadata": {},
   "outputs": [],
   "source": [
    "panel.x = panel.x.shift(2)"
   ]
  },
  {
   "cell_type": "code",
   "execution_count": null,
   "metadata": {},
   "outputs": [],
   "source": []
  },
  {
   "cell_type": "code",
   "execution_count": null,
   "metadata": {},
   "outputs": [],
   "source": [
    "panel.x.first"
   ]
  },
  {
   "cell_type": "code",
   "execution_count": null,
   "metadata": {},
   "outputs": [],
   "source": [
    "panel.x.matrix[0]"
   ]
  },
  {
   "cell_type": "code",
   "execution_count": null,
   "metadata": {},
   "outputs": [],
   "source": [
    "type(panel.x[0])"
   ]
  },
  {
   "cell_type": "code",
   "execution_count": null,
   "metadata": {},
   "outputs": [],
   "source": [
    "a = getattr(TimeBlock, 'iloc')"
   ]
  },
  {
   "cell_type": "code",
   "execution_count": null,
   "metadata": {},
   "outputs": [],
   "source": [
    "a"
   ]
  },
  {
   "cell_type": "code",
   "execution_count": null,
   "metadata": {},
   "outputs": [],
   "source": [
    "a = panel.x.iloc[:2]"
   ]
  },
  {
   "cell_type": "code",
   "execution_count": null,
   "metadata": {},
   "outputs": [],
   "source": [
    "a.first"
   ]
  },
  {
   "cell_type": "code",
   "execution_count": null,
   "metadata": {},
   "outputs": [],
   "source": [
    "getattr(panel.x.first, a[0].__name__)"
   ]
  },
  {
   "cell_type": "code",
   "execution_count": null,
   "metadata": {},
   "outputs": [],
   "source": [
    "panel.x.first.iloc[1:]"
   ]
  },
  {
   "cell_type": "code",
   "execution_count": 16,
   "metadata": {},
   "outputs": [
    {
     "name": "stderr",
     "output_type": "stream",
     "text": [
      "100%|██████████| 3737/3737 [00:00<00:00, 4915.71it/s]\n"
     ]
    }
   ],
   "source": [
    "panel.x = panel.x.fillna(0)\n",
    "# WHAT? I commented this. Please take a look at panel.py >> 197"
   ]
  },
  {
   "cell_type": "code",
   "execution_count": 17,
   "metadata": {},
   "outputs": [
    {
     "name": "stderr",
     "output_type": "stream",
     "text": [
      "100%|██████████| 3737/3737 [00:00<00:00, 7198.63it/s]\n"
     ]
    }
   ],
   "source": [
    "panel.x = panel.x.fillna(0)"
   ]
  },
  {
   "cell_type": "code",
   "execution_count": 18,
   "metadata": {},
   "outputs": [
    {
     "data": {
      "text/html": [
       "<div>\n",
       "<style scoped>\n",
       "    .dataframe tbody tr th:only-of-type {\n",
       "        vertical-align: middle;\n",
       "    }\n",
       "\n",
       "    .dataframe tbody tr th {\n",
       "        vertical-align: top;\n",
       "    }\n",
       "\n",
       "    .dataframe thead tr th {\n",
       "        text-align: left;\n",
       "    }\n",
       "\n",
       "    .dataframe thead tr:last-of-type th {\n",
       "        text-align: right;\n",
       "    }\n",
       "</style>\n",
       "<table border=\"1\" class=\"dataframe\">\n",
       "  <thead>\n",
       "    <tr>\n",
       "      <th></th>\n",
       "      <th colspan=\"5\" halign=\"left\">MAS</th>\n",
       "    </tr>\n",
       "    <tr>\n",
       "      <th></th>\n",
       "      <th>Open</th>\n",
       "      <th>High</th>\n",
       "      <th>Low</th>\n",
       "      <th>Close</th>\n",
       "      <th>Volume</th>\n",
       "    </tr>\n",
       "    <tr>\n",
       "      <th>Date</th>\n",
       "      <th></th>\n",
       "      <th></th>\n",
       "      <th></th>\n",
       "      <th></th>\n",
       "      <th></th>\n",
       "    </tr>\n",
       "  </thead>\n",
       "  <tbody>\n",
       "    <tr>\n",
       "      <th>2005-12-22</th>\n",
       "      <td>19.085703</td>\n",
       "      <td>19.298810</td>\n",
       "      <td>18.910202</td>\n",
       "      <td>18.929007</td>\n",
       "      <td>1576900.0</td>\n",
       "    </tr>\n",
       "    <tr>\n",
       "      <th>2005-12-23</th>\n",
       "      <td>18.954090</td>\n",
       "      <td>18.954090</td>\n",
       "      <td>18.684571</td>\n",
       "      <td>18.816196</td>\n",
       "      <td>2090500.0</td>\n",
       "    </tr>\n",
       "    <tr>\n",
       "      <th>2005-12-27</th>\n",
       "      <td>18.929008</td>\n",
       "      <td>18.991687</td>\n",
       "      <td>18.803650</td>\n",
       "      <td>18.847525</td>\n",
       "      <td>1609000.0</td>\n",
       "    </tr>\n",
       "    <tr>\n",
       "      <th>2005-12-28</th>\n",
       "      <td>18.853798</td>\n",
       "      <td>18.935281</td>\n",
       "      <td>18.747245</td>\n",
       "      <td>18.803656</td>\n",
       "      <td>2026300.0</td>\n",
       "    </tr>\n",
       "    <tr>\n",
       "      <th>2005-12-29</th>\n",
       "      <td>18.803659</td>\n",
       "      <td>18.929017</td>\n",
       "      <td>18.722176</td>\n",
       "      <td>18.791122</td>\n",
       "      <td>1538500.0</td>\n",
       "    </tr>\n",
       "    <tr>\n",
       "      <th>2005-12-30</th>\n",
       "      <td>18.791119</td>\n",
       "      <td>18.979156</td>\n",
       "      <td>18.784852</td>\n",
       "      <td>18.922745</td>\n",
       "      <td>1671400.0</td>\n",
       "    </tr>\n",
       "    <tr>\n",
       "      <th>2006-01-03</th>\n",
       "      <td>19.167201</td>\n",
       "      <td>19.562078</td>\n",
       "      <td>18.929022</td>\n",
       "      <td>19.562078</td>\n",
       "      <td>3631000.0</td>\n",
       "    </tr>\n",
       "    <tr>\n",
       "      <th>2006-01-04</th>\n",
       "      <td>19.505303</td>\n",
       "      <td>19.543152</td>\n",
       "      <td>19.246662</td>\n",
       "      <td>19.385445</td>\n",
       "      <td>2384300.0</td>\n",
       "    </tr>\n",
       "    <tr>\n",
       "      <th>2006-01-05</th>\n",
       "      <td>19.366519</td>\n",
       "      <td>19.549459</td>\n",
       "      <td>19.259278</td>\n",
       "      <td>19.297127</td>\n",
       "      <td>2580900.0</td>\n",
       "    </tr>\n",
       "  </tbody>\n",
       "</table>\n",
       "</div>"
      ],
      "text/plain": [
       "                  MAS                                            \n",
       "                 Open       High        Low      Close     Volume\n",
       "Date                                                             \n",
       "2005-12-22  19.085703  19.298810  18.910202  18.929007  1576900.0\n",
       "2005-12-23  18.954090  18.954090  18.684571  18.816196  2090500.0\n",
       "2005-12-27  18.929008  18.991687  18.803650  18.847525  1609000.0\n",
       "2005-12-28  18.853798  18.935281  18.747245  18.803656  2026300.0\n",
       "2005-12-29  18.803659  18.929017  18.722176  18.791122  1538500.0\n",
       "2005-12-30  18.791119  18.979156  18.784852  18.922745  1671400.0\n",
       "2006-01-03  19.167201  19.562078  18.929022  19.562078  3631000.0\n",
       "2006-01-04  19.505303  19.543152  19.246662  19.385445  2384300.0\n",
       "2006-01-05  19.366519  19.549459  19.259278  19.297127  2580900.0"
      ]
     },
     "execution_count": 18,
     "metadata": {},
     "output_type": "execute_result"
    }
   ],
   "source": [
    "panel.x[0]"
   ]
  },
  {
   "cell_type": "code",
   "execution_count": 19,
   "metadata": {},
   "outputs": [
    {
     "data": {
      "text/html": [
       "<div>\n",
       "<style scoped>\n",
       "    .dataframe tbody tr th:only-of-type {\n",
       "        vertical-align: middle;\n",
       "    }\n",
       "\n",
       "    .dataframe tbody tr th {\n",
       "        vertical-align: top;\n",
       "    }\n",
       "\n",
       "    .dataframe thead tr th {\n",
       "        text-align: left;\n",
       "    }\n",
       "\n",
       "    .dataframe thead tr:last-of-type th {\n",
       "        text-align: right;\n",
       "    }\n",
       "</style>\n",
       "<table border=\"1\" class=\"dataframe\">\n",
       "  <thead>\n",
       "    <tr>\n",
       "      <th></th>\n",
       "      <th colspan=\"5\" halign=\"left\">MAS</th>\n",
       "    </tr>\n",
       "    <tr>\n",
       "      <th></th>\n",
       "      <th>Open</th>\n",
       "      <th>High</th>\n",
       "      <th>Low</th>\n",
       "      <th>Close</th>\n",
       "      <th>Volume</th>\n",
       "    </tr>\n",
       "    <tr>\n",
       "      <th>Date</th>\n",
       "      <th></th>\n",
       "      <th></th>\n",
       "      <th></th>\n",
       "      <th></th>\n",
       "      <th></th>\n",
       "    </tr>\n",
       "  </thead>\n",
       "  <tbody>\n",
       "    <tr>\n",
       "      <th>2006-01-06</th>\n",
       "      <td>19.398057</td>\n",
       "      <td>19.4296</td>\n",
       "      <td>18.924935</td>\n",
       "      <td>19.177267</td>\n",
       "      <td>2672700.0</td>\n",
       "    </tr>\n",
       "  </tbody>\n",
       "</table>\n",
       "</div>"
      ],
      "text/plain": [
       "                  MAS                                          \n",
       "                 Open     High        Low      Close     Volume\n",
       "Date                                                           \n",
       "2006-01-06  19.398057  19.4296  18.924935  19.177267  2672700.0"
      ]
     },
     "execution_count": 19,
     "metadata": {},
     "output_type": "execute_result"
    }
   ],
   "source": [
    "panel.y[0]"
   ]
  },
  {
   "cell_type": "code",
   "execution_count": 20,
   "metadata": {},
   "outputs": [
    {
     "name": "stderr",
     "output_type": "stream",
     "text": [
      "100%|██████████| 3737/3737 [00:45<00:00, 81.43it/s] \n"
     ]
    }
   ],
   "source": [
    "panel.y = panel.y.filter(channels='High')\n",
    "# Too slow. Just imagine an initial df of 1M rows.\n",
    "# Let's time each of the panel/side functions and see try to speed up the slow ones."
   ]
  },
  {
   "cell_type": "code",
   "execution_count": null,
   "metadata": {},
   "outputs": [],
   "source": [
    "panel.y[0]"
   ]
  },
  {
   "cell_type": "code",
   "execution_count": 24,
   "metadata": {},
   "outputs": [
    {
     "data": {
      "text/plain": [
       "<function wavy.side.PanelSide.__getattr__.<locals>.wrapper(*args, **kwargs)>"
      ]
     },
     "execution_count": 24,
     "metadata": {},
     "output_type": "execute_result"
    }
   ],
   "source": [
    "panel.y.values\n",
    "# ???"
   ]
  },
  {
   "cell_type": "code",
   "execution_count": 25,
   "metadata": {},
   "outputs": [],
   "source": [
    "baseline = Baseline(panel)"
   ]
  },
  {
   "cell_type": "code",
   "execution_count": 28,
   "metadata": {},
   "outputs": [],
   "source": [
    "y_true = panel.test.y.flatten()\n",
    "y_pred = baseline.predict()"
   ]
  },
  {
   "cell_type": "code",
   "execution_count": 36,
   "metadata": {},
   "outputs": [],
   "source": [
    "y_pred = y_pred.predicted"
   ]
  },
  {
   "cell_type": "code",
   "execution_count": 31,
   "metadata": {},
   "outputs": [
    {
     "data": {
      "text/plain": [
       "(373,)"
      ]
     },
     "execution_count": 31,
     "metadata": {},
     "output_type": "execute_result"
    }
   ],
   "source": [
    "y_true.shape"
   ]
  },
  {
   "cell_type": "code",
   "execution_count": 38,
   "metadata": {},
   "outputs": [
    {
     "data": {
      "text/plain": [
       "array([37.50564372, 36.82783211, 36.65101656])"
      ]
     },
     "execution_count": 38,
     "metadata": {},
     "output_type": "execute_result"
    }
   ],
   "source": [
    "y_true[:3]"
   ]
  },
  {
   "cell_type": "code",
   "execution_count": 37,
   "metadata": {},
   "outputs": [
    {
     "data": {
      "text/plain": [
       "Date\n",
       "2019-05-22          NaN\n",
       "2019-05-23    37.505644\n",
       "2019-05-24    36.827832\n",
       "Name: predicted, dtype: float64"
      ]
     },
     "execution_count": 37,
     "metadata": {},
     "output_type": "execute_result"
    }
   ],
   "source": [
    "y_pred[:3]"
   ]
  },
  {
   "cell_type": "code",
   "execution_count": null,
   "metadata": {},
   "outputs": [],
   "source": [
    "# Maybe the predictions should come as series/dataframes indeed. Here, the INDEX is really important, and we could remove the first NaN as long as we keep the index of the second value explicit.\n",
    "\n",
    "# Let's think of a way to make indexes intuitive. They are simple when input index is dates, but when this is not passed, just numeric indexes would work?\n",
    "\n",
    "# This means quite a shift in the way we treat a panel's/side index. It should be fixed in a way that even when dropping samples or adding steps, etc. the index is still consistent."
   ]
  },
  {
   "cell_type": "code",
   "execution_count": null,
   "metadata": {},
   "outputs": [],
   "source": [
    "from sklearn.metrics import mean_squared_error\n",
    "\n",
    "mean_squared_error(y_true, y_pred)\n",
    "# NaN makes it not computable."
   ]
  },
  {
   "cell_type": "code",
   "execution_count": null,
   "metadata": {},
   "outputs": [],
   "source": [
    "mean_squared_error(y_true[1:], y_pred[1:]) # horizon = 1, thus that's the number of nans generated with baseline model.\n",
    "\n",
    "# If the index is explicit and we use dataframes, we could hide NaN values...\n",
    "# metrics such as mean_squared_error could be part of the Model, e.g. model.validate('mse'), model.test('mse)"
   ]
  },
  {
   "cell_type": "code",
   "execution_count": null,
   "metadata": {},
   "outputs": [],
   "source": []
  }
 ],
 "metadata": {
  "interpreter": {
   "hash": "9cb234d4e2c52173e43522c637a954180012c3ae1bff92a340992ea9042eea4e"
  },
  "kernelspec": {
   "display_name": "Python 3.8.10 64-bit ('tensorflow': conda)",
   "name": "python3"
  },
  "language_info": {
   "codemirror_mode": {
    "name": "ipython",
    "version": 3
   },
   "file_extension": ".py",
   "mimetype": "text/x-python",
   "name": "python",
   "nbconvert_exporter": "python",
   "pygments_lexer": "ipython3",
   "version": "3.8.12"
  }
 },
 "nbformat": 4,
 "nbformat_minor": 4
}
