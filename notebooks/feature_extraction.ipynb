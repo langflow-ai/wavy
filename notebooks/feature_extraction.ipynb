{
 "cells": [
  {
   "cell_type": "code",
   "execution_count": 1,
   "metadata": {},
   "outputs": [],
   "source": [
    "import sys\n",
    "sys.path.append('../')\n",
    "\n",
    "%load_ext autoreload\n",
    "%autoreload 2"
   ]
  },
  {
   "cell_type": "code",
   "execution_count": 46,
   "metadata": {},
   "outputs": [],
   "source": [
    "import numpy as np\n",
    "import pandas as pd\n",
    "import yfinance as yf\n",
    "\n",
    "from sklearn.dummy import DummyRegressor\n",
    "from sklearn.ensemble import RandomForestRegressor\n",
    "from sklearn.metrics import mean_absolute_error\n",
    "\n",
    "import wavy\n",
    "from wavy.utils import reverse_pct_change"
   ]
  },
  {
   "cell_type": "code",
   "execution_count": 3,
   "metadata": {},
   "outputs": [],
   "source": [
    "tickers = pd.read_html('https://en.wikipedia.org/wiki/List_of_S%26P_500_companies')[0].Symbol"
   ]
  },
  {
   "cell_type": "code",
   "execution_count": 4,
   "metadata": {},
   "outputs": [],
   "source": [
    "msft = yf.Ticker(\"MSFT\")"
   ]
  },
  {
   "cell_type": "code",
   "execution_count": 5,
   "metadata": {},
   "outputs": [],
   "source": [
    "# get historical market data from 2005 on\n",
    "hist = msft.history(period=\"max\", start=\"2005-01-01\")"
   ]
  },
  {
   "cell_type": "code",
   "execution_count": 6,
   "metadata": {},
   "outputs": [],
   "source": [
    "hist = hist[['Open', 'High', 'Low', 'Close']]\n",
    "df = hist.pct_change()"
   ]
  },
  {
   "cell_type": "code",
   "execution_count": 7,
   "metadata": {},
   "outputs": [
    {
     "name": "stdout",
     "output_type": "stream",
     "text": [
      "1\n"
     ]
    }
   ],
   "source": [
    "print(len(df) - len(df.dropna()))\n",
    "df.dropna(inplace=True)"
   ]
  },
  {
   "cell_type": "code",
   "execution_count": 92,
   "metadata": {},
   "outputs": [],
   "source": [
    "x, y = wavy.create_panels(df, lookback=1, horizon=1)\n",
    "\n",
    "# predict if the highest price > 0\n",
    "y = (y['High'] > 0).astype(int)"
   ]
  },
  {
   "cell_type": "code",
   "execution_count": 98,
   "metadata": {},
   "outputs": [
    {
     "name": "stderr",
     "output_type": "stream",
     "text": [
      "../wavy/models.py:180: UserWarning: Filling nan values with 0\n",
      "  warnings.warn(f\"Filling nan values with {self.fillna}\")\n"
     ]
    },
    {
     "name": "stdout",
     "output_type": "stream",
     "text": [
      "99/99 [==============================] - 0s 1ms/step - loss: 7.0020 - auc: 0.5434 - accuracy: 0.5435 - val_loss: 7.4243 - val_auc: 0.5107 - val_accuracy: 0.5159\n"
     ]
    },
    {
     "data": {
      "text/html": [
       "<div>\n",
       "<style scoped>\n",
       "    .dataframe tbody tr th:only-of-type {\n",
       "        vertical-align: middle;\n",
       "    }\n",
       "\n",
       "    .dataframe tbody tr th {\n",
       "        vertical-align: top;\n",
       "    }\n",
       "\n",
       "    .dataframe thead th {\n",
       "        text-align: right;\n",
       "    }\n",
       "</style>\n",
       "<table border=\"1\" class=\"dataframe\">\n",
       "  <thead>\n",
       "    <tr style=\"text-align: right;\">\n",
       "      <th></th>\n",
       "      <th>train</th>\n",
       "      <th>val</th>\n",
       "      <th>test</th>\n",
       "    </tr>\n",
       "  </thead>\n",
       "  <tbody>\n",
       "    <tr>\n",
       "      <th>loss</th>\n",
       "      <td>7.002033</td>\n",
       "      <td>7.424325</td>\n",
       "      <td>6.824303</td>\n",
       "    </tr>\n",
       "    <tr>\n",
       "      <th>auc</th>\n",
       "      <td>0.543387</td>\n",
       "      <td>0.510714</td>\n",
       "      <td>0.551269</td>\n",
       "    </tr>\n",
       "    <tr>\n",
       "      <th>accuracy</th>\n",
       "      <td>0.543458</td>\n",
       "      <td>0.515924</td>\n",
       "      <td>0.555046</td>\n",
       "    </tr>\n",
       "  </tbody>\n",
       "</table>\n",
       "</div>"
      ],
      "text/plain": [
       "             train       val      test\n",
       "loss      7.002033  7.424325  6.824303\n",
       "auc       0.543387  0.510714  0.551269\n",
       "accuracy  0.543458  0.515924  0.555046"
      ]
     },
     "execution_count": 98,
     "metadata": {},
     "output_type": "execute_result"
    }
   ],
   "source": [
    "base = wavy.models.BaselineShift(x=x, y=y, model_type='classification')\n",
    "base.fit()\n",
    "base.score()"
   ]
  },
  {
   "cell_type": "code",
   "execution_count": 111,
   "metadata": {},
   "outputs": [
    {
     "data": {
      "text/html": [
       "<div>\n",
       "<style scoped>\n",
       "    .dataframe tbody tr th:only-of-type {\n",
       "        vertical-align: middle;\n",
       "    }\n",
       "\n",
       "    .dataframe tbody tr th {\n",
       "        vertical-align: top;\n",
       "    }\n",
       "\n",
       "    .dataframe thead th {\n",
       "        text-align: right;\n",
       "    }\n",
       "</style>\n",
       "<table border=\"1\" class=\"dataframe\">\n",
       "  <thead>\n",
       "    <tr style=\"text-align: right;\">\n",
       "      <th></th>\n",
       "      <th>train</th>\n",
       "      <th>val</th>\n",
       "      <th>test</th>\n",
       "    </tr>\n",
       "  </thead>\n",
       "  <tbody>\n",
       "    <tr>\n",
       "      <th>loss</th>\n",
       "      <td>0.680026</td>\n",
       "      <td>0.683247</td>\n",
       "      <td>0.682601</td>\n",
       "    </tr>\n",
       "    <tr>\n",
       "      <th>auc</th>\n",
       "      <td>0.676075</td>\n",
       "      <td>0.661115</td>\n",
       "      <td>0.651367</td>\n",
       "    </tr>\n",
       "    <tr>\n",
       "      <th>accuracy</th>\n",
       "      <td>0.611270</td>\n",
       "      <td>0.596178</td>\n",
       "      <td>0.573394</td>\n",
       "    </tr>\n",
       "  </tbody>\n",
       "</table>\n",
       "</div>"
      ],
      "text/plain": [
       "             train       val      test\n",
       "loss      0.680026  0.683247  0.682601\n",
       "auc       0.676075  0.661115  0.651367\n",
       "accuracy  0.611270  0.596178  0.573394"
      ]
     },
     "execution_count": 111,
     "metadata": {},
     "output_type": "execute_result"
    }
   ],
   "source": [
    "lr = wavy.models.LogisticRegression(x=x['Close'], y=y)\n",
    "lr.fit(epochs=100, verbose=0)\n",
    "lr.score()"
   ]
  },
  {
   "cell_type": "code",
   "execution_count": 130,
   "metadata": {},
   "outputs": [],
   "source": [
    "x_data = x['High'].as_dataframe().reset_index(drop=True)\n",
    "y_data = y['High'].as_dataframe().reset_index(drop=True)\n",
    "\n",
    "data = pd.concat([x_data, y_data], axis=1)"
   ]
  },
  {
   "cell_type": "code",
   "execution_count": 131,
   "metadata": {},
   "outputs": [
    {
     "data": {
      "text/html": [
       "<div>\n",
       "<style scoped>\n",
       "    .dataframe tbody tr th:only-of-type {\n",
       "        vertical-align: middle;\n",
       "    }\n",
       "\n",
       "    .dataframe tbody tr th {\n",
       "        vertical-align: top;\n",
       "    }\n",
       "\n",
       "    .dataframe thead th {\n",
       "        text-align: right;\n",
       "    }\n",
       "</style>\n",
       "<table border=\"1\" class=\"dataframe\">\n",
       "  <thead>\n",
       "    <tr style=\"text-align: right;\">\n",
       "      <th></th>\n",
       "      <th>High</th>\n",
       "      <th>High</th>\n",
       "    </tr>\n",
       "  </thead>\n",
       "  <tbody>\n",
       "    <tr>\n",
       "      <th>High</th>\n",
       "      <td>1.000000</td>\n",
       "      <td>0.065631</td>\n",
       "    </tr>\n",
       "    <tr>\n",
       "      <th>High</th>\n",
       "      <td>0.065631</td>\n",
       "      <td>1.000000</td>\n",
       "    </tr>\n",
       "  </tbody>\n",
       "</table>\n",
       "</div>"
      ],
      "text/plain": [
       "          High      High\n",
       "High  1.000000  0.065631\n",
       "High  0.065631  1.000000"
      ]
     },
     "execution_count": 131,
     "metadata": {},
     "output_type": "execute_result"
    }
   ],
   "source": [
    "data.corr()"
   ]
  },
  {
   "cell_type": "code",
   "execution_count": 94,
   "metadata": {},
   "outputs": [
    {
     "name": "stdout",
     "output_type": "stream",
     "text": [
      "Epoch 1/50\n",
      "99/99 [==============================] - 0s 2ms/step - loss: 0.6912 - auc: 0.6052 - accuracy: 0.5864 - val_loss: 0.6904 - val_auc: 0.6099 - val_accuracy: 0.6038\n",
      "Epoch 2/50\n",
      "99/99 [==============================] - 0s 538us/step - loss: 0.6894 - auc: 0.6176 - accuracy: 0.5778 - val_loss: 0.6887 - val_auc: 0.6192 - val_accuracy: 0.6102\n",
      "Epoch 3/50\n",
      "99/99 [==============================] - 0s 542us/step - loss: 0.6874 - auc: 0.6312 - accuracy: 0.5890 - val_loss: 0.6871 - val_auc: 0.6284 - val_accuracy: 0.5962\n",
      "Epoch 4/50\n",
      "99/99 [==============================] - 0s 521us/step - loss: 0.6849 - auc: 0.6264 - accuracy: 0.5848 - val_loss: 0.6837 - val_auc: 0.6270 - val_accuracy: 0.6255\n",
      "Epoch 5/50\n",
      "99/99 [==============================] - 0s 511us/step - loss: 0.6822 - auc: 0.6253 - accuracy: 0.5855 - val_loss: 0.6803 - val_auc: 0.6324 - val_accuracy: 0.6280\n",
      "Epoch 6/50\n",
      "99/99 [==============================] - 0s 511us/step - loss: 0.6784 - auc: 0.6462 - accuracy: 0.6084 - val_loss: 0.6808 - val_auc: 0.6340 - val_accuracy: 0.5796\n",
      "Epoch 7/50\n",
      "99/99 [==============================] - 0s 509us/step - loss: 0.6749 - auc: 0.6498 - accuracy: 0.6011 - val_loss: 0.6769 - val_auc: 0.6373 - val_accuracy: 0.5898\n",
      "Epoch 8/50\n",
      "99/99 [==============================] - 0s 507us/step - loss: 0.6713 - auc: 0.6551 - accuracy: 0.6135 - val_loss: 0.6756 - val_auc: 0.6393 - val_accuracy: 0.5809\n",
      "Epoch 9/50\n",
      "99/99 [==============================] - 0s 501us/step - loss: 0.6682 - auc: 0.6587 - accuracy: 0.6160 - val_loss: 0.6762 - val_auc: 0.6401 - val_accuracy: 0.5898\n",
      "Epoch 10/50\n",
      "99/99 [==============================] - 0s 505us/step - loss: 0.6660 - auc: 0.6555 - accuracy: 0.6103 - val_loss: 0.6719 - val_auc: 0.6434 - val_accuracy: 0.5860\n",
      "Epoch 11/50\n",
      "99/99 [==============================] - 0s 505us/step - loss: 0.6625 - auc: 0.6608 - accuracy: 0.6138 - val_loss: 0.6640 - val_auc: 0.6493 - val_accuracy: 0.6369\n",
      "Epoch 12/50\n",
      "99/99 [==============================] - 0s 511us/step - loss: 0.6610 - auc: 0.6630 - accuracy: 0.6205 - val_loss: 0.6658 - val_auc: 0.6521 - val_accuracy: 0.6038\n",
      "Epoch 13/50\n",
      "99/99 [==============================] - 0s 507us/step - loss: 0.6588 - auc: 0.6633 - accuracy: 0.6103 - val_loss: 0.6615 - val_auc: 0.6542 - val_accuracy: 0.6318\n",
      "Epoch 14/50\n",
      "99/99 [==============================] - 0s 509us/step - loss: 0.6567 - auc: 0.6679 - accuracy: 0.6240 - val_loss: 0.6627 - val_auc: 0.6571 - val_accuracy: 0.6115\n",
      "Epoch 15/50\n",
      "99/99 [==============================] - 0s 521us/step - loss: 0.6545 - auc: 0.6703 - accuracy: 0.6253 - val_loss: 0.6579 - val_auc: 0.6604 - val_accuracy: 0.6420\n",
      "Epoch 16/50\n",
      "99/99 [==============================] - 0s 528us/step - loss: 0.6527 - auc: 0.6711 - accuracy: 0.6262 - val_loss: 0.6561 - val_auc: 0.6626 - val_accuracy: 0.6471\n",
      "Epoch 17/50\n",
      "99/99 [==============================] - 0s 513us/step - loss: 0.6512 - auc: 0.6732 - accuracy: 0.6336 - val_loss: 0.6556 - val_auc: 0.6655 - val_accuracy: 0.6497\n",
      "Epoch 18/50\n",
      "99/99 [==============================] - 0s 502us/step - loss: 0.6497 - auc: 0.6747 - accuracy: 0.6253 - val_loss: 0.6547 - val_auc: 0.6670 - val_accuracy: 0.6510\n",
      "Epoch 19/50\n",
      "99/99 [==============================] - 0s 525us/step - loss: 0.6482 - auc: 0.6754 - accuracy: 0.6304 - val_loss: 0.6536 - val_auc: 0.6694 - val_accuracy: 0.6510\n",
      "Epoch 20/50\n",
      "99/99 [==============================] - 0s 545us/step - loss: 0.6472 - auc: 0.6754 - accuracy: 0.6230 - val_loss: 0.6528 - val_auc: 0.6710 - val_accuracy: 0.6484\n",
      "Epoch 21/50\n",
      "99/99 [==============================] - 0s 541us/step - loss: 0.6462 - auc: 0.6777 - accuracy: 0.6291 - val_loss: 0.6535 - val_auc: 0.6729 - val_accuracy: 0.6459\n",
      "Epoch 22/50\n",
      "99/99 [==============================] - 0s 1ms/step - loss: 0.6446 - auc: 0.6801 - accuracy: 0.6291 - val_loss: 0.6490 - val_auc: 0.6748 - val_accuracy: 0.6599\n",
      "Epoch 23/50\n",
      "99/99 [==============================] - 0s 672us/step - loss: 0.6435 - auc: 0.6815 - accuracy: 0.6380 - val_loss: 0.6521 - val_auc: 0.6767 - val_accuracy: 0.6510\n",
      "Epoch 24/50\n",
      "99/99 [==============================] - 0s 560us/step - loss: 0.6427 - auc: 0.6822 - accuracy: 0.6339 - val_loss: 0.6483 - val_auc: 0.6776 - val_accuracy: 0.6611\n",
      "Epoch 25/50\n",
      "99/99 [==============================] - 0s 532us/step - loss: 0.6416 - auc: 0.6835 - accuracy: 0.6361 - val_loss: 0.6524 - val_auc: 0.6790 - val_accuracy: 0.6306\n",
      "Epoch 26/50\n",
      "99/99 [==============================] - 0s 518us/step - loss: 0.6414 - auc: 0.6820 - accuracy: 0.6332 - val_loss: 0.6470 - val_auc: 0.6797 - val_accuracy: 0.6624\n",
      "Epoch 27/50\n",
      "99/99 [==============================] - 0s 623us/step - loss: 0.6406 - auc: 0.6837 - accuracy: 0.6355 - val_loss: 0.6459 - val_auc: 0.6813 - val_accuracy: 0.6675\n",
      "Epoch 28/50\n",
      "99/99 [==============================] - 0s 525us/step - loss: 0.6414 - auc: 0.6798 - accuracy: 0.6339 - val_loss: 0.6547 - val_auc: 0.6815 - val_accuracy: 0.6178\n",
      "Epoch 29/50\n",
      "99/99 [==============================] - 0s 520us/step - loss: 0.6389 - auc: 0.6861 - accuracy: 0.6367 - val_loss: 0.6427 - val_auc: 0.6836 - val_accuracy: 0.6713\n",
      "Epoch 30/50\n",
      "99/99 [==============================] - 0s 523us/step - loss: 0.6383 - auc: 0.6863 - accuracy: 0.6377 - val_loss: 0.6448 - val_auc: 0.6838 - val_accuracy: 0.6739\n",
      "Epoch 31/50\n",
      "99/99 [==============================] - 0s 515us/step - loss: 0.6387 - auc: 0.6852 - accuracy: 0.6351 - val_loss: 0.6437 - val_auc: 0.6850 - val_accuracy: 0.6752\n",
      "Epoch 32/50\n",
      "99/99 [==============================] - 0s 515us/step - loss: 0.6376 - auc: 0.6871 - accuracy: 0.6390 - val_loss: 0.6411 - val_auc: 0.6857 - val_accuracy: 0.6662\n",
      "Epoch 33/50\n",
      "99/99 [==============================] - 0s 520us/step - loss: 0.6365 - auc: 0.6884 - accuracy: 0.6450 - val_loss: 0.6501 - val_auc: 0.6853 - val_accuracy: 0.6433\n",
      "Epoch 34/50\n",
      "99/99 [==============================] - 0s 503us/step - loss: 0.6362 - auc: 0.6892 - accuracy: 0.6412 - val_loss: 0.6433 - val_auc: 0.6869 - val_accuracy: 0.6790\n",
      "Epoch 35/50\n",
      "99/99 [==============================] - 0s 516us/step - loss: 0.6359 - auc: 0.6886 - accuracy: 0.6402 - val_loss: 0.6497 - val_auc: 0.6869 - val_accuracy: 0.6459\n",
      "Epoch 36/50\n",
      "99/99 [==============================] - 0s 524us/step - loss: 0.6368 - auc: 0.6868 - accuracy: 0.6361 - val_loss: 0.6453 - val_auc: 0.6882 - val_accuracy: 0.6611\n",
      "Epoch 37/50\n",
      "99/99 [==============================] - 0s 508us/step - loss: 0.6355 - auc: 0.6887 - accuracy: 0.6396 - val_loss: 0.6434 - val_auc: 0.6889 - val_accuracy: 0.6713\n",
      "Epoch 38/50\n",
      "99/99 [==============================] - 0s 515us/step - loss: 0.6349 - auc: 0.6911 - accuracy: 0.6425 - val_loss: 0.6437 - val_auc: 0.6896 - val_accuracy: 0.6662\n",
      "Epoch 39/50\n",
      "99/99 [==============================] - 0s 519us/step - loss: 0.6349 - auc: 0.6904 - accuracy: 0.6501 - val_loss: 0.6465 - val_auc: 0.6899 - val_accuracy: 0.6611\n",
      "Epoch 40/50\n",
      "99/99 [==============================] - 0s 533us/step - loss: 0.6342 - auc: 0.6910 - accuracy: 0.6428 - val_loss: 0.6439 - val_auc: 0.6905 - val_accuracy: 0.6688\n",
      "Epoch 41/50\n",
      "99/99 [==============================] - 0s 523us/step - loss: 0.6340 - auc: 0.6920 - accuracy: 0.6390 - val_loss: 0.6455 - val_auc: 0.6909 - val_accuracy: 0.6599\n",
      "Epoch 42/50\n",
      "99/99 [==============================] - 0s 523us/step - loss: 0.6337 - auc: 0.6921 - accuracy: 0.6393 - val_loss: 0.6415 - val_auc: 0.6915 - val_accuracy: 0.6764\n",
      "Epoch 43/50\n",
      "99/99 [==============================] - 0s 574us/step - loss: 0.6339 - auc: 0.6917 - accuracy: 0.6402 - val_loss: 0.6423 - val_auc: 0.6925 - val_accuracy: 0.6726\n",
      "Epoch 44/50\n",
      "99/99 [==============================] - 0s 534us/step - loss: 0.6329 - auc: 0.6927 - accuracy: 0.6450 - val_loss: 0.6463 - val_auc: 0.6923 - val_accuracy: 0.6675\n",
      "Epoch 45/50\n",
      "99/99 [==============================] - 0s 528us/step - loss: 0.6325 - auc: 0.6940 - accuracy: 0.6418 - val_loss: 0.6421 - val_auc: 0.6937 - val_accuracy: 0.6701\n",
      "Epoch 46/50\n",
      "99/99 [==============================] - 0s 524us/step - loss: 0.6325 - auc: 0.6928 - accuracy: 0.6393 - val_loss: 0.6540 - val_auc: 0.6927 - val_accuracy: 0.6268\n",
      "Epoch 47/50\n",
      "99/99 [==============================] - 0s 524us/step - loss: 0.6325 - auc: 0.6931 - accuracy: 0.6383 - val_loss: 0.6418 - val_auc: 0.6932 - val_accuracy: 0.6739\n",
      "Epoch 48/50\n",
      "99/99 [==============================] - 0s 527us/step - loss: 0.6321 - auc: 0.6941 - accuracy: 0.6434 - val_loss: 0.6422 - val_auc: 0.6940 - val_accuracy: 0.6713\n",
      "Epoch 49/50\n",
      "99/99 [==============================] - 0s 549us/step - loss: 0.6319 - auc: 0.6946 - accuracy: 0.6488 - val_loss: 0.6417 - val_auc: 0.6950 - val_accuracy: 0.6726\n",
      "Epoch 50/50\n",
      "99/99 [==============================] - 0s 532us/step - loss: 0.6319 - auc: 0.6945 - accuracy: 0.6447 - val_loss: 0.6472 - val_auc: 0.6949 - val_accuracy: 0.6624\n"
     ]
    },
    {
     "data": {
      "text/html": [
       "<div>\n",
       "<style scoped>\n",
       "    .dataframe tbody tr th:only-of-type {\n",
       "        vertical-align: middle;\n",
       "    }\n",
       "\n",
       "    .dataframe tbody tr th {\n",
       "        vertical-align: top;\n",
       "    }\n",
       "\n",
       "    .dataframe thead th {\n",
       "        text-align: right;\n",
       "    }\n",
       "</style>\n",
       "<table border=\"1\" class=\"dataframe\">\n",
       "  <thead>\n",
       "    <tr style=\"text-align: right;\">\n",
       "      <th></th>\n",
       "      <th>train</th>\n",
       "      <th>val</th>\n",
       "      <th>test</th>\n",
       "    </tr>\n",
       "  </thead>\n",
       "  <tbody>\n",
       "    <tr>\n",
       "      <th>loss</th>\n",
       "      <td>0.631498</td>\n",
       "      <td>0.647224</td>\n",
       "      <td>0.660955</td>\n",
       "    </tr>\n",
       "    <tr>\n",
       "      <th>auc</th>\n",
       "      <td>0.696106</td>\n",
       "      <td>0.694878</td>\n",
       "      <td>0.662656</td>\n",
       "    </tr>\n",
       "    <tr>\n",
       "      <th>accuracy</th>\n",
       "      <td>0.644062</td>\n",
       "      <td>0.662420</td>\n",
       "      <td>0.610092</td>\n",
       "    </tr>\n",
       "  </tbody>\n",
       "</table>\n",
       "</div>"
      ],
      "text/plain": [
       "             train       val      test\n",
       "loss      0.631498  0.647224  0.660955\n",
       "auc       0.696106  0.694878  0.662656\n",
       "accuracy  0.644062  0.662420  0.610092"
      ]
     },
     "execution_count": 94,
     "metadata": {},
     "output_type": "execute_result"
    }
   ],
   "source": [
    "dense = wavy.models.DenseModel(x=x, y=y, model_type='classification')\n",
    "dense.fit(epochs=50)\n",
    "dense.score()"
   ]
  },
  {
   "cell_type": "code",
   "execution_count": 27,
   "metadata": {},
   "outputs": [
    {
     "data": {
      "text/html": [
       "<div>\n",
       "<style scoped>\n",
       "    .dataframe tbody tr th:only-of-type {\n",
       "        vertical-align: middle;\n",
       "    }\n",
       "\n",
       "    .dataframe tbody tr th {\n",
       "        vertical-align: top;\n",
       "    }\n",
       "\n",
       "    .dataframe thead th {\n",
       "        text-align: right;\n",
       "    }\n",
       "</style>\n",
       "<table border=\"1\" class=\"dataframe\">\n",
       "  <thead>\n",
       "    <tr style=\"text-align: right;\">\n",
       "      <th></th>\n",
       "      <th>Open</th>\n",
       "      <th>High</th>\n",
       "      <th>Low</th>\n",
       "      <th>Close</th>\n",
       "    </tr>\n",
       "    <tr>\n",
       "      <th>Date</th>\n",
       "      <th></th>\n",
       "      <th></th>\n",
       "      <th></th>\n",
       "      <th></th>\n",
       "    </tr>\n",
       "  </thead>\n",
       "  <tbody>\n",
       "    <tr>\n",
       "      <th>2005-01-04</th>\n",
       "      <td>0.002612</td>\n",
       "      <td>5.565464e-03</td>\n",
       "      <td>0.000375</td>\n",
       "      <td>0.003739</td>\n",
       "    </tr>\n",
       "    <tr>\n",
       "      <th>2005-01-05</th>\n",
       "      <td>-0.001116</td>\n",
       "      <td>6.012214e-08</td>\n",
       "      <td>0.003751</td>\n",
       "      <td>-0.002235</td>\n",
       "    </tr>\n",
       "    <tr>\n",
       "      <th>2005-01-06</th>\n",
       "      <td>0.000373</td>\n",
       "      <td>-1.475732e-03</td>\n",
       "      <td>-0.004484</td>\n",
       "      <td>-0.001120</td>\n",
       "    </tr>\n",
       "    <tr>\n",
       "      <th>2005-01-07</th>\n",
       "      <td>-0.001117</td>\n",
       "      <td>-6.282067e-03</td>\n",
       "      <td>-0.000750</td>\n",
       "      <td>-0.002990</td>\n",
       "    </tr>\n",
       "    <tr>\n",
       "      <th>2005-01-10</th>\n",
       "      <td>-0.008203</td>\n",
       "      <td>-1.115739e-03</td>\n",
       "      <td>-0.003005</td>\n",
       "      <td>0.004874</td>\n",
       "    </tr>\n",
       "    <tr>\n",
       "      <th>2005-01-11</th>\n",
       "      <td>0.003383</td>\n",
       "      <td>-1.489672e-03</td>\n",
       "      <td>0.002637</td>\n",
       "      <td>-0.002612</td>\n",
       "    </tr>\n",
       "    <tr>\n",
       "      <th>2005-01-12</th>\n",
       "      <td>0.002997</td>\n",
       "      <td>1.118568e-03</td>\n",
       "      <td>0.000376</td>\n",
       "      <td>0.001871</td>\n",
       "    </tr>\n",
       "    <tr>\n",
       "      <th>2005-01-13</th>\n",
       "      <td>-0.003362</td>\n",
       "      <td>-1.861895e-03</td>\n",
       "      <td>-0.017280</td>\n",
       "      <td>-0.019044</td>\n",
       "    </tr>\n",
       "    <tr>\n",
       "      <th>2005-01-14</th>\n",
       "      <td>-0.010495</td>\n",
       "      <td>-1.305981e-02</td>\n",
       "      <td>-0.004587</td>\n",
       "      <td>-0.005710</td>\n",
       "    </tr>\n",
       "    <tr>\n",
       "      <th>2005-01-18</th>\n",
       "      <td>-0.014015</td>\n",
       "      <td>-3.780623e-03</td>\n",
       "      <td>-0.007680</td>\n",
       "      <td>0.007657</td>\n",
       "    </tr>\n",
       "  </tbody>\n",
       "</table>\n",
       "</div>"
      ],
      "text/plain": [
       "                Open          High       Low     Close\n",
       "Date                                                  \n",
       "2005-01-04  0.002612  5.565464e-03  0.000375  0.003739\n",
       "2005-01-05 -0.001116  6.012214e-08  0.003751 -0.002235\n",
       "2005-01-06  0.000373 -1.475732e-03 -0.004484 -0.001120\n",
       "2005-01-07 -0.001117 -6.282067e-03 -0.000750 -0.002990\n",
       "2005-01-10 -0.008203 -1.115739e-03 -0.003005  0.004874\n",
       "2005-01-11  0.003383 -1.489672e-03  0.002637 -0.002612\n",
       "2005-01-12  0.002997  1.118568e-03  0.000376  0.001871\n",
       "2005-01-13 -0.003362 -1.861895e-03 -0.017280 -0.019044\n",
       "2005-01-14 -0.010495 -1.305981e-02 -0.004587 -0.005710\n",
       "2005-01-18 -0.014015 -3.780623e-03 -0.007680  0.007657"
      ]
     },
     "execution_count": 27,
     "metadata": {},
     "output_type": "execute_result"
    }
   ],
   "source": [
    "x[0]"
   ]
  },
  {
   "cell_type": "code",
   "execution_count": 39,
   "metadata": {},
   "outputs": [
    {
     "data": {
      "text/plain": [
       "<wavy.panel.Panel at 0x29938be20>"
      ]
     },
     "execution_count": 39,
     "metadata": {},
     "output_type": "execute_result"
    }
   ],
   "source": [
    "x_max = x.max().to_frame().transpose()\n",
    "\n",
    "x_max.rename(columns={'Open': 'max_open', 'High': 'max_high', 'Low': 'max_low', 'Close': 'max_close'}, inplace=True)\n",
    "\n",
    "x_min = x.min().to_frame().transpose()\n",
    "\n",
    "x_min.rename(columns={'Open': 'min_open', 'High': 'min_high', 'Low': 'min_low', 'Close': 'min_close'}, inplace=True)\n",
    "\n",
    "\n",
    "x_mean = x.mean().to_frame().transpose()\n",
    "\n",
    "x_mean.rename(columns={'Open': 'mean_open', 'High': 'mean_high', 'Low': 'mean_low', 'Close': 'mean_close'}, inplace=True)\n",
    "\n",
    "\n",
    "x_std = x.std().to_frame().transpose()\n",
    "\n",
    "x_std.rename(columns={'Open': 'std_open', 'High': 'std_high', 'Low': 'std_low', 'Close': 'std_close'}, inplace=True)\n",
    "\n",
    "# x_last = x.iloc[-1].to_frame().transpose()\n",
    "\n",
    "# x_last.rename(columns={'Open': 'last_open', 'High': 'last_high', 'Low': 'last_low', 'Close': 'last_close'}, inplace=True)"
   ]
  },
  {
   "cell_type": "code",
   "execution_count": 40,
   "metadata": {},
   "outputs": [],
   "source": [
    "from wavy import Panel\n",
    "\n",
    "xx = Panel([pd.concat(ls, axis=1) for ls in zip(x_max, x_min, x_mean, x_std)])"
   ]
  },
  {
   "cell_type": "code",
   "execution_count": 41,
   "metadata": {},
   "outputs": [
    {
     "data": {
      "text/html": [
       "<div>\n",
       "<style scoped>\n",
       "    .dataframe tbody tr th:only-of-type {\n",
       "        vertical-align: middle;\n",
       "    }\n",
       "\n",
       "    .dataframe tbody tr th {\n",
       "        vertical-align: top;\n",
       "    }\n",
       "\n",
       "    .dataframe thead th {\n",
       "        text-align: right;\n",
       "    }\n",
       "</style>\n",
       "<table border=\"1\" class=\"dataframe\">\n",
       "  <thead>\n",
       "    <tr style=\"text-align: right;\">\n",
       "      <th></th>\n",
       "      <th>max_open</th>\n",
       "      <th>max_high</th>\n",
       "      <th>max_low</th>\n",
       "      <th>max_close</th>\n",
       "      <th>min_open</th>\n",
       "      <th>min_high</th>\n",
       "      <th>min_low</th>\n",
       "      <th>min_close</th>\n",
       "      <th>mean_open</th>\n",
       "      <th>mean_high</th>\n",
       "      <th>mean_low</th>\n",
       "      <th>mean_close</th>\n",
       "      <th>std_open</th>\n",
       "      <th>std_high</th>\n",
       "      <th>std_low</th>\n",
       "      <th>std_close</th>\n",
       "    </tr>\n",
       "  </thead>\n",
       "  <tbody>\n",
       "    <tr>\n",
       "      <th>0</th>\n",
       "      <td>0.003383</td>\n",
       "      <td>0.005565</td>\n",
       "      <td>0.003751</td>\n",
       "      <td>0.007657</td>\n",
       "      <td>-0.014015</td>\n",
       "      <td>-0.01306</td>\n",
       "      <td>-0.01728</td>\n",
       "      <td>-0.019044</td>\n",
       "      <td>-0.002894</td>\n",
       "      <td>-0.002238</td>\n",
       "      <td>-0.003065</td>\n",
       "      <td>-0.001557</td>\n",
       "      <td>0.006067</td>\n",
       "      <td>0.004894</td>\n",
       "      <td>0.006107</td>\n",
       "      <td>0.007401</td>\n",
       "    </tr>\n",
       "  </tbody>\n",
       "</table>\n",
       "</div>"
      ],
      "text/plain": [
       "   max_open  max_high   max_low  max_close  min_open  min_high  min_low  \\\n",
       "0  0.003383  0.005565  0.003751   0.007657 -0.014015  -0.01306 -0.01728   \n",
       "\n",
       "   min_close  mean_open  mean_high  mean_low  mean_close  std_open  std_high  \\\n",
       "0  -0.019044  -0.002894  -0.002238 -0.003065   -0.001557  0.006067  0.004894   \n",
       "\n",
       "    std_low  std_close  \n",
       "0  0.006107   0.007401  "
      ]
     },
     "execution_count": 41,
     "metadata": {},
     "output_type": "execute_result"
    }
   ],
   "source": [
    "xx[0]"
   ]
  },
  {
   "cell_type": "code",
   "execution_count": 75,
   "metadata": {},
   "outputs": [
    {
     "data": {
      "text/html": [
       "<div>\n",
       "<style scoped>\n",
       "    .dataframe tbody tr th:only-of-type {\n",
       "        vertical-align: middle;\n",
       "    }\n",
       "\n",
       "    .dataframe tbody tr th {\n",
       "        vertical-align: top;\n",
       "    }\n",
       "\n",
       "    .dataframe thead th {\n",
       "        text-align: right;\n",
       "    }\n",
       "</style>\n",
       "<table border=\"1\" class=\"dataframe\">\n",
       "  <thead>\n",
       "    <tr style=\"text-align: right;\">\n",
       "      <th></th>\n",
       "      <th>train</th>\n",
       "      <th>val</th>\n",
       "      <th>test</th>\n",
       "    </tr>\n",
       "  </thead>\n",
       "  <tbody>\n",
       "    <tr>\n",
       "      <th>loss</th>\n",
       "      <td>0.689902</td>\n",
       "      <td>0.691065</td>\n",
       "      <td>0.691444</td>\n",
       "    </tr>\n",
       "    <tr>\n",
       "      <th>auc</th>\n",
       "      <td>0.559031</td>\n",
       "      <td>0.585592</td>\n",
       "      <td>0.584791</td>\n",
       "    </tr>\n",
       "    <tr>\n",
       "      <th>accuracy</th>\n",
       "      <td>0.539075</td>\n",
       "      <td>0.559387</td>\n",
       "      <td>0.524138</td>\n",
       "    </tr>\n",
       "  </tbody>\n",
       "</table>\n",
       "</div>"
      ],
      "text/plain": [
       "             train       val      test\n",
       "loss      0.689902  0.691065  0.691444\n",
       "auc       0.559031  0.585592  0.584791\n",
       "accuracy  0.539075  0.559387  0.524138"
      ]
     },
     "execution_count": 75,
     "metadata": {},
     "output_type": "execute_result"
    }
   ],
   "source": [
    "lr.score()"
   ]
  },
  {
   "cell_type": "code",
   "execution_count": null,
   "metadata": {},
   "outputs": [],
   "source": [
    "# SHALLOW"
   ]
  },
  {
   "cell_type": "code",
   "execution_count": 63,
   "metadata": {},
   "outputs": [],
   "source": [
    "x_train = xx.train.as_dataframe().reset_index(drop=True)\n",
    "y_train = y.train.as_dataframe().reset_index(drop=True).values[:, 0]\n",
    "\n",
    "x_val = xx.val.as_dataframe().reset_index(drop=True)\n",
    "y_val = y.val.as_dataframe().reset_index(drop=True).values[:, 0]\n",
    "\n",
    "x_test = xx.test.as_dataframe().reset_index(drop=True)\n",
    "y_test = y.test.as_dataframe().reset_index(drop=True).values[:, 0]"
   ]
  },
  {
   "cell_type": "code",
   "execution_count": 76,
   "metadata": {},
   "outputs": [
    {
     "data": {
      "text/plain": [
       "RandomForestClassifier()"
      ]
     },
     "execution_count": 76,
     "metadata": {},
     "output_type": "execute_result"
    }
   ],
   "source": [
    "from sklearn.linear_model import LogisticRegression\n",
    "from sklearn.ensemble import RandomForestClassifier\n",
    "from sklearn.metrics import accuracy_score, roc_auc_score\n",
    "\n",
    "lr = LogisticRegression()\n",
    "lr.fit(x_train, y_train)\n",
    "\n",
    "rf = RandomForestClassifier()\n",
    "rf.fit(x_train, y_train)"
   ]
  },
  {
   "cell_type": "code",
   "execution_count": 82,
   "metadata": {},
   "outputs": [
    {
     "data": {
      "text/plain": [
       "0.546182777961069"
      ]
     },
     "execution_count": 82,
     "metadata": {},
     "output_type": "execute_result"
    }
   ],
   "source": [
    "roc_auc_score(y_val, lr.predict_proba(x_val)[:, 1])"
   ]
  },
  {
   "cell_type": "code",
   "execution_count": 81,
   "metadata": {},
   "outputs": [
    {
     "data": {
      "text/plain": [
       "0.6046123391619928"
      ]
     },
     "execution_count": 81,
     "metadata": {},
     "output_type": "execute_result"
    }
   ],
   "source": [
    "roc_auc_score(y_val, rf.predict_proba(x_val)[:, 1])"
   ]
  },
  {
   "cell_type": "code",
   "execution_count": null,
   "metadata": {},
   "outputs": [],
   "source": []
  }
 ],
 "metadata": {
  "interpreter": {
   "hash": "9cb234d4e2c52173e43522c637a954180012c3ae1bff92a340992ea9042eea4e"
  },
  "kernelspec": {
   "display_name": "Python 3.8.10 64-bit ('tensorflow': conda)",
   "name": "python3"
  },
  "language_info": {
   "codemirror_mode": {
    "name": "ipython",
    "version": 3
   },
   "file_extension": ".py",
   "mimetype": "text/x-python",
   "name": "python",
   "nbconvert_exporter": "python",
   "pygments_lexer": "ipython3",
   "version": "3.8.6"
  }
 },
 "nbformat": 4,
 "nbformat_minor": 4
}
