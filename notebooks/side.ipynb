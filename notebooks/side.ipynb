{
 "cells": [
  {
   "cell_type": "markdown",
   "metadata": {},
   "source": [
    "### Imports"
   ]
  },
  {
   "cell_type": "code",
   "execution_count": 1,
   "metadata": {},
   "outputs": [],
   "source": [
    "import sys\n",
    "sys.path.append('../')\n",
    "\n",
    "from wavy import *\n",
    "import pandas as pd"
   ]
  },
  {
   "cell_type": "markdown",
   "metadata": {},
   "source": [
    "### Load data"
   ]
  },
  {
   "cell_type": "code",
   "execution_count": 2,
   "metadata": {},
   "outputs": [
    {
     "data": {
      "text/html": [
       "<div>\n",
       "<style scoped>\n",
       "    .dataframe tbody tr th:only-of-type {\n",
       "        vertical-align: middle;\n",
       "    }\n",
       "\n",
       "    .dataframe tbody tr th {\n",
       "        vertical-align: top;\n",
       "    }\n",
       "\n",
       "    .dataframe thead tr th {\n",
       "        text-align: left;\n",
       "    }\n",
       "\n",
       "    .dataframe thead tr:last-of-type th {\n",
       "        text-align: right;\n",
       "    }\n",
       "</style>\n",
       "<table border=\"1\" class=\"dataframe\">\n",
       "  <thead>\n",
       "    <tr>\n",
       "      <th></th>\n",
       "      <th colspan=\"5\" halign=\"left\">LNC</th>\n",
       "      <th colspan=\"5\" halign=\"left\">MAS</th>\n",
       "      <th>...</th>\n",
       "      <th colspan=\"5\" halign=\"left\">CSX</th>\n",
       "      <th colspan=\"5\" halign=\"left\">CI</th>\n",
       "    </tr>\n",
       "    <tr>\n",
       "      <th></th>\n",
       "      <th>Open</th>\n",
       "      <th>High</th>\n",
       "      <th>Low</th>\n",
       "      <th>Close</th>\n",
       "      <th>Volume</th>\n",
       "      <th>Open</th>\n",
       "      <th>High</th>\n",
       "      <th>Low</th>\n",
       "      <th>Close</th>\n",
       "      <th>Volume</th>\n",
       "      <th>...</th>\n",
       "      <th>Open</th>\n",
       "      <th>High</th>\n",
       "      <th>Low</th>\n",
       "      <th>Close</th>\n",
       "      <th>Volume</th>\n",
       "      <th>Open</th>\n",
       "      <th>High</th>\n",
       "      <th>Low</th>\n",
       "      <th>Close</th>\n",
       "      <th>Volume</th>\n",
       "    </tr>\n",
       "    <tr>\n",
       "      <th>Date</th>\n",
       "      <th></th>\n",
       "      <th></th>\n",
       "      <th></th>\n",
       "      <th></th>\n",
       "      <th></th>\n",
       "      <th></th>\n",
       "      <th></th>\n",
       "      <th></th>\n",
       "      <th></th>\n",
       "      <th></th>\n",
       "      <th></th>\n",
       "      <th></th>\n",
       "      <th></th>\n",
       "      <th></th>\n",
       "      <th></th>\n",
       "      <th></th>\n",
       "      <th></th>\n",
       "      <th></th>\n",
       "      <th></th>\n",
       "      <th></th>\n",
       "      <th></th>\n",
       "    </tr>\n",
       "  </thead>\n",
       "  <tbody>\n",
       "    <tr>\n",
       "      <th>2005-12-21</th>\n",
       "      <td>38.127885</td>\n",
       "      <td>39.324626</td>\n",
       "      <td>38.120589</td>\n",
       "      <td>39.207870</td>\n",
       "      <td>2190100.0</td>\n",
       "      <td>18.991695</td>\n",
       "      <td>19.154659</td>\n",
       "      <td>18.903944</td>\n",
       "      <td>19.085712</td>\n",
       "      <td>1384200.0</td>\n",
       "      <td>...</td>\n",
       "      <td>6.245725</td>\n",
       "      <td>6.399080</td>\n",
       "      <td>6.245725</td>\n",
       "      <td>6.362326</td>\n",
       "      <td>8358000.0</td>\n",
       "      <td>36.945102</td>\n",
       "      <td>37.462575</td>\n",
       "      <td>36.895658</td>\n",
       "      <td>37.370289</td>\n",
       "      <td>2805900.0</td>\n",
       "    </tr>\n",
       "    <tr>\n",
       "      <th>2005-12-22</th>\n",
       "      <td>39.185984</td>\n",
       "      <td>39.324630</td>\n",
       "      <td>38.879500</td>\n",
       "      <td>39.040039</td>\n",
       "      <td>1095500.0</td>\n",
       "      <td>19.085703</td>\n",
       "      <td>19.298810</td>\n",
       "      <td>18.910202</td>\n",
       "      <td>18.929007</td>\n",
       "      <td>1576900.0</td>\n",
       "      <td>...</td>\n",
       "      <td>6.381336</td>\n",
       "      <td>6.420626</td>\n",
       "      <td>6.361058</td>\n",
       "      <td>6.410487</td>\n",
       "      <td>5344800.0</td>\n",
       "      <td>37.409841</td>\n",
       "      <td>37.630677</td>\n",
       "      <td>37.073647</td>\n",
       "      <td>37.327442</td>\n",
       "      <td>2296800.0</td>\n",
       "    </tr>\n",
       "    <tr>\n",
       "      <th>2005-12-23</th>\n",
       "      <td>39.061931</td>\n",
       "      <td>39.397604</td>\n",
       "      <td>38.959771</td>\n",
       "      <td>39.324631</td>\n",
       "      <td>588800.0</td>\n",
       "      <td>18.954090</td>\n",
       "      <td>18.954090</td>\n",
       "      <td>18.684571</td>\n",
       "      <td>18.816196</td>\n",
       "      <td>2090500.0</td>\n",
       "      <td>...</td>\n",
       "      <td>6.297691</td>\n",
       "      <td>6.520752</td>\n",
       "      <td>6.297691</td>\n",
       "      <td>6.468790</td>\n",
       "      <td>3630000.0</td>\n",
       "      <td>37.376876</td>\n",
       "      <td>37.432909</td>\n",
       "      <td>36.905546</td>\n",
       "      <td>37.261517</td>\n",
       "      <td>1686000.0</td>\n",
       "    </tr>\n",
       "    <tr>\n",
       "      <th>2005-12-27</th>\n",
       "      <td>39.514374</td>\n",
       "      <td>39.514374</td>\n",
       "      <td>38.981676</td>\n",
       "      <td>39.237080</td>\n",
       "      <td>932700.0</td>\n",
       "      <td>18.929008</td>\n",
       "      <td>18.991687</td>\n",
       "      <td>18.803650</td>\n",
       "      <td>18.847525</td>\n",
       "      <td>1609000.0</td>\n",
       "      <td>...</td>\n",
       "      <td>6.520750</td>\n",
       "      <td>6.527087</td>\n",
       "      <td>6.369931</td>\n",
       "      <td>6.400348</td>\n",
       "      <td>4905000.0</td>\n",
       "      <td>37.195584</td>\n",
       "      <td>37.455973</td>\n",
       "      <td>36.961570</td>\n",
       "      <td>37.116482</td>\n",
       "      <td>1917900.0</td>\n",
       "    </tr>\n",
       "    <tr>\n",
       "      <th>2005-12-28</th>\n",
       "      <td>39.455973</td>\n",
       "      <td>39.696782</td>\n",
       "      <td>39.244353</td>\n",
       "      <td>39.310028</td>\n",
       "      <td>427200.0</td>\n",
       "      <td>18.853798</td>\n",
       "      <td>18.935281</td>\n",
       "      <td>18.747245</td>\n",
       "      <td>18.803656</td>\n",
       "      <td>2026300.0</td>\n",
       "      <td>...</td>\n",
       "      <td>6.419358</td>\n",
       "      <td>6.459914</td>\n",
       "      <td>6.363592</td>\n",
       "      <td>6.419358</td>\n",
       "      <td>3578400.0</td>\n",
       "      <td>37.241735</td>\n",
       "      <td>37.449383</td>\n",
       "      <td>37.109892</td>\n",
       "      <td>37.251621</td>\n",
       "      <td>1248900.0</td>\n",
       "    </tr>\n",
       "    <tr>\n",
       "      <th>2005-12-29</th>\n",
       "      <td>39.302738</td>\n",
       "      <td>39.463277</td>\n",
       "      <td>38.923283</td>\n",
       "      <td>38.937878</td>\n",
       "      <td>532300.0</td>\n",
       "      <td>18.803659</td>\n",
       "      <td>18.929017</td>\n",
       "      <td>18.722176</td>\n",
       "      <td>18.791122</td>\n",
       "      <td>1538500.0</td>\n",
       "      <td>...</td>\n",
       "      <td>6.415554</td>\n",
       "      <td>6.539759</td>\n",
       "      <td>6.409217</td>\n",
       "      <td>6.475122</td>\n",
       "      <td>4571400.0</td>\n",
       "      <td>37.093414</td>\n",
       "      <td>37.653740</td>\n",
       "      <td>37.076934</td>\n",
       "      <td>37.413128</td>\n",
       "      <td>1558800.0</td>\n",
       "    </tr>\n",
       "  </tbody>\n",
       "</table>\n",
       "<p>6 rows × 2085 columns</p>\n",
       "</div>"
      ],
      "text/plain": [
       "                  LNC                                                    MAS  \\\n",
       "                 Open       High        Low      Close     Volume       Open   \n",
       "Date                                                                           \n",
       "2005-12-21  38.127885  39.324626  38.120589  39.207870  2190100.0  18.991695   \n",
       "2005-12-22  39.185984  39.324630  38.879500  39.040039  1095500.0  19.085703   \n",
       "2005-12-23  39.061931  39.397604  38.959771  39.324631   588800.0  18.954090   \n",
       "2005-12-27  39.514374  39.514374  38.981676  39.237080   932700.0  18.929008   \n",
       "2005-12-28  39.455973  39.696782  39.244353  39.310028   427200.0  18.853798   \n",
       "2005-12-29  39.302738  39.463277  38.923283  38.937878   532300.0  18.803659   \n",
       "\n",
       "                                                        ...       CSX  \\\n",
       "                 High        Low      Close     Volume  ...      Open   \n",
       "Date                                                    ...             \n",
       "2005-12-21  19.154659  18.903944  19.085712  1384200.0  ...  6.245725   \n",
       "2005-12-22  19.298810  18.910202  18.929007  1576900.0  ...  6.381336   \n",
       "2005-12-23  18.954090  18.684571  18.816196  2090500.0  ...  6.297691   \n",
       "2005-12-27  18.991687  18.803650  18.847525  1609000.0  ...  6.520750   \n",
       "2005-12-28  18.935281  18.747245  18.803656  2026300.0  ...  6.419358   \n",
       "2005-12-29  18.929017  18.722176  18.791122  1538500.0  ...  6.415554   \n",
       "\n",
       "                                                            CI             \\\n",
       "                High       Low     Close     Volume       Open       High   \n",
       "Date                                                                        \n",
       "2005-12-21  6.399080  6.245725  6.362326  8358000.0  36.945102  37.462575   \n",
       "2005-12-22  6.420626  6.361058  6.410487  5344800.0  37.409841  37.630677   \n",
       "2005-12-23  6.520752  6.297691  6.468790  3630000.0  37.376876  37.432909   \n",
       "2005-12-27  6.527087  6.369931  6.400348  4905000.0  37.195584  37.455973   \n",
       "2005-12-28  6.459914  6.363592  6.419358  3578400.0  37.241735  37.449383   \n",
       "2005-12-29  6.539759  6.409217  6.475122  4571400.0  37.093414  37.653740   \n",
       "\n",
       "                                             \n",
       "                  Low      Close     Volume  \n",
       "Date                                         \n",
       "2005-12-21  36.895658  37.370289  2805900.0  \n",
       "2005-12-22  37.073647  37.327442  2296800.0  \n",
       "2005-12-23  36.905546  37.261517  1686000.0  \n",
       "2005-12-27  36.961570  37.116482  1917900.0  \n",
       "2005-12-28  37.109892  37.251621  1248900.0  \n",
       "2005-12-29  37.076934  37.413128  1558800.0  \n",
       "\n",
       "[6 rows x 2085 columns]"
      ]
     },
     "execution_count": 2,
     "metadata": {},
     "output_type": "execute_result"
    }
   ],
   "source": [
    "data_pd = pd.read_pickle('processed.pkl')\n",
    "data_pd = data_pd.iloc[0:6,:]\n",
    "data_pd"
   ]
  },
  {
   "cell_type": "code",
   "execution_count": 3,
   "metadata": {},
   "outputs": [
    {
     "data": {
      "text/html": [
       "<div>\n",
       "<style scoped>\n",
       "    .dataframe tbody tr th:only-of-type {\n",
       "        vertical-align: middle;\n",
       "    }\n",
       "\n",
       "    .dataframe tbody tr th {\n",
       "        vertical-align: top;\n",
       "    }\n",
       "\n",
       "    .dataframe thead tr th {\n",
       "        text-align: left;\n",
       "    }\n",
       "\n",
       "    .dataframe thead tr:last-of-type th {\n",
       "        text-align: right;\n",
       "    }\n",
       "</style>\n",
       "<table border=\"1\" class=\"dataframe\">\n",
       "  <thead>\n",
       "    <tr>\n",
       "      <th></th>\n",
       "      <th colspan=\"5\" halign=\"left\">LNC</th>\n",
       "      <th colspan=\"5\" halign=\"left\">MAS</th>\n",
       "      <th>...</th>\n",
       "      <th colspan=\"5\" halign=\"left\">CSX</th>\n",
       "      <th colspan=\"5\" halign=\"left\">CI</th>\n",
       "    </tr>\n",
       "    <tr>\n",
       "      <th></th>\n",
       "      <th>Open</th>\n",
       "      <th>High</th>\n",
       "      <th>Low</th>\n",
       "      <th>Close</th>\n",
       "      <th>Volume</th>\n",
       "      <th>Open</th>\n",
       "      <th>High</th>\n",
       "      <th>Low</th>\n",
       "      <th>Close</th>\n",
       "      <th>Volume</th>\n",
       "      <th>...</th>\n",
       "      <th>Open</th>\n",
       "      <th>High</th>\n",
       "      <th>Low</th>\n",
       "      <th>Close</th>\n",
       "      <th>Volume</th>\n",
       "      <th>Open</th>\n",
       "      <th>High</th>\n",
       "      <th>Low</th>\n",
       "      <th>Close</th>\n",
       "      <th>Volume</th>\n",
       "    </tr>\n",
       "    <tr>\n",
       "      <th>Date</th>\n",
       "      <th></th>\n",
       "      <th></th>\n",
       "      <th></th>\n",
       "      <th></th>\n",
       "      <th></th>\n",
       "      <th></th>\n",
       "      <th></th>\n",
       "      <th></th>\n",
       "      <th></th>\n",
       "      <th></th>\n",
       "      <th></th>\n",
       "      <th></th>\n",
       "      <th></th>\n",
       "      <th></th>\n",
       "      <th></th>\n",
       "      <th></th>\n",
       "      <th></th>\n",
       "      <th></th>\n",
       "      <th></th>\n",
       "      <th></th>\n",
       "      <th></th>\n",
       "    </tr>\n",
       "  </thead>\n",
       "  <tbody>\n",
       "    <tr>\n",
       "      <th>2005-12-21</th>\n",
       "      <td>38.127885</td>\n",
       "      <td>39.324626</td>\n",
       "      <td>38.120589</td>\n",
       "      <td>39.207870</td>\n",
       "      <td>2190100.0</td>\n",
       "      <td>18.991695</td>\n",
       "      <td>19.154659</td>\n",
       "      <td>18.903944</td>\n",
       "      <td>19.085712</td>\n",
       "      <td>1384200.0</td>\n",
       "      <td>...</td>\n",
       "      <td>6.245725</td>\n",
       "      <td>6.399080</td>\n",
       "      <td>6.245725</td>\n",
       "      <td>6.362326</td>\n",
       "      <td>8358000.0</td>\n",
       "      <td>36.945102</td>\n",
       "      <td>37.462575</td>\n",
       "      <td>36.895658</td>\n",
       "      <td>37.370289</td>\n",
       "      <td>2805900.0</td>\n",
       "    </tr>\n",
       "    <tr>\n",
       "      <th>2005-12-22</th>\n",
       "      <td>39.185984</td>\n",
       "      <td>39.324630</td>\n",
       "      <td>38.879500</td>\n",
       "      <td>39.040039</td>\n",
       "      <td>1095500.0</td>\n",
       "      <td>19.085703</td>\n",
       "      <td>19.298810</td>\n",
       "      <td>18.910202</td>\n",
       "      <td>18.929007</td>\n",
       "      <td>1576900.0</td>\n",
       "      <td>...</td>\n",
       "      <td>6.381336</td>\n",
       "      <td>6.420626</td>\n",
       "      <td>6.361058</td>\n",
       "      <td>6.410487</td>\n",
       "      <td>5344800.0</td>\n",
       "      <td>37.409841</td>\n",
       "      <td>37.630677</td>\n",
       "      <td>37.073647</td>\n",
       "      <td>37.327442</td>\n",
       "      <td>2296800.0</td>\n",
       "    </tr>\n",
       "    <tr>\n",
       "      <th>2005-12-23</th>\n",
       "      <td>39.061931</td>\n",
       "      <td>39.397604</td>\n",
       "      <td>38.959771</td>\n",
       "      <td>39.324631</td>\n",
       "      <td>588800.0</td>\n",
       "      <td>18.954090</td>\n",
       "      <td>18.954090</td>\n",
       "      <td>18.684571</td>\n",
       "      <td>18.816196</td>\n",
       "      <td>2090500.0</td>\n",
       "      <td>...</td>\n",
       "      <td>6.297691</td>\n",
       "      <td>6.520752</td>\n",
       "      <td>6.297691</td>\n",
       "      <td>6.468790</td>\n",
       "      <td>3630000.0</td>\n",
       "      <td>37.376876</td>\n",
       "      <td>37.432909</td>\n",
       "      <td>36.905546</td>\n",
       "      <td>37.261517</td>\n",
       "      <td>1686000.0</td>\n",
       "    </tr>\n",
       "    <tr>\n",
       "      <th>2005-12-27</th>\n",
       "      <td>39.514374</td>\n",
       "      <td>39.514374</td>\n",
       "      <td>38.981676</td>\n",
       "      <td>39.237080</td>\n",
       "      <td>932700.0</td>\n",
       "      <td>18.929008</td>\n",
       "      <td>18.991687</td>\n",
       "      <td>18.803650</td>\n",
       "      <td>18.847525</td>\n",
       "      <td>1609000.0</td>\n",
       "      <td>...</td>\n",
       "      <td>6.520750</td>\n",
       "      <td>6.527087</td>\n",
       "      <td>6.369931</td>\n",
       "      <td>6.400348</td>\n",
       "      <td>4905000.0</td>\n",
       "      <td>37.195584</td>\n",
       "      <td>37.455973</td>\n",
       "      <td>36.961570</td>\n",
       "      <td>37.116482</td>\n",
       "      <td>1917900.0</td>\n",
       "    </tr>\n",
       "    <tr>\n",
       "      <th>2005-12-28</th>\n",
       "      <td>39.455973</td>\n",
       "      <td>39.696782</td>\n",
       "      <td>39.244353</td>\n",
       "      <td>39.310028</td>\n",
       "      <td>427200.0</td>\n",
       "      <td>18.853798</td>\n",
       "      <td>18.935281</td>\n",
       "      <td>18.747245</td>\n",
       "      <td>18.803656</td>\n",
       "      <td>2026300.0</td>\n",
       "      <td>...</td>\n",
       "      <td>6.419358</td>\n",
       "      <td>6.459914</td>\n",
       "      <td>6.363592</td>\n",
       "      <td>6.419358</td>\n",
       "      <td>3578400.0</td>\n",
       "      <td>37.241735</td>\n",
       "      <td>37.449383</td>\n",
       "      <td>37.109892</td>\n",
       "      <td>37.251621</td>\n",
       "      <td>1248900.0</td>\n",
       "    </tr>\n",
       "    <tr>\n",
       "      <th>2005-12-29</th>\n",
       "      <td>39.302738</td>\n",
       "      <td>39.463277</td>\n",
       "      <td>38.923283</td>\n",
       "      <td>38.937878</td>\n",
       "      <td>532300.0</td>\n",
       "      <td>18.803659</td>\n",
       "      <td>18.929017</td>\n",
       "      <td>18.722176</td>\n",
       "      <td>18.791122</td>\n",
       "      <td>1538500.0</td>\n",
       "      <td>...</td>\n",
       "      <td>6.415554</td>\n",
       "      <td>6.539759</td>\n",
       "      <td>6.409217</td>\n",
       "      <td>6.475122</td>\n",
       "      <td>4571400.0</td>\n",
       "      <td>37.093414</td>\n",
       "      <td>37.653740</td>\n",
       "      <td>37.076934</td>\n",
       "      <td>37.413128</td>\n",
       "      <td>1558800.0</td>\n",
       "    </tr>\n",
       "  </tbody>\n",
       "</table>\n",
       "<p>6 rows × 2085 columns</p>\n",
       "</div>"
      ],
      "text/plain": [
       "                  LNC                                                    MAS  \\\n",
       "                 Open       High        Low      Close     Volume       Open   \n",
       "Date                                                                           \n",
       "2005-12-21  38.127885  39.324626  38.120589  39.207870  2190100.0  18.991695   \n",
       "2005-12-22  39.185984  39.324630  38.879500  39.040039  1095500.0  19.085703   \n",
       "2005-12-23  39.061931  39.397604  38.959771  39.324631   588800.0  18.954090   \n",
       "2005-12-27  39.514374  39.514374  38.981676  39.237080   932700.0  18.929008   \n",
       "2005-12-28  39.455973  39.696782  39.244353  39.310028   427200.0  18.853798   \n",
       "2005-12-29  39.302738  39.463277  38.923283  38.937878   532300.0  18.803659   \n",
       "\n",
       "                                                        ...       CSX  \\\n",
       "                 High        Low      Close     Volume  ...      Open   \n",
       "Date                                                    ...             \n",
       "2005-12-21  19.154659  18.903944  19.085712  1384200.0  ...  6.245725   \n",
       "2005-12-22  19.298810  18.910202  18.929007  1576900.0  ...  6.381336   \n",
       "2005-12-23  18.954090  18.684571  18.816196  2090500.0  ...  6.297691   \n",
       "2005-12-27  18.991687  18.803650  18.847525  1609000.0  ...  6.520750   \n",
       "2005-12-28  18.935281  18.747245  18.803656  2026300.0  ...  6.419358   \n",
       "2005-12-29  18.929017  18.722176  18.791122  1538500.0  ...  6.415554   \n",
       "\n",
       "                                                            CI             \\\n",
       "                High       Low     Close     Volume       Open       High   \n",
       "Date                                                                        \n",
       "2005-12-21  6.399080  6.245725  6.362326  8358000.0  36.945102  37.462575   \n",
       "2005-12-22  6.420626  6.361058  6.410487  5344800.0  37.409841  37.630677   \n",
       "2005-12-23  6.520752  6.297691  6.468790  3630000.0  37.376876  37.432909   \n",
       "2005-12-27  6.527087  6.369931  6.400348  4905000.0  37.195584  37.455973   \n",
       "2005-12-28  6.459914  6.363592  6.419358  3578400.0  37.241735  37.449383   \n",
       "2005-12-29  6.539759  6.409217  6.475122  4571400.0  37.093414  37.653740   \n",
       "\n",
       "                                             \n",
       "                  Low      Close     Volume  \n",
       "Date                                         \n",
       "2005-12-21  36.895658  37.370289  2805900.0  \n",
       "2005-12-22  37.073647  37.327442  2296800.0  \n",
       "2005-12-23  36.905546  37.261517  1686000.0  \n",
       "2005-12-27  36.961570  37.116482  1917900.0  \n",
       "2005-12-28  37.109892  37.251621  1248900.0  \n",
       "2005-12-29  37.076934  37.413128  1558800.0  \n",
       "\n",
       "[6 rows x 2085 columns]"
      ]
     },
     "execution_count": 3,
     "metadata": {},
     "output_type": "execute_result"
    }
   ],
   "source": [
    "datablock = from_dataframe(data_pd)\n",
    "datablock"
   ]
  },
  {
   "cell_type": "code",
   "execution_count": 4,
   "metadata": {},
   "outputs": [],
   "source": [
    "datablock = datablock.filter(assets=['MSFT', 'AAPL'], channels=['Open', 'Close'])"
   ]
  },
  {
   "cell_type": "code",
   "execution_count": 5,
   "metadata": {},
   "outputs": [
    {
     "data": {
      "text/plain": [
       "6"
      ]
     },
     "execution_count": 5,
     "metadata": {},
     "output_type": "execute_result"
    }
   ],
   "source": [
    "x_timesteps = len(datablock.index)\n",
    "x_timesteps"
   ]
  },
  {
   "cell_type": "code",
   "execution_count": 6,
   "metadata": {},
   "outputs": [],
   "source": [
    "lookback = 2\n",
    "horizon = 2\n",
    "gap = 1"
   ]
  },
  {
   "cell_type": "code",
   "execution_count": 7,
   "metadata": {},
   "outputs": [],
   "source": [
    "end = x_timesteps - horizon - gap + 1"
   ]
  },
  {
   "cell_type": "code",
   "execution_count": 8,
   "metadata": {},
   "outputs": [],
   "source": [
    "x = TimeBlock(datablock)"
   ]
  },
  {
   "cell_type": "code",
   "execution_count": 9,
   "metadata": {},
   "outputs": [
    {
     "data": {
      "text/plain": [
       "array([2, 3])"
      ]
     },
     "execution_count": 9,
     "metadata": {},
     "output_type": "execute_result"
    }
   ],
   "source": [
    "indexes = np.arange(lookback, end)\n",
    "indexes"
   ]
  },
  {
   "cell_type": "code",
   "execution_count": 10,
   "metadata": {},
   "outputs": [
    {
     "data": {
      "text/plain": [
       "[                 MSFT                 AAPL          \n",
       "                  Open      Close      Open     Close\n",
       " Date                                                \n",
       " 2005-12-21  19.577126  19.475122  2.218566  2.246069\n",
       " 2005-12-22  19.460543  19.373114  2.258598  2.261960,\n",
       "                  MSFT                 AAPL          \n",
       "                  Open      Close      Open     Close\n",
       " Date                                                \n",
       " 2005-12-22  19.460543  19.373114  2.258598  2.261960\n",
       " 2005-12-23  19.322122  19.409552  2.266543  2.241485]"
      ]
     },
     "execution_count": 10,
     "metadata": {},
     "output_type": "execute_result"
    }
   ],
   "source": [
    "xblocks = []\n",
    "for i in indexes:\n",
    "    xblocks.append(x.iloc[i - lookback : i])\n",
    "xblocks"
   ]
  },
  {
   "cell_type": "code",
   "execution_count": 11,
   "metadata": {},
   "outputs": [
    {
     "data": {
      "text/plain": [
       "2"
      ]
     },
     "execution_count": 11,
     "metadata": {},
     "output_type": "execute_result"
    }
   ],
   "source": [
    "len(xblocks)"
   ]
  },
  {
   "cell_type": "code",
   "execution_count": 12,
   "metadata": {},
   "outputs": [],
   "source": [
    "panel = PanelSide(xblocks)"
   ]
  },
  {
   "cell_type": "code",
   "execution_count": 13,
   "metadata": {},
   "outputs": [
    {
     "data": {
      "text/plain": [
       "<wavy.side.PanelSide at 0x15e99ec40>"
      ]
     },
     "execution_count": 13,
     "metadata": {},
     "output_type": "execute_result"
    }
   ],
   "source": [
    "panel"
   ]
  },
  {
   "cell_type": "code",
   "execution_count": 14,
   "metadata": {},
   "outputs": [],
   "source": [
    "other = panel.first"
   ]
  },
  {
   "cell_type": "code",
   "execution_count": 15,
   "metadata": {},
   "outputs": [
    {
     "data": {
      "text/html": [
       "<div>\n",
       "<style scoped>\n",
       "    .dataframe tbody tr th:only-of-type {\n",
       "        vertical-align: middle;\n",
       "    }\n",
       "\n",
       "    .dataframe tbody tr th {\n",
       "        vertical-align: top;\n",
       "    }\n",
       "\n",
       "    .dataframe thead tr th {\n",
       "        text-align: left;\n",
       "    }\n",
       "\n",
       "    .dataframe thead tr:last-of-type th {\n",
       "        text-align: right;\n",
       "    }\n",
       "</style>\n",
       "<table border=\"1\" class=\"dataframe\">\n",
       "  <thead>\n",
       "    <tr>\n",
       "      <th></th>\n",
       "      <th colspan=\"2\" halign=\"left\">MSFT</th>\n",
       "      <th colspan=\"2\" halign=\"left\">AAPL</th>\n",
       "    </tr>\n",
       "    <tr>\n",
       "      <th></th>\n",
       "      <th>Open</th>\n",
       "      <th>Close</th>\n",
       "      <th>Open</th>\n",
       "      <th>Close</th>\n",
       "    </tr>\n",
       "    <tr>\n",
       "      <th>Date</th>\n",
       "      <th></th>\n",
       "      <th></th>\n",
       "      <th></th>\n",
       "      <th></th>\n",
       "    </tr>\n",
       "  </thead>\n",
       "  <tbody>\n",
       "    <tr>\n",
       "      <th>2005-12-21</th>\n",
       "      <td>19.577126</td>\n",
       "      <td>19.475122</td>\n",
       "      <td>2.218566</td>\n",
       "      <td>2.246069</td>\n",
       "    </tr>\n",
       "    <tr>\n",
       "      <th>2005-12-22</th>\n",
       "      <td>19.460543</td>\n",
       "      <td>19.373114</td>\n",
       "      <td>2.258598</td>\n",
       "      <td>2.261960</td>\n",
       "    </tr>\n",
       "  </tbody>\n",
       "</table>\n",
       "</div>"
      ],
      "text/plain": [
       "                 MSFT                 AAPL          \n",
       "                 Open      Close      Open     Close\n",
       "Date                                                \n",
       "2005-12-21  19.577126  19.475122  2.218566  2.246069\n",
       "2005-12-22  19.460543  19.373114  2.258598  2.261960"
      ]
     },
     "execution_count": 15,
     "metadata": {},
     "output_type": "execute_result"
    }
   ],
   "source": [
    "other"
   ]
  },
  {
   "cell_type": "code",
   "execution_count": 16,
   "metadata": {},
   "outputs": [
    {
     "name": "stderr",
     "output_type": "stream",
     "text": [
      "/Users/ibiscp/GitHub/wavy/notebooks/../wavy/side.py:80: VisibleDeprecationWarning: Creating an ndarray from ragged nested sequences (which is a list-or-tuple of lists-or-tuples-or ndarrays with different lengths or shapes) is deprecated. If you meant to do this, you must specify 'dtype=object' when creating the ndarray.\n",
      "  return np.array(self.blocks)\n"
     ]
    },
    {
     "data": {
      "text/plain": [
       "<wavy.side.PanelSide at 0x15ea0fd90>"
      ]
     },
     "execution_count": 16,
     "metadata": {},
     "output_type": "execute_result"
    }
   ],
   "source": [
    "panel2= panel.__add__(other)\n",
    "panel2"
   ]
  },
  {
   "cell_type": "code",
   "execution_count": 17,
   "metadata": {},
   "outputs": [
    {
     "data": {
      "text/html": [
       "<div>\n",
       "<style scoped>\n",
       "    .dataframe tbody tr th:only-of-type {\n",
       "        vertical-align: middle;\n",
       "    }\n",
       "\n",
       "    .dataframe tbody tr th {\n",
       "        vertical-align: top;\n",
       "    }\n",
       "\n",
       "    .dataframe thead tr th {\n",
       "        text-align: left;\n",
       "    }\n",
       "\n",
       "    .dataframe thead tr:last-of-type th {\n",
       "        text-align: right;\n",
       "    }\n",
       "</style>\n",
       "<table border=\"1\" class=\"dataframe\">\n",
       "  <thead>\n",
       "    <tr>\n",
       "      <th></th>\n",
       "      <th colspan=\"2\" halign=\"left\">MSFT</th>\n",
       "      <th colspan=\"2\" halign=\"left\">AAPL</th>\n",
       "    </tr>\n",
       "    <tr>\n",
       "      <th></th>\n",
       "      <th>Open</th>\n",
       "      <th>Close</th>\n",
       "      <th>Open</th>\n",
       "      <th>Close</th>\n",
       "    </tr>\n",
       "    <tr>\n",
       "      <th>Date</th>\n",
       "      <th></th>\n",
       "      <th></th>\n",
       "      <th></th>\n",
       "      <th></th>\n",
       "    </tr>\n",
       "  </thead>\n",
       "  <tbody>\n",
       "    <tr>\n",
       "      <th>2005-12-21</th>\n",
       "      <td>39.154251</td>\n",
       "      <td>38.950245</td>\n",
       "      <td>4.437132</td>\n",
       "      <td>4.492137</td>\n",
       "    </tr>\n",
       "    <tr>\n",
       "      <th>2005-12-22</th>\n",
       "      <td>38.921086</td>\n",
       "      <td>38.746227</td>\n",
       "      <td>4.517197</td>\n",
       "      <td>4.523920</td>\n",
       "    </tr>\n",
       "  </tbody>\n",
       "</table>\n",
       "</div>"
      ],
      "text/plain": [
       "                 MSFT                 AAPL          \n",
       "                 Open      Close      Open     Close\n",
       "Date                                                \n",
       "2005-12-21  39.154251  38.950245  4.437132  4.492137\n",
       "2005-12-22  38.921086  38.746227  4.517197  4.523920"
      ]
     },
     "execution_count": 17,
     "metadata": {},
     "output_type": "execute_result"
    }
   ],
   "source": [
    "panel2.first"
   ]
  },
  {
   "cell_type": "code",
   "execution_count": 18,
   "metadata": {},
   "outputs": [
    {
     "data": {
      "text/plain": [
       "(2, 2, 2, 2)"
      ]
     },
     "execution_count": 18,
     "metadata": {},
     "output_type": "execute_result"
    }
   ],
   "source": [
    "panel.shape"
   ]
  },
  {
   "cell_type": "code",
   "execution_count": 19,
   "metadata": {},
   "outputs": [
    {
     "data": {
      "text/plain": [
       "array([[[19.57712554, 19.47512245,  2.21856582,  2.24606872],\n",
       "        [19.46054323, 19.37311363,  2.25859845,  2.26195979]],\n",
       "\n",
       "       [[19.46054323, 19.37311363,  2.25859845,  2.26195979],\n",
       "        [19.32212198, 19.40955162,  2.26654326,  2.24148512]]])"
      ]
     },
     "execution_count": 19,
     "metadata": {},
     "output_type": "execute_result"
    }
   ],
   "source": [
    "panel.values"
   ]
  },
  {
   "cell_type": "code",
   "execution_count": 20,
   "metadata": {},
   "outputs": [
    {
     "data": {
      "text/plain": [
       "(2, 2, 4)"
      ]
     },
     "execution_count": 20,
     "metadata": {},
     "output_type": "execute_result"
    }
   ],
   "source": [
    "panel.values.shape"
   ]
  },
  {
   "cell_type": "code",
   "execution_count": 21,
   "metadata": {},
   "outputs": [
    {
     "data": {
      "text/html": [
       "<div>\n",
       "<style scoped>\n",
       "    .dataframe tbody tr th:only-of-type {\n",
       "        vertical-align: middle;\n",
       "    }\n",
       "\n",
       "    .dataframe tbody tr th {\n",
       "        vertical-align: top;\n",
       "    }\n",
       "\n",
       "    .dataframe thead tr th {\n",
       "        text-align: left;\n",
       "    }\n",
       "\n",
       "    .dataframe thead tr:last-of-type th {\n",
       "        text-align: right;\n",
       "    }\n",
       "</style>\n",
       "<table border=\"1\" class=\"dataframe\">\n",
       "  <thead>\n",
       "    <tr>\n",
       "      <th></th>\n",
       "      <th colspan=\"2\" halign=\"left\">MSFT</th>\n",
       "      <th colspan=\"2\" halign=\"left\">AAPL</th>\n",
       "    </tr>\n",
       "    <tr>\n",
       "      <th></th>\n",
       "      <th>Open</th>\n",
       "      <th>Close</th>\n",
       "      <th>Open</th>\n",
       "      <th>Close</th>\n",
       "    </tr>\n",
       "    <tr>\n",
       "      <th>Date</th>\n",
       "      <th></th>\n",
       "      <th></th>\n",
       "      <th></th>\n",
       "      <th></th>\n",
       "    </tr>\n",
       "  </thead>\n",
       "  <tbody>\n",
       "    <tr>\n",
       "      <th>2005-12-21</th>\n",
       "      <td>19.577126</td>\n",
       "      <td>19.475122</td>\n",
       "      <td>2.218566</td>\n",
       "      <td>2.246069</td>\n",
       "    </tr>\n",
       "    <tr>\n",
       "      <th>2005-12-22</th>\n",
       "      <td>19.460543</td>\n",
       "      <td>19.373114</td>\n",
       "      <td>2.258598</td>\n",
       "      <td>2.261960</td>\n",
       "    </tr>\n",
       "  </tbody>\n",
       "</table>\n",
       "</div>"
      ],
      "text/plain": [
       "                 MSFT                 AAPL          \n",
       "                 Open      Close      Open     Close\n",
       "Date                                                \n",
       "2005-12-21  19.577126  19.475122  2.218566  2.246069\n",
       "2005-12-22  19.460543  19.373114  2.258598  2.261960"
      ]
     },
     "execution_count": 21,
     "metadata": {},
     "output_type": "execute_result"
    }
   ],
   "source": [
    "panel.first"
   ]
  },
  {
   "cell_type": "code",
   "execution_count": 22,
   "metadata": {},
   "outputs": [
    {
     "data": {
      "text/html": [
       "<div>\n",
       "<style scoped>\n",
       "    .dataframe tbody tr th:only-of-type {\n",
       "        vertical-align: middle;\n",
       "    }\n",
       "\n",
       "    .dataframe tbody tr th {\n",
       "        vertical-align: top;\n",
       "    }\n",
       "\n",
       "    .dataframe thead tr th {\n",
       "        text-align: left;\n",
       "    }\n",
       "\n",
       "    .dataframe thead tr:last-of-type th {\n",
       "        text-align: right;\n",
       "    }\n",
       "</style>\n",
       "<table border=\"1\" class=\"dataframe\">\n",
       "  <thead>\n",
       "    <tr>\n",
       "      <th></th>\n",
       "      <th colspan=\"2\" halign=\"left\">MSFT</th>\n",
       "      <th colspan=\"2\" halign=\"left\">AAPL</th>\n",
       "    </tr>\n",
       "    <tr>\n",
       "      <th></th>\n",
       "      <th>Open</th>\n",
       "      <th>Close</th>\n",
       "      <th>Open</th>\n",
       "      <th>Close</th>\n",
       "    </tr>\n",
       "    <tr>\n",
       "      <th>Date</th>\n",
       "      <th></th>\n",
       "      <th></th>\n",
       "      <th></th>\n",
       "      <th></th>\n",
       "    </tr>\n",
       "  </thead>\n",
       "  <tbody>\n",
       "    <tr>\n",
       "      <th>2005-12-22</th>\n",
       "      <td>19.460543</td>\n",
       "      <td>19.373114</td>\n",
       "      <td>2.258598</td>\n",
       "      <td>2.261960</td>\n",
       "    </tr>\n",
       "    <tr>\n",
       "      <th>2005-12-23</th>\n",
       "      <td>19.322122</td>\n",
       "      <td>19.409552</td>\n",
       "      <td>2.266543</td>\n",
       "      <td>2.241485</td>\n",
       "    </tr>\n",
       "  </tbody>\n",
       "</table>\n",
       "</div>"
      ],
      "text/plain": [
       "                 MSFT                 AAPL          \n",
       "                 Open      Close      Open     Close\n",
       "Date                                                \n",
       "2005-12-22  19.460543  19.373114  2.258598  2.261960\n",
       "2005-12-23  19.322122  19.409552  2.266543  2.241485"
      ]
     },
     "execution_count": 22,
     "metadata": {},
     "output_type": "execute_result"
    }
   ],
   "source": [
    "panel.last"
   ]
  },
  {
   "cell_type": "code",
   "execution_count": 23,
   "metadata": {},
   "outputs": [
    {
     "data": {
      "text/plain": [
       "0    MSFT\n",
       "1    AAPL\n",
       "dtype: object"
      ]
     },
     "execution_count": 23,
     "metadata": {},
     "output_type": "execute_result"
    }
   ],
   "source": [
    "panel.assets"
   ]
  },
  {
   "cell_type": "code",
   "execution_count": 28,
   "metadata": {},
   "outputs": [
    {
     "data": {
      "text/plain": [
       "Timestamp('2005-12-23 00:00:00')"
      ]
     },
     "execution_count": 28,
     "metadata": {},
     "output_type": "execute_result"
    }
   ],
   "source": [
    "panel.end"
   ]
  },
  {
   "cell_type": "code",
   "execution_count": 29,
   "metadata": {},
   "outputs": [
    {
     "data": {
      "text/plain": [
       "DatetimeIndex(['2005-12-21', '2005-12-22'], dtype='datetime64[ns]', name='Date', freq=None)"
      ]
     },
     "execution_count": 29,
     "metadata": {},
     "output_type": "execute_result"
    }
   ],
   "source": [
    "panel.timesteps"
   ]
  },
  {
   "cell_type": "code",
   "execution_count": 30,
   "metadata": {},
   "outputs": [
    {
     "data": {
      "text/plain": [
       "DatetimeIndex(['2005-12-21', '2005-12-22', '2005-12-23'], dtype='datetime64[ns]', name='Date', freq=None)"
      ]
     },
     "execution_count": 30,
     "metadata": {},
     "output_type": "execute_result"
    }
   ],
   "source": [
    "panel.index"
   ]
  },
  {
   "cell_type": "code",
   "execution_count": 32,
   "metadata": {},
   "outputs": [
    {
     "name": "stderr",
     "output_type": "stream",
     "text": [
      "100%|██████████| 2/2 [00:00<00:00, 84.41it/s]\n"
     ]
    },
    {
     "data": {
      "text/plain": [
       "<wavy.side.PanelSide at 0x15e99ec40>"
      ]
     },
     "execution_count": 32,
     "metadata": {},
     "output_type": "execute_result"
    }
   ],
   "source": [
    "panel.filter(assets=['AAPL'], channels=['Open'])\n",
    "panel"
   ]
  },
  {
   "cell_type": "code",
   "execution_count": 33,
   "metadata": {},
   "outputs": [
    {
     "data": {
      "text/plain": [
       "<wavy.side.PanelSide at 0x15e99ec40>"
      ]
     },
     "execution_count": 33,
     "metadata": {},
     "output_type": "execute_result"
    }
   ],
   "source": [
    "panel"
   ]
  },
  {
   "cell_type": "code",
   "execution_count": null,
   "metadata": {},
   "outputs": [],
   "source": []
  },
  {
   "cell_type": "code",
   "execution_count": null,
   "metadata": {},
   "outputs": [],
   "source": []
  },
  {
   "cell_type": "code",
   "execution_count": null,
   "metadata": {},
   "outputs": [],
   "source": []
  },
  {
   "cell_type": "code",
   "execution_count": null,
   "metadata": {},
   "outputs": [],
   "source": []
  }
 ],
 "metadata": {
  "interpreter": {
   "hash": "032b3cbf03a06fa558a733d6fb05a2eff24f69191f91dd2fa14d668a34c1ae8a"
  },
  "kernelspec": {
   "display_name": "Python 3.8.12 64-bit ('.venv': poetry)",
   "language": "python",
   "name": "python3"
  },
  "language_info": {
   "codemirror_mode": {
    "name": "ipython",
    "version": 3
   },
   "file_extension": ".py",
   "mimetype": "text/x-python",
   "name": "python",
   "nbconvert_exporter": "python",
   "pygments_lexer": "ipython3",
   "version": "3.8.12"
  },
  "orig_nbformat": 4
 },
 "nbformat": 4,
 "nbformat_minor": 2
}
