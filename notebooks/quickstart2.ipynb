{
 "cells": [
  {
   "cell_type": "code",
   "execution_count": null,
   "metadata": {},
   "outputs": [],
   "source": [
    "import numpy as np\n",
    "import pandas as pd\n",
    "import wavy\n",
    "\n",
    "# Start with any time series dataframe\n",
    "df = pd.DataFrame({'price': np.random.randn(1000)}, index=range(1000))\n",
    "\n",
    "# Create panels. Each panel is composed of a list of frames.\n",
    "x, y = wavy.create_panels(df, lookback=10, horizon=1)\n",
    "\n",
    "# x and y are contain the past and corresponding future data.\n",
    "# lookback and horizon are the number of timesteps.\n",
    "print(\"Lookback:\", len(x[0]), \"Horizon:\", len(y[0]))\n",
    "\n",
    "# Plot the target.\n",
    "y.plot()"
   ]
  },
  {
   "cell_type": "code",
   "execution_count": null,
   "metadata": {},
   "outputs": [],
   "source": [
    "# Convert to numpy arrays. Panels contain a train-val-test split by default.\n",
    "x_train, y_train = x.train.values, y.train.values\n",
    "x_test, y_test = x.test.values, y.test.values\n",
    "print(x_train.shape, y_train.shape)\n",
    "\n",
    "# Or just instantiate a model.\n",
    "model = wavy.LinearRegression(x, y)\n",
    "model.score()"
   ]
  }
 ],
 "metadata": {
  "language_info": {
   "name": "python"
  },
  "orig_nbformat": 4
 },
 "nbformat": 4,
 "nbformat_minor": 2
}
