{
 "cells": [
  {
   "cell_type": "markdown",
   "id": "2e456f27-7882-40a4-8551-6f4e9f4bbe89",
   "metadata": {},
   "source": [
    "# Covid-19 epidemiologic data"
   ]
  },
  {
   "cell_type": "markdown",
   "id": "4447d0e0-f903-486a-a4b8-80a14f181ab5",
   "metadata": {},
   "source": [
    "In this tutorial, we will use Wavy to prepare and analyze WHO data on COVID-19, which can be downloaded [here](https://covid19.who.int/WHO-COVID-19-global-data.csv).\n",
    "\n",
    "First, we will import the necessary libraries:"
   ]
  },
  {
   "cell_type": "code",
   "execution_count": 2,
   "id": "256f69c2-14c9-4736-a545-163c23e8ab20",
   "metadata": {},
   "outputs": [],
   "source": [
    "import os\n",
    "import matplotlib.pyplot as plt\n",
    "import numpy as np\n",
    "import pandas as pd\n",
    "import statsmodels.api as sm\n",
    "from statsmodels.tsa.stattools import adfuller\n",
    "from tqdm import tqdm\n",
    "\n",
    "import sys\n",
    "sys.path.append('../')\n",
    "\n",
    "from wavy import panel\n",
    "from wavy import frequency\n",
    "from wavy import utils\n",
    "from wavy import model"
   ]
  },
  {
   "cell_type": "markdown",
   "id": "b3ed4bae-c039-4c4a-975f-55d87c541114",
   "metadata": {},
   "source": [
    "After that, we will load the .csv file into a Pandas DataFrame and take a look at its first few rows:"
   ]
  },
  {
   "cell_type": "code",
   "execution_count": 8,
   "id": "0bb6e810-465f-40ed-893f-1da2e97b8704",
   "metadata": {},
   "outputs": [],
   "source": [
    "csv_path = '/home/amandacasadei/Downloads/WHO-COVID-19-global-data.csv'\n",
    "df = pd.read_csv('../data/covid.csv')"
   ]
  },
  {
   "cell_type": "code",
   "execution_count": 9,
   "id": "2aaf7e29-dfbd-43b6-a978-f712599ef32d",
   "metadata": {},
   "outputs": [
    {
     "data": {
      "text/html": [
       "<div>\n",
       "<style scoped>\n",
       "    .dataframe tbody tr th:only-of-type {\n",
       "        vertical-align: middle;\n",
       "    }\n",
       "\n",
       "    .dataframe tbody tr th {\n",
       "        vertical-align: top;\n",
       "    }\n",
       "\n",
       "    .dataframe thead th {\n",
       "        text-align: right;\n",
       "    }\n",
       "</style>\n",
       "<table border=\"1\" class=\"dataframe\">\n",
       "  <thead>\n",
       "    <tr style=\"text-align: right;\">\n",
       "      <th></th>\n",
       "      <th>Date_reported</th>\n",
       "      <th>Country_code</th>\n",
       "      <th>Country</th>\n",
       "      <th>WHO_region</th>\n",
       "      <th>New_cases</th>\n",
       "      <th>Cumulative_cases</th>\n",
       "      <th>New_deaths</th>\n",
       "      <th>Cumulative_deaths</th>\n",
       "    </tr>\n",
       "  </thead>\n",
       "  <tbody>\n",
       "    <tr>\n",
       "      <th>0</th>\n",
       "      <td>2020-01-03</td>\n",
       "      <td>AF</td>\n",
       "      <td>Afghanistan</td>\n",
       "      <td>EMRO</td>\n",
       "      <td>0</td>\n",
       "      <td>0</td>\n",
       "      <td>0</td>\n",
       "      <td>0</td>\n",
       "    </tr>\n",
       "    <tr>\n",
       "      <th>1</th>\n",
       "      <td>2020-01-04</td>\n",
       "      <td>AF</td>\n",
       "      <td>Afghanistan</td>\n",
       "      <td>EMRO</td>\n",
       "      <td>0</td>\n",
       "      <td>0</td>\n",
       "      <td>0</td>\n",
       "      <td>0</td>\n",
       "    </tr>\n",
       "    <tr>\n",
       "      <th>2</th>\n",
       "      <td>2020-01-05</td>\n",
       "      <td>AF</td>\n",
       "      <td>Afghanistan</td>\n",
       "      <td>EMRO</td>\n",
       "      <td>0</td>\n",
       "      <td>0</td>\n",
       "      <td>0</td>\n",
       "      <td>0</td>\n",
       "    </tr>\n",
       "    <tr>\n",
       "      <th>3</th>\n",
       "      <td>2020-01-06</td>\n",
       "      <td>AF</td>\n",
       "      <td>Afghanistan</td>\n",
       "      <td>EMRO</td>\n",
       "      <td>0</td>\n",
       "      <td>0</td>\n",
       "      <td>0</td>\n",
       "      <td>0</td>\n",
       "    </tr>\n",
       "    <tr>\n",
       "      <th>4</th>\n",
       "      <td>2020-01-07</td>\n",
       "      <td>AF</td>\n",
       "      <td>Afghanistan</td>\n",
       "      <td>EMRO</td>\n",
       "      <td>0</td>\n",
       "      <td>0</td>\n",
       "      <td>0</td>\n",
       "      <td>0</td>\n",
       "    </tr>\n",
       "  </tbody>\n",
       "</table>\n",
       "</div>"
      ],
      "text/plain": [
       "  Date_reported Country_code      Country WHO_region  New_cases  \\\n",
       "0    2020-01-03           AF  Afghanistan       EMRO          0   \n",
       "1    2020-01-04           AF  Afghanistan       EMRO          0   \n",
       "2    2020-01-05           AF  Afghanistan       EMRO          0   \n",
       "3    2020-01-06           AF  Afghanistan       EMRO          0   \n",
       "4    2020-01-07           AF  Afghanistan       EMRO          0   \n",
       "\n",
       "   Cumulative_cases  New_deaths  Cumulative_deaths  \n",
       "0                 0           0                  0  \n",
       "1                 0           0                  0  \n",
       "2                 0           0                  0  \n",
       "3                 0           0                  0  \n",
       "4                 0           0                  0  "
      ]
     },
     "execution_count": 9,
     "metadata": {},
     "output_type": "execute_result"
    }
   ],
   "source": [
    "df.head()"
   ]
  },
  {
   "cell_type": "markdown",
   "id": "892ddc05-8831-4c63-88c9-30ab5d05d5b1",
   "metadata": {},
   "source": [
    "We can add a column to our dataframe with the day of the week the column \"Date_reported\" refers to:"
   ]
  },
  {
   "cell_type": "code",
   "execution_count": 10,
   "id": "a1efffaf-56e3-4f54-a4e2-e4c87d1fbbc9",
   "metadata": {},
   "outputs": [],
   "source": [
    "df['Date_reported'] = pd.to_datetime(df['Date_reported'])\n",
    "df['Day_of_week'] = df['Date_reported'].dt.day_name()"
   ]
  },
  {
   "cell_type": "code",
   "execution_count": 11,
   "id": "9b1a9320-d13f-4a7a-895e-9e4f38405ae0",
   "metadata": {},
   "outputs": [
    {
     "data": {
      "text/html": [
       "<div>\n",
       "<style scoped>\n",
       "    .dataframe tbody tr th:only-of-type {\n",
       "        vertical-align: middle;\n",
       "    }\n",
       "\n",
       "    .dataframe tbody tr th {\n",
       "        vertical-align: top;\n",
       "    }\n",
       "\n",
       "    .dataframe thead th {\n",
       "        text-align: right;\n",
       "    }\n",
       "</style>\n",
       "<table border=\"1\" class=\"dataframe\">\n",
       "  <thead>\n",
       "    <tr style=\"text-align: right;\">\n",
       "      <th></th>\n",
       "      <th>Date_reported</th>\n",
       "      <th>Country_code</th>\n",
       "      <th>Country</th>\n",
       "      <th>WHO_region</th>\n",
       "      <th>New_cases</th>\n",
       "      <th>Cumulative_cases</th>\n",
       "      <th>New_deaths</th>\n",
       "      <th>Cumulative_deaths</th>\n",
       "      <th>Day_of_week</th>\n",
       "    </tr>\n",
       "  </thead>\n",
       "  <tbody>\n",
       "    <tr>\n",
       "      <th>0</th>\n",
       "      <td>2020-01-03</td>\n",
       "      <td>AF</td>\n",
       "      <td>Afghanistan</td>\n",
       "      <td>EMRO</td>\n",
       "      <td>0</td>\n",
       "      <td>0</td>\n",
       "      <td>0</td>\n",
       "      <td>0</td>\n",
       "      <td>Friday</td>\n",
       "    </tr>\n",
       "    <tr>\n",
       "      <th>1</th>\n",
       "      <td>2020-01-04</td>\n",
       "      <td>AF</td>\n",
       "      <td>Afghanistan</td>\n",
       "      <td>EMRO</td>\n",
       "      <td>0</td>\n",
       "      <td>0</td>\n",
       "      <td>0</td>\n",
       "      <td>0</td>\n",
       "      <td>Saturday</td>\n",
       "    </tr>\n",
       "    <tr>\n",
       "      <th>2</th>\n",
       "      <td>2020-01-05</td>\n",
       "      <td>AF</td>\n",
       "      <td>Afghanistan</td>\n",
       "      <td>EMRO</td>\n",
       "      <td>0</td>\n",
       "      <td>0</td>\n",
       "      <td>0</td>\n",
       "      <td>0</td>\n",
       "      <td>Sunday</td>\n",
       "    </tr>\n",
       "    <tr>\n",
       "      <th>3</th>\n",
       "      <td>2020-01-06</td>\n",
       "      <td>AF</td>\n",
       "      <td>Afghanistan</td>\n",
       "      <td>EMRO</td>\n",
       "      <td>0</td>\n",
       "      <td>0</td>\n",
       "      <td>0</td>\n",
       "      <td>0</td>\n",
       "      <td>Monday</td>\n",
       "    </tr>\n",
       "    <tr>\n",
       "      <th>4</th>\n",
       "      <td>2020-01-07</td>\n",
       "      <td>AF</td>\n",
       "      <td>Afghanistan</td>\n",
       "      <td>EMRO</td>\n",
       "      <td>0</td>\n",
       "      <td>0</td>\n",
       "      <td>0</td>\n",
       "      <td>0</td>\n",
       "      <td>Tuesday</td>\n",
       "    </tr>\n",
       "  </tbody>\n",
       "</table>\n",
       "</div>"
      ],
      "text/plain": [
       "  Date_reported Country_code      Country WHO_region  New_cases  \\\n",
       "0    2020-01-03           AF  Afghanistan       EMRO          0   \n",
       "1    2020-01-04           AF  Afghanistan       EMRO          0   \n",
       "2    2020-01-05           AF  Afghanistan       EMRO          0   \n",
       "3    2020-01-06           AF  Afghanistan       EMRO          0   \n",
       "4    2020-01-07           AF  Afghanistan       EMRO          0   \n",
       "\n",
       "   Cumulative_cases  New_deaths  Cumulative_deaths Day_of_week  \n",
       "0                 0           0                  0      Friday  \n",
       "1                 0           0                  0    Saturday  \n",
       "2                 0           0                  0      Sunday  \n",
       "3                 0           0                  0      Monday  \n",
       "4                 0           0                  0     Tuesday  "
      ]
     },
     "execution_count": 11,
     "metadata": {},
     "output_type": "execute_result"
    }
   ],
   "source": [
    "df.head()"
   ]
  },
  {
   "cell_type": "markdown",
   "id": "4fd45eac-7382-464e-a68d-3efffe077226",
   "metadata": {},
   "source": [
    "### Exploratory data analysis and data preparation:"
   ]
  },
  {
   "cell_type": "markdown",
   "id": "84c68e2a-d46c-4373-b62f-58a85fd3fa31",
   "metadata": {},
   "source": [
    "Next, we will perform an EDA on the data in order to elucidate its behavior. In the cell below, you can change the name of the variable \"country\" to see the descriptive statistics and charts for new and cumulative cases, as well as new and cumulative deaths."
   ]
  },
  {
   "cell_type": "code",
   "execution_count": 12,
   "id": "34cc9f5c-28f1-4518-b9f3-3aaf19508eff",
   "metadata": {},
   "outputs": [
    {
     "name": "stdout",
     "output_type": "stream",
     "text": [
      "           New_cases  Cumulative_cases   New_deaths  Cumulative_deaths\n",
      "count     739.000000      7.390000e+02   739.000000         739.000000\n",
      "mean    30445.906631      9.844434e+06   838.886333      272639.556157\n",
      "std     25891.145488      8.287786e+06   804.010190      227954.584585\n",
      "min      -573.000000      0.000000e+00     0.000000           0.000000\n",
      "25%      9245.500000      1.558042e+06   223.000000       63719.500000\n",
      "50%     25565.000000      7.753752e+06   674.000000      196561.000000\n",
      "75%     47034.000000      1.893590e+07  1186.500000      529359.500000\n",
      "max    150106.000000      2.249952e+07  4249.000000      619937.000000\n"
     ]
    },
    {
     "data": {
      "image/png": "[encoded data removed]",
      "text/plain": [
       "<Figure size 1080x360 with 1 Axes>"
      ]
     },
     "metadata": {
      "needs_background": "light"
     },
     "output_type": "display_data"
    },
    {
     "data": {
      "image/png": "[encoded data removed]",
      "text/plain": [
       "<Figure size 1080x360 with 1 Axes>"
      ]
     },
     "metadata": {
      "needs_background": "light"
     },
     "output_type": "display_data"
    },
    {
     "data": {
      "image/png": "[encoded data removed]",
      "text/plain": [
       "<Figure size 1080x360 with 1 Axes>"
      ]
     },
     "metadata": {
      "needs_background": "light"
     },
     "output_type": "display_data"
    },
    {
     "data": {
      "image/png": "[encoded data removed]",
      "text/plain": [
       "<Figure size 1080x360 with 1 Axes>"
      ]
     },
     "metadata": {
      "needs_background": "light"
     },
     "output_type": "display_data"
    }
   ],
   "source": [
    "country = \"Brazil\"\n",
    "\n",
    "aux_df = df.loc[df[\"Country\"] == country]\n",
    "aux_df = aux_df.set_index(\"Date_reported\")\n",
    "aux_df.index = pd.to_datetime(aux_df.index)\n",
    "\n",
    "\n",
    "print(aux_df.describe())\n",
    "\n",
    "for metric in [\"New_cases\", \"Cumulative_cases\", \"New_deaths\", \"Cumulative_deaths\"]:   \n",
    "    plt.figure(figsize=(15, 5))\n",
    "    plt.plot(aux_df[metric])\n",
    "    plt.title(f'{metric} of COVID-19 in {country}')\n",
    "    plt.grid(True)\n",
    "    plt.legend([metric])\n",
    "    plt.show()"
   ]
  },
  {
   "cell_type": "markdown",
   "id": "9f13dbd2-3190-458b-86b6-558c3d69615f",
   "metadata": {},
   "source": [
    "The data columns that are the most interesting for the purpose of time series forecasting and will therefore be used in this tutorial from now on are **\"New_cases\"** and **\"New_deaths\"**. Please, note that negative numbers are only acceptable in these columns, as they may correspond to cases that were registered as COVID-19 and were later confirmed not to be the case."
   ]
  },
  {
   "cell_type": "markdown",
   "id": "054aed1d-ba14-4f8e-8cc8-f34ad8492562",
   "metadata": {},
   "source": [
    "Next, we will check the data for stationarity with an Augmented Dickey-Fuller unit root test for each time series. The null hypothesis of the test is that the data can be represented by a unit root concluding that our data is not stationary."
   ]
  },
  {
   "cell_type": "code",
   "execution_count": 13,
   "id": "cc452261-1bc8-4b33-80cc-c78ef81ab49d",
   "metadata": {},
   "outputs": [
    {
     "name": "stdout",
     "output_type": "stream",
     "text": [
      "ADF Statistic: -1.601555\n",
      "p-value: 0.482812\n",
      "Critical Values:\n",
      "\t1%: -3.439\n",
      "\t5%: -2.866\n",
      "\t10%: -2.569\n"
     ]
    }
   ],
   "source": [
    "new_cases = aux_df['New_cases'].values\n",
    "\n",
    "result = adfuller(new_cases)\n",
    "print('ADF Statistic: %f' % result[0])\n",
    "print('p-value: %f' % result[1])\n",
    "print('Critical Values:')\n",
    "for key, value in result[4].items():\n",
    "\tprint('\\t%s: %.3f' % (key, value))"
   ]
  },
  {
   "cell_type": "code",
   "execution_count": 14,
   "id": "6db3f7be-0623-48ab-81a1-86fd2a7871c5",
   "metadata": {},
   "outputs": [
    {
     "name": "stdout",
     "output_type": "stream",
     "text": [
      "ADF Statistic: -1.711335\n",
      "p-value: 0.425282\n",
      "Critical Values:\n",
      "\t1%: -3.439\n",
      "\t5%: -2.866\n",
      "\t10%: -2.569\n"
     ]
    }
   ],
   "source": [
    "new_deaths = aux_df['New_deaths'].values\n",
    "\n",
    "result = adfuller(new_deaths)\n",
    "print('ADF Statistic: %f' % result[0])\n",
    "print('p-value: %f' % result[1])\n",
    "print('Critical Values:')\n",
    "for key, value in result[4].items():\n",
    "\tprint('\\t%s: %.3f' % (key, value))"
   ]
  },
  {
   "cell_type": "markdown",
   "id": "53f4241e-6f20-4c82-99c2-0717753acf47",
   "metadata": {},
   "source": [
    "Because the p-value of both tests is > 0.05, we fail to reject the null hypothesis of the tests. Therefore, we must treat both of our time series as **not stationary**. A stationary time series is one whose statistical properties, such as such as mean, variance, autocorrelation, etc., that are constant over time. Machine Learning models perform better in stationary time series, and we will see later in this tutorial how to transform a non stationary time series into a stationary one."
   ]
  },
  {
   "cell_type": "markdown",
   "id": "f09013c1-72cb-4461-a7e0-93b39a23f986",
   "metadata": {},
   "source": [
    "Next, we will check our data for autocorrelation and partial autocorrelation, which are measures of association between past and current time series values, showing which past series values are most useful in predicting future values."
   ]
  },
  {
   "cell_type": "code",
   "execution_count": 15,
   "id": "00ff1fe7-3b99-4feb-90c4-5349a7dc27f5",
   "metadata": {},
   "outputs": [
    {
     "name": "stderr",
     "output_type": "stream",
     "text": [
      "/Users/ibiscp/GitHub/wavy/.env/lib/python3.8/site-packages/statsmodels/graphics/tsaplots.py:348: FutureWarning: The default method 'yw' can produce PACF values outside of the [-1,1] interval. After 0.13, the default will change tounadjusted Yule-Walker ('ywm'). You can use this method now by setting method='ywm'.\n",
      "  warnings.warn(\n",
      "/Users/ibiscp/GitHub/wavy/.env/lib/python3.8/site-packages/statsmodels/graphics/tsaplots.py:348: FutureWarning: The default method 'yw' can produce PACF values outside of the [-1,1] interval. After 0.13, the default will change tounadjusted Yule-Walker ('ywm'). You can use this method now by setting method='ywm'.\n",
      "  warnings.warn(\n"
     ]
    },
    {
     "data": {
      "image/png": "[encoded data removed]",
      "text/plain": [
       "<Figure size 504x360 with 1 Axes>"
      ]
     },
     "metadata": {
      "needs_background": "light"
     },
     "output_type": "display_data"
    },
    {
     "data": {
      "image/png": "[encoded data removed]",
      "text/plain": [
       "<Figure size 504x360 with 1 Axes>"
      ]
     },
     "metadata": {
      "needs_background": "light"
     },
     "output_type": "display_data"
    },
    {
     "data": {
      "image/png": "[encoded data removed]",
      "text/plain": [
       "<Figure size 504x360 with 1 Axes>"
      ]
     },
     "metadata": {
      "needs_background": "light"
     },
     "output_type": "display_data"
    },
    {
     "data": {
      "image/png": "[encoded data removed]",
      "text/plain": [
       "<Figure size 504x360 with 1 Axes>"
      ]
     },
     "metadata": {
      "needs_background": "light"
     },
     "output_type": "display_data"
    }
   ],
   "source": [
    "for metric in [\"New_cases\", \"New_deaths\"]:\n",
    "    plt.rc(\"figure\", figsize=(7,5))\n",
    "    sm.graphics.tsa.plot_acf(aux_df[metric], title=f'Autocorrelation of COVID-19 {metric} in {country}')\n",
    "    \n",
    "    plt.rc(\"figure\", figsize=(7,5))\n",
    "    sm.graphics.tsa.plot_pacf(aux_df[metric], title=f' Partial Autocorrelation of COVID-19 {metric} in {country}');"
   ]
  },
  {
   "cell_type": "markdown",
   "id": "a8d552d4-fc3d-46e7-af23-3c3fd0e689d4",
   "metadata": {},
   "source": [
    "In the Autocorrelation plots, we can see there is a clear seasonality of one week in the data. This may be because part of the tests get accumulated during weekends and their results get released during the week. In order to eliminate this seasonality that is artificially introduced in the data by how it is collected, we will resample our data in weeks, so our model is able to learn its patterns without external influence.\n",
    "\n",
    "First, we will drop some of the columns that are not meaningful to our analysis:"
   ]
  },
  {
   "cell_type": "code",
   "execution_count": 16,
   "id": "3174b8ff-dd44-46cf-a0da-4786c574a9b8",
   "metadata": {},
   "outputs": [],
   "source": [
    "df.drop(columns=[\"Country_code\", \"WHO_region\", \"Day_of_week\", \"Cumulative_cases\", \"Cumulative_deaths\"], inplace=True)"
   ]
  },
  {
   "cell_type": "markdown",
   "id": "f75a93eb-0c6c-4972-a439-ababfae5b167",
   "metadata": {},
   "source": [
    "Next, we will add the column \"Country\" as a level in our DataFrame. This is necessary, because we will index our DataFrame with the datetime object it refers to, ensuring there is only one row for each date in order to successfully resample the DataFrame in weekly intervals."
   ]
  },
  {
   "cell_type": "code",
   "execution_count": 17,
   "id": "8118ca1c-f493-4f06-979b-1aee2151d4b0",
   "metadata": {},
   "outputs": [],
   "source": [
    "countries = pd.unique(df[\"Country\"])\n",
    "\n",
    "df_list = []\n",
    "for c in countries:\n",
    "    temp_df = df.loc[df[\"Country\"] == c]\n",
    "    temp_df.pop(\"Country\")\n",
    "    date_time = pd.to_datetime(temp_df.pop('Date_reported'), format='%Y.%m.%d')\n",
    "    temp_df.index = date_time\n",
    "    df_list.append(temp_df)\n",
    "\n",
    "processed = pd.concat(df_list, axis=1, keys=(countries))"
   ]
  },
  {
   "cell_type": "code",
   "execution_count": 18,
   "id": "aa31f8e4-0ecb-4e1f-bac1-6d9448526434",
   "metadata": {},
   "outputs": [
    {
     "data": {
      "text/html": [
       "<div>\n",
       "<style scoped>\n",
       "    .dataframe tbody tr th:only-of-type {\n",
       "        vertical-align: middle;\n",
       "    }\n",
       "\n",
       "    .dataframe tbody tr th {\n",
       "        vertical-align: top;\n",
       "    }\n",
       "\n",
       "    .dataframe thead tr th {\n",
       "        text-align: left;\n",
       "    }\n",
       "\n",
       "    .dataframe thead tr:last-of-type th {\n",
       "        text-align: right;\n",
       "    }\n",
       "</style>\n",
       "<table border=\"1\" class=\"dataframe\">\n",
       "  <thead>\n",
       "    <tr>\n",
       "      <th></th>\n",
       "      <th colspan=\"2\" halign=\"left\">Afghanistan</th>\n",
       "      <th colspan=\"2\" halign=\"left\">Albania</th>\n",
       "      <th colspan=\"2\" halign=\"left\">Algeria</th>\n",
       "      <th colspan=\"2\" halign=\"left\">American Samoa</th>\n",
       "      <th colspan=\"2\" halign=\"left\">Andorra</th>\n",
       "      <th>...</th>\n",
       "      <th colspan=\"2\" halign=\"left\">Viet Nam</th>\n",
       "      <th colspan=\"2\" halign=\"left\">Wallis and Futuna</th>\n",
       "      <th colspan=\"2\" halign=\"left\">Yemen</th>\n",
       "      <th colspan=\"2\" halign=\"left\">Zambia</th>\n",
       "      <th colspan=\"2\" halign=\"left\">Zimbabwe</th>\n",
       "    </tr>\n",
       "    <tr>\n",
       "      <th></th>\n",
       "      <th>New_cases</th>\n",
       "      <th>New_deaths</th>\n",
       "      <th>New_cases</th>\n",
       "      <th>New_deaths</th>\n",
       "      <th>New_cases</th>\n",
       "      <th>New_deaths</th>\n",
       "      <th>New_cases</th>\n",
       "      <th>New_deaths</th>\n",
       "      <th>New_cases</th>\n",
       "      <th>New_deaths</th>\n",
       "      <th>...</th>\n",
       "      <th>New_cases</th>\n",
       "      <th>New_deaths</th>\n",
       "      <th>New_cases</th>\n",
       "      <th>New_deaths</th>\n",
       "      <th>New_cases</th>\n",
       "      <th>New_deaths</th>\n",
       "      <th>New_cases</th>\n",
       "      <th>New_deaths</th>\n",
       "      <th>New_cases</th>\n",
       "      <th>New_deaths</th>\n",
       "    </tr>\n",
       "    <tr>\n",
       "      <th>Date_reported</th>\n",
       "      <th></th>\n",
       "      <th></th>\n",
       "      <th></th>\n",
       "      <th></th>\n",
       "      <th></th>\n",
       "      <th></th>\n",
       "      <th></th>\n",
       "      <th></th>\n",
       "      <th></th>\n",
       "      <th></th>\n",
       "      <th></th>\n",
       "      <th></th>\n",
       "      <th></th>\n",
       "      <th></th>\n",
       "      <th></th>\n",
       "      <th></th>\n",
       "      <th></th>\n",
       "      <th></th>\n",
       "      <th></th>\n",
       "      <th></th>\n",
       "      <th></th>\n",
       "    </tr>\n",
       "  </thead>\n",
       "  <tbody>\n",
       "    <tr>\n",
       "      <th>2020-01-03</th>\n",
       "      <td>0</td>\n",
       "      <td>0</td>\n",
       "      <td>0</td>\n",
       "      <td>0</td>\n",
       "      <td>0</td>\n",
       "      <td>0</td>\n",
       "      <td>0</td>\n",
       "      <td>0</td>\n",
       "      <td>0</td>\n",
       "      <td>0</td>\n",
       "      <td>...</td>\n",
       "      <td>0</td>\n",
       "      <td>0</td>\n",
       "      <td>0</td>\n",
       "      <td>0</td>\n",
       "      <td>0</td>\n",
       "      <td>0</td>\n",
       "      <td>0</td>\n",
       "      <td>0</td>\n",
       "      <td>0</td>\n",
       "      <td>0</td>\n",
       "    </tr>\n",
       "    <tr>\n",
       "      <th>2020-01-04</th>\n",
       "      <td>0</td>\n",
       "      <td>0</td>\n",
       "      <td>0</td>\n",
       "      <td>0</td>\n",
       "      <td>0</td>\n",
       "      <td>0</td>\n",
       "      <td>0</td>\n",
       "      <td>0</td>\n",
       "      <td>0</td>\n",
       "      <td>0</td>\n",
       "      <td>...</td>\n",
       "      <td>0</td>\n",
       "      <td>0</td>\n",
       "      <td>0</td>\n",
       "      <td>0</td>\n",
       "      <td>0</td>\n",
       "      <td>0</td>\n",
       "      <td>0</td>\n",
       "      <td>0</td>\n",
       "      <td>0</td>\n",
       "      <td>0</td>\n",
       "    </tr>\n",
       "    <tr>\n",
       "      <th>2020-01-05</th>\n",
       "      <td>0</td>\n",
       "      <td>0</td>\n",
       "      <td>0</td>\n",
       "      <td>0</td>\n",
       "      <td>0</td>\n",
       "      <td>0</td>\n",
       "      <td>0</td>\n",
       "      <td>0</td>\n",
       "      <td>0</td>\n",
       "      <td>0</td>\n",
       "      <td>...</td>\n",
       "      <td>0</td>\n",
       "      <td>0</td>\n",
       "      <td>0</td>\n",
       "      <td>0</td>\n",
       "      <td>0</td>\n",
       "      <td>0</td>\n",
       "      <td>0</td>\n",
       "      <td>0</td>\n",
       "      <td>0</td>\n",
       "      <td>0</td>\n",
       "    </tr>\n",
       "    <tr>\n",
       "      <th>2020-01-06</th>\n",
       "      <td>0</td>\n",
       "      <td>0</td>\n",
       "      <td>0</td>\n",
       "      <td>0</td>\n",
       "      <td>0</td>\n",
       "      <td>0</td>\n",
       "      <td>0</td>\n",
       "      <td>0</td>\n",
       "      <td>0</td>\n",
       "      <td>0</td>\n",
       "      <td>...</td>\n",
       "      <td>0</td>\n",
       "      <td>0</td>\n",
       "      <td>0</td>\n",
       "      <td>0</td>\n",
       "      <td>0</td>\n",
       "      <td>0</td>\n",
       "      <td>0</td>\n",
       "      <td>0</td>\n",
       "      <td>0</td>\n",
       "      <td>0</td>\n",
       "    </tr>\n",
       "    <tr>\n",
       "      <th>2020-01-07</th>\n",
       "      <td>0</td>\n",
       "      <td>0</td>\n",
       "      <td>0</td>\n",
       "      <td>0</td>\n",
       "      <td>0</td>\n",
       "      <td>0</td>\n",
       "      <td>0</td>\n",
       "      <td>0</td>\n",
       "      <td>0</td>\n",
       "      <td>0</td>\n",
       "      <td>...</td>\n",
       "      <td>0</td>\n",
       "      <td>0</td>\n",
       "      <td>0</td>\n",
       "      <td>0</td>\n",
       "      <td>0</td>\n",
       "      <td>0</td>\n",
       "      <td>0</td>\n",
       "      <td>0</td>\n",
       "      <td>0</td>\n",
       "      <td>0</td>\n",
       "    </tr>\n",
       "    <tr>\n",
       "      <th>...</th>\n",
       "      <td>...</td>\n",
       "      <td>...</td>\n",
       "      <td>...</td>\n",
       "      <td>...</td>\n",
       "      <td>...</td>\n",
       "      <td>...</td>\n",
       "      <td>...</td>\n",
       "      <td>...</td>\n",
       "      <td>...</td>\n",
       "      <td>...</td>\n",
       "      <td>...</td>\n",
       "      <td>...</td>\n",
       "      <td>...</td>\n",
       "      <td>...</td>\n",
       "      <td>...</td>\n",
       "      <td>...</td>\n",
       "      <td>...</td>\n",
       "      <td>...</td>\n",
       "      <td>...</td>\n",
       "      <td>...</td>\n",
       "      <td>...</td>\n",
       "    </tr>\n",
       "    <tr>\n",
       "      <th>2022-01-06</th>\n",
       "      <td>38</td>\n",
       "      <td>1</td>\n",
       "      <td>1236</td>\n",
       "      <td>4</td>\n",
       "      <td>462</td>\n",
       "      <td>7</td>\n",
       "      <td>0</td>\n",
       "      <td>0</td>\n",
       "      <td>487</td>\n",
       "      <td>0</td>\n",
       "      <td>...</td>\n",
       "      <td>17017</td>\n",
       "      <td>230</td>\n",
       "      <td>0</td>\n",
       "      <td>0</td>\n",
       "      <td>3</td>\n",
       "      <td>1</td>\n",
       "      <td>8770</td>\n",
       "      <td>19</td>\n",
       "      <td>1379</td>\n",
       "      <td>14</td>\n",
       "    </tr>\n",
       "    <tr>\n",
       "      <th>2022-01-07</th>\n",
       "      <td>0</td>\n",
       "      <td>0</td>\n",
       "      <td>1648</td>\n",
       "      <td>5</td>\n",
       "      <td>410</td>\n",
       "      <td>8</td>\n",
       "      <td>0</td>\n",
       "      <td>0</td>\n",
       "      <td>1119</td>\n",
       "      <td>0</td>\n",
       "      <td>...</td>\n",
       "      <td>25842</td>\n",
       "      <td>169</td>\n",
       "      <td>0</td>\n",
       "      <td>0</td>\n",
       "      <td>0</td>\n",
       "      <td>0</td>\n",
       "      <td>4096</td>\n",
       "      <td>10</td>\n",
       "      <td>1121</td>\n",
       "      <td>16</td>\n",
       "    </tr>\n",
       "    <tr>\n",
       "      <th>2022-01-08</th>\n",
       "      <td>0</td>\n",
       "      <td>0</td>\n",
       "      <td>1781</td>\n",
       "      <td>0</td>\n",
       "      <td>491</td>\n",
       "      <td>7</td>\n",
       "      <td>0</td>\n",
       "      <td>0</td>\n",
       "      <td>0</td>\n",
       "      <td>0</td>\n",
       "      <td>...</td>\n",
       "      <td>16278</td>\n",
       "      <td>233</td>\n",
       "      <td>0</td>\n",
       "      <td>0</td>\n",
       "      <td>0</td>\n",
       "      <td>0</td>\n",
       "      <td>4189</td>\n",
       "      <td>8</td>\n",
       "      <td>1104</td>\n",
       "      <td>28</td>\n",
       "    </tr>\n",
       "    <tr>\n",
       "      <th>2022-01-09</th>\n",
       "      <td>0</td>\n",
       "      <td>0</td>\n",
       "      <td>1801</td>\n",
       "      <td>4</td>\n",
       "      <td>426</td>\n",
       "      <td>5</td>\n",
       "      <td>0</td>\n",
       "      <td>0</td>\n",
       "      <td>0</td>\n",
       "      <td>0</td>\n",
       "      <td>...</td>\n",
       "      <td>16553</td>\n",
       "      <td>240</td>\n",
       "      <td>0</td>\n",
       "      <td>0</td>\n",
       "      <td>0</td>\n",
       "      <td>0</td>\n",
       "      <td>3300</td>\n",
       "      <td>8</td>\n",
       "      <td>636</td>\n",
       "      <td>12</td>\n",
       "    </tr>\n",
       "    <tr>\n",
       "      <th>2022-01-10</th>\n",
       "      <td>136</td>\n",
       "      <td>6</td>\n",
       "      <td>1207</td>\n",
       "      <td>3</td>\n",
       "      <td>415</td>\n",
       "      <td>9</td>\n",
       "      <td>0</td>\n",
       "      <td>0</td>\n",
       "      <td>0</td>\n",
       "      <td>0</td>\n",
       "      <td>...</td>\n",
       "      <td>23181</td>\n",
       "      <td>202</td>\n",
       "      <td>0</td>\n",
       "      <td>0</td>\n",
       "      <td>51</td>\n",
       "      <td>1</td>\n",
       "      <td>1328</td>\n",
       "      <td>14</td>\n",
       "      <td>373</td>\n",
       "      <td>12</td>\n",
       "    </tr>\n",
       "  </tbody>\n",
       "</table>\n",
       "<p>739 rows × 474 columns</p>\n",
       "</div>"
      ],
      "text/plain": [
       "              Afghanistan              Albania              Algeria  \\\n",
       "                New_cases New_deaths New_cases New_deaths New_cases   \n",
       "Date_reported                                                         \n",
       "2020-01-03              0          0         0          0         0   \n",
       "2020-01-04              0          0         0          0         0   \n",
       "2020-01-05              0          0         0          0         0   \n",
       "2020-01-06              0          0         0          0         0   \n",
       "2020-01-07              0          0         0          0         0   \n",
       "...                   ...        ...       ...        ...       ...   \n",
       "2022-01-06             38          1      1236          4       462   \n",
       "2022-01-07              0          0      1648          5       410   \n",
       "2022-01-08              0          0      1781          0       491   \n",
       "2022-01-09              0          0      1801          4       426   \n",
       "2022-01-10            136          6      1207          3       415   \n",
       "\n",
       "                         American Samoa              Andorra             ...  \\\n",
       "              New_deaths      New_cases New_deaths New_cases New_deaths  ...   \n",
       "Date_reported                                                            ...   \n",
       "2020-01-03             0              0          0         0          0  ...   \n",
       "2020-01-04             0              0          0         0          0  ...   \n",
       "2020-01-05             0              0          0         0          0  ...   \n",
       "2020-01-06             0              0          0         0          0  ...   \n",
       "2020-01-07             0              0          0         0          0  ...   \n",
       "...                  ...            ...        ...       ...        ...  ...   \n",
       "2022-01-06             7              0          0       487          0  ...   \n",
       "2022-01-07             8              0          0      1119          0  ...   \n",
       "2022-01-08             7              0          0         0          0  ...   \n",
       "2022-01-09             5              0          0         0          0  ...   \n",
       "2022-01-10             9              0          0         0          0  ...   \n",
       "\n",
       "               Viet Nam            Wallis and Futuna                Yemen  \\\n",
       "              New_cases New_deaths         New_cases New_deaths New_cases   \n",
       "Date_reported                                                               \n",
       "2020-01-03            0          0                 0          0         0   \n",
       "2020-01-04            0          0                 0          0         0   \n",
       "2020-01-05            0          0                 0          0         0   \n",
       "2020-01-06            0          0                 0          0         0   \n",
       "2020-01-07            0          0                 0          0         0   \n",
       "...                 ...        ...               ...        ...       ...   \n",
       "2022-01-06        17017        230                 0          0         3   \n",
       "2022-01-07        25842        169                 0          0         0   \n",
       "2022-01-08        16278        233                 0          0         0   \n",
       "2022-01-09        16553        240                 0          0         0   \n",
       "2022-01-10        23181        202                 0          0        51   \n",
       "\n",
       "                            Zambia             Zimbabwe             \n",
       "              New_deaths New_cases New_deaths New_cases New_deaths  \n",
       "Date_reported                                                       \n",
       "2020-01-03             0         0          0         0          0  \n",
       "2020-01-04             0         0          0         0          0  \n",
       "2020-01-05             0         0          0         0          0  \n",
       "2020-01-06             0         0          0         0          0  \n",
       "2020-01-07             0         0          0         0          0  \n",
       "...                  ...       ...        ...       ...        ...  \n",
       "2022-01-06             1      8770         19      1379         14  \n",
       "2022-01-07             0      4096         10      1121         16  \n",
       "2022-01-08             0      4189          8      1104         28  \n",
       "2022-01-09             0      3300          8       636         12  \n",
       "2022-01-10             1      1328         14       373         12  \n",
       "\n",
       "[739 rows x 474 columns]"
      ]
     },
     "execution_count": 18,
     "metadata": {},
     "output_type": "execute_result"
    }
   ],
   "source": [
    "processed\n",
    "#mudar para block"
   ]
  },
  {
   "cell_type": "markdown",
   "id": "18d7b204-b309-4451-a4c1-f6473bd4491c",
   "metadata": {},
   "source": [
    "Finally, we will resample our data in weekly intervals using the Pandas ``.sum()`` function. You could also use other functions, such as mean, median, min, max, etc."
   ]
  },
  {
   "cell_type": "code",
   "execution_count": 19,
   "id": "b299509a-0ba1-4328-8a50-d987f9aa6cb2",
   "metadata": {},
   "outputs": [],
   "source": [
    "panel1 = panel.from_single_level(df, lookback=7, horizon=7, gap=0, asset_column=\"Country\", index_name=\"Date_reported\")"
   ]
  },
  {
   "cell_type": "code",
   "execution_count": 20,
   "id": "9ae4944d-c4d6-4b81-9f90-cdc8ea061dd6",
   "metadata": {},
   "outputs": [
    {
     "ename": "TypeError",
     "evalue": "object of type 'function' has no len()",
     "output_type": "error",
     "traceback": [
      "\u001b[0;31m---------------------------------------------------------------------------\u001b[0m",
      "\u001b[0;31mTypeError\u001b[0m                                 Traceback (most recent call last)",
      "\u001b[0;32m~/GitHub/wavy/.env/lib/python3.8/site-packages/IPython/core/formatters.py\u001b[0m in \u001b[0;36m__call__\u001b[0;34m(self, obj)\u001b[0m\n\u001b[1;32m    700\u001b[0m                 \u001b[0mtype_pprinters\u001b[0m\u001b[0;34m=\u001b[0m\u001b[0mself\u001b[0m\u001b[0;34m.\u001b[0m\u001b[0mtype_printers\u001b[0m\u001b[0;34m,\u001b[0m\u001b[0;34m\u001b[0m\u001b[0;34m\u001b[0m\u001b[0m\n\u001b[1;32m    701\u001b[0m                 deferred_pprinters=self.deferred_printers)\n\u001b[0;32m--> 702\u001b[0;31m             \u001b[0mprinter\u001b[0m\u001b[0;34m.\u001b[0m\u001b[0mpretty\u001b[0m\u001b[0;34m(\u001b[0m\u001b[0mobj\u001b[0m\u001b[0;34m)\u001b[0m\u001b[0;34m\u001b[0m\u001b[0;34m\u001b[0m\u001b[0m\n\u001b[0m\u001b[1;32m    703\u001b[0m             \u001b[0mprinter\u001b[0m\u001b[0;34m.\u001b[0m\u001b[0mflush\u001b[0m\u001b[0;34m(\u001b[0m\u001b[0;34m)\u001b[0m\u001b[0;34m\u001b[0m\u001b[0;34m\u001b[0m\u001b[0m\n\u001b[1;32m    704\u001b[0m             \u001b[0;32mreturn\u001b[0m \u001b[0mstream\u001b[0m\u001b[0;34m.\u001b[0m\u001b[0mgetvalue\u001b[0m\u001b[0;34m(\u001b[0m\u001b[0;34m)\u001b[0m\u001b[0;34m\u001b[0m\u001b[0;34m\u001b[0m\u001b[0m\n",
      "\u001b[0;32m~/GitHub/wavy/.env/lib/python3.8/site-packages/IPython/lib/pretty.py\u001b[0m in \u001b[0;36mpretty\u001b[0;34m(self, obj)\u001b[0m\n\u001b[1;32m    392\u001b[0m                         \u001b[0;32mif\u001b[0m \u001b[0mcls\u001b[0m \u001b[0;32mis\u001b[0m \u001b[0;32mnot\u001b[0m \u001b[0mobject\u001b[0m\u001b[0;31m \u001b[0m\u001b[0;31m\\\u001b[0m\u001b[0;34m\u001b[0m\u001b[0;34m\u001b[0m\u001b[0m\n\u001b[1;32m    393\u001b[0m                                 \u001b[0;32mand\u001b[0m \u001b[0mcallable\u001b[0m\u001b[0;34m(\u001b[0m\u001b[0mcls\u001b[0m\u001b[0;34m.\u001b[0m\u001b[0m__dict__\u001b[0m\u001b[0;34m.\u001b[0m\u001b[0mget\u001b[0m\u001b[0;34m(\u001b[0m\u001b[0;34m'__repr__'\u001b[0m\u001b[0;34m)\u001b[0m\u001b[0;34m)\u001b[0m\u001b[0;34m:\u001b[0m\u001b[0;34m\u001b[0m\u001b[0;34m\u001b[0m\u001b[0m\n\u001b[0;32m--> 394\u001b[0;31m                             \u001b[0;32mreturn\u001b[0m \u001b[0m_repr_pprint\u001b[0m\u001b[0;34m(\u001b[0m\u001b[0mobj\u001b[0m\u001b[0;34m,\u001b[0m \u001b[0mself\u001b[0m\u001b[0;34m,\u001b[0m \u001b[0mcycle\u001b[0m\u001b[0;34m)\u001b[0m\u001b[0;34m\u001b[0m\u001b[0;34m\u001b[0m\u001b[0m\n\u001b[0m\u001b[1;32m    395\u001b[0m \u001b[0;34m\u001b[0m\u001b[0m\n\u001b[1;32m    396\u001b[0m             \u001b[0;32mreturn\u001b[0m \u001b[0m_default_pprint\u001b[0m\u001b[0;34m(\u001b[0m\u001b[0mobj\u001b[0m\u001b[0;34m,\u001b[0m \u001b[0mself\u001b[0m\u001b[0;34m,\u001b[0m \u001b[0mcycle\u001b[0m\u001b[0;34m)\u001b[0m\u001b[0;34m\u001b[0m\u001b[0;34m\u001b[0m\u001b[0m\n",
      "\u001b[0;32m~/GitHub/wavy/.env/lib/python3.8/site-packages/IPython/lib/pretty.py\u001b[0m in \u001b[0;36m_repr_pprint\u001b[0;34m(obj, p, cycle)\u001b[0m\n\u001b[1;32m    698\u001b[0m     \u001b[0;34m\"\"\"A pprint that just redirects to the normal repr function.\"\"\"\u001b[0m\u001b[0;34m\u001b[0m\u001b[0;34m\u001b[0m\u001b[0m\n\u001b[1;32m    699\u001b[0m     \u001b[0;31m# Find newlines and replace them with p.break_()\u001b[0m\u001b[0;34m\u001b[0m\u001b[0;34m\u001b[0m\u001b[0;34m\u001b[0m\u001b[0m\n\u001b[0;32m--> 700\u001b[0;31m     \u001b[0moutput\u001b[0m \u001b[0;34m=\u001b[0m \u001b[0mrepr\u001b[0m\u001b[0;34m(\u001b[0m\u001b[0mobj\u001b[0m\u001b[0;34m)\u001b[0m\u001b[0;34m\u001b[0m\u001b[0;34m\u001b[0m\u001b[0m\n\u001b[0m\u001b[1;32m    701\u001b[0m     \u001b[0mlines\u001b[0m \u001b[0;34m=\u001b[0m \u001b[0moutput\u001b[0m\u001b[0;34m.\u001b[0m\u001b[0msplitlines\u001b[0m\u001b[0;34m(\u001b[0m\u001b[0;34m)\u001b[0m\u001b[0;34m\u001b[0m\u001b[0;34m\u001b[0m\u001b[0m\n\u001b[1;32m    702\u001b[0m     \u001b[0;32mwith\u001b[0m \u001b[0mp\u001b[0m\u001b[0;34m.\u001b[0m\u001b[0mgroup\u001b[0m\u001b[0;34m(\u001b[0m\u001b[0;34m)\u001b[0m\u001b[0;34m:\u001b[0m\u001b[0;34m\u001b[0m\u001b[0;34m\u001b[0m\u001b[0m\n",
      "\u001b[0;32m~/GitHub/wavy/notebooks/../wavy/side.py\u001b[0m in \u001b[0;36m__repr__\u001b[0;34m(self)\u001b[0m\n\u001b[1;32m     83\u001b[0m             {\n\u001b[1;32m     84\u001b[0m                 \u001b[0;34m\"size\"\u001b[0m\u001b[0;34m:\u001b[0m \u001b[0mself\u001b[0m\u001b[0;34m.\u001b[0m\u001b[0m__len__\u001b[0m\u001b[0;34m(\u001b[0m\u001b[0;34m)\u001b[0m\u001b[0;34m,\u001b[0m\u001b[0;34m\u001b[0m\u001b[0;34m\u001b[0m\u001b[0m\n\u001b[0;32m---> 85\u001b[0;31m                 \u001b[0;34m\"num_assets\"\u001b[0m\u001b[0;34m:\u001b[0m \u001b[0mlen\u001b[0m\u001b[0;34m(\u001b[0m\u001b[0mself\u001b[0m\u001b[0;34m.\u001b[0m\u001b[0massets\u001b[0m\u001b[0;34m)\u001b[0m\u001b[0;34m,\u001b[0m\u001b[0;34m\u001b[0m\u001b[0;34m\u001b[0m\u001b[0m\n\u001b[0m\u001b[1;32m     86\u001b[0m                 \u001b[0;34m\"num_channels\"\u001b[0m\u001b[0;34m:\u001b[0m \u001b[0mlen\u001b[0m\u001b[0;34m(\u001b[0m\u001b[0mself\u001b[0m\u001b[0;34m.\u001b[0m\u001b[0mchannels\u001b[0m\u001b[0;34m)\u001b[0m\u001b[0;34m,\u001b[0m\u001b[0;34m\u001b[0m\u001b[0;34m\u001b[0m\u001b[0m\n\u001b[1;32m     87\u001b[0m                 \u001b[0;34m\"start\"\u001b[0m\u001b[0;34m:\u001b[0m \u001b[0mself\u001b[0m\u001b[0;34m.\u001b[0m\u001b[0mstart\u001b[0m\u001b[0;34m,\u001b[0m\u001b[0;34m\u001b[0m\u001b[0;34m\u001b[0m\u001b[0m\n",
      "\u001b[0;31mTypeError\u001b[0m: object of type 'function' has no len()"
     ]
    }
   ],
   "source": [
    "panel1.x.mean()"
   ]
  },
  {
   "cell_type": "code",
   "execution_count": null,
   "id": "40fdeb83-8d4b-4d9b-b07f-cfb651e32786",
   "metadata": {},
   "outputs": [],
   "source": [
    "processed = processed.resample(rule='W').sum()"
   ]
  },
  {
   "cell_type": "code",
   "execution_count": null,
   "id": "2e822f0d-3803-4ca1-9f3c-be5a613f3b7f",
   "metadata": {},
   "outputs": [],
   "source": [
    "processed"
   ]
  },
  {
   "cell_type": "markdown",
   "id": "06bcfa1a-b4b4-41ef-9741-e4c673410766",
   "metadata": {},
   "source": [
    "Notice that we must drop the first and last rows in our DataFrame, because these weekly observations are not complete (less than seven measured days), which could introduce noise in the models. "
   ]
  },
  {
   "cell_type": "code",
   "execution_count": null,
   "id": "f3f2cf11-a950-43fa-ade7-205651ec1907",
   "metadata": {},
   "outputs": [],
   "source": [
    "processed.drop(['2020-01-05', '2022-01-16'], inplace=True)"
   ]
  },
  {
   "cell_type": "markdown",
   "id": "0a9c9fa4-31e0-4f1e-ac1e-b5db32f13f96",
   "metadata": {},
   "source": [
    "Now that we have eliminated the artificial seasonal trend, let's take a look at how our time series looks life after resampling:"
   ]
  },
  {
   "cell_type": "code",
   "execution_count": null,
   "id": "21c75b0a-feff-4719-ab6c-34587c75e628",
   "metadata": {},
   "outputs": [],
   "source": [
    "for metric in [\"New_cases\", \"New_deaths\"]:    \n",
    "    plt.figure(figsize=(15, 5))\n",
    "    plt.plot(processed[country][metric])\n",
    "    plt.title(f'{metric} of COVID-19 in {country}')\n",
    "    plt.grid(True)\n",
    "    plt.legend([metric])\n",
    "    plt.show()"
   ]
  },
  {
   "cell_type": "markdown",
   "id": "88da4479-a1e4-4f84-9c08-778eebef29ed",
   "metadata": {},
   "source": [
    "By eliminating the artificial weekly seasonality, our data looks like a much more \"well-behaved\" function, leading us to a simpler forecasting task. \n",
    "\n",
    "The last step in preparing our data for training models with Wavy is to determine what is the forecasting question you want to answer. More information on simple forecasting methods can be found in [this resource](https://otexts.com/fpp2/simple-methods.html), but in this case we will use a **difference method**, which models the the amount of change over time instead of modelling the data itself."
   ]
  },
  {
   "cell_type": "code",
   "execution_count": null,
   "id": "c37a0750-cba5-4d80-b9c6-5b91a70a25b1",
   "metadata": {},
   "outputs": [],
   "source": [
    "differenced = processed.pct_change()"
   ]
  },
  {
   "cell_type": "code",
   "execution_count": null,
   "id": "52979c15-8888-47c7-9973-b67fb37c5868",
   "metadata": {},
   "outputs": [],
   "source": [
    "differenced"
   ]
  },
  {
   "cell_type": "code",
   "execution_count": null,
   "id": "c84be4e0-3a5b-4cc2-ab5c-ddd1500e701a",
   "metadata": {},
   "outputs": [],
   "source": [
    "import wavy"
   ]
  },
  {
   "cell_type": "code",
   "execution_count": null,
   "id": "06600008-7ff3-46d9-ba98-1e8559715bb6",
   "metadata": {},
   "outputs": [],
   "source": [
    "differenced"
   ]
  },
  {
   "cell_type": "code",
   "execution_count": null,
   "id": "f3b1db79-6aa0-4e59-b20e-58345c1c3f2d",
   "metadata": {},
   "outputs": [],
   "source": [
    "my_panel = wavy.from_data(differenced, lookback=3, horizon=1, assets=[\"Brazil\"], channels=\"New_deaths\")"
   ]
  },
  {
   "cell_type": "code",
   "execution_count": null,
   "id": "9f1e438f-42f5-4614-83d6-6c1ca8781056",
   "metadata": {},
   "outputs": [],
   "source": [
    "my_panel = my_panel.dropinvalid()"
   ]
  },
  {
   "cell_type": "code",
   "execution_count": null,
   "id": "c702383a-69de-408b-9ddf-115a0f2e2606",
   "metadata": {},
   "outputs": [],
   "source": [
    "my_panel.start"
   ]
  },
  {
   "cell_type": "code",
   "execution_count": null,
   "id": "b8105e0d-8c35-43b4-a497-fd9676d4247b",
   "metadata": {},
   "outputs": [],
   "source": []
  },
  {
   "cell_type": "code",
   "execution_count": null,
   "id": "c154dd7f-e179-44c2-92e4-6d5408337fb5",
   "metadata": {},
   "outputs": [],
   "source": []
  },
  {
   "cell_type": "code",
   "execution_count": null,
   "id": "8905b682-04ff-42dc-8f0b-db4618b101ae",
   "metadata": {},
   "outputs": [],
   "source": [
    "differenced = differenced.dropna()\n",
    "\n",
    "for metric in [\"New_cases\", \"New_deaths\"]:\n",
    "    plt.rc(\"figure\", figsize=(7,5))\n",
    "    sm.graphics.tsa.plot_acf(differenced[country][metric], title=f'Autocorrelation of COVID-19 {metric} in {country}')\n",
    "    \n",
    "    plt.rc(\"figure\", figsize=(7,5))\n",
    "    sm.graphics.tsa.plot_pacf(differenced[country][metric], title=f' Partial Autocorrelation of COVID-19 {metric} in {country}');"
   ]
  },
  {
   "cell_type": "code",
   "execution_count": null,
   "id": "d56c9db1-13e5-4408-b622-fb167323865a",
   "metadata": {},
   "outputs": [],
   "source": [
    "for metric in [\"New_cases\", \"New_deaths\"]:    \n",
    "    plt.figure(figsize=(15, 5))\n",
    "    plt.plot(differenced[country][metric])\n",
    "    plt.title(f'{metric} of COVID-19 in {country}')\n",
    "    plt.grid(True)\n",
    "    plt.legend([metric])\n",
    "    plt.show()"
   ]
  },
  {
   "cell_type": "markdown",
   "id": "521fad41-e6a8-461b-84a9-ab2568e11703",
   "metadata": {},
   "source": [
    "We will, once again, check for stationarity, concluding that both of our time series are now stationary:"
   ]
  },
  {
   "cell_type": "code",
   "execution_count": null,
   "id": "6515dcb4-de66-4c4b-9d69-9dbc9514d3be",
   "metadata": {},
   "outputs": [],
   "source": [
    "new_cases = differenced[country]['New_cases'].values\n",
    "\n",
    "result = adfuller(new_cases)\n",
    "print('ADF Statistic: %f' % result[0])\n",
    "print('p-value: %f' % result[1])\n",
    "print('Critical Values:')\n",
    "for key, value in result[4].items():\n",
    "\tprint('\\t%s: %.3f' % (key, value))"
   ]
  },
  {
   "cell_type": "code",
   "execution_count": null,
   "id": "6dfbac7d-31f2-482c-8488-8cd7cc9e3568",
   "metadata": {},
   "outputs": [],
   "source": [
    "new_cases = differenced[country]['New_deaths'].values\n",
    "\n",
    "result = adfuller(new_cases)\n",
    "print('ADF Statistic: %f' % result[0])\n",
    "print('p-value: %f' % result[1])\n",
    "print('Critical Values:')\n",
    "for key, value in result[4].items():\n",
    "\tprint('\\t%s: %.3f' % (key, value))"
   ]
  },
  {
   "cell_type": "markdown",
   "id": "1935ba78-70c0-4582-a288-c76ff16df630",
   "metadata": {},
   "source": [
    "Now that our data is prepared and we have a clearer understanding about its behavior, it's time for us to load it into Wavy and train models with it."
   ]
  },
  {
   "cell_type": "markdown",
   "id": "e6873a0b-6d17-4fbf-9354-2ca9268c2029",
   "metadata": {},
   "source": [
    "## Loading data into a Wavy panel:"
   ]
  },
  {
   "cell_type": "markdown",
   "id": "d4fcbba5-78c8-4044-ae5e-c5bb2a2f2f4a",
   "metadata": {},
   "source": [
    "Levels in Wavy are organized into **assets** and **channels**. Assets are the highest level of data organization and can have many channels. In this case, assets are the countries present in the DataFrame and channels are the values we want to study, namely the variation in the numbers of new cases and new deaths."
   ]
  },
  {
   "cell_type": "markdown",
   "id": "749dbae6-808e-4103-ab88-4734e212d4ca",
   "metadata": {},
   "source": [
    "A **Panel** is an object that has several functionalities that make it easier to work with time series. A Panel contains a list of pairs, representing an input and output sample x and y (controlled by the parameters **lookback**, **horizon** and **gap**), avoiding data leakage that may happen when working only with Pandas."
   ]
  },
  {
   "cell_type": "markdown",
   "id": "c6d8e094-f493-4fc2-b549-ad5161d620df",
   "metadata": {},
   "source": [
    "There are a few ways of loading data into a Panel: from a single DataFrame, be it single or multi level, as well as from two DataFrames to be assigned to x and y. Because this is one single level DataFrame, we will use the ``from_single_level`` function. For more details on loading data, see the documentation (colocar link)."
   ]
  },
  {
   "cell_type": "code",
   "execution_count": 21,
   "id": "451ec197-b20f-4f28-9b52-cc9e412818fa",
   "metadata": {},
   "outputs": [
    {
     "ename": "NameError",
     "evalue": "name 'differenced' is not defined",
     "output_type": "error",
     "traceback": [
      "\u001b[0;31m---------------------------------------------------------------------------\u001b[0m",
      "\u001b[0;31mNameError\u001b[0m                                 Traceback (most recent call last)",
      "\u001b[0;32m/var/folders/1h/2q97f2rx4qz77b9l1gp7wvvm0000gn/T/ipykernel_46119/2041834300.py\u001b[0m in \u001b[0;36m<module>\u001b[0;34m\u001b[0m\n\u001b[0;32m----> 1\u001b[0;31m my_panel = panel.from_data(differenced, lookback=3, horizon=1, gap=0, \n\u001b[0m\u001b[1;32m      2\u001b[0m                            \u001b[0massets\u001b[0m\u001b[0;34m=\u001b[0m\u001b[0;34m[\u001b[0m\u001b[0;34m'Brazil'\u001b[0m\u001b[0;34m]\u001b[0m\u001b[0;34m,\u001b[0m\u001b[0;34m\u001b[0m\u001b[0;34m\u001b[0m\u001b[0m\n\u001b[1;32m      3\u001b[0m                            \u001b[0mchannels\u001b[0m\u001b[0;34m=\u001b[0m\u001b[0;34m[\u001b[0m\u001b[0;34m'New_deaths'\u001b[0m\u001b[0;34m]\u001b[0m\u001b[0;34m,\u001b[0m\u001b[0;34m\u001b[0m\u001b[0;34m\u001b[0m\u001b[0m\n\u001b[1;32m      4\u001b[0m                           remove_invalid=False)\n",
      "\u001b[0;31mNameError\u001b[0m: name 'differenced' is not defined"
     ]
    }
   ],
   "source": [
    "my_panel = panel.from_data(differenced, lookback=3, horizon=1, gap=0, \n",
    "                           assets=['Brazil'], \n",
    "                           channels=['New_deaths'],\n",
    "                          remove_invalid=False)"
   ]
  },
  {
   "cell_type": "markdown",
   "id": "c5a7d767-4934-4e22-b03a-9dbb3ead5287",
   "metadata": {},
   "source": [
    "With a single function, we were able to: \n",
    "- separate the assets and channels we want to work with from the rest of the data;\n",
    "- set datetime objects as the index;\n",
    "- set input and output pairs in order to train models with it."
   ]
  },
  {
   "cell_type": "markdown",
   "id": "d7f7643a-3150-4f85-886d-6ce95be06e12",
   "metadata": {},
   "source": [
    "We can access the attributes of a Panel through its properties:"
   ]
  },
  {
   "cell_type": "code",
   "execution_count": null,
   "id": "342ff90c-240b-4b4a-8659-fc81c0946d0a",
   "metadata": {},
   "outputs": [],
   "source": [
    "print(my_panel.assets)\n",
    "print(my_panel.channels)\n",
    "print(my_panel.horizon)\n",
    "print(my_panel.lookback)\n",
    "print(my_panel.gap)\n",
    "print(my_panel.index[:10])\n",
    "print(my_panel.start) #First index\n",
    "print(my_panel.end)   #Last index"
   ]
  },
  {
   "cell_type": "markdown",
   "id": "00b8fca8-50b9-42fd-b407-061dd9962aba",
   "metadata": {},
   "source": [
    "We can access each section of the data with the x and y properties. Suppose you want to inspect the last section of your input data:"
   ]
  },
  {
   "cell_type": "code",
   "execution_count": null,
   "id": "b8a31fbc-674f-46d5-b773-3697041425bf",
   "metadata": {},
   "outputs": [],
   "source": [
    "my_panel.x[-1]"
   ]
  },
  {
   "cell_type": "markdown",
   "id": "3f0746e8-b9ae-498b-8590-ecf77e5c0c5a",
   "metadata": {},
   "source": [
    "And the last section of your output data:"
   ]
  },
  {
   "cell_type": "code",
   "execution_count": null,
   "id": "7853521f-c216-486e-91f1-ec3826eb4349",
   "metadata": {},
   "outputs": [],
   "source": [
    "my_panel.y[-1]"
   ]
  },
  {
   "cell_type": "markdown",
   "id": "c2daeb06-e8c3-42ab-b31e-f378a384937c",
   "metadata": {},
   "source": [
    "You can use the ``findinvalid()`` function in order to find the ``NA``, ``NaN`` and ``Inf`` values indices in your data:"
   ]
  },
  {
   "cell_type": "code",
   "execution_count": null,
   "id": "f558d013-0b27-407b-825e-8218d3bd7296",
   "metadata": {},
   "outputs": [],
   "source": [
    "my_panel.findinvalid()"
   ]
  },
  {
   "cell_type": "markdown",
   "id": "d642f17e-5d83-488a-8620-b5c3e792c0a2",
   "metadata": {},
   "source": [
    "The items returned in the list correspond to the indices that contain invalid values. In this case, the list is returned empty, because there NaN values were removed prior to loading the data into a panel. There are a few ways of dealing with invalid values using Wavy: \n",
    "- by setting ``remove_invalid=True`` when loading the data into a panel\n",
    "- by removing them from the data using the function ``drop_invalid()`` \n",
    "- or filling ``ǸaN`` values with the ``fillna`` function."
   ]
  },
  {
   "cell_type": "markdown",
   "id": "0a971b48-0ddf-4fef-9d9b-d657dc5d1507",
   "metadata": {},
   "source": [
    "We can plot out input/output pairs in steps with the ``plot_slider()`` function:"
   ]
  },
  {
   "cell_type": "code",
   "execution_count": null,
   "id": "b9c0b64f-984f-47b9-b813-a6899ea0ffd5",
   "metadata": {},
   "outputs": [],
   "source": [
    "my_panel.plot_slider()"
   ]
  },
  {
   "cell_type": "markdown",
   "id": "a41d5f6c-ea77-4c2c-83d0-db403db7082f",
   "metadata": {},
   "source": [
    "### Training models:"
   ]
  },
  {
   "cell_type": "markdown",
   "id": "aeb2fa5a-4416-4aee-8c85-f1cd1d96a62c",
   "metadata": {},
   "source": [
    "The first step in training a model in splitting your data into training, test and validation sets. Wavy allows you to do that very easily with the ``set_training_split`` function, with the advantage of not allowing any data to leak between sets"
   ]
  },
  {
   "cell_type": "code",
   "execution_count": null,
   "id": "ffd940fc-300e-4da9-91ba-2afd93b4c847",
   "metadata": {},
   "outputs": [],
   "source": [
    "my_panel.y  = my_panel.y > 0"
   ]
  },
  {
   "cell_type": "code",
   "execution_count": null,
   "id": "f2b31a67-73df-43e5-bc63-e08c3b11d933",
   "metadata": {},
   "outputs": [],
   "source": [
    "my_panel.y[0]"
   ]
  },
  {
   "cell_type": "code",
   "execution_count": null,
   "id": "489e1029-e332-47bc-b1b9-b25bec0ae2d2",
   "metadata": {},
   "outputs": [],
   "source": []
  },
  {
   "cell_type": "code",
   "execution_count": null,
   "id": "2c6792a0-dcd9-40f3-883b-02dcd81c0375",
   "metadata": {},
   "outputs": [],
   "source": []
  },
  {
   "cell_type": "code",
   "execution_count": null,
   "id": "5209a96a-d1c0-45f1-862f-cadb8f644fc3",
   "metadata": {},
   "outputs": [],
   "source": []
  },
  {
   "cell_type": "code",
   "execution_count": null,
   "id": "58012a94-aafc-4368-8871-dcd77f61c57f",
   "metadata": {},
   "outputs": [],
   "source": [
    "my_panel.set_training_split(val_size=0.2, test_size=0.15)"
   ]
  },
  {
   "cell_type": "markdown",
   "id": "ad54c332-4eeb-4f53-bccc-4e54f9433342",
   "metadata": {},
   "source": [
    "You can then access each set through the ``train``, ``test`` and ``val`` properties"
   ]
  },
  {
   "cell_type": "code",
   "execution_count": null,
   "id": "2393052c-366f-40ab-82d8-07ee9c2070bd",
   "metadata": {},
   "outputs": [],
   "source": [
    "train = my_panel.train\n",
    "test = my_panel.test\n",
    "val = my_panel.val"
   ]
  },
  {
   "cell_type": "code",
   "execution_count": null,
   "id": "a5bfbb2e-bcd8-40fb-8486-c1e623f6512d",
   "metadata": {},
   "outputs": [],
   "source": [
    "train.x[-1]"
   ]
  },
  {
   "cell_type": "markdown",
   "id": "30b6ce09-74f6-4e1c-a37f-419ee96593b0",
   "metadata": {},
   "source": [
    "### Baseline model"
   ]
  },
  {
   "cell_type": "markdown",
   "id": "60e0a475-3fe0-41d4-baaa-36d78a63b7d0",
   "metadata": {},
   "source": [
    "After you have split your data into train, test and validation sets, it is important to set a baseline performance which provides a point of comparison to all other models you will train later. Baseline models are often called naive forecasting, because it assumes no prior knowledge of the data. One of the approaches to do that is to assume simply that the value of the time series at a point ``t`` is the same as the value at the point ``t-h``, where h is the horizon previously set. If a model acheives performance at or below baseline levels, it needs reassessing. More information on setting a baseline model can be found [here](https://machinelearningmastery.com/how-to-develop-baseline-forecasts-for-multi-site-multivariate-air-pollution-time-series-forecasting/)."
   ]
  },
  {
   "cell_type": "code",
   "execution_count": null,
   "id": "b242d00d-b6c0-410c-8cb3-9f67b501e845",
   "metadata": {},
   "outputs": [],
   "source": [
    "baseline = model.Baseline(my_panel, metrics=['SE', 'MSE', 'RMSE'])"
   ]
  },
  {
   "cell_type": "code",
   "execution_count": null,
   "id": "b8510ef7-9356-40b1-9d37-c974fcc66723",
   "metadata": {},
   "outputs": [],
   "source": [
    "predicted = baseline.predict()"
   ]
  },
  {
   "cell_type": "markdown",
   "id": "34b3eefa-cf00-443e-a7d1-215eec944764",
   "metadata": {},
   "source": [
    "We can plot the real and predicted validation sets in order to get a sense of how badly the naive model performs:"
   ]
  },
  {
   "cell_type": "code",
   "execution_count": null,
   "id": "c494a460-f2d8-4bd2-97cb-cc441178885b",
   "metadata": {},
   "outputs": [],
   "source": [
    "predicted[0]"
   ]
  },
  {
   "cell_type": "code",
   "execution_count": null,
   "id": "b6660fd2-548d-48cc-b845-b2053673d8a6",
   "metadata": {},
   "outputs": [],
   "source": [
    "my_panel.plot_slider()"
   ]
  },
  {
   "cell_type": "code",
   "execution_count": null,
   "id": "c61965c0-33c5-4a22-baf0-2291bc7efa4d",
   "metadata": {},
   "outputs": [],
   "source": []
  },
  {
   "cell_type": "code",
   "execution_count": null,
   "id": "97730247-1bad-4077-8fa8-464c7374f578",
   "metadata": {},
   "outputs": [],
   "source": []
  },
  {
   "cell_type": "code",
   "execution_count": null,
   "id": "2208f8c9-3d67-4aa4-85d8-4ca74539a8b0",
   "metadata": {},
   "outputs": [],
   "source": []
  },
  {
   "cell_type": "code",
   "execution_count": null,
   "id": "984485b1-568d-4fc5-bffe-12990967670a",
   "metadata": {},
   "outputs": [],
   "source": [
    "my_panel.test.y.tensor3d"
   ]
  },
  {
   "cell_type": "code",
   "execution_count": null,
   "id": "d5840822-254f-4d26-919d-fa2b0e3035a2",
   "metadata": {},
   "outputs": [],
   "source": [
    "for asset in my_panel.assets:\n",
    "    for channel in my_panel.channels:\n",
    "        plt.figure(figsize=(15, 5))\n",
    "        plt.plot(predicted.as_dataframe()[asset][channel].values)\n",
    "        plt.plot(test.y.as_dataframe()[asset][channel].values)\n",
    "        plt.legend([\"predicted\", \"actual\"])        \n",
    "        plt.grid(True)\n",
    "        plt.title(f'{channel} of COVID-19 in {asset}')\n",
    "        plt.show()"
   ]
  },
  {
   "cell_type": "markdown",
   "id": "c8df2780-b6e4-40e7-9723-61b2a52e3b79",
   "metadata": {},
   "source": [
    "Then, get the metrics through the ``evaluate`` function"
   ]
  },
  {
   "cell_type": "code",
   "execution_count": null,
   "id": "c967d329-3682-4722-948d-2c57b7ff0da6",
   "metadata": {},
   "outputs": [],
   "source": [
    "model_metrics = baseline.evaluate()\n",
    "\n",
    "print(f'''SE: {model_metrics[0]} \\n \n",
    "MSE: {model_metrics[1]} \\n\n",
    "RMSE: {model_metrics[2]}''')"
   ]
  },
  {
   "cell_type": "markdown",
   "id": "856a428a-b04b-4653-952e-f467a7bfa72e",
   "metadata": {},
   "source": [
    "From now on, any model we train must achieve SE, MSE and RMSE values **lower** than those shown above."
   ]
  },
  {
   "cell_type": "markdown",
   "id": "e1e34792-5552-40fe-908f-bfa9e9bc8c18",
   "metadata": {},
   "source": [
    "### Dense Model:"
   ]
  },
  {
   "cell_type": "markdown",
   "id": "84df540c-a36b-4599-b6f5-ea607e4f52cc",
   "metadata": {},
   "source": [
    "Now that we have set a baseline, we will train a simple neural network model. This can be done with the DenseModel function. We will perform a grid search to find a number of layers and nodes that is able to learn the patterns in our data successfully. Because this is a regression problem, we will use a ReLU activation function in all layers, except for the last one, where we will use a linear activation function. For the loss function, we will use MSE."
   ]
  },
  {
   "cell_type": "code",
   "execution_count": null,
   "id": "d7afe09c-3b89-45ff-b61f-a528a4a55001",
   "metadata": {
    "collapsed": true,
    "jupyter": {
     "outputs_hidden": true
    },
    "tags": []
   },
   "outputs": [],
   "source": [
    "dense_layers = range(1, 10)\n",
    "dense_units = range(1, 10)\n",
    "\n",
    "layers = []\n",
    "units = []\n",
    "MSE = []\n",
    "MAE = []\n",
    "for layer in dense_layers:\n",
    "    for unit in dense_units:\n",
    "        densemodel = model.DenseModel(my_panel, model_type=\"regression\", \n",
    "                                   dense_layers=layer, dense_units=unit, \n",
    "                                   optimizer='adam', loss='MSE', \n",
    "                                   activation='relu', last_activation='linear')\n",
    "        densemodel.fit()\n",
    "        validation = densemodel.evaluate('val')\n",
    "        layers.append(layer)\n",
    "        units.append(unit)\n",
    "        MSE.append(validation[0])\n",
    "        MAE.append(validation[1])\n",
    "        \n",
    "model_info = pd.DataFrame({\"layers\": layers,\n",
    "                          \"units\": units,\n",
    "                          \"MSE\": MSE,\n",
    "                          \"MAE\": MAE})\n",
    "\n",
    "model_info.sort_values(by=\"MSE\", ascending=True, inplace=True)"
   ]
  },
  {
   "cell_type": "code",
   "execution_count": null,
   "id": "07a41831-a83a-46fa-a71d-c0c2b85b0f78",
   "metadata": {},
   "outputs": [],
   "source": [
    "model_info.head()"
   ]
  },
  {
   "cell_type": "markdown",
   "id": "a2f1d49e-cb90-4d3d-9af0-92ca1744f998",
   "metadata": {},
   "source": [
    "We found that the Dense model that is better able to predict our validation test is one with 9 layers of 1 unit each (I have played around with different values and it sounds about accurate). The MSE for this model is slightly lower than that of our baseline model, which is still far from ideal, but expected for this type of model. Let's train and fit it again with our selected parameters and plot the difference between actual and predicted values:"
   ]
  },
  {
   "cell_type": "code",
   "execution_count": null,
   "id": "851f4380-043d-4409-acc2-6ba7f874d74d",
   "metadata": {},
   "outputs": [],
   "source": [
    "my_panel = my_panel[1:]"
   ]
  },
  {
   "cell_type": "code",
   "execution_count": null,
   "id": "72840571-5d2a-4330-abbd-97e483c5a8dc",
   "metadata": {},
   "outputs": [],
   "source": [
    "my_panel.findinvalid()"
   ]
  },
  {
   "cell_type": "code",
   "execution_count": null,
   "id": "f3e56d49-ce6d-4e15-bcc4-3a44925a4bed",
   "metadata": {},
   "outputs": [],
   "source": [
    "densemodel = model.DenseModel(my_panel, model_type=\"classifier\")\n",
    "\n",
    "densemodel.fit()\n",
    "predicted_validation = densemodel.predict_val()"
   ]
  },
  {
   "cell_type": "code",
   "execution_count": null,
   "id": "994838bf-1dd7-48cd-80b4-2cc7228cd434",
   "metadata": {},
   "outputs": [],
   "source": [
    "densemodel = model.DenseModel(my_panel, model_type=\"regression\", \n",
    "                            dense_layers=9, dense_units=1, \n",
    "                            optimizer='adam', loss='MSE')\n",
    "densemodel.fit()\n",
    "predicted_validation = densemodel.predict_val()"
   ]
  },
  {
   "cell_type": "code",
   "execution_count": null,
   "id": "bcdeebd8-fe41-4ba0-9340-3d1956ed7c5f",
   "metadata": {},
   "outputs": [],
   "source": [
    "import wavy"
   ]
  },
  {
   "cell_type": "code",
   "execution_count": null,
   "id": "0c04ae04-2f4f-4c22-ada3-943bf3b5e823",
   "metadata": {},
   "outputs": [],
   "source": []
  },
  {
   "cell_type": "code",
   "execution_count": null,
   "id": "7541d5a0-c8d1-43b5-a7b3-0929abe8e176",
   "metadata": {},
   "outputs": [],
   "source": [
    "regression = wavy.LinearRegression(my_panel)"
   ]
  },
  {
   "cell_type": "code",
   "execution_count": null,
   "id": "76dfe3f5-b92c-4038-85d2-07afa0aff8b7",
   "metadata": {},
   "outputs": [],
   "source": [
    "regression.fit()"
   ]
  },
  {
   "cell_type": "code",
   "execution_count": null,
   "id": "0c358c58-c961-435e-b95e-0e835c0541dd",
   "metadata": {},
   "outputs": [],
   "source": []
  },
  {
   "cell_type": "code",
   "execution_count": null,
   "id": "a421d038-99d6-465c-a827-ea549fac2360",
   "metadata": {},
   "outputs": [],
   "source": []
  },
  {
   "cell_type": "code",
   "execution_count": null,
   "id": "4766c8d9-51a9-4e4a-8c57-03ea6960cc09",
   "metadata": {},
   "outputs": [],
   "source": []
  },
  {
   "cell_type": "code",
   "execution_count": null,
   "id": "caefbc72-97bb-4328-8494-95981f956d56",
   "metadata": {},
   "outputs": [],
   "source": [
    "for asset in my_panel.assets:\n",
    "    for channel in my_panel.channels:\n",
    "        plt.figure(figsize=(15, 5))\n",
    "        plt.plot(predicted_validation.as_dataframe()[asset][channel].values)\n",
    "        plt.plot(val.y.as_dataframe()[asset][channel].values)\n",
    "        plt.legend([\"predicted\", \"actual\"])        \n",
    "        plt.grid(True)\n",
    "        plt.title(f'{channel} of COVID-19 in {asset}')\n",
    "        plt.show()"
   ]
  },
  {
   "cell_type": "markdown",
   "id": "3ef371ee-3ae5-4b47-a7c6-331d8fcc6eb3",
   "metadata": {},
   "source": [
    "Because our neural network was optimized to minimize the mean squared error over all of the time series, it tends to predict values around zero, which is not what we intended. Let's try again with a Convolutional neural network, which is designed to give more weight to relationships between data points that are closer together:"
   ]
  },
  {
   "cell_type": "markdown",
   "id": "43698cb5-af2c-46c4-81fd-c39af5f29e6a",
   "metadata": {},
   "source": [
    "## ConvModel"
   ]
  },
  {
   "cell_type": "markdown",
   "id": "71f919af-63ce-4113-ab4e-3ded186209bf",
   "metadata": {},
   "source": [
    "A convolutional neural network is preferred over a deep neural network for this type of task, because it takes into account the fact that the relationships between data points that are closer together are more important than points that are far apart for time series forecasting. We will perform the same kind of grid search we have performed for the DenseModel to figure out the optimal hyperparameters for this task."
   ]
  },
  {
   "cell_type": "code",
   "execution_count": null,
   "id": "ca30997f-6fd6-4ae4-a3c7-d12f9f7fe16d",
   "metadata": {
    "tags": []
   },
   "outputs": [],
   "source": [
    "conv_layers = range(10)\n",
    "conv_filters = [2^n for n in range(5)]\n",
    "kernel_size = range(1, 12, 3)\n",
    "dense_layers = range(3)\n",
    "dense_units = range(10)\n",
    "\n",
    "c_layers = []\n",
    "filters = []\n",
    "k_size = []\n",
    "d_layers = []\n",
    "d_units = []\n",
    "MSE = []\n",
    "MAE = []\n",
    "for layer in conv_layers:\n",
    "    for f in conv_filters:\n",
    "        for k in kernel_size:\n",
    "            for l in dense_layers:\n",
    "                for u in dense_units:\n",
    "\n",
    "                    convmodel = model.ConvModel(my_panel, model_type=\"regression\", \n",
    "                                               conv_layers=layer, conv_filters=f, kernel_size=k,\n",
    "                                                dense_layers=l, dense_units=u, optimizer='adam', \n",
    "                                                loss='MSE', activation='relu', last_activation='linear')\n",
    "                    convmodel.fit()\n",
    "                    validation = convmodel.evaluate('val')\n",
    "                    c_layers.append(layer)\n",
    "                    filters.append(f)\n",
    "                    k_size.append(k)\n",
    "                    d_layers.append(l)\n",
    "                    d_units.append(u)\n",
    "                    MSE.append(validation[0])\n",
    "                    MAE.append(validation[1])\n",
    "        \n",
    "conv_model_info = pd.DataFrame({\"conv_layers\": c_layers,\n",
    "                           \"conv_filters\": filters,\n",
    "                           \"kernel_size\": k_size,\n",
    "                           \"dense_layers\": d_layers,\n",
    "                           \"dense_units\": d_units,\n",
    "                          \"MSE\": MSE,\n",
    "                          \"MAE\": MAE})\n",
    "\n",
    "conv_model_info.sort_values(by=\"MSE\", ascending=True, inplace=True)"
   ]
  },
  {
   "cell_type": "code",
   "execution_count": null,
   "id": "de5663fa-511d-437a-b6c3-96fb00ca00c6",
   "metadata": {},
   "outputs": [],
   "source": [
    "convmodel = model.ConvModel(my_panel, model_type=\"regression\")"
   ]
  },
  {
   "cell_type": "code",
   "execution_count": null,
   "id": "3e2d59b4-99fa-4185-9422-96086f5f8e1f",
   "metadata": {},
   "outputs": [],
   "source": [
    "convmodel.fit()"
   ]
  },
  {
   "cell_type": "code",
   "execution_count": null,
   "id": "f2fd50f8-f90c-425f-bc7f-a41fc4a482e3",
   "metadata": {},
   "outputs": [],
   "source": [
    "predicted_validation = convmodel.predict_val()"
   ]
  },
  {
   "cell_type": "code",
   "execution_count": null,
   "id": "a610c052-3ef5-44e2-a5dd-1b19f982ca8a",
   "metadata": {},
   "outputs": [],
   "source": [
    "for asset in my_panel.assets:\n",
    "    for channel in my_panel.channels:\n",
    "        plt.figure(figsize=(15, 5))\n",
    "        plt.plot(predicted_validation.as_dataframe()[asset][channel].values)\n",
    "        plt.plot(val.y.as_dataframe()[asset][channel].values)\n",
    "        plt.legend([\"predicted\", \"actual\"])        \n",
    "        plt.grid(True)\n",
    "        plt.title(f'{channel} of COVID-19 in {asset}')\n",
    "        plt.show()"
   ]
  },
  {
   "cell_type": "code",
   "execution_count": null,
   "id": "383f4442-f111-4c52-a334-a66c2dcba115",
   "metadata": {},
   "outputs": [],
   "source": [
    "convmodel = model.ConvModel(my_panel, model_type=\"regression\")"
   ]
  },
  {
   "cell_type": "code",
   "execution_count": null,
   "id": "9a0cf97b-4404-4033-ae7b-9c5562b4e13e",
   "metadata": {},
   "outputs": [],
   "source": []
  },
  {
   "cell_type": "code",
   "execution_count": null,
   "id": "d879bbde-0a3f-40b8-87b3-1af0e0be4894",
   "metadata": {},
   "outputs": [],
   "source": []
  },
  {
   "cell_type": "code",
   "execution_count": null,
   "id": "e959b462-3ae2-4abf-addf-a01caaf386ea",
   "metadata": {},
   "outputs": [],
   "source": []
  },
  {
   "cell_type": "code",
   "execution_count": null,
   "id": "745554c4-56f6-44cc-b626-6e0b002efbe5",
   "metadata": {},
   "outputs": [],
   "source": []
  },
  {
   "cell_type": "code",
   "execution_count": null,
   "id": "c623aeaf-f5fc-4800-bb0a-33a8b333b716",
   "metadata": {},
   "outputs": [],
   "source": []
  },
  {
   "cell_type": "code",
   "execution_count": null,
   "id": "e2deb7e7-152b-40e0-9d8e-962400c2de89",
   "metadata": {},
   "outputs": [],
   "source": []
  },
  {
   "cell_type": "code",
   "execution_count": null,
   "id": "646e72eb-9ce8-45b2-a0be-c511026c2eef",
   "metadata": {},
   "outputs": [],
   "source": [
    "import wavy"
   ]
  },
  {
   "cell_type": "code",
   "execution_count": null,
   "id": "d77ac42d-93e6-422a-ab47-6daff46f79eb",
   "metadata": {},
   "outputs": [],
   "source": [
    "teste.assets"
   ]
  },
  {
   "cell_type": "code",
   "execution_count": null,
   "id": "9586b541-0dab-44c6-bf91-954abe5ca25a",
   "metadata": {},
   "outputs": [],
   "source": []
  }
 ],
 "metadata": {
  "kernelspec": {
   "display_name": "Python 3",
   "language": "python",
   "name": "python3"
  },
  "language_info": {
   "codemirror_mode": {
    "name": "ipython",
    "version": 3
   },
   "file_extension": ".py",
   "mimetype": "text/x-python",
   "name": "python",
   "nbconvert_exporter": "python",
   "pygments_lexer": "ipython3",
   "version": "3.8.12"
  }
 },
 "nbformat": 4,
 "nbformat_minor": 5
}
