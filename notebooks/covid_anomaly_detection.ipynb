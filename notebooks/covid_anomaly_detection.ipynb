{
 "cells": [
  {
   "cell_type": "code",
   "execution_count": 1,
   "id": "b5b5ecbf-91d1-4d37-a3a4-b223796bc24c",
   "metadata": {},
   "outputs": [],
   "source": [
    "import os\n",
    "import matplotlib.pyplot as plt\n",
    "import numpy as np\n",
    "import pandas as pd\n",
    "import statsmodels.api as sm\n",
    "from statsmodels.tsa.stattools import adfuller\n",
    "from tqdm import tqdm\n",
    "\n",
    "import wavy"
   ]
  },
  {
   "cell_type": "code",
   "execution_count": 2,
   "id": "c0c10702-cb37-458c-9758-ec51c4ed8be4",
   "metadata": {},
   "outputs": [],
   "source": [
    "csv_path = '/home/amandacasadei/Downloads/WHO-COVID-19-global-data.csv'\n",
    "df = pd.read_csv(csv_path)"
   ]
  },
  {
   "cell_type": "code",
   "execution_count": 3,
   "id": "1b342f18-7b7a-4f2c-89fd-029987bc2854",
   "metadata": {},
   "outputs": [
    {
     "data": {
      "text/html": [
       "<div>\n",
       "<style scoped>\n",
       "    .dataframe tbody tr th:only-of-type {\n",
       "        vertical-align: middle;\n",
       "    }\n",
       "\n",
       "    .dataframe tbody tr th {\n",
       "        vertical-align: top;\n",
       "    }\n",
       "\n",
       "    .dataframe thead th {\n",
       "        text-align: right;\n",
       "    }\n",
       "</style>\n",
       "<table border=\"1\" class=\"dataframe\">\n",
       "  <thead>\n",
       "    <tr style=\"text-align: right;\">\n",
       "      <th></th>\n",
       "      <th>Date_reported</th>\n",
       "      <th>Country_code</th>\n",
       "      <th>Country</th>\n",
       "      <th>WHO_region</th>\n",
       "      <th>New_cases</th>\n",
       "      <th>Cumulative_cases</th>\n",
       "      <th>New_deaths</th>\n",
       "      <th>Cumulative_deaths</th>\n",
       "    </tr>\n",
       "  </thead>\n",
       "  <tbody>\n",
       "    <tr>\n",
       "      <th>0</th>\n",
       "      <td>2020-01-03</td>\n",
       "      <td>AF</td>\n",
       "      <td>Afghanistan</td>\n",
       "      <td>EMRO</td>\n",
       "      <td>0</td>\n",
       "      <td>0</td>\n",
       "      <td>0</td>\n",
       "      <td>0</td>\n",
       "    </tr>\n",
       "    <tr>\n",
       "      <th>1</th>\n",
       "      <td>2020-01-04</td>\n",
       "      <td>AF</td>\n",
       "      <td>Afghanistan</td>\n",
       "      <td>EMRO</td>\n",
       "      <td>0</td>\n",
       "      <td>0</td>\n",
       "      <td>0</td>\n",
       "      <td>0</td>\n",
       "    </tr>\n",
       "    <tr>\n",
       "      <th>2</th>\n",
       "      <td>2020-01-05</td>\n",
       "      <td>AF</td>\n",
       "      <td>Afghanistan</td>\n",
       "      <td>EMRO</td>\n",
       "      <td>0</td>\n",
       "      <td>0</td>\n",
       "      <td>0</td>\n",
       "      <td>0</td>\n",
       "    </tr>\n",
       "    <tr>\n",
       "      <th>3</th>\n",
       "      <td>2020-01-06</td>\n",
       "      <td>AF</td>\n",
       "      <td>Afghanistan</td>\n",
       "      <td>EMRO</td>\n",
       "      <td>0</td>\n",
       "      <td>0</td>\n",
       "      <td>0</td>\n",
       "      <td>0</td>\n",
       "    </tr>\n",
       "    <tr>\n",
       "      <th>4</th>\n",
       "      <td>2020-01-07</td>\n",
       "      <td>AF</td>\n",
       "      <td>Afghanistan</td>\n",
       "      <td>EMRO</td>\n",
       "      <td>0</td>\n",
       "      <td>0</td>\n",
       "      <td>0</td>\n",
       "      <td>0</td>\n",
       "    </tr>\n",
       "  </tbody>\n",
       "</table>\n",
       "</div>"
      ],
      "text/plain": [
       "  Date_reported Country_code      Country WHO_region  New_cases  \\\n",
       "0    2020-01-03           AF  Afghanistan       EMRO          0   \n",
       "1    2020-01-04           AF  Afghanistan       EMRO          0   \n",
       "2    2020-01-05           AF  Afghanistan       EMRO          0   \n",
       "3    2020-01-06           AF  Afghanistan       EMRO          0   \n",
       "4    2020-01-07           AF  Afghanistan       EMRO          0   \n",
       "\n",
       "   Cumulative_cases  New_deaths  Cumulative_deaths  \n",
       "0                 0           0                  0  \n",
       "1                 0           0                  0  \n",
       "2                 0           0                  0  \n",
       "3                 0           0                  0  \n",
       "4                 0           0                  0  "
      ]
     },
     "execution_count": 3,
     "metadata": {},
     "output_type": "execute_result"
    }
   ],
   "source": [
    "df.head()"
   ]
  },
  {
   "cell_type": "code",
   "execution_count": 4,
   "id": "8920e486-1dc8-4fa5-adaa-d971cf15a7d7",
   "metadata": {},
   "outputs": [],
   "source": [
    "df['Date_reported'] = pd.to_datetime(df['Date_reported'])\n",
    "df['Day_of_week'] = df['Date_reported'].dt.day_name()\n",
    "df.drop(columns=[\"Country_code\", \"WHO_region\", \"Day_of_week\", \"Cumulative_cases\", \"Cumulative_deaths\"], inplace=True)"
   ]
  },
  {
   "cell_type": "code",
   "execution_count": 5,
   "id": "ab6b18cb-0d8f-4ad0-a21e-6c1c8698235b",
   "metadata": {},
   "outputs": [],
   "source": [
    "countries = pd.unique(df[\"Country\"])\n",
    "\n",
    "df_list = []\n",
    "for c in countries:\n",
    "    temp_df = df.loc[df[\"Country\"] == c]\n",
    "    temp_df.pop(\"Country\")\n",
    "    date_time = pd.to_datetime(temp_df.pop('Date_reported'), format='%Y.%m.%d')\n",
    "    temp_df.index = date_time\n",
    "    df_list.append(temp_df)\n",
    "\n",
    "processed = pd.concat(df_list, axis=1, keys=(countries))"
   ]
  },
  {
   "cell_type": "code",
   "execution_count": 6,
   "id": "992aca59-24e0-472b-9de4-796b3afcd3f0",
   "metadata": {},
   "outputs": [],
   "source": [
    "processed = wavy.block.from_dataframe(processed, asset=\"Brazil\")\n",
    "processed = processed.wfilter(assets=\"Brazil\", channels=\"New_deaths\")\n",
    "processed = processed.pct_change()"
   ]
  },
  {
   "cell_type": "code",
   "execution_count": 7,
   "id": "bf422ad0-7436-4bcc-8c13-4990b20065f8",
   "metadata": {},
   "outputs": [
    {
     "data": {
      "text/html": [
       "<div>\n",
       "<style scoped>\n",
       "    .dataframe tbody tr th:only-of-type {\n",
       "        vertical-align: middle;\n",
       "    }\n",
       "\n",
       "    .dataframe tbody tr th {\n",
       "        vertical-align: top;\n",
       "    }\n",
       "\n",
       "    .dataframe thead tr th {\n",
       "        text-align: left;\n",
       "    }\n",
       "\n",
       "    .dataframe thead tr:last-of-type th {\n",
       "        text-align: right;\n",
       "    }\n",
       "</style>\n",
       "<table border=\"1\" class=\"dataframe\">\n",
       "  <thead>\n",
       "    <tr>\n",
       "      <th></th>\n",
       "      <th>Brazil</th>\n",
       "    </tr>\n",
       "    <tr>\n",
       "      <th></th>\n",
       "      <th>New_deaths</th>\n",
       "    </tr>\n",
       "    <tr>\n",
       "      <th>Date_reported</th>\n",
       "      <th></th>\n",
       "    </tr>\n",
       "  </thead>\n",
       "  <tbody>\n",
       "    <tr>\n",
       "      <th>2020-01-03</th>\n",
       "      <td>NaN</td>\n",
       "    </tr>\n",
       "    <tr>\n",
       "      <th>2020-01-04</th>\n",
       "      <td>NaN</td>\n",
       "    </tr>\n",
       "    <tr>\n",
       "      <th>2020-01-05</th>\n",
       "      <td>NaN</td>\n",
       "    </tr>\n",
       "    <tr>\n",
       "      <th>2020-01-06</th>\n",
       "      <td>NaN</td>\n",
       "    </tr>\n",
       "    <tr>\n",
       "      <th>2020-01-07</th>\n",
       "      <td>NaN</td>\n",
       "    </tr>\n",
       "    <tr>\n",
       "      <th>...</th>\n",
       "      <td>...</td>\n",
       "    </tr>\n",
       "    <tr>\n",
       "      <th>2022-01-06</th>\n",
       "      <td>1.302632</td>\n",
       "    </tr>\n",
       "    <tr>\n",
       "      <th>2022-01-07</th>\n",
       "      <td>-0.262857</td>\n",
       "    </tr>\n",
       "    <tr>\n",
       "      <th>2022-01-08</th>\n",
       "      <td>-0.007752</td>\n",
       "    </tr>\n",
       "    <tr>\n",
       "      <th>2022-01-09</th>\n",
       "      <td>0.414062</td>\n",
       "    </tr>\n",
       "    <tr>\n",
       "      <th>2022-01-10</th>\n",
       "      <td>-0.364641</td>\n",
       "    </tr>\n",
       "  </tbody>\n",
       "</table>\n",
       "<p>739 rows × 1 columns</p>\n",
       "</div>"
      ],
      "text/plain": [
       "                  Brazil\n",
       "              New_deaths\n",
       "Date_reported           \n",
       "2020-01-03           NaN\n",
       "2020-01-04           NaN\n",
       "2020-01-05           NaN\n",
       "2020-01-06           NaN\n",
       "2020-01-07           NaN\n",
       "...                  ...\n",
       "2022-01-06      1.302632\n",
       "2022-01-07     -0.262857\n",
       "2022-01-08     -0.007752\n",
       "2022-01-09      0.414062\n",
       "2022-01-10     -0.364641\n",
       "\n",
       "[739 rows x 1 columns]"
      ]
     },
     "execution_count": 7,
     "metadata": {},
     "output_type": "execute_result"
    }
   ],
   "source": [
    "processed"
   ]
  },
  {
   "cell_type": "code",
   "execution_count": 8,
   "id": "74dad145-8ac4-428e-a915-d52940d3722c",
   "metadata": {},
   "outputs": [],
   "source": [
    "panel1 = wavy.panel.from_data(processed, lookback=7, horizon=7, gap=0)"
   ]
  },
  {
   "cell_type": "code",
   "execution_count": 9,
   "id": "e085ea7d-90be-4482-af9f-df5036d87b8f",
   "metadata": {},
   "outputs": [
    {
     "data": {
      "text/html": [
       "<div>\n",
       "<style scoped>\n",
       "    .dataframe tbody tr th:only-of-type {\n",
       "        vertical-align: middle;\n",
       "    }\n",
       "\n",
       "    .dataframe tbody tr th {\n",
       "        vertical-align: top;\n",
       "    }\n",
       "\n",
       "    .dataframe thead tr th {\n",
       "        text-align: left;\n",
       "    }\n",
       "\n",
       "    .dataframe thead tr:last-of-type th {\n",
       "        text-align: right;\n",
       "    }\n",
       "</style>\n",
       "<table border=\"1\" class=\"dataframe\">\n",
       "  <thead>\n",
       "    <tr>\n",
       "      <th></th>\n",
       "      <th>Brazil</th>\n",
       "    </tr>\n",
       "    <tr>\n",
       "      <th></th>\n",
       "      <th>New_deaths</th>\n",
       "    </tr>\n",
       "    <tr>\n",
       "      <th>Date_reported</th>\n",
       "      <th></th>\n",
       "    </tr>\n",
       "  </thead>\n",
       "  <tbody>\n",
       "    <tr>\n",
       "      <th>2021-12-26</th>\n",
       "      <td>0.197080</td>\n",
       "    </tr>\n",
       "    <tr>\n",
       "      <th>2021-12-27</th>\n",
       "      <td>-1.000000</td>\n",
       "    </tr>\n",
       "    <tr>\n",
       "      <th>2021-12-28</th>\n",
       "      <td>inf</td>\n",
       "    </tr>\n",
       "    <tr>\n",
       "      <th>2021-12-29</th>\n",
       "      <td>0.535714</td>\n",
       "    </tr>\n",
       "    <tr>\n",
       "      <th>2021-12-30</th>\n",
       "      <td>0.988372</td>\n",
       "    </tr>\n",
       "    <tr>\n",
       "      <th>2021-12-31</th>\n",
       "      <td>-0.345029</td>\n",
       "    </tr>\n",
       "    <tr>\n",
       "      <th>2022-01-01</th>\n",
       "      <td>0.491071</td>\n",
       "    </tr>\n",
       "  </tbody>\n",
       "</table>\n",
       "</div>"
      ],
      "text/plain": [
       "                  Brazil\n",
       "              New_deaths\n",
       "Date_reported           \n",
       "2021-12-26      0.197080\n",
       "2021-12-27     -1.000000\n",
       "2021-12-28           inf\n",
       "2021-12-29      0.535714\n",
       "2021-12-30      0.988372\n",
       "2021-12-31     -0.345029\n",
       "2022-01-01      0.491071"
      ]
     },
     "execution_count": 9,
     "metadata": {},
     "output_type": "execute_result"
    }
   ],
   "source": [
    "panel1.y[-10]"
   ]
  },
  {
   "cell_type": "code",
   "execution_count": 10,
   "id": "881e542e-1187-4f7c-b98f-af322b7e5e96",
   "metadata": {},
   "outputs": [
    {
     "data": {
      "application/vnd.jupyter.widget-view+json": {
       "model_id": "2cf8945bf74244bea335c9662c45c9fc",
       "version_major": 2,
       "version_minor": 0
      },
      "text/plain": [
       "  0%|          | 0/726 [00:00<?, ?it/s]"
      ]
     },
     "metadata": {},
     "output_type": "display_data"
    },
    {
     "data": {
      "application/vnd.jupyter.widget-view+json": {
       "model_id": "3e8bfe9b4dbd4a8389d50f646947f9d2",
       "version_major": 2,
       "version_minor": 0
      },
      "text/plain": [
       "  0%|          | 0/726 [00:00<?, ?it/s]"
      ]
     },
     "metadata": {},
     "output_type": "display_data"
    }
   ],
   "source": [
    "panel1.x = panel1.x.wmean()\n",
    "panel1.y = panel1.y.wmean()"
   ]
  },
  {
   "cell_type": "code",
   "execution_count": 11,
   "id": "e0c964c2-7972-4efc-bb32-8afa4d2699ba",
   "metadata": {},
   "outputs": [
    {
     "data": {
      "application/vnd.jupyter.widget-view+json": {
       "model_id": "7cdddc829251423a8fd1e0390d789ac1",
       "version_major": 2,
       "version_minor": 0
      },
      "text/plain": [
       "  0%|          | 0/726 [00:00<?, ?it/s]"
      ]
     },
     "metadata": {},
     "output_type": "display_data"
    },
    {
     "data": {
      "application/vnd.jupyter.widget-view+json": {
       "model_id": "f97e158f843e4e9dabf5fd1e038512cd",
       "version_major": 2,
       "version_minor": 0
      },
      "text/plain": [
       "  0%|          | 0/726 [00:00<?, ?it/s]"
      ]
     },
     "metadata": {},
     "output_type": "display_data"
    },
    {
     "data": {
      "application/vnd.jupyter.widget-view+json": {
       "model_id": "20755a93756e41eb89a07b0176ca8a11",
       "version_major": 2,
       "version_minor": 0
      },
      "text/plain": [
       "  0%|          | 0/726 [00:00<?, ?it/s]"
      ]
     },
     "metadata": {},
     "output_type": "display_data"
    },
    {
     "data": {
      "application/vnd.jupyter.widget-view+json": {
       "model_id": "f72e5c8a2ed142b983774952ade48021",
       "version_major": 2,
       "version_minor": 0
      },
      "text/plain": [
       "  0%|          | 0/726 [00:00<?, ?it/s]"
      ]
     },
     "metadata": {},
     "output_type": "display_data"
    }
   ],
   "source": [
    "panel1 = panel1.dropinvalid()"
   ]
  },
  {
   "cell_type": "code",
   "execution_count": 12,
   "id": "2acee54b-754b-4dc1-ab18-1ba9a53957fa",
   "metadata": {},
   "outputs": [
    {
     "data": {
      "text/html": [
       "<div>\n",
       "<style scoped>\n",
       "    .dataframe tbody tr th:only-of-type {\n",
       "        vertical-align: middle;\n",
       "    }\n",
       "\n",
       "    .dataframe tbody tr th {\n",
       "        vertical-align: top;\n",
       "    }\n",
       "\n",
       "    .dataframe thead tr th {\n",
       "        text-align: left;\n",
       "    }\n",
       "</style>\n",
       "<table border=\"1\" class=\"dataframe\">\n",
       "  <thead>\n",
       "    <tr>\n",
       "      <th></th>\n",
       "      <th>Brazil</th>\n",
       "    </tr>\n",
       "    <tr>\n",
       "      <th></th>\n",
       "      <th>New_deaths</th>\n",
       "    </tr>\n",
       "  </thead>\n",
       "  <tbody>\n",
       "    <tr>\n",
       "      <th>2021-12-14</th>\n",
       "      <td>0.455022</td>\n",
       "    </tr>\n",
       "  </tbody>\n",
       "</table>\n",
       "</div>"
      ],
      "text/plain": [
       "               Brazil\n",
       "           New_deaths\n",
       "2021-12-14   0.455022"
      ]
     },
     "execution_count": 12,
     "metadata": {},
     "output_type": "execute_result"
    }
   ],
   "source": [
    "panel1.x[-1]"
   ]
  },
  {
   "cell_type": "code",
   "execution_count": 13,
   "id": "4446b3c7-e4f3-4c55-b773-57e05442b8e9",
   "metadata": {},
   "outputs": [],
   "source": [
    "panel1.y = panel1.y > 0.2"
   ]
  },
  {
   "cell_type": "code",
   "execution_count": 14,
   "id": "f1ba47bf-bf66-43de-aaaf-838dd921c264",
   "metadata": {},
   "outputs": [
    {
     "data": {
      "text/html": [
       "<div>\n",
       "<style scoped>\n",
       "    .dataframe tbody tr th:only-of-type {\n",
       "        vertical-align: middle;\n",
       "    }\n",
       "\n",
       "    .dataframe tbody tr th {\n",
       "        vertical-align: top;\n",
       "    }\n",
       "\n",
       "    .dataframe thead tr th {\n",
       "        text-align: left;\n",
       "    }\n",
       "</style>\n",
       "<table border=\"1\" class=\"dataframe\">\n",
       "  <thead>\n",
       "    <tr>\n",
       "      <th></th>\n",
       "      <th>Brazil</th>\n",
       "    </tr>\n",
       "    <tr>\n",
       "      <th></th>\n",
       "      <th>New_deaths</th>\n",
       "    </tr>\n",
       "  </thead>\n",
       "  <tbody>\n",
       "    <tr>\n",
       "      <th>2021-12-21</th>\n",
       "      <td>False</td>\n",
       "    </tr>\n",
       "  </tbody>\n",
       "</table>\n",
       "</div>"
      ],
      "text/plain": [
       "               Brazil\n",
       "           New_deaths\n",
       "2021-12-21      False"
      ]
     },
     "execution_count": 14,
     "metadata": {},
     "output_type": "execute_result"
    }
   ],
   "source": [
    "panel1.y[-1]"
   ]
  },
  {
   "cell_type": "code",
   "execution_count": 15,
   "id": "a969a08c-4a62-4854-9f4a-77f0f532692a",
   "metadata": {},
   "outputs": [],
   "source": [
    "x = panel1.x.as_dataframe().values\n",
    "y = panel1.y.as_dataframe().values"
   ]
  },
  {
   "cell_type": "code",
   "execution_count": 16,
   "id": "b6701aba-4ca9-4ad3-bd6c-9c6e201902cc",
   "metadata": {},
   "outputs": [
    {
     "name": "stdout",
     "output_type": "stream",
     "text": [
      "ADF Statistic: -3.540056\n",
      "p-value: 0.007016\n",
      "Critical Values:\n",
      "\t1%: -3.441\n",
      "\t5%: -2.866\n",
      "\t10%: -2.569\n"
     ]
    }
   ],
   "source": [
    "result = adfuller(x)\n",
    "print('ADF Statistic: %f' % result[0])\n",
    "print('p-value: %f' % result[1])\n",
    "print('Critical Values:')\n",
    "for key, value in result[4].items():\n",
    "\tprint('\\t%s: %.3f' % (key, value))"
   ]
  },
  {
   "cell_type": "code",
   "execution_count": 19,
   "id": "a4ac0dfd-f23c-4ed7-bc7c-9cd8eea6d245",
   "metadata": {},
   "outputs": [
    {
     "data": {
      "image/png": "[encoded data removed]",
      "text/plain": [
       "<Figure size 1080x360 with 1 Axes>"
      ]
     },
     "metadata": {
      "needs_background": "light"
     },
     "output_type": "display_data"
    }
   ],
   "source": [
    "plt.figure(figsize=(15, 5))\n",
    "plt.plot(x)\n",
    "plt.plot(y)\n",
    "plt.grid(True)\n",
    "plt.show()"
   ]
  },
  {
   "cell_type": "code",
   "execution_count": 43,
   "id": "0cb20dfa-4831-4917-accc-3e989df0c23d",
   "metadata": {},
   "outputs": [
    {
     "data": {
      "application/vnd.jupyter.widget-view+json": {
       "model_id": "dede40619d9145aca909725c311db5d5",
       "version_major": 2,
       "version_minor": 0
      },
      "text/plain": [
       "  0%|          | 0/452 [00:00<?, ?it/s]"
      ]
     },
     "metadata": {},
     "output_type": "display_data"
    },
    {
     "data": {
      "application/vnd.jupyter.widget-view+json": {
       "model_id": "d01b97c23ee34fa3acada75b30cbaf88",
       "version_major": 2,
       "version_minor": 0
      },
      "text/plain": [
       "  0%|          | 0/112 [00:00<?, ?it/s]"
      ]
     },
     "metadata": {},
     "output_type": "display_data"
    },
    {
     "data": {
      "application/vnd.jupyter.widget-view+json": {
       "model_id": "82de345d0be24716972e63c6840d3c11",
       "version_major": 2,
       "version_minor": 0
      },
      "text/plain": [
       "  0%|          | 0/62 [00:00<?, ?it/s]"
      ]
     },
     "metadata": {},
     "output_type": "display_data"
    },
    {
     "data": {
      "application/vnd.jupyter.widget-view+json": {
       "model_id": "11dda49fcd4c499385f31c4a499fed38",
       "version_major": 2,
       "version_minor": 0
      },
      "text/plain": [
       "  0%|          | 0/452 [00:00<?, ?it/s]"
      ]
     },
     "metadata": {},
     "output_type": "display_data"
    },
    {
     "data": {
      "application/vnd.jupyter.widget-view+json": {
       "model_id": "fc9de3f9acc04bb591c47532ff370dbd",
       "version_major": 2,
       "version_minor": 0
      },
      "text/plain": [
       "  0%|          | 0/112 [00:00<?, ?it/s]"
      ]
     },
     "metadata": {},
     "output_type": "display_data"
    },
    {
     "data": {
      "application/vnd.jupyter.widget-view+json": {
       "model_id": "9564947b36bb40fb8a3f290fc1e0e230",
       "version_major": 2,
       "version_minor": 0
      },
      "text/plain": [
       "  0%|          | 0/62 [00:00<?, ?it/s]"
      ]
     },
     "metadata": {},
     "output_type": "display_data"
    }
   ],
   "source": [
    "convmodel = wavy.model.ConvModel(panel1, model_type=\"classifier\", kernel_size=1)"
   ]
  },
  {
   "cell_type": "code",
   "execution_count": 44,
   "id": "dd87337c-9c73-4f14-8624-0260eb24cef3",
   "metadata": {},
   "outputs": [
    {
     "name": "stdout",
     "output_type": "stream",
     "text": [
      "15/15 [==============================] - 1s 16ms/step - loss: 0.6878 - auc: 0.3822 - accuracy: 0.7190 - val_loss: 0.6817 - val_auc: 0.5357 - val_accuracy: 0.7500\n"
     ]
    }
   ],
   "source": [
    "convmodel.fit()"
   ]
  },
  {
   "cell_type": "code",
   "execution_count": 45,
   "id": "2f281b2a-5c26-4208-8728-6d45c42a30e5",
   "metadata": {},
   "outputs": [
    {
     "name": "stdout",
     "output_type": "stream",
     "text": [
      "4/4 [==============================] - 0s 1ms/step - loss: 0.6817 - auc: 0.5357 - accuracy: 0.7500\n"
     ]
    }
   ],
   "source": [
    "validation = convmodel.evaluate('val')"
   ]
  },
  {
   "cell_type": "code",
   "execution_count": 46,
   "id": "68d85958-772a-4b7e-af52-bfa99e84bb03",
   "metadata": {},
   "outputs": [
    {
     "data": {
      "text/plain": [
       "[0.681708037853241, 0.5357142686843872, 0.75]"
      ]
     },
     "execution_count": 46,
     "metadata": {},
     "output_type": "execute_result"
    }
   ],
   "source": [
    "validation"
   ]
  },
  {
   "cell_type": "code",
   "execution_count": 47,
   "id": "41bb7120-4e99-40e7-b2db-8032a2c20cfc",
   "metadata": {},
   "outputs": [],
   "source": [
    "predicted_validation = convmodel.predict_val()"
   ]
  },
  {
   "cell_type": "code",
   "execution_count": 48,
   "id": "7de6ab97-7777-4d6b-8679-9d76ede9518d",
   "metadata": {},
   "outputs": [],
   "source": [
    "predicted_validation = predicted_validation.as_dataframe().values"
   ]
  },
  {
   "cell_type": "code",
   "execution_count": 49,
   "id": "73f8ee37-2e0a-4392-a40d-15d18a09bac3",
   "metadata": {
    "collapsed": true,
    "jupyter": {
     "outputs_hidden": true
    },
    "tags": []
   },
   "outputs": [
    {
     "data": {
      "text/plain": [
       "array([[0.48854741],\n",
       "       [0.4882575 ],\n",
       "       [0.48827156],\n",
       "       [0.48819542],\n",
       "       [0.48823759],\n",
       "       [0.48818642],\n",
       "       [0.48815989],\n",
       "       [0.48815924],\n",
       "       [0.48871064],\n",
       "       [0.48917854],\n",
       "       [0.48912683],\n",
       "       [0.48911238],\n",
       "       [0.48932934],\n",
       "       [0.48936608],\n",
       "       [0.48836032],\n",
       "       [0.48934498],\n",
       "       [0.48922944],\n",
       "       [0.48922858],\n",
       "       [0.48917592],\n",
       "       [0.48971149],\n",
       "       [0.48832813],\n",
       "       [0.48994756],\n",
       "       [0.48867613],\n",
       "       [0.48861071],\n",
       "       [0.48861775],\n",
       "       [0.48862395],\n",
       "       [0.48829317],\n",
       "       [0.48973277],\n",
       "       [0.4883053 ],\n",
       "       [0.48886332],\n",
       "       [0.48883864],\n",
       "       [0.48887128],\n",
       "       [0.48943323],\n",
       "       [0.48914689],\n",
       "       [0.48892695],\n",
       "       [0.48994789],\n",
       "       [0.4882547 ],\n",
       "       [0.48827675],\n",
       "       [0.48830426],\n",
       "       [0.4881646 ],\n",
       "       [0.48816913],\n",
       "       [0.48823395],\n",
       "       [0.48811764],\n",
       "       [0.48821563],\n",
       "       [0.48831677],\n",
       "       [0.48816991],\n",
       "       [0.48824233],\n",
       "       [0.48822954],\n",
       "       [0.48829716],\n",
       "       [0.48794693],\n",
       "       [0.48818842],\n",
       "       [0.48809323],\n",
       "       [0.48824933],\n",
       "       [0.48822069],\n",
       "       [0.48831552],\n",
       "       [0.48821601],\n",
       "       [0.48922139],\n",
       "       [0.48860988],\n",
       "       [0.48850963],\n",
       "       [0.48834616],\n",
       "       [0.48842692],\n",
       "       [0.48832491],\n",
       "       [0.48833701],\n",
       "       [0.48851627],\n",
       "       [0.48818398],\n",
       "       [0.48826382],\n",
       "       [0.48825303],\n",
       "       [0.48815453],\n",
       "       [0.48814452],\n",
       "       [0.48817563],\n",
       "       [0.48830205],\n",
       "       [0.49117342],\n",
       "       [0.49241599],\n",
       "       [0.48792666],\n",
       "       [0.48798555],\n",
       "       [0.48789808],\n",
       "       [0.48788163],\n",
       "       [0.48786795],\n",
       "       [0.48774275],\n",
       "       [0.48779169],\n",
       "       [0.48808807],\n",
       "       [0.48831528],\n",
       "       [0.48790896],\n",
       "       [0.48790267],\n",
       "       [0.48790678],\n",
       "       [0.48789972],\n",
       "       [0.4878943 ],\n",
       "       [0.48789164],\n",
       "       [0.48785204],\n",
       "       [0.48850134],\n",
       "       [0.4882876 ],\n",
       "       [0.48826805],\n",
       "       [0.48789713],\n",
       "       [0.48800519],\n",
       "       [0.48789129],\n",
       "       [0.48808512],\n",
       "       [0.4879165 ],\n",
       "       [0.48791692],\n",
       "       [0.48789117],\n",
       "       [0.48816872],\n",
       "       [0.48821092],\n",
       "       [0.48825738],\n",
       "       [0.48789072],\n",
       "       [0.48812687],\n",
       "       [0.48812765],\n",
       "       [0.48800439],\n",
       "       [0.49555582],\n",
       "       [0.49485749],\n",
       "       [0.48806643],\n",
       "       [0.48823503],\n",
       "       [0.48811948],\n",
       "       [0.48822948]])"
      ]
     },
     "execution_count": 49,
     "metadata": {},
     "output_type": "execute_result"
    }
   ],
   "source": [
    "predicted_validation"
   ]
  },
  {
   "cell_type": "code",
   "execution_count": 53,
   "id": "ccefefd5-df0a-4973-b28d-f82453269f94",
   "metadata": {},
   "outputs": [
    {
     "data": {
      "image/png": "[encoded data removed]",
      "text/plain": [
       "<Figure size 1080x360 with 1 Axes>"
      ]
     },
     "metadata": {
      "needs_background": "light"
     },
     "output_type": "display_data"
    }
   ],
   "source": [
    "val_len = round(len(y)*0.2)\n",
    "\n",
    "plt.figure(figsize=(15, 5))\n",
    "plt.plot(predicted_validation)\n",
    "plt.plot(y[:val_len])\n",
    "plt.legend([\"predicted\", \"actual\"])\n",
    "plt.grid(True)\n",
    "plt.show()"
   ]
  },
  {
   "cell_type": "code",
   "execution_count": 56,
   "id": "35e816f2-cd1a-44c0-b0b3-dedba4af549c",
   "metadata": {},
   "outputs": [
    {
     "data": {
      "application/vnd.jupyter.widget-view+json": {
       "model_id": "8564653a31b447779bfba836a0af03bc",
       "version_major": 2,
       "version_minor": 0
      },
      "text/plain": [
       "  0%|          | 0/452 [00:00<?, ?it/s]"
      ]
     },
     "metadata": {},
     "output_type": "display_data"
    },
    {
     "data": {
      "application/vnd.jupyter.widget-view+json": {
       "model_id": "1068c77bfc4e440d9f062a362ccbde40",
       "version_major": 2,
       "version_minor": 0
      },
      "text/plain": [
       "  0%|          | 0/112 [00:00<?, ?it/s]"
      ]
     },
     "metadata": {},
     "output_type": "display_data"
    },
    {
     "data": {
      "application/vnd.jupyter.widget-view+json": {
       "model_id": "a2e752bbd60748dbbda93c1d24c74fa6",
       "version_major": 2,
       "version_minor": 0
      },
      "text/plain": [
       "  0%|          | 0/62 [00:00<?, ?it/s]"
      ]
     },
     "metadata": {},
     "output_type": "display_data"
    },
    {
     "data": {
      "application/vnd.jupyter.widget-view+json": {
       "model_id": "7f0724ea8fe64a1ea4accb57c209b18e",
       "version_major": 2,
       "version_minor": 0
      },
      "text/plain": [
       "  0%|          | 0/452 [00:00<?, ?it/s]"
      ]
     },
     "metadata": {},
     "output_type": "display_data"
    },
    {
     "data": {
      "application/vnd.jupyter.widget-view+json": {
       "model_id": "8198ce08952447ae93fe21e12b611a35",
       "version_major": 2,
       "version_minor": 0
      },
      "text/plain": [
       "  0%|          | 0/112 [00:00<?, ?it/s]"
      ]
     },
     "metadata": {},
     "output_type": "display_data"
    },
    {
     "data": {
      "application/vnd.jupyter.widget-view+json": {
       "model_id": "c3892a9e95d9463e80f59cb0e3569c38",
       "version_major": 2,
       "version_minor": 0
      },
      "text/plain": [
       "  0%|          | 0/62 [00:00<?, ?it/s]"
      ]
     },
     "metadata": {},
     "output_type": "display_data"
    }
   ],
   "source": [
    "densemodel = wavy.model.DenseModel(panel1, model_type=\"classifier\")"
   ]
  },
  {
   "cell_type": "code",
   "execution_count": 57,
   "id": "999a13bf-a64c-480f-a15d-33d5eb089184",
   "metadata": {},
   "outputs": [
    {
     "name": "stdout",
     "output_type": "stream",
     "text": [
      "15/15 [==============================] - 1s 15ms/step - loss: 0.6793 - auc: 0.4792 - accuracy: 0.9381 - val_loss: 0.6750 - val_auc: 0.4371 - val_accuracy: 0.7500\n"
     ]
    }
   ],
   "source": [
    "densemodel.fit()"
   ]
  },
  {
   "cell_type": "code",
   "execution_count": 58,
   "id": "25f012cd-111a-47da-ac4e-c26eac3f9968",
   "metadata": {},
   "outputs": [],
   "source": [
    "predicted_validation_dense = densemodel.predict_val()"
   ]
  },
  {
   "cell_type": "code",
   "execution_count": 59,
   "id": "c478ef7c-eada-4f02-9956-102dbe40f1e0",
   "metadata": {},
   "outputs": [],
   "source": [
    "predicted_validation_dense = predicted_validation_dense.as_dataframe().values"
   ]
  },
  {
   "cell_type": "code",
   "execution_count": 61,
   "id": "7c3e69c4-4c09-4d74-b260-0a86c42d1605",
   "metadata": {},
   "outputs": [
    {
     "data": {
      "image/png": "[encoded data removed]",
      "text/plain": [
       "<Figure size 1080x360 with 1 Axes>"
      ]
     },
     "metadata": {
      "needs_background": "light"
     },
     "output_type": "display_data"
    }
   ],
   "source": [
    "plt.figure(figsize=(15, 5))\n",
    "plt.plot(predicted_validation_dense)\n",
    "plt.plot(y[:val_len])\n",
    "plt.legend([\"predicted\", \"actual\"])\n",
    "plt.grid(True)\n",
    "plt.show()"
   ]
  },
  {
   "cell_type": "code",
   "execution_count": null,
   "id": "5fda4831-bbd6-4be9-823a-f27a16487166",
   "metadata": {},
   "outputs": [],
   "source": []
  }
 ],
 "metadata": {
  "kernelspec": {
   "display_name": "Python 3",
   "language": "python",
   "name": "python3"
  },
  "language_info": {
   "codemirror_mode": {
    "name": "ipython",
    "version": 3
   },
   "file_extension": ".py",
   "mimetype": "text/x-python",
   "name": "python",
   "nbconvert_exporter": "python",
   "pygments_lexer": "ipython3",
   "version": "3.7.10"
  }
 },
 "nbformat": 4,
 "nbformat_minor": 5
}
