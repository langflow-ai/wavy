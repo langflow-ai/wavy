{
 "cells": [
  {
   "cell_type": "code",
   "execution_count": 1,
   "metadata": {},
   "outputs": [],
   "source": [
    "from datetime import datetime\n",
    "import numpy as np\n",
    "import pandas as pd\n",
    "import tensorflow as tf\n",
    "from tqdm.notebook import tqdm\n",
    "\n",
    "import sys\n",
    "sys.path.append('../')\n",
    "from timelab import MultiColumn, from_data, from_xy_data\n",
    "from timelab.utils import smash_array"
   ]
  },
  {
   "cell_type": "code",
   "execution_count": 2,
   "metadata": {},
   "outputs": [],
   "source": [
    "df = pd.read_pickle('processed.pkl')"
   ]
  },
  {
   "cell_type": "code",
   "execution_count": 3,
   "metadata": {},
   "outputs": [],
   "source": [
    "# df = df[['LNC', 'MAS', 'CSX']]\n",
    "df = df[['MAS']]"
   ]
  },
  {
   "cell_type": "code",
   "execution_count": 4,
   "metadata": {},
   "outputs": [
    {
     "data": {
      "text/html": [
       "<div>\n",
       "<style scoped>\n",
       "    .dataframe tbody tr th:only-of-type {\n",
       "        vertical-align: middle;\n",
       "    }\n",
       "\n",
       "    .dataframe tbody tr th {\n",
       "        vertical-align: top;\n",
       "    }\n",
       "\n",
       "    .dataframe thead tr th {\n",
       "        text-align: left;\n",
       "    }\n",
       "\n",
       "    .dataframe thead tr:last-of-type th {\n",
       "        text-align: right;\n",
       "    }\n",
       "</style>\n",
       "<table border=\"1\" class=\"dataframe\">\n",
       "  <thead>\n",
       "    <tr>\n",
       "      <th></th>\n",
       "      <th colspan=\"5\" halign=\"left\">MAS</th>\n",
       "    </tr>\n",
       "    <tr>\n",
       "      <th></th>\n",
       "      <th>Open</th>\n",
       "      <th>High</th>\n",
       "      <th>Low</th>\n",
       "      <th>Close</th>\n",
       "      <th>Volume</th>\n",
       "    </tr>\n",
       "    <tr>\n",
       "      <th>Date</th>\n",
       "      <th></th>\n",
       "      <th></th>\n",
       "      <th></th>\n",
       "      <th></th>\n",
       "      <th></th>\n",
       "    </tr>\n",
       "  </thead>\n",
       "  <tbody>\n",
       "    <tr>\n",
       "      <th>2005-12-21</th>\n",
       "      <td>18.991695</td>\n",
       "      <td>19.154659</td>\n",
       "      <td>18.903944</td>\n",
       "      <td>19.085712</td>\n",
       "      <td>1384200.0</td>\n",
       "    </tr>\n",
       "    <tr>\n",
       "      <th>2005-12-22</th>\n",
       "      <td>19.085703</td>\n",
       "      <td>19.298810</td>\n",
       "      <td>18.910202</td>\n",
       "      <td>18.929007</td>\n",
       "      <td>1576900.0</td>\n",
       "    </tr>\n",
       "    <tr>\n",
       "      <th>2005-12-23</th>\n",
       "      <td>18.954090</td>\n",
       "      <td>18.954090</td>\n",
       "      <td>18.684571</td>\n",
       "      <td>18.816196</td>\n",
       "      <td>2090500.0</td>\n",
       "    </tr>\n",
       "    <tr>\n",
       "      <th>2005-12-27</th>\n",
       "      <td>18.929008</td>\n",
       "      <td>18.991687</td>\n",
       "      <td>18.803650</td>\n",
       "      <td>18.847525</td>\n",
       "      <td>1609000.0</td>\n",
       "    </tr>\n",
       "    <tr>\n",
       "      <th>2005-12-28</th>\n",
       "      <td>18.853798</td>\n",
       "      <td>18.935281</td>\n",
       "      <td>18.747245</td>\n",
       "      <td>18.803656</td>\n",
       "      <td>2026300.0</td>\n",
       "    </tr>\n",
       "  </tbody>\n",
       "</table>\n",
       "</div>"
      ],
      "text/plain": [
       "                  MAS                                            \n",
       "                 Open       High        Low      Close     Volume\n",
       "Date                                                             \n",
       "2005-12-21  18.991695  19.154659  18.903944  19.085712  1384200.0\n",
       "2005-12-22  19.085703  19.298810  18.910202  18.929007  1576900.0\n",
       "2005-12-23  18.954090  18.954090  18.684571  18.816196  2090500.0\n",
       "2005-12-27  18.929008  18.991687  18.803650  18.847525  1609000.0\n",
       "2005-12-28  18.853798  18.935281  18.747245  18.803656  2026300.0"
      ]
     },
     "execution_count": 4,
     "metadata": {},
     "output_type": "execute_result"
    }
   ],
   "source": [
    "df.head(5)"
   ]
  },
  {
   "cell_type": "code",
   "execution_count": 5,
   "metadata": {},
   "outputs": [
    {
     "data": {
      "text/html": [
       "<div>\n",
       "<style scoped>\n",
       "    .dataframe tbody tr th:only-of-type {\n",
       "        vertical-align: middle;\n",
       "    }\n",
       "\n",
       "    .dataframe tbody tr th {\n",
       "        vertical-align: top;\n",
       "    }\n",
       "\n",
       "    .dataframe thead tr th {\n",
       "        text-align: left;\n",
       "    }\n",
       "\n",
       "    .dataframe thead tr:last-of-type th {\n",
       "        text-align: right;\n",
       "    }\n",
       "</style>\n",
       "<table border=\"1\" class=\"dataframe\">\n",
       "  <thead>\n",
       "    <tr>\n",
       "      <th></th>\n",
       "      <th colspan=\"5\" halign=\"left\">MAS</th>\n",
       "    </tr>\n",
       "    <tr>\n",
       "      <th></th>\n",
       "      <th>Open</th>\n",
       "      <th>High</th>\n",
       "      <th>Low</th>\n",
       "      <th>Close</th>\n",
       "      <th>Volume</th>\n",
       "    </tr>\n",
       "    <tr>\n",
       "      <th>Date</th>\n",
       "      <th></th>\n",
       "      <th></th>\n",
       "      <th></th>\n",
       "      <th></th>\n",
       "      <th></th>\n",
       "    </tr>\n",
       "  </thead>\n",
       "  <tbody>\n",
       "    <tr>\n",
       "      <th>2005-12-22</th>\n",
       "      <td>0.004950</td>\n",
       "      <td>0.007526</td>\n",
       "      <td>0.000331</td>\n",
       "      <td>-0.008211</td>\n",
       "      <td>0.139214</td>\n",
       "    </tr>\n",
       "    <tr>\n",
       "      <th>2005-12-23</th>\n",
       "      <td>-0.006896</td>\n",
       "      <td>-0.017862</td>\n",
       "      <td>-0.011932</td>\n",
       "      <td>-0.005960</td>\n",
       "      <td>0.325702</td>\n",
       "    </tr>\n",
       "    <tr>\n",
       "      <th>2005-12-27</th>\n",
       "      <td>-0.001323</td>\n",
       "      <td>0.001984</td>\n",
       "      <td>0.006373</td>\n",
       "      <td>0.001665</td>\n",
       "      <td>-0.230328</td>\n",
       "    </tr>\n",
       "    <tr>\n",
       "      <th>2005-12-28</th>\n",
       "      <td>-0.003973</td>\n",
       "      <td>-0.002970</td>\n",
       "      <td>-0.003000</td>\n",
       "      <td>-0.002328</td>\n",
       "      <td>0.259354</td>\n",
       "    </tr>\n",
       "    <tr>\n",
       "      <th>2005-12-29</th>\n",
       "      <td>-0.002659</td>\n",
       "      <td>-0.000331</td>\n",
       "      <td>-0.001337</td>\n",
       "      <td>-0.000667</td>\n",
       "      <td>-0.240734</td>\n",
       "    </tr>\n",
       "  </tbody>\n",
       "</table>\n",
       "</div>"
      ],
      "text/plain": [
       "                 MAS                                        \n",
       "                Open      High       Low     Close    Volume\n",
       "Date                                                        \n",
       "2005-12-22  0.004950  0.007526  0.000331 -0.008211  0.139214\n",
       "2005-12-23 -0.006896 -0.017862 -0.011932 -0.005960  0.325702\n",
       "2005-12-27 -0.001323  0.001984  0.006373  0.001665 -0.230328\n",
       "2005-12-28 -0.003973 -0.002970 -0.003000 -0.002328  0.259354\n",
       "2005-12-29 -0.002659 -0.000331 -0.001337 -0.000667 -0.240734"
      ]
     },
     "execution_count": 5,
     "metadata": {},
     "output_type": "execute_result"
    }
   ],
   "source": [
    "# xdata preprocessing\n",
    "\n",
    "xdata = df.pct_change().dropna()\n",
    "xdata = MultiColumn(xdata)\n",
    "xdata.head()"
   ]
  },
  {
   "cell_type": "code",
   "execution_count": 6,
   "metadata": {},
   "outputs": [
    {
     "ename": "AttributeError",
     "evalue": "'MultiColumn' object has no attribute 'channel_apply'",
     "output_type": "error",
     "traceback": [
      "\u001b[0;31m---------------------------------------------------------------------------\u001b[0m",
      "\u001b[0;31mAttributeError\u001b[0m                            Traceback (most recent call last)",
      "\u001b[0;32m/var/folders/1h/2q97f2rx4qz77b9l1gp7wvvm0000gn/T/ipykernel_91383/2695711294.py\u001b[0m in \u001b[0;36m<module>\u001b[0;34m\u001b[0m\n\u001b[1;32m      3\u001b[0m \u001b[0mydata\u001b[0m \u001b[0;34m=\u001b[0m \u001b[0mxdata\u001b[0m\u001b[0;34m.\u001b[0m\u001b[0mcopy\u001b[0m\u001b[0;34m(\u001b[0m\u001b[0;34m)\u001b[0m\u001b[0;34m\u001b[0m\u001b[0;34m\u001b[0m\u001b[0m\n\u001b[1;32m      4\u001b[0m \u001b[0;34m\u001b[0m\u001b[0m\n\u001b[0;32m----> 5\u001b[0;31m \u001b[0mydata\u001b[0m \u001b[0;34m=\u001b[0m \u001b[0mydata\u001b[0m\u001b[0;34m.\u001b[0m\u001b[0mchannel_apply\u001b[0m\u001b[0;34m(\u001b[0m\u001b[0;32mlambda\u001b[0m \u001b[0mx\u001b[0m\u001b[0;34m:\u001b[0m \u001b[0;34m(\u001b[0m\u001b[0mx\u001b[0m\u001b[0;34m[\u001b[0m\u001b[0;34m'High'\u001b[0m\u001b[0;34m]\u001b[0m \u001b[0;34m>\u001b[0m \u001b[0;36m0\u001b[0m\u001b[0;34m)\u001b[0m\u001b[0;34m.\u001b[0m\u001b[0mastype\u001b[0m\u001b[0;34m(\u001b[0m\u001b[0mfloat\u001b[0m\u001b[0;34m)\u001b[0m\u001b[0;34m,\u001b[0m \u001b[0;34m'Raise'\u001b[0m\u001b[0;34m)\u001b[0m\u001b[0;34m\u001b[0m\u001b[0;34m\u001b[0m\u001b[0m\n\u001b[0m\u001b[1;32m      6\u001b[0m \u001b[0mydata\u001b[0m \u001b[0;34m=\u001b[0m \u001b[0mydata\u001b[0m\u001b[0;34m.\u001b[0m\u001b[0mloc\u001b[0m\u001b[0;34m[\u001b[0m\u001b[0mxdata\u001b[0m\u001b[0;34m.\u001b[0m\u001b[0mindex\u001b[0m\u001b[0;34m]\u001b[0m\u001b[0;34m\u001b[0m\u001b[0;34m\u001b[0m\u001b[0m\n\u001b[1;32m      7\u001b[0m \u001b[0mydata\u001b[0m \u001b[0;34m=\u001b[0m \u001b[0mMultiColumn\u001b[0m\u001b[0;34m(\u001b[0m\u001b[0mydata\u001b[0m\u001b[0;34m)\u001b[0m\u001b[0;34m\u001b[0m\u001b[0;34m\u001b[0m\u001b[0m\n",
      "\u001b[0;32m~/GitHub/wavy/.venv/lib/python3.8/site-packages/pandas/core/generic.py\u001b[0m in \u001b[0;36m__getattr__\u001b[0;34m(self, name)\u001b[0m\n\u001b[1;32m   5485\u001b[0m         ):\n\u001b[1;32m   5486\u001b[0m             \u001b[0;32mreturn\u001b[0m \u001b[0mself\u001b[0m\u001b[0;34m[\u001b[0m\u001b[0mname\u001b[0m\u001b[0;34m]\u001b[0m\u001b[0;34m\u001b[0m\u001b[0;34m\u001b[0m\u001b[0m\n\u001b[0;32m-> 5487\u001b[0;31m         \u001b[0;32mreturn\u001b[0m \u001b[0mobject\u001b[0m\u001b[0;34m.\u001b[0m\u001b[0m__getattribute__\u001b[0m\u001b[0;34m(\u001b[0m\u001b[0mself\u001b[0m\u001b[0;34m,\u001b[0m \u001b[0mname\u001b[0m\u001b[0;34m)\u001b[0m\u001b[0;34m\u001b[0m\u001b[0;34m\u001b[0m\u001b[0m\n\u001b[0m\u001b[1;32m   5488\u001b[0m \u001b[0;34m\u001b[0m\u001b[0m\n\u001b[1;32m   5489\u001b[0m     \u001b[0;32mdef\u001b[0m \u001b[0m__setattr__\u001b[0m\u001b[0;34m(\u001b[0m\u001b[0mself\u001b[0m\u001b[0;34m,\u001b[0m \u001b[0mname\u001b[0m\u001b[0;34m:\u001b[0m \u001b[0mstr\u001b[0m\u001b[0;34m,\u001b[0m \u001b[0mvalue\u001b[0m\u001b[0;34m)\u001b[0m \u001b[0;34m->\u001b[0m \u001b[0;32mNone\u001b[0m\u001b[0;34m:\u001b[0m\u001b[0;34m\u001b[0m\u001b[0;34m\u001b[0m\u001b[0m\n",
      "\u001b[0;31mAttributeError\u001b[0m: 'MultiColumn' object has no attribute 'channel_apply'"
     ]
    }
   ],
   "source": [
    "# ydata preprocessing\n",
    "\n",
    "ydata = xdata.copy()\n",
    "\n",
    "ydata = ydata.channel_apply(lambda x: (x['High'] > 0).astype(float), 'Raise')\n",
    "ydata = ydata.loc[xdata.index]\n",
    "ydata = MultiColumn(ydata)\n",
    "ydata.head()"
   ]
  },
  {
   "cell_type": "code",
   "execution_count": 9,
   "metadata": {},
   "outputs": [
    {
     "name": "stderr",
     "output_type": "stream",
     "text": [
      "/Users/rodrigonader/My Drive/Logspace/Repositories/timeLab/timelab/panel.py:47: UserWarning: Frequency is either not constant or negative.\n",
      "  warnings.warn(\"Frequency is either not constant or negative.\")\n",
      "100%|██████████| 3739/3739 [00:00<00:00, 276738.65it/s]"
     ]
    },
    {
     "name": "stdout",
     "output_type": "stream",
     "text": [
      "TimePanel\n",
      "size                            3739\n",
      "lookback                           7\n",
      "horizon                            1\n",
      "gap                                0\n",
      "num_xunits                         1\n",
      "num_yunits                         1\n",
      "num_xchannels                      5\n",
      "num_ychannels                      1\n",
      "start            2005-12-22 00:00:00\n",
      "end              2020-11-10 00:00:00\n",
      "Name: TimePanel, dtype: object\n"
     ]
    },
    {
     "name": "stderr",
     "output_type": "stream",
     "text": [
      "\n"
     ]
    },
    {
     "data": {
      "text/plain": [
       "<TimePanel, size 3739>"
      ]
     },
     "execution_count": 9,
     "metadata": {},
     "output_type": "execute_result"
    }
   ],
   "source": [
    "lookback = 7\n",
    "horizon = 1\n",
    "gap = 0\n",
    "\n",
    "panel = from_xy_data(xdata, ydata, lookback=lookback, horizon=horizon, gap=gap)\n",
    "panel"
   ]
  },
  {
   "cell_type": "code",
   "execution_count": 10,
   "metadata": {},
   "outputs": [],
   "source": [
    "train, test = panel.train_test_split(0.2)"
   ]
  },
  {
   "cell_type": "code",
   "execution_count": 11,
   "metadata": {},
   "outputs": [
    {
     "data": {
      "text/plain": [
       "1.0    1887\n",
       "0.0    1852\n",
       "dtype: int64"
      ]
     },
     "execution_count": 11,
     "metadata": {},
     "output_type": "execute_result"
    }
   ],
   "source": [
    "pd.Series(panel.y.flatten()).value_counts()"
   ]
  },
  {
   "cell_type": "code",
   "execution_count": 12,
   "metadata": {},
   "outputs": [],
   "source": [
    "# Should find freq [business days]... Missing calendar?\n",
    "# panel.find_freq()"
   ]
  },
  {
   "cell_type": "code",
   "execution_count": 13,
   "metadata": {},
   "outputs": [],
   "source": [
    "# y is 1D so flatten is enough\n",
    "# y = panel.y.flatten()"
   ]
  },
  {
   "cell_type": "code",
   "execution_count": 14,
   "metadata": {
    "tags": []
   },
   "outputs": [
    {
     "name": "stderr",
     "output_type": "stream",
     "text": [
      "100%|██████████| 1/1 [00:00<00:00, 73.13it/s]\n",
      "100%|██████████| 1/1 [00:00<00:00, 202.89it/s]\n"
     ]
    }
   ],
   "source": [
    "train_panels = train.split_units(split_yunits=False)\n",
    "test_panels = test.split_units(split_yunits=False)"
   ]
  },
  {
   "cell_type": "code",
   "execution_count": 18,
   "metadata": {},
   "outputs": [
    {
     "data": {
      "application/vnd.jupyter.widget-view+json": {
       "model_id": "889d0bb1c7744987b5840116b8db2661",
       "version_major": 2,
       "version_minor": 0
      },
      "text/plain": [
       "  0%|          | 0/1 [00:00<?, ?it/s]"
      ]
     },
     "metadata": {},
     "output_type": "display_data"
    }
   ],
   "source": [
    "inputs = {}\n",
    "hidden = {}\n",
    "\n",
    "for panel_ in tqdm(train_panels):\n",
    "    name = panel_.xunits[0]\n",
    "\n",
    "    # Remove unit dimension - it is already being processed separately.\n",
    "    X = smash_array(panel_.X)\n",
    "\n",
    "    inputs[name] = tf.keras.Input(shape=(X.shape[1:]), name='input.' + name)\n",
    "\n",
    "    # Convoluting on the time dimension\n",
    "    # [lookback] timesteps reduced to 100 nodes\n",
    "    hidden[name] = tf.keras.layers.SeparableConv1D(10*lookback, lookback, name='conv.' + name, activation=tf.nn.relu)(inputs[name])\n",
    "    hidden[name] = tf.keras.layers.Flatten(name='flatten.' + name)(hidden[name])\n",
    "    hidden[name] = tf.keras.layers.Dense(5, activation=tf.nn.relu, name='dense.' + name)(hidden[name])\n",
    "\n",
    "x = tf.keras.layers.concatenate(list(hidden.values()))\n",
    "x = tf.keras.layers.Dense(panel.y.shape[1], activation=tf.nn.sigmoid)(x)\n",
    "outputs = tf.keras.layers.Reshape(panel.y.shape[1:])(x)\n",
    "\n",
    "model = tf.keras.Model(inputs=list(inputs.values()), outputs=outputs)\n",
    "model.compile(optimizer=\"Adam\", loss=\"binary_crossentropy\", metrics=[\"binary_crossentropy\", 'accuracy'])"
   ]
  },
  {
   "cell_type": "code",
   "execution_count": 19,
   "metadata": {},
   "outputs": [
    {
     "name": "stdout",
     "output_type": "stream",
     "text": [
      "Epoch 1/100\n",
      " 8/94 [=>............................] - ETA: 0s - loss: 0.6925 - binary_crossentropy: 0.6925 - accuracy: 0.5039 "
     ]
    },
    {
     "name": "stderr",
     "output_type": "stream",
     "text": [
      "2021-09-20 16:54:56.566037: I tensorflow/core/grappler/optimizers/custom_graph_optimizer_registry.cc:112] Plugin optimizer for device_type GPU is enabled.\n"
     ]
    },
    {
     "name": "stdout",
     "output_type": "stream",
     "text": [
      "94/94 [==============================] - 1s 9ms/step - loss: 0.6929 - binary_crossentropy: 0.6929 - accuracy: 0.5115 - val_loss: 0.6931 - val_binary_crossentropy: 0.6931 - val_accuracy: 0.4960\n",
      "Epoch 2/100\n",
      "11/94 [==>...........................] - ETA: 0s - loss: 0.6919 - binary_crossentropy: 0.6919 - accuracy: 0.5369"
     ]
    },
    {
     "name": "stderr",
     "output_type": "stream",
     "text": [
      "2021-09-20 16:54:57.406312: I tensorflow/core/grappler/optimizers/custom_graph_optimizer_registry.cc:112] Plugin optimizer for device_type GPU is enabled.\n"
     ]
    },
    {
     "name": "stdout",
     "output_type": "stream",
     "text": [
      "94/94 [==============================] - 1s 7ms/step - loss: 0.6914 - binary_crossentropy: 0.6914 - accuracy: 0.5266 - val_loss: 0.6929 - val_binary_crossentropy: 0.6929 - val_accuracy: 0.4933\n",
      "Epoch 3/100\n",
      "94/94 [==============================] - 1s 7ms/step - loss: 0.6897 - binary_crossentropy: 0.6897 - accuracy: 0.5390 - val_loss: 0.6926 - val_binary_crossentropy: 0.6926 - val_accuracy: 0.4960\n",
      "Epoch 4/100\n",
      "94/94 [==============================] - 1s 7ms/step - loss: 0.6869 - binary_crossentropy: 0.6869 - accuracy: 0.5540 - val_loss: 0.6906 - val_binary_crossentropy: 0.6906 - val_accuracy: 0.5227\n",
      "Epoch 5/100\n",
      "94/94 [==============================] - 1s 7ms/step - loss: 0.6786 - binary_crossentropy: 0.6786 - accuracy: 0.5864 - val_loss: 0.6820 - val_binary_crossentropy: 0.6820 - val_accuracy: 0.5561\n",
      "Epoch 6/100\n",
      "94/94 [==============================] - 1s 7ms/step - loss: 0.6664 - binary_crossentropy: 0.6664 - accuracy: 0.5998 - val_loss: 0.6732 - val_binary_crossentropy: 0.6732 - val_accuracy: 0.5668\n",
      "Epoch 7/100\n",
      "94/94 [==============================] - 1s 7ms/step - loss: 0.6539 - binary_crossentropy: 0.6539 - accuracy: 0.6155 - val_loss: 0.6670 - val_binary_crossentropy: 0.6670 - val_accuracy: 0.5762\n",
      "Epoch 8/100\n",
      "94/94 [==============================] - 1s 7ms/step - loss: 0.6430 - binary_crossentropy: 0.6430 - accuracy: 0.6249 - val_loss: 0.6564 - val_binary_crossentropy: 0.6564 - val_accuracy: 0.6217\n",
      "Epoch 9/100\n",
      "94/94 [==============================] - 1s 7ms/step - loss: 0.6378 - binary_crossentropy: 0.6378 - accuracy: 0.6326 - val_loss: 0.6509 - val_binary_crossentropy: 0.6509 - val_accuracy: 0.6484\n",
      "Epoch 10/100\n",
      "94/94 [==============================] - 1s 7ms/step - loss: 0.6342 - binary_crossentropy: 0.6342 - accuracy: 0.6362 - val_loss: 0.6461 - val_binary_crossentropy: 0.6461 - val_accuracy: 0.6537\n",
      "Epoch 11/100\n",
      "94/94 [==============================] - 1s 7ms/step - loss: 0.6324 - binary_crossentropy: 0.6324 - accuracy: 0.6453 - val_loss: 0.6474 - val_binary_crossentropy: 0.6474 - val_accuracy: 0.6283\n",
      "Epoch 12/100\n",
      "94/94 [==============================] - 1s 7ms/step - loss: 0.6291 - binary_crossentropy: 0.6291 - accuracy: 0.6446 - val_loss: 0.6445 - val_binary_crossentropy: 0.6445 - val_accuracy: 0.6404\n",
      "Epoch 13/100\n",
      "94/94 [==============================] - 1s 8ms/step - loss: 0.6268 - binary_crossentropy: 0.6268 - accuracy: 0.6516 - val_loss: 0.6463 - val_binary_crossentropy: 0.6463 - val_accuracy: 0.6377\n",
      "Epoch 14/100\n",
      "94/94 [==============================] - 1s 7ms/step - loss: 0.6263 - binary_crossentropy: 0.6263 - accuracy: 0.6530 - val_loss: 0.6386 - val_binary_crossentropy: 0.6386 - val_accuracy: 0.6457\n",
      "Epoch 15/100\n",
      "94/94 [==============================] - 1s 7ms/step - loss: 0.6246 - binary_crossentropy: 0.6246 - accuracy: 0.6526 - val_loss: 0.6378 - val_binary_crossentropy: 0.6378 - val_accuracy: 0.6511\n",
      "Epoch 16/100\n",
      "94/94 [==============================] - 1s 7ms/step - loss: 0.6219 - binary_crossentropy: 0.6219 - accuracy: 0.6617 - val_loss: 0.6353 - val_binary_crossentropy: 0.6353 - val_accuracy: 0.6578\n",
      "Epoch 17/100\n",
      "94/94 [==============================] - 1s 7ms/step - loss: 0.6211 - binary_crossentropy: 0.6211 - accuracy: 0.6657 - val_loss: 0.6339 - val_binary_crossentropy: 0.6339 - val_accuracy: 0.6604\n",
      "Epoch 18/100\n",
      "94/94 [==============================] - 1s 7ms/step - loss: 0.6200 - binary_crossentropy: 0.6200 - accuracy: 0.6530 - val_loss: 0.6319 - val_binary_crossentropy: 0.6319 - val_accuracy: 0.6618\n",
      "Epoch 19/100\n",
      "94/94 [==============================] - 1s 7ms/step - loss: 0.6172 - binary_crossentropy: 0.6172 - accuracy: 0.6657 - val_loss: 0.6308 - val_binary_crossentropy: 0.6308 - val_accuracy: 0.6618\n",
      "Epoch 20/100\n",
      "94/94 [==============================] - 1s 7ms/step - loss: 0.6142 - binary_crossentropy: 0.6142 - accuracy: 0.6660 - val_loss: 0.6291 - val_binary_crossentropy: 0.6291 - val_accuracy: 0.6578\n",
      "Epoch 21/100\n",
      "94/94 [==============================] - 1s 7ms/step - loss: 0.6114 - binary_crossentropy: 0.6114 - accuracy: 0.6703 - val_loss: 0.6330 - val_binary_crossentropy: 0.6330 - val_accuracy: 0.6497\n",
      "Epoch 22/100\n",
      "94/94 [==============================] - 1s 7ms/step - loss: 0.6112 - binary_crossentropy: 0.6112 - accuracy: 0.6717 - val_loss: 0.6237 - val_binary_crossentropy: 0.6237 - val_accuracy: 0.6644\n",
      "Epoch 23/100\n",
      "94/94 [==============================] - 1s 7ms/step - loss: 0.6089 - binary_crossentropy: 0.6089 - accuracy: 0.6680 - val_loss: 0.6265 - val_binary_crossentropy: 0.6265 - val_accuracy: 0.6537\n",
      "Epoch 24/100\n",
      "94/94 [==============================] - 1s 7ms/step - loss: 0.6081 - binary_crossentropy: 0.6081 - accuracy: 0.6740 - val_loss: 0.6211 - val_binary_crossentropy: 0.6211 - val_accuracy: 0.6591\n",
      "Epoch 25/100\n",
      "94/94 [==============================] - 1s 7ms/step - loss: 0.6062 - binary_crossentropy: 0.6062 - accuracy: 0.6697 - val_loss: 0.6245 - val_binary_crossentropy: 0.6245 - val_accuracy: 0.6658\n",
      "Epoch 26/100\n",
      "94/94 [==============================] - 1s 7ms/step - loss: 0.6061 - binary_crossentropy: 0.6061 - accuracy: 0.6794 - val_loss: 0.6187 - val_binary_crossentropy: 0.6187 - val_accuracy: 0.6711\n",
      "Epoch 27/100\n",
      "94/94 [==============================] - 1s 7ms/step - loss: 0.6040 - binary_crossentropy: 0.6040 - accuracy: 0.6717 - val_loss: 0.6208 - val_binary_crossentropy: 0.6208 - val_accuracy: 0.6644\n",
      "Epoch 28/100\n",
      "94/94 [==============================] - 1s 7ms/step - loss: 0.6034 - binary_crossentropy: 0.6034 - accuracy: 0.6790 - val_loss: 0.6161 - val_binary_crossentropy: 0.6161 - val_accuracy: 0.6725\n",
      "Epoch 29/100\n",
      "94/94 [==============================] - 1s 7ms/step - loss: 0.6019 - binary_crossentropy: 0.6019 - accuracy: 0.6824 - val_loss: 0.6153 - val_binary_crossentropy: 0.6153 - val_accuracy: 0.6684\n",
      "Epoch 30/100\n",
      "94/94 [==============================] - 1s 7ms/step - loss: 0.6004 - binary_crossentropy: 0.6004 - accuracy: 0.6864 - val_loss: 0.6171 - val_binary_crossentropy: 0.6171 - val_accuracy: 0.6658\n",
      "Epoch 31/100\n",
      "94/94 [==============================] - 1s 7ms/step - loss: 0.5995 - binary_crossentropy: 0.5995 - accuracy: 0.6871 - val_loss: 0.6138 - val_binary_crossentropy: 0.6138 - val_accuracy: 0.6711\n",
      "Epoch 32/100\n",
      "94/94 [==============================] - 1s 7ms/step - loss: 0.5992 - binary_crossentropy: 0.5992 - accuracy: 0.6810 - val_loss: 0.6124 - val_binary_crossentropy: 0.6124 - val_accuracy: 0.6791\n",
      "Epoch 33/100\n",
      "94/94 [==============================] - 1s 7ms/step - loss: 0.5982 - binary_crossentropy: 0.5982 - accuracy: 0.6857 - val_loss: 0.6122 - val_binary_crossentropy: 0.6122 - val_accuracy: 0.6751\n",
      "Epoch 34/100\n",
      "94/94 [==============================] - 1s 7ms/step - loss: 0.5963 - binary_crossentropy: 0.5963 - accuracy: 0.6864 - val_loss: 0.6115 - val_binary_crossentropy: 0.6115 - val_accuracy: 0.6658\n",
      "Epoch 35/100\n",
      "94/94 [==============================] - 1s 7ms/step - loss: 0.5956 - binary_crossentropy: 0.5956 - accuracy: 0.6867 - val_loss: 0.6127 - val_binary_crossentropy: 0.6127 - val_accuracy: 0.6751\n",
      "Epoch 36/100\n",
      "94/94 [==============================] - 1s 7ms/step - loss: 0.5960 - binary_crossentropy: 0.5960 - accuracy: 0.6844 - val_loss: 0.6108 - val_binary_crossentropy: 0.6108 - val_accuracy: 0.6778\n",
      "Epoch 37/100\n",
      "94/94 [==============================] - 1s 8ms/step - loss: 0.5947 - binary_crossentropy: 0.5947 - accuracy: 0.6874 - val_loss: 0.6109 - val_binary_crossentropy: 0.6109 - val_accuracy: 0.6684\n",
      "Epoch 38/100\n",
      "94/94 [==============================] - 1s 7ms/step - loss: 0.5950 - binary_crossentropy: 0.5950 - accuracy: 0.6820 - val_loss: 0.6120 - val_binary_crossentropy: 0.6120 - val_accuracy: 0.6791\n",
      "Epoch 39/100\n",
      "94/94 [==============================] - 1s 7ms/step - loss: 0.5936 - binary_crossentropy: 0.5936 - accuracy: 0.6904 - val_loss: 0.6120 - val_binary_crossentropy: 0.6120 - val_accuracy: 0.6778\n",
      "Epoch 40/100\n",
      "94/94 [==============================] - 1s 7ms/step - loss: 0.5939 - binary_crossentropy: 0.5939 - accuracy: 0.6851 - val_loss: 0.6077 - val_binary_crossentropy: 0.6077 - val_accuracy: 0.6778\n",
      "Epoch 41/100\n",
      "94/94 [==============================] - 1s 7ms/step - loss: 0.5945 - binary_crossentropy: 0.5945 - accuracy: 0.6907 - val_loss: 0.6072 - val_binary_crossentropy: 0.6072 - val_accuracy: 0.6751\n",
      "Epoch 42/100\n",
      "94/94 [==============================] - 1s 7ms/step - loss: 0.5918 - binary_crossentropy: 0.5918 - accuracy: 0.6907 - val_loss: 0.6067 - val_binary_crossentropy: 0.6067 - val_accuracy: 0.6898\n",
      "Epoch 43/100\n",
      "94/94 [==============================] - 1s 7ms/step - loss: 0.5918 - binary_crossentropy: 0.5918 - accuracy: 0.6911 - val_loss: 0.6159 - val_binary_crossentropy: 0.6159 - val_accuracy: 0.6671\n",
      "Epoch 44/100\n",
      "94/94 [==============================] - 1s 7ms/step - loss: 0.5924 - binary_crossentropy: 0.5924 - accuracy: 0.6904 - val_loss: 0.6084 - val_binary_crossentropy: 0.6084 - val_accuracy: 0.6751\n",
      "Epoch 45/100\n",
      "94/94 [==============================] - 1s 7ms/step - loss: 0.5901 - binary_crossentropy: 0.5901 - accuracy: 0.6931 - val_loss: 0.6069 - val_binary_crossentropy: 0.6069 - val_accuracy: 0.6791\n",
      "Epoch 46/100\n",
      "94/94 [==============================] - 1s 7ms/step - loss: 0.5913 - binary_crossentropy: 0.5913 - accuracy: 0.6887 - val_loss: 0.6071 - val_binary_crossentropy: 0.6071 - val_accuracy: 0.6818\n",
      "Epoch 47/100\n",
      "94/94 [==============================] - 1s 7ms/step - loss: 0.5918 - binary_crossentropy: 0.5918 - accuracy: 0.6911 - val_loss: 0.6082 - val_binary_crossentropy: 0.6082 - val_accuracy: 0.6818\n",
      "Epoch 48/100\n",
      "94/94 [==============================] - 1s 7ms/step - loss: 0.5892 - binary_crossentropy: 0.5892 - accuracy: 0.6917 - val_loss: 0.6047 - val_binary_crossentropy: 0.6047 - val_accuracy: 0.6858\n",
      "Epoch 49/100\n",
      "94/94 [==============================] - 1s 7ms/step - loss: 0.5886 - binary_crossentropy: 0.5886 - accuracy: 0.6911 - val_loss: 0.6048 - val_binary_crossentropy: 0.6048 - val_accuracy: 0.6858\n",
      "Epoch 50/100\n",
      "94/94 [==============================] - 1s 8ms/step - loss: 0.5889 - binary_crossentropy: 0.5889 - accuracy: 0.6921 - val_loss: 0.6041 - val_binary_crossentropy: 0.6041 - val_accuracy: 0.6872\n",
      "Epoch 51/100\n",
      "94/94 [==============================] - 1s 7ms/step - loss: 0.5885 - binary_crossentropy: 0.5885 - accuracy: 0.6894 - val_loss: 0.6037 - val_binary_crossentropy: 0.6037 - val_accuracy: 0.6898\n",
      "Epoch 52/100\n",
      "94/94 [==============================] - 1s 7ms/step - loss: 0.5883 - binary_crossentropy: 0.5883 - accuracy: 0.6914 - val_loss: 0.6070 - val_binary_crossentropy: 0.6070 - val_accuracy: 0.6858\n",
      "Epoch 53/100\n",
      "94/94 [==============================] - 1s 8ms/step - loss: 0.5896 - binary_crossentropy: 0.5896 - accuracy: 0.6897 - val_loss: 0.6049 - val_binary_crossentropy: 0.6049 - val_accuracy: 0.6791\n",
      "Epoch 54/100\n",
      "94/94 [==============================] - 1s 6ms/step - loss: 0.5877 - binary_crossentropy: 0.5877 - accuracy: 0.6951 - val_loss: 0.6055 - val_binary_crossentropy: 0.6055 - val_accuracy: 0.6778\n",
      "Epoch 55/100\n",
      "94/94 [==============================] - 1s 6ms/step - loss: 0.5873 - binary_crossentropy: 0.5873 - accuracy: 0.6904 - val_loss: 0.6037 - val_binary_crossentropy: 0.6037 - val_accuracy: 0.6845\n",
      "Epoch 56/100\n",
      "94/94 [==============================] - 1s 6ms/step - loss: 0.5866 - binary_crossentropy: 0.5866 - accuracy: 0.6934 - val_loss: 0.6044 - val_binary_crossentropy: 0.6044 - val_accuracy: 0.6805\n",
      "Epoch 57/100\n",
      "94/94 [==============================] - 1s 7ms/step - loss: 0.5863 - binary_crossentropy: 0.5863 - accuracy: 0.6961 - val_loss: 0.6042 - val_binary_crossentropy: 0.6042 - val_accuracy: 0.6778\n",
      "Epoch 58/100\n",
      "94/94 [==============================] - 1s 6ms/step - loss: 0.5866 - binary_crossentropy: 0.5866 - accuracy: 0.6964 - val_loss: 0.6069 - val_binary_crossentropy: 0.6069 - val_accuracy: 0.6818\n",
      "Epoch 59/100\n",
      "94/94 [==============================] - 1s 6ms/step - loss: 0.5848 - binary_crossentropy: 0.5848 - accuracy: 0.6968 - val_loss: 0.6053 - val_binary_crossentropy: 0.6053 - val_accuracy: 0.6845\n",
      "Epoch 60/100\n",
      "94/94 [==============================] - 1s 6ms/step - loss: 0.5860 - binary_crossentropy: 0.5860 - accuracy: 0.6988 - val_loss: 0.6032 - val_binary_crossentropy: 0.6032 - val_accuracy: 0.6912\n",
      "Epoch 61/100\n",
      "94/94 [==============================] - 1s 6ms/step - loss: 0.5855 - binary_crossentropy: 0.5855 - accuracy: 0.6931 - val_loss: 0.6034 - val_binary_crossentropy: 0.6034 - val_accuracy: 0.6805\n",
      "Epoch 62/100\n",
      "94/94 [==============================] - 1s 6ms/step - loss: 0.5842 - binary_crossentropy: 0.5842 - accuracy: 0.6941 - val_loss: 0.6025 - val_binary_crossentropy: 0.6025 - val_accuracy: 0.6858\n",
      "Epoch 63/100\n",
      "94/94 [==============================] - 1s 7ms/step - loss: 0.5852 - binary_crossentropy: 0.5852 - accuracy: 0.6964 - val_loss: 0.6037 - val_binary_crossentropy: 0.6037 - val_accuracy: 0.6912\n",
      "Epoch 64/100\n",
      "94/94 [==============================] - 1s 7ms/step - loss: 0.5843 - binary_crossentropy: 0.5843 - accuracy: 0.6984 - val_loss: 0.6022 - val_binary_crossentropy: 0.6022 - val_accuracy: 0.6872\n",
      "Epoch 65/100\n",
      "94/94 [==============================] - 1s 7ms/step - loss: 0.5844 - binary_crossentropy: 0.5844 - accuracy: 0.6984 - val_loss: 0.6033 - val_binary_crossentropy: 0.6033 - val_accuracy: 0.6912\n",
      "Epoch 66/100\n",
      "94/94 [==============================] - 1s 6ms/step - loss: 0.5834 - binary_crossentropy: 0.5834 - accuracy: 0.6921 - val_loss: 0.6088 - val_binary_crossentropy: 0.6088 - val_accuracy: 0.6778\n",
      "Epoch 67/100\n",
      "94/94 [==============================] - 1s 6ms/step - loss: 0.5847 - binary_crossentropy: 0.5847 - accuracy: 0.7011 - val_loss: 0.6024 - val_binary_crossentropy: 0.6024 - val_accuracy: 0.6845\n",
      "Epoch 68/100\n",
      "94/94 [==============================] - 1s 6ms/step - loss: 0.5840 - binary_crossentropy: 0.5840 - accuracy: 0.6981 - val_loss: 0.6020 - val_binary_crossentropy: 0.6020 - val_accuracy: 0.6845\n",
      "Epoch 69/100\n",
      "94/94 [==============================] - 1s 6ms/step - loss: 0.5832 - binary_crossentropy: 0.5832 - accuracy: 0.6974 - val_loss: 0.6110 - val_binary_crossentropy: 0.6110 - val_accuracy: 0.6684\n",
      "Epoch 70/100\n",
      "94/94 [==============================] - 1s 6ms/step - loss: 0.5844 - binary_crossentropy: 0.5844 - accuracy: 0.6974 - val_loss: 0.6030 - val_binary_crossentropy: 0.6030 - val_accuracy: 0.6898\n",
      "Epoch 71/100\n",
      "94/94 [==============================] - 1s 6ms/step - loss: 0.5826 - binary_crossentropy: 0.5826 - accuracy: 0.6944 - val_loss: 0.6056 - val_binary_crossentropy: 0.6056 - val_accuracy: 0.6805\n",
      "Epoch 72/100\n",
      "94/94 [==============================] - 1s 6ms/step - loss: 0.5843 - binary_crossentropy: 0.5843 - accuracy: 0.6984 - val_loss: 0.6015 - val_binary_crossentropy: 0.6015 - val_accuracy: 0.6925\n",
      "Epoch 73/100\n",
      "94/94 [==============================] - 1s 6ms/step - loss: 0.5835 - binary_crossentropy: 0.5835 - accuracy: 0.6934 - val_loss: 0.6015 - val_binary_crossentropy: 0.6015 - val_accuracy: 0.6912\n",
      "Epoch 74/100\n",
      "94/94 [==============================] - 1s 6ms/step - loss: 0.5832 - binary_crossentropy: 0.5832 - accuracy: 0.6971 - val_loss: 0.6013 - val_binary_crossentropy: 0.6013 - val_accuracy: 0.6885\n",
      "Epoch 75/100\n",
      "94/94 [==============================] - 1s 7ms/step - loss: 0.5828 - binary_crossentropy: 0.5828 - accuracy: 0.6968 - val_loss: 0.6025 - val_binary_crossentropy: 0.6025 - val_accuracy: 0.6912\n",
      "Epoch 76/100\n",
      "94/94 [==============================] - 1s 6ms/step - loss: 0.5810 - binary_crossentropy: 0.5810 - accuracy: 0.7034 - val_loss: 0.6014 - val_binary_crossentropy: 0.6014 - val_accuracy: 0.6858\n",
      "Epoch 77/100\n",
      "94/94 [==============================] - 1s 6ms/step - loss: 0.5816 - binary_crossentropy: 0.5816 - accuracy: 0.6964 - val_loss: 0.6020 - val_binary_crossentropy: 0.6020 - val_accuracy: 0.6925\n",
      "Epoch 78/100\n",
      "94/94 [==============================] - 1s 6ms/step - loss: 0.5812 - binary_crossentropy: 0.5812 - accuracy: 0.6964 - val_loss: 0.6054 - val_binary_crossentropy: 0.6054 - val_accuracy: 0.6818\n",
      "Epoch 79/100\n",
      "94/94 [==============================] - 1s 7ms/step - loss: 0.5808 - binary_crossentropy: 0.5808 - accuracy: 0.7044 - val_loss: 0.6020 - val_binary_crossentropy: 0.6020 - val_accuracy: 0.6818\n",
      "Epoch 80/100\n",
      "94/94 [==============================] - 1s 6ms/step - loss: 0.5807 - binary_crossentropy: 0.5807 - accuracy: 0.7004 - val_loss: 0.6025 - val_binary_crossentropy: 0.6025 - val_accuracy: 0.6939\n",
      "Epoch 81/100\n",
      "94/94 [==============================] - 1s 6ms/step - loss: 0.5806 - binary_crossentropy: 0.5806 - accuracy: 0.6988 - val_loss: 0.6017 - val_binary_crossentropy: 0.6017 - val_accuracy: 0.6912\n",
      "Epoch 82/100\n",
      "94/94 [==============================] - 1s 6ms/step - loss: 0.5794 - binary_crossentropy: 0.5794 - accuracy: 0.7011 - val_loss: 0.6056 - val_binary_crossentropy: 0.6056 - val_accuracy: 0.6805\n",
      "Epoch 83/100\n",
      "94/94 [==============================] - 1s 6ms/step - loss: 0.5804 - binary_crossentropy: 0.5804 - accuracy: 0.6961 - val_loss: 0.6012 - val_binary_crossentropy: 0.6012 - val_accuracy: 0.6898\n",
      "Epoch 84/100\n",
      "94/94 [==============================] - 1s 6ms/step - loss: 0.5791 - binary_crossentropy: 0.5791 - accuracy: 0.6984 - val_loss: 0.6004 - val_binary_crossentropy: 0.6004 - val_accuracy: 0.6912\n",
      "Epoch 85/100\n",
      "94/94 [==============================] - 1s 6ms/step - loss: 0.5806 - binary_crossentropy: 0.5806 - accuracy: 0.6994 - val_loss: 0.6011 - val_binary_crossentropy: 0.6011 - val_accuracy: 0.6885\n",
      "Epoch 86/100\n",
      "94/94 [==============================] - 1s 6ms/step - loss: 0.5802 - binary_crossentropy: 0.5802 - accuracy: 0.7034 - val_loss: 0.6010 - val_binary_crossentropy: 0.6010 - val_accuracy: 0.6898\n",
      "Epoch 87/100\n",
      "94/94 [==============================] - 1s 6ms/step - loss: 0.5787 - binary_crossentropy: 0.5787 - accuracy: 0.7018 - val_loss: 0.6009 - val_binary_crossentropy: 0.6009 - val_accuracy: 0.6872\n",
      "Epoch 88/100\n",
      "94/94 [==============================] - 1s 6ms/step - loss: 0.5784 - binary_crossentropy: 0.5784 - accuracy: 0.7028 - val_loss: 0.5997 - val_binary_crossentropy: 0.5997 - val_accuracy: 0.6898\n",
      "Epoch 89/100\n",
      "94/94 [==============================] - 1s 6ms/step - loss: 0.5800 - binary_crossentropy: 0.5800 - accuracy: 0.6964 - val_loss: 0.6002 - val_binary_crossentropy: 0.6002 - val_accuracy: 0.6898\n",
      "Epoch 90/100\n",
      "94/94 [==============================] - 1s 6ms/step - loss: 0.5781 - binary_crossentropy: 0.5781 - accuracy: 0.7024 - val_loss: 0.6001 - val_binary_crossentropy: 0.6001 - val_accuracy: 0.6925\n",
      "Epoch 91/100\n",
      "94/94 [==============================] - 1s 6ms/step - loss: 0.5802 - binary_crossentropy: 0.5802 - accuracy: 0.6994 - val_loss: 0.5995 - val_binary_crossentropy: 0.5995 - val_accuracy: 0.6898\n",
      "Epoch 92/100\n",
      "94/94 [==============================] - 1s 7ms/step - loss: 0.5789 - binary_crossentropy: 0.5789 - accuracy: 0.7001 - val_loss: 0.5995 - val_binary_crossentropy: 0.5995 - val_accuracy: 0.6939\n",
      "Epoch 93/100\n",
      "94/94 [==============================] - 1s 7ms/step - loss: 0.5777 - binary_crossentropy: 0.5777 - accuracy: 0.7051 - val_loss: 0.6055 - val_binary_crossentropy: 0.6055 - val_accuracy: 0.6885\n",
      "Epoch 94/100\n",
      "94/94 [==============================] - 1s 7ms/step - loss: 0.5784 - binary_crossentropy: 0.5784 - accuracy: 0.7004 - val_loss: 0.6012 - val_binary_crossentropy: 0.6012 - val_accuracy: 0.6898\n",
      "Epoch 95/100\n",
      "94/94 [==============================] - 1s 7ms/step - loss: 0.5773 - binary_crossentropy: 0.5773 - accuracy: 0.6994 - val_loss: 0.5994 - val_binary_crossentropy: 0.5994 - val_accuracy: 0.6939\n",
      "Epoch 96/100\n",
      "94/94 [==============================] - 1s 6ms/step - loss: 0.5789 - binary_crossentropy: 0.5789 - accuracy: 0.6988 - val_loss: 0.5996 - val_binary_crossentropy: 0.5996 - val_accuracy: 0.6912\n",
      "Epoch 97/100\n",
      "94/94 [==============================] - 1s 7ms/step - loss: 0.5759 - binary_crossentropy: 0.5759 - accuracy: 0.7041 - val_loss: 0.6019 - val_binary_crossentropy: 0.6019 - val_accuracy: 0.6872\n",
      "Epoch 98/100\n",
      "94/94 [==============================] - 1s 7ms/step - loss: 0.5771 - binary_crossentropy: 0.5771 - accuracy: 0.7004 - val_loss: 0.5993 - val_binary_crossentropy: 0.5993 - val_accuracy: 0.6979\n",
      "Epoch 99/100\n",
      "94/94 [==============================] - 1s 6ms/step - loss: 0.5763 - binary_crossentropy: 0.5763 - accuracy: 0.6994 - val_loss: 0.6025 - val_binary_crossentropy: 0.6025 - val_accuracy: 0.6845\n",
      "Epoch 100/100\n",
      "94/94 [==============================] - 1s 7ms/step - loss: 0.5769 - binary_crossentropy: 0.5769 - accuracy: 0.7088 - val_loss: 0.5985 - val_binary_crossentropy: 0.5985 - val_accuracy: 0.7019\n"
     ]
    }
   ],
   "source": [
    "x_train = [smash_array(i.X) for i in train_panels]\n",
    "y_train = train.y\n",
    "\n",
    "x_test = [smash_array(i.X) for i in test_panels]\n",
    "y_test = test.y\n",
    "\n",
    "H = model.fit(x_train, y_train, validation_data=(x_test, y_test), epochs=100)"
   ]
  },
  {
   "cell_type": "code",
   "execution_count": 20,
   "metadata": {},
   "outputs": [
    {
     "data": {
      "application/vnd.plotly.v1+json": {
       "config": {
        "plotlyServerURL": "https://plot.ly"
       },
       "data": [
        {
         "hovertemplate": "variable=loss<br>index=%{x}<br>value=%{y}<extra></extra>",
         "legendgroup": "loss",
         "line": {
          "color": "#636efa",
          "dash": "solid"
         },
         "marker": {
          "symbol": "circle"
         },
         "mode": "lines",
         "name": "loss",
         "orientation": "v",
         "showlegend": true,
         "type": "scatter",
         "x": [
          0,
          1,
          2,
          3,
          4,
          5,
          6,
          7,
          8,
          9,
          10,
          11,
          12,
          13,
          14,
          15,
          16,
          17,
          18,
          19,
          20,
          21,
          22,
          23,
          24,
          25,
          26,
          27,
          28,
          29,
          30,
          31,
          32,
          33,
          34,
          35,
          36,
          37,
          38,
          39,
          40,
          41,
          42,
          43,
          44,
          45,
          46,
          47,
          48,
          49,
          50,
          51,
          52,
          53,
          54,
          55,
          56,
          57,
          58,
          59,
          60,
          61,
          62,
          63,
          64,
          65,
          66,
          67,
          68,
          69,
          70,
          71,
          72,
          73,
          74,
          75,
          76,
          77,
          78,
          79,
          80,
          81,
          82,
          83,
          84,
          85,
          86,
          87,
          88,
          89,
          90,
          91,
          92,
          93,
          94,
          95,
          96,
          97,
          98,
          99
         ],
         "xaxis": "x",
         "y": [
          0.511534571647644,
          0.526579737663269,
          0.5389501452445984,
          0.5539953112602234,
          0.5864259600639343,
          0.599799394607544,
          0.6155132055282593,
          0.6248745918273926,
          0.6325643658638,
          0.6362420320510864,
          0.6452691555023193,
          0.6446004509925842,
          0.6516215205192566,
          0.652958869934082,
          0.6526245474815369,
          0.661651611328125,
          0.6656636595726013,
          0.652958869934082,
          0.6656636595726013,
          0.6659979820251465,
          0.670344352722168,
          0.6716817021369934,
          0.6680039763450623,
          0.6740220785140991,
          0.6696757078170776,
          0.6793714165687561,
          0.6716817021369934,
          0.6790370941162109,
          0.6823804378509521,
          0.6863924860954285,
          0.6870611906051636,
          0.6810430884361267,
          0.6857238411903381,
          0.6863924860954285,
          0.6867268085479736,
          0.6843864917755127,
          0.6873955130577087,
          0.682046115398407,
          0.6904045343399048,
          0.685055136680603,
          0.69073885679245,
          0.69073885679245,
          0.6910731792449951,
          0.6904045343399048,
          0.6930792331695557,
          0.6887328624725342,
          0.6910731792449951,
          0.6917418837547302,
          0.6910731792449951,
          0.6920762062072754,
          0.6894015073776245,
          0.6914075613021851,
          0.6897358298301697,
          0.6950852274894714,
          0.6904045343399048,
          0.6934135556221008,
          0.6960882544517517,
          0.6964225769042969,
          0.696756899356842,
          0.6987629532814026,
          0.6930792331695557,
          0.6940822601318359,
          0.6964225769042969,
          0.6984286308288574,
          0.6984286308288574,
          0.6920762062072754,
          0.7011032700538635,
          0.6980942487716675,
          0.6974256038665771,
          0.6974256038665771,
          0.6944165825843811,
          0.6984286308288574,
          0.6934135556221008,
          0.697091281414032,
          0.696756899356842,
          0.7034436464309692,
          0.6964225769042969,
          0.6964225769042969,
          0.7044466733932495,
          0.7004346251487732,
          0.6987629532814026,
          0.7011032700538635,
          0.6960882544517517,
          0.6984286308288574,
          0.6994315981864929,
          0.7034436464309692,
          0.7017719745635986,
          0.7027750015258789,
          0.6964225769042969,
          0.702440619468689,
          0.6994315981864929,
          0.700100302696228,
          0.7051153182983398,
          0.7004346251487732,
          0.6994315981864929,
          0.6987629532814026,
          0.7041123509407043,
          0.7004346251487732,
          0.6994315981864929,
          0.708793044090271
         ],
         "yaxis": "y"
        },
        {
         "hovertemplate": "variable=val_loss<br>index=%{x}<br>value=%{y}<extra></extra>",
         "legendgroup": "val_loss",
         "line": {
          "color": "#EF553B",
          "dash": "solid"
         },
         "marker": {
          "symbol": "circle"
         },
         "mode": "lines",
         "name": "val_loss",
         "orientation": "v",
         "showlegend": true,
         "type": "scatter",
         "x": [
          0,
          1,
          2,
          3,
          4,
          5,
          6,
          7,
          8,
          9,
          10,
          11,
          12,
          13,
          14,
          15,
          16,
          17,
          18,
          19,
          20,
          21,
          22,
          23,
          24,
          25,
          26,
          27,
          28,
          29,
          30,
          31,
          32,
          33,
          34,
          35,
          36,
          37,
          38,
          39,
          40,
          41,
          42,
          43,
          44,
          45,
          46,
          47,
          48,
          49,
          50,
          51,
          52,
          53,
          54,
          55,
          56,
          57,
          58,
          59,
          60,
          61,
          62,
          63,
          64,
          65,
          66,
          67,
          68,
          69,
          70,
          71,
          72,
          73,
          74,
          75,
          76,
          77,
          78,
          79,
          80,
          81,
          82,
          83,
          84,
          85,
          86,
          87,
          88,
          89,
          90,
          91,
          92,
          93,
          94,
          95,
          96,
          97,
          98,
          99
         ],
         "xaxis": "x",
         "y": [
          0.4959893226623535,
          0.49331551790237427,
          0.4959893226623535,
          0.5227273106575012,
          0.5561497211456299,
          0.5668449401855469,
          0.5762032270431519,
          0.6216577887535095,
          0.6483957171440125,
          0.653743326663971,
          0.6283422708511353,
          0.6403743624687195,
          0.6377005577087402,
          0.6457219123840332,
          0.6510695219039917,
          0.6577540040016174,
          0.6604278087615967,
          0.6617647409439087,
          0.6617647409439087,
          0.6577540040016174,
          0.6497326493263245,
          0.6644384860992432,
          0.653743326663971,
          0.6590909361839294,
          0.6657754182815552,
          0.6711230278015137,
          0.6644384860992432,
          0.6724599003791809,
          0.6684492230415344,
          0.6657754182815552,
          0.6711230278015137,
          0.6791443824768066,
          0.6751337051391602,
          0.6657754182815552,
          0.6751337051391602,
          0.6778075098991394,
          0.6684492230415344,
          0.6791443824768066,
          0.6778075098991394,
          0.6778075098991394,
          0.6751337051391602,
          0.6898396015167236,
          0.6671122908592224,
          0.6751337051391602,
          0.6791443824768066,
          0.6818181872367859,
          0.6818181872367859,
          0.6858288645744324,
          0.6858288645744324,
          0.6871657967567444,
          0.6898396015167236,
          0.6858288645744324,
          0.6791443824768066,
          0.6778075098991394,
          0.6844919919967651,
          0.6804813146591187,
          0.6778075098991394,
          0.6818181872367859,
          0.6844919919967651,
          0.6911764740943909,
          0.6804813146591187,
          0.6858288645744324,
          0.6911764740943909,
          0.6871657967567444,
          0.6911764740943909,
          0.6778075098991394,
          0.6844919919967651,
          0.6844919919967651,
          0.6684492230415344,
          0.6898396015167236,
          0.6804813146591187,
          0.6925134062767029,
          0.6911764740943909,
          0.6885026693344116,
          0.6911764740943909,
          0.6858288645744324,
          0.6925134062767029,
          0.6818181872367859,
          0.6818181872367859,
          0.6938502788543701,
          0.6911764740943909,
          0.6804813146591187,
          0.6898396015167236,
          0.6911764740943909,
          0.6885026693344116,
          0.6898396015167236,
          0.6871657967567444,
          0.6898396015167236,
          0.6898396015167236,
          0.6925134062767029,
          0.6898396015167236,
          0.6938502788543701,
          0.6885026693344116,
          0.6898396015167236,
          0.6938502788543701,
          0.6911764740943909,
          0.6871657967567444,
          0.6978609561920166,
          0.6844919919967651,
          0.7018716931343079
         ],
         "yaxis": "y"
        }
       ],
       "layout": {
        "legend": {
         "title": {
          "text": "variable"
         },
         "tracegroupgap": 0
        },
        "margin": {
         "t": 60
        },
        "template": {
         "data": {
          "bar": [
           {
            "error_x": {
             "color": "#2a3f5f"
            },
            "error_y": {
             "color": "#2a3f5f"
            },
            "marker": {
             "line": {
              "color": "#E5ECF6",
              "width": 0.5
             },
             "pattern": {
              "fillmode": "overlay",
              "size": 10,
              "solidity": 0.2
             }
            },
            "type": "bar"
           }
          ],
          "barpolar": [
           {
            "marker": {
             "line": {
              "color": "#E5ECF6",
              "width": 0.5
             },
             "pattern": {
              "fillmode": "overlay",
              "size": 10,
              "solidity": 0.2
             }
            },
            "type": "barpolar"
           }
          ],
          "carpet": [
           {
            "aaxis": {
             "endlinecolor": "#2a3f5f",
             "gridcolor": "white",
             "linecolor": "white",
             "minorgridcolor": "white",
             "startlinecolor": "#2a3f5f"
            },
            "baxis": {
             "endlinecolor": "#2a3f5f",
             "gridcolor": "white",
             "linecolor": "white",
             "minorgridcolor": "white",
             "startlinecolor": "#2a3f5f"
            },
            "type": "carpet"
           }
          ],
          "choropleth": [
           {
            "colorbar": {
             "outlinewidth": 0,
             "ticks": ""
            },
            "type": "choropleth"
           }
          ],
          "contour": [
           {
            "colorbar": {
             "outlinewidth": 0,
             "ticks": ""
            },
            "colorscale": [
             [
              0,
              "#0d0887"
             ],
             [
              0.1111111111111111,
              "#46039f"
             ],
             [
              0.2222222222222222,
              "#7201a8"
             ],
             [
              0.3333333333333333,
              "#9c179e"
             ],
             [
              0.4444444444444444,
              "#bd3786"
             ],
             [
              0.5555555555555556,
              "#d8576b"
             ],
             [
              0.6666666666666666,
              "#ed7953"
             ],
             [
              0.7777777777777778,
              "#fb9f3a"
             ],
             [
              0.8888888888888888,
              "#fdca26"
             ],
             [
              1,
              "#f0f921"
             ]
            ],
            "type": "contour"
           }
          ],
          "contourcarpet": [
           {
            "colorbar": {
             "outlinewidth": 0,
             "ticks": ""
            },
            "type": "contourcarpet"
           }
          ],
          "heatmap": [
           {
            "colorbar": {
             "outlinewidth": 0,
             "ticks": ""
            },
            "colorscale": [
             [
              0,
              "#0d0887"
             ],
             [
              0.1111111111111111,
              "#46039f"
             ],
             [
              0.2222222222222222,
              "#7201a8"
             ],
             [
              0.3333333333333333,
              "#9c179e"
             ],
             [
              0.4444444444444444,
              "#bd3786"
             ],
             [
              0.5555555555555556,
              "#d8576b"
             ],
             [
              0.6666666666666666,
              "#ed7953"
             ],
             [
              0.7777777777777778,
              "#fb9f3a"
             ],
             [
              0.8888888888888888,
              "#fdca26"
             ],
             [
              1,
              "#f0f921"
             ]
            ],
            "type": "heatmap"
           }
          ],
          "heatmapgl": [
           {
            "colorbar": {
             "outlinewidth": 0,
             "ticks": ""
            },
            "colorscale": [
             [
              0,
              "#0d0887"
             ],
             [
              0.1111111111111111,
              "#46039f"
             ],
             [
              0.2222222222222222,
              "#7201a8"
             ],
             [
              0.3333333333333333,
              "#9c179e"
             ],
             [
              0.4444444444444444,
              "#bd3786"
             ],
             [
              0.5555555555555556,
              "#d8576b"
             ],
             [
              0.6666666666666666,
              "#ed7953"
             ],
             [
              0.7777777777777778,
              "#fb9f3a"
             ],
             [
              0.8888888888888888,
              "#fdca26"
             ],
             [
              1,
              "#f0f921"
             ]
            ],
            "type": "heatmapgl"
           }
          ],
          "histogram": [
           {
            "marker": {
             "pattern": {
              "fillmode": "overlay",
              "size": 10,
              "solidity": 0.2
             }
            },
            "type": "histogram"
           }
          ],
          "histogram2d": [
           {
            "colorbar": {
             "outlinewidth": 0,
             "ticks": ""
            },
            "colorscale": [
             [
              0,
              "#0d0887"
             ],
             [
              0.1111111111111111,
              "#46039f"
             ],
             [
              0.2222222222222222,
              "#7201a8"
             ],
             [
              0.3333333333333333,
              "#9c179e"
             ],
             [
              0.4444444444444444,
              "#bd3786"
             ],
             [
              0.5555555555555556,
              "#d8576b"
             ],
             [
              0.6666666666666666,
              "#ed7953"
             ],
             [
              0.7777777777777778,
              "#fb9f3a"
             ],
             [
              0.8888888888888888,
              "#fdca26"
             ],
             [
              1,
              "#f0f921"
             ]
            ],
            "type": "histogram2d"
           }
          ],
          "histogram2dcontour": [
           {
            "colorbar": {
             "outlinewidth": 0,
             "ticks": ""
            },
            "colorscale": [
             [
              0,
              "#0d0887"
             ],
             [
              0.1111111111111111,
              "#46039f"
             ],
             [
              0.2222222222222222,
              "#7201a8"
             ],
             [
              0.3333333333333333,
              "#9c179e"
             ],
             [
              0.4444444444444444,
              "#bd3786"
             ],
             [
              0.5555555555555556,
              "#d8576b"
             ],
             [
              0.6666666666666666,
              "#ed7953"
             ],
             [
              0.7777777777777778,
              "#fb9f3a"
             ],
             [
              0.8888888888888888,
              "#fdca26"
             ],
             [
              1,
              "#f0f921"
             ]
            ],
            "type": "histogram2dcontour"
           }
          ],
          "mesh3d": [
           {
            "colorbar": {
             "outlinewidth": 0,
             "ticks": ""
            },
            "type": "mesh3d"
           }
          ],
          "parcoords": [
           {
            "line": {
             "colorbar": {
              "outlinewidth": 0,
              "ticks": ""
             }
            },
            "type": "parcoords"
           }
          ],
          "pie": [
           {
            "automargin": true,
            "type": "pie"
           }
          ],
          "scatter": [
           {
            "marker": {
             "colorbar": {
              "outlinewidth": 0,
              "ticks": ""
             }
            },
            "type": "scatter"
           }
          ],
          "scatter3d": [
           {
            "line": {
             "colorbar": {
              "outlinewidth": 0,
              "ticks": ""
             }
            },
            "marker": {
             "colorbar": {
              "outlinewidth": 0,
              "ticks": ""
             }
            },
            "type": "scatter3d"
           }
          ],
          "scattercarpet": [
           {
            "marker": {
             "colorbar": {
              "outlinewidth": 0,
              "ticks": ""
             }
            },
            "type": "scattercarpet"
           }
          ],
          "scattergeo": [
           {
            "marker": {
             "colorbar": {
              "outlinewidth": 0,
              "ticks": ""
             }
            },
            "type": "scattergeo"
           }
          ],
          "scattergl": [
           {
            "marker": {
             "colorbar": {
              "outlinewidth": 0,
              "ticks": ""
             }
            },
            "type": "scattergl"
           }
          ],
          "scattermapbox": [
           {
            "marker": {
             "colorbar": {
              "outlinewidth": 0,
              "ticks": ""
             }
            },
            "type": "scattermapbox"
           }
          ],
          "scatterpolar": [
           {
            "marker": {
             "colorbar": {
              "outlinewidth": 0,
              "ticks": ""
             }
            },
            "type": "scatterpolar"
           }
          ],
          "scatterpolargl": [
           {
            "marker": {
             "colorbar": {
              "outlinewidth": 0,
              "ticks": ""
             }
            },
            "type": "scatterpolargl"
           }
          ],
          "scatterternary": [
           {
            "marker": {
             "colorbar": {
              "outlinewidth": 0,
              "ticks": ""
             }
            },
            "type": "scatterternary"
           }
          ],
          "surface": [
           {
            "colorbar": {
             "outlinewidth": 0,
             "ticks": ""
            },
            "colorscale": [
             [
              0,
              "#0d0887"
             ],
             [
              0.1111111111111111,
              "#46039f"
             ],
             [
              0.2222222222222222,
              "#7201a8"
             ],
             [
              0.3333333333333333,
              "#9c179e"
             ],
             [
              0.4444444444444444,
              "#bd3786"
             ],
             [
              0.5555555555555556,
              "#d8576b"
             ],
             [
              0.6666666666666666,
              "#ed7953"
             ],
             [
              0.7777777777777778,
              "#fb9f3a"
             ],
             [
              0.8888888888888888,
              "#fdca26"
             ],
             [
              1,
              "#f0f921"
             ]
            ],
            "type": "surface"
           }
          ],
          "table": [
           {
            "cells": {
             "fill": {
              "color": "#EBF0F8"
             },
             "line": {
              "color": "white"
             }
            },
            "header": {
             "fill": {
              "color": "#C8D4E3"
             },
             "line": {
              "color": "white"
             }
            },
            "type": "table"
           }
          ]
         },
         "layout": {
          "annotationdefaults": {
           "arrowcolor": "#2a3f5f",
           "arrowhead": 0,
           "arrowwidth": 1
          },
          "autotypenumbers": "strict",
          "coloraxis": {
           "colorbar": {
            "outlinewidth": 0,
            "ticks": ""
           }
          },
          "colorscale": {
           "diverging": [
            [
             0,
             "#8e0152"
            ],
            [
             0.1,
             "#c51b7d"
            ],
            [
             0.2,
             "#de77ae"
            ],
            [
             0.3,
             "#f1b6da"
            ],
            [
             0.4,
             "#fde0ef"
            ],
            [
             0.5,
             "#f7f7f7"
            ],
            [
             0.6,
             "#e6f5d0"
            ],
            [
             0.7,
             "#b8e186"
            ],
            [
             0.8,
             "#7fbc41"
            ],
            [
             0.9,
             "#4d9221"
            ],
            [
             1,
             "#276419"
            ]
           ],
           "sequential": [
            [
             0,
             "#0d0887"
            ],
            [
             0.1111111111111111,
             "#46039f"
            ],
            [
             0.2222222222222222,
             "#7201a8"
            ],
            [
             0.3333333333333333,
             "#9c179e"
            ],
            [
             0.4444444444444444,
             "#bd3786"
            ],
            [
             0.5555555555555556,
             "#d8576b"
            ],
            [
             0.6666666666666666,
             "#ed7953"
            ],
            [
             0.7777777777777778,
             "#fb9f3a"
            ],
            [
             0.8888888888888888,
             "#fdca26"
            ],
            [
             1,
             "#f0f921"
            ]
           ],
           "sequentialminus": [
            [
             0,
             "#0d0887"
            ],
            [
             0.1111111111111111,
             "#46039f"
            ],
            [
             0.2222222222222222,
             "#7201a8"
            ],
            [
             0.3333333333333333,
             "#9c179e"
            ],
            [
             0.4444444444444444,
             "#bd3786"
            ],
            [
             0.5555555555555556,
             "#d8576b"
            ],
            [
             0.6666666666666666,
             "#ed7953"
            ],
            [
             0.7777777777777778,
             "#fb9f3a"
            ],
            [
             0.8888888888888888,
             "#fdca26"
            ],
            [
             1,
             "#f0f921"
            ]
           ]
          },
          "colorway": [
           "#636efa",
           "#EF553B",
           "#00cc96",
           "#ab63fa",
           "#FFA15A",
           "#19d3f3",
           "#FF6692",
           "#B6E880",
           "#FF97FF",
           "#FECB52"
          ],
          "font": {
           "color": "#2a3f5f"
          },
          "geo": {
           "bgcolor": "white",
           "lakecolor": "white",
           "landcolor": "#E5ECF6",
           "showlakes": true,
           "showland": true,
           "subunitcolor": "white"
          },
          "hoverlabel": {
           "align": "left"
          },
          "hovermode": "closest",
          "mapbox": {
           "style": "light"
          },
          "paper_bgcolor": "white",
          "plot_bgcolor": "#E5ECF6",
          "polar": {
           "angularaxis": {
            "gridcolor": "white",
            "linecolor": "white",
            "ticks": ""
           },
           "bgcolor": "#E5ECF6",
           "radialaxis": {
            "gridcolor": "white",
            "linecolor": "white",
            "ticks": ""
           }
          },
          "scene": {
           "xaxis": {
            "backgroundcolor": "#E5ECF6",
            "gridcolor": "white",
            "gridwidth": 2,
            "linecolor": "white",
            "showbackground": true,
            "ticks": "",
            "zerolinecolor": "white"
           },
           "yaxis": {
            "backgroundcolor": "#E5ECF6",
            "gridcolor": "white",
            "gridwidth": 2,
            "linecolor": "white",
            "showbackground": true,
            "ticks": "",
            "zerolinecolor": "white"
           },
           "zaxis": {
            "backgroundcolor": "#E5ECF6",
            "gridcolor": "white",
            "gridwidth": 2,
            "linecolor": "white",
            "showbackground": true,
            "ticks": "",
            "zerolinecolor": "white"
           }
          },
          "shapedefaults": {
           "line": {
            "color": "#2a3f5f"
           }
          },
          "ternary": {
           "aaxis": {
            "gridcolor": "white",
            "linecolor": "white",
            "ticks": ""
           },
           "baxis": {
            "gridcolor": "white",
            "linecolor": "white",
            "ticks": ""
           },
           "bgcolor": "#E5ECF6",
           "caxis": {
            "gridcolor": "white",
            "linecolor": "white",
            "ticks": ""
           }
          },
          "title": {
           "x": 0.05
          },
          "xaxis": {
           "automargin": true,
           "gridcolor": "white",
           "linecolor": "white",
           "ticks": "",
           "title": {
            "standoff": 15
           },
           "zerolinecolor": "white",
           "zerolinewidth": 2
          },
          "yaxis": {
           "automargin": true,
           "gridcolor": "white",
           "linecolor": "white",
           "ticks": "",
           "title": {
            "standoff": 15
           },
           "zerolinecolor": "white",
           "zerolinewidth": 2
          }
         }
        },
        "xaxis": {
         "anchor": "y",
         "domain": [
          0,
          1
         ],
         "title": {
          "text": "index"
         }
        },
        "yaxis": {
         "anchor": "x",
         "domain": [
          0,
          1
         ],
         "title": {
          "text": "value"
         }
        }
       }
      }
     },
     "metadata": {},
     "output_type": "display_data"
    }
   ],
   "source": [
    "loss = pd.DataFrame({'loss': H.history['loss'], 'val_loss': H.history['val_loss']})\n",
    "acc = pd.DataFrame({'loss': H.history['accuracy'], 'val_loss': H.history['val_accuracy']})\n",
    "acc.plot()"
   ]
  },
  {
   "cell_type": "code",
   "execution_count": null,
   "metadata": {},
   "outputs": [],
   "source": [
    "logdir=\"logs/fit/\" + datetime.now().strftime(\"%Y%m%d-%H%M%S\")\n",
    "tensorboard_callback = tf.keras.callbacks.TensorBoard(log_dir=logdir)"
   ]
  },
  {
   "cell_type": "code",
   "execution_count": null,
   "metadata": {},
   "outputs": [],
   "source": [
    "%load_ext tensorboard"
   ]
  },
  {
   "cell_type": "code",
   "execution_count": null,
   "metadata": {},
   "outputs": [],
   "source": []
  },
  {
   "cell_type": "code",
   "execution_count": null,
   "metadata": {},
   "outputs": [],
   "source": []
  },
  {
   "cell_type": "code",
   "execution_count": null,
   "metadata": {},
   "outputs": [],
   "source": []
  },
  {
   "cell_type": "code",
   "execution_count": null,
   "metadata": {},
   "outputs": [],
   "source": []
  },
  {
   "cell_type": "code",
   "execution_count": null,
   "metadata": {},
   "outputs": [],
   "source": []
  },
  {
   "cell_type": "code",
   "execution_count": null,
   "metadata": {},
   "outputs": [],
   "source": [
    "import plotly.graph_objects as go\n",
    "import pandas as pd\n",
    "\n",
    "fig = go.Figure(data=[go.Candlestick(x=data.index,\n",
    "                open=data['Open'],\n",
    "                high=data['High'],\n",
    "                low=data['Low'],\n",
    "                close=data['Close'])\n",
    "                ])\n",
    "\n",
    "\n",
    "fig.update_layout(xaxis_rangeslider_visible=False)\n",
    "\n",
    "shapes = []\n",
    "for index in trues.index:\n",
    "    shapes.append(dict(type='line', yref='paper', y0=0, y1=1, xref='x',\n",
    "                 x0=index, x1=index))\n",
    "\n",
    "fig.update_layout(shapes=shapes)\n",
    "\n",
    "fig.show()"
   ]
  },
  {
   "cell_type": "code",
   "execution_count": null,
   "metadata": {},
   "outputs": [],
   "source": []
  },
  {
   "cell_type": "code",
   "execution_count": null,
   "metadata": {},
   "outputs": [],
   "source": []
  },
  {
   "cell_type": "code",
   "execution_count": null,
   "metadata": {},
   "outputs": [],
   "source": []
  },
  {
   "cell_type": "code",
   "execution_count": null,
   "metadata": {},
   "outputs": [],
   "source": []
  },
  {
   "cell_type": "code",
   "execution_count": null,
   "metadata": {},
   "outputs": [],
   "source": []
  },
  {
   "cell_type": "code",
   "execution_count": null,
   "metadata": {},
   "outputs": [],
   "source": [
    "train, test = stock_panel.split_train_test(0.2)\n",
    "print(train.X.shape)\n",
    "print(train.y.shape)"
   ]
  },
  {
   "cell_type": "code",
   "execution_count": null,
   "metadata": {},
   "outputs": [],
   "source": [
    "inputs = tf.keras.Input(shape=(train.X.shape[1:]))\n",
    "\n",
    "x = tf.keras.layers.Conv1D(2, 2)(inputs)\n",
    "x = tf.keras.layers.Flatten()(x)\n",
    "x = tf.keras.layers.Dense(10, activation=tf.nn.relu)(x)\n",
    "x = tf.keras.layers.Dense(1, activation=tf.nn.sigmoid)(x)\n",
    "outputs = tf.keras.layers.Reshape(train.y.shape[1:])(x)\n",
    "\n",
    "model = tf.keras.Model(inputs=inputs, outputs=outputs)\n",
    "\n",
    "model.compile(optimizer=\"Adam\", loss=\"binary_crossentropy\", metrics=[\"binary_crossentropy\", 'AUC'])\n",
    "model.summary()"
   ]
  },
  {
   "cell_type": "code",
   "execution_count": null,
   "metadata": {
    "tags": []
   },
   "outputs": [],
   "source": [
    "H = model.fit(train.X, train.y, epochs=120, validation_data=(test.X, test.y), verbose=0)"
   ]
  },
  {
   "cell_type": "code",
   "execution_count": null,
   "metadata": {},
   "outputs": [],
   "source": [
    "losses = pd.DataFrame({'train_loss': H.history['loss'], 'val_loss': H.history['val_loss']})\n",
    "losses.plot()"
   ]
  },
  {
   "cell_type": "code",
   "execution_count": null,
   "metadata": {},
   "outputs": [],
   "source": [
    "aucs = pd.DataFrame({'train_auc': H.history['auc'], 'val_auc': H.history['val_auc']})\n",
    "aucs.plot()"
   ]
  },
  {
   "cell_type": "code",
   "execution_count": null,
   "metadata": {},
   "outputs": [],
   "source": [
    "preds = model.predict(test.X)\n",
    "\n",
    "pred_data = pd.DataFrame(index=test.yindex, \n",
    "                         data={'ytrue': test.y.flatten(), \n",
    "                               'ypred':preds.flatten()}).astype(float)\n",
    "\n",
    "pred_data['pred'] = pred_data.ypred > 0.9"
   ]
  },
  {
   "cell_type": "code",
   "execution_count": null,
   "metadata": {},
   "outputs": [],
   "source": [
    "pred_data.ypred.plot(kind='scatter')"
   ]
  },
  {
   "cell_type": "code",
   "execution_count": null,
   "metadata": {},
   "outputs": [],
   "source": [
    "thresh = 0.9\n",
    "pred_data[pred_data.ypred > thresh]"
   ]
  },
  {
   "cell_type": "code",
   "execution_count": null,
   "metadata": {},
   "outputs": [],
   "source": [
    "print(classification_report(pred_data.ytrue, pred_data.ypred > thresh))"
   ]
  },
  {
   "cell_type": "code",
   "execution_count": null,
   "metadata": {},
   "outputs": [],
   "source": []
  },
  {
   "cell_type": "code",
   "execution_count": null,
   "metadata": {},
   "outputs": [],
   "source": []
  },
  {
   "cell_type": "code",
   "execution_count": null,
   "metadata": {},
   "outputs": [],
   "source": []
  },
  {
   "cell_type": "code",
   "execution_count": null,
   "metadata": {},
   "outputs": [],
   "source": []
  },
  {
   "cell_type": "code",
   "execution_count": null,
   "metadata": {},
   "outputs": [],
   "source": []
  },
  {
   "cell_type": "code",
   "execution_count": null,
   "metadata": {},
   "outputs": [],
   "source": []
  },
  {
   "cell_type": "code",
   "execution_count": null,
   "metadata": {},
   "outputs": [],
   "source": []
  },
  {
   "cell_type": "code",
   "execution_count": null,
   "metadata": {},
   "outputs": [],
   "source": []
  },
  {
   "cell_type": "code",
   "execution_count": null,
   "metadata": {},
   "outputs": [],
   "source": []
  },
  {
   "cell_type": "code",
   "execution_count": null,
   "metadata": {},
   "outputs": [],
   "source": []
  },
  {
   "cell_type": "code",
   "execution_count": null,
   "metadata": {},
   "outputs": [],
   "source": []
  },
  {
   "cell_type": "code",
   "execution_count": null,
   "metadata": {},
   "outputs": [],
   "source": []
  },
  {
   "cell_type": "code",
   "execution_count": null,
   "metadata": {},
   "outputs": [],
   "source": [
    "# Option to add multilevel - one per column instead of one above all\n",
    "# Label: if (tomorrow high - today close) > 0"
   ]
  },
  {
   "cell_type": "code",
   "execution_count": null,
   "metadata": {},
   "outputs": [],
   "source": [
    "# xdata.loc[:, (slice(None), ['Volume'])] = xdata.loc[:, (slice(None), ['Volume'])].shift()"
   ]
  },
  {
   "cell_type": "code",
   "execution_count": null,
   "metadata": {},
   "outputs": [],
   "source": []
  },
  {
   "cell_type": "code",
   "execution_count": null,
   "metadata": {},
   "outputs": [],
   "source": []
  },
  {
   "cell_type": "code",
   "execution_count": null,
   "metadata": {},
   "outputs": [],
   "source": [
    "import plotly.graph_objects as go\n",
    "\n",
    "def pair_plot(pair, xunit, yunit, xchannels=None, ychannels=None):\n",
    "    \n",
    "    \n",
    "    x = pair.xframe\n",
    "    y = pair.yframe\n",
    "    \n",
    "    x = select(x, units=[xunit], channels=xchannels)\n",
    "    y = select(y, units=[yunit], channels=ychannels)\n",
    "\n",
    "    fig = go.Figure()\n",
    "\n",
    "    for _, channel in enumerate(xchannels):\n",
    "        c = random.choice(cmap1)\n",
    "        fig.add_trace(go.Scatter(x=x.index, y=x[channel], name=\"x_\" + channel,\n",
    "                                 line=dict(width=2, color=c)))\n",
    "        \n",
    "    for _, channel in enumerate(ychannels):\n",
    "        c = random.choice(cmap1)\n",
    "        fig.add_trace(go.Scatter(x=y.index, y=y[channel], name=\"y_\" + channel,\n",
    "                                 line=dict(width=2, dash='dot', color=c)))\n",
    "\n",
    "    fig.update_layout(title='', xaxis_title='Timestamps', yaxis_title='Values')\n",
    "    fig.show()"
   ]
  },
  {
   "cell_type": "code",
   "execution_count": null,
   "metadata": {},
   "outputs": [],
   "source": []
  },
  {
   "cell_type": "code",
   "execution_count": null,
   "metadata": {},
   "outputs": [],
   "source": [
    "pair_plot(panel.pairs[0], 'MSFT', 'MSFT')"
   ]
  },
  {
   "cell_type": "code",
   "execution_count": null,
   "metadata": {},
   "outputs": [],
   "source": []
  },
  {
   "cell_type": "code",
   "execution_count": null,
   "metadata": {},
   "outputs": [],
   "source": [
    "xdata['QCOM']['High'].plot()"
   ]
  },
  {
   "cell_type": "code",
   "execution_count": null,
   "metadata": {},
   "outputs": [],
   "source": []
  },
  {
   "cell_type": "code",
   "execution_count": null,
   "metadata": {},
   "outputs": [],
   "source": []
  },
  {
   "cell_type": "code",
   "execution_count": null,
   "metadata": {},
   "outputs": [],
   "source": []
  },
  {
   "cell_type": "code",
   "execution_count": null,
   "metadata": {},
   "outputs": [],
   "source": [
    "import re\n",
    "import requests\n",
    "import pandas as pd\n",
    "\n",
    "def get_url_mails(url):\n",
    "    EMAIL_REGEX=r\"[\\w\\.-]+@[\\w\\.-]+\"\n",
    "\n",
    "    mails = []\n",
    "    r=requests.get(url)\n",
    "    for re_match in re.findall(EMAIL_REGEX, r.text):\n",
    "        mails.append(re_match)\n",
    "    return mails\n",
    "\n",
    "def get_mails(urls):\n",
    "    mails = {}\n",
    "    for url in urls:\n",
    "        mails[url] = list(set(get_url_mails(url)))\n",
    "    return pd.DataFrame(dict([(k, pd.Series(v)) for k,v in mails.items() ]))\n",
    "\n",
    "def get_mails_from_csv(csv_filename, output_filename):\n",
    "    urls = pd.read_csv(csv_filename)['Email']\n",
    "    get_mails(urls).to_csv(output_filename)\n",
    "\n",
    "get_mails_from_csv('/Users/rodrigonader/Downloads/pesquisa.csv', 'myout.csv')"
   ]
  },
  {
   "cell_type": "code",
   "execution_count": null,
   "metadata": {},
   "outputs": [],
   "source": []
  }
 ],
 "metadata": {
  "interpreter": {
   "hash": "9cb234d4e2c52173e43522c637a954180012c3ae1bff92a340992ea9042eea4e"
  },
  "kernelspec": {
   "display_name": "Python 3.8.10 64-bit ('tensorflow': conda)",
   "name": "python3"
  },
  "language_info": {
   "codemirror_mode": {
    "name": "ipython",
    "version": 3
   },
   "file_extension": ".py",
   "mimetype": "text/x-python",
   "name": "python",
   "nbconvert_exporter": "python",
   "pygments_lexer": "ipython3",
   "version": "3.8.12"
  }
 },
 "nbformat": 4,
 "nbformat_minor": 4
}
