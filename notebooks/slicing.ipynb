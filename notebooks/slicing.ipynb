{
 "cells": [
  {
   "cell_type": "code",
   "execution_count": 1,
   "metadata": {},
   "outputs": [],
   "source": [
    "import pandas as pd\n",
    "import yfinance as yf\n",
    "\n",
    "import sys\n",
    "sys.path.append('../')\n",
    "\n",
    "import wavy\n",
    "\n",
    "tickers = pd.read_html('https://en.wikipedia.org/wiki/List_of_S%26P_500_companies')[0].Symbol\n",
    "\n",
    "msft = yf.Ticker(\"MSFT\")\n",
    "\n",
    "hist = msft.history(period=\"max\", start=\"2005-01-01\")\n",
    "\n",
    "hist = hist[['Open', 'High', 'Low', 'Close']]\n",
    "\n",
    "df = hist.pct_change()\n",
    "\n",
    "df.dropna(inplace=True)\n",
    "\n",
    "x, y = wavy.create_panels(df, lookback=5, horizon=1)"
   ]
  },
  {
   "cell_type": "markdown",
   "metadata": {},
   "source": [
    "# Index\n",
    "### Index"
   ]
  },
  {
   "cell_type": "code",
   "execution_count": 2,
   "metadata": {},
   "outputs": [
    {
     "name": "stdout",
     "output_type": "stream",
     "text": [
      "size                           1\n",
      "timesteps                      1\n",
      "start        2005-01-10 00:00:00\n",
      "end          2005-01-10 00:00:00\n",
      "Name: Panel, dtype: object\n"
     ]
    },
    {
     "data": {
      "text/plain": [
       "<Panel, size 1>"
      ]
     },
     "execution_count": 2,
     "metadata": {},
     "output_type": "execute_result"
    }
   ],
   "source": [
    "x[0]"
   ]
  },
  {
   "cell_type": "markdown",
   "metadata": {},
   "source": [
    "### Slice"
   ]
  },
  {
   "cell_type": "code",
   "execution_count": 3,
   "metadata": {},
   "outputs": [
    {
     "name": "stdout",
     "output_type": "stream",
     "text": [
      "size                           2\n",
      "timesteps                      1\n",
      "start        2005-01-10 00:00:00\n",
      "end          2005-01-11 00:00:00\n",
      "Name: Panel, dtype: object\n"
     ]
    },
    {
     "data": {
      "text/plain": [
       "<Panel, size 2>"
      ]
     },
     "execution_count": 3,
     "metadata": {},
     "output_type": "execute_result"
    }
   ],
   "source": [
    "x[0:2]"
   ]
  },
  {
   "cell_type": "markdown",
   "metadata": {},
   "source": [
    "### List"
   ]
  },
  {
   "cell_type": "code",
   "execution_count": 4,
   "metadata": {},
   "outputs": [
    {
     "name": "stdout",
     "output_type": "stream",
     "text": [
      "size                           3\n",
      "timesteps                      1\n",
      "start        2005-01-10 00:00:00\n",
      "end          2005-01-12 00:00:00\n",
      "Name: Panel, dtype: object\n"
     ]
    },
    {
     "data": {
      "text/plain": [
       "<Panel, size 3>"
      ]
     },
     "execution_count": 4,
     "metadata": {},
     "output_type": "execute_result"
    }
   ],
   "source": [
    "x[[0,1,2]]"
   ]
  },
  {
   "cell_type": "markdown",
   "metadata": {},
   "source": [
    "# Column"
   ]
  },
  {
   "cell_type": "code",
   "execution_count": 5,
   "metadata": {},
   "outputs": [
    {
     "name": "stdout",
     "output_type": "stream",
     "text": [
      "size                        4349\n",
      "timesteps                      1\n",
      "start        2005-01-10 00:00:00\n",
      "end          2022-04-19 00:00:00\n",
      "Name: Panel, dtype: object\n"
     ]
    },
    {
     "data": {
      "text/plain": [
       "<Panel, size 4349>"
      ]
     },
     "execution_count": 5,
     "metadata": {},
     "output_type": "execute_result"
    }
   ],
   "source": [
    "x['High']"
   ]
  },
  {
   "cell_type": "code",
   "execution_count": 6,
   "metadata": {},
   "outputs": [
    {
     "name": "stdout",
     "output_type": "stream",
     "text": [
      "size                        4349\n",
      "timesteps                      1\n",
      "start        2005-01-10 00:00:00\n",
      "end          2022-04-19 00:00:00\n",
      "Name: Panel, dtype: object\n"
     ]
    },
    {
     "data": {
      "text/plain": [
       "<Panel, size 4349>"
      ]
     },
     "execution_count": 6,
     "metadata": {},
     "output_type": "execute_result"
    }
   ],
   "source": [
    "x[['High']]"
   ]
  },
  {
   "cell_type": "markdown",
   "metadata": {},
   "source": [
    "# Tuple"
   ]
  },
  {
   "cell_type": "code",
   "execution_count": 7,
   "metadata": {},
   "outputs": [
    {
     "name": "stdout",
     "output_type": "stream",
     "text": [
      "size                           1\n",
      "timesteps                      1\n",
      "start        2005-01-10 00:00:00\n",
      "end          2005-01-10 00:00:00\n",
      "Name: Panel, dtype: object\n"
     ]
    },
    {
     "data": {
      "text/plain": [
       "<Panel, size 1>"
      ]
     },
     "execution_count": 7,
     "metadata": {},
     "output_type": "execute_result"
    }
   ],
   "source": [
    "x[0, 'High']"
   ]
  },
  {
   "cell_type": "code",
   "execution_count": 8,
   "metadata": {},
   "outputs": [
    {
     "name": "stdout",
     "output_type": "stream",
     "text": [
      "size                           2\n",
      "timesteps                      1\n",
      "start        2005-01-10 00:00:00\n",
      "end          2005-01-11 00:00:00\n",
      "Name: Panel, dtype: object\n"
     ]
    },
    {
     "data": {
      "text/plain": [
       "<Panel, size 2>"
      ]
     },
     "execution_count": 8,
     "metadata": {},
     "output_type": "execute_result"
    }
   ],
   "source": [
    "x[0:2, 'High']"
   ]
  },
  {
   "cell_type": "code",
   "execution_count": 9,
   "metadata": {},
   "outputs": [
    {
     "name": "stdout",
     "output_type": "stream",
     "text": [
      "size                           3\n",
      "timesteps                      1\n",
      "start        2005-01-10 00:00:00\n",
      "end          2005-01-12 00:00:00\n",
      "Name: Panel, dtype: object\n"
     ]
    },
    {
     "data": {
      "text/plain": [
       "<Panel, size 3>"
      ]
     },
     "execution_count": 9,
     "metadata": {},
     "output_type": "execute_result"
    }
   ],
   "source": [
    "x[[0, 1, 2], 'High']"
   ]
  }
 ],
 "metadata": {
  "interpreter": {
   "hash": "d29008525db33303aa4d4b77a2853fb64f5d0b1de170742737059760db4b9ffb"
  },
  "kernelspec": {
   "display_name": "Python 3.8.12 ('.env': venv)",
   "language": "python",
   "name": "python3"
  },
  "language_info": {
   "codemirror_mode": {
    "name": "ipython",
    "version": 3
   },
   "file_extension": ".py",
   "mimetype": "text/x-python",
   "name": "python",
   "nbconvert_exporter": "python",
   "pygments_lexer": "ipython3",
   "version": "3.8.12"
  },
  "orig_nbformat": 4
 },
 "nbformat": 4,
 "nbformat_minor": 2
}
