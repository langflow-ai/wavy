{
 "cells": [
  {
   "cell_type": "code",
   "execution_count": 1,
   "metadata": {},
   "outputs": [],
   "source": [
    "import pandas as pd\n",
    "import yfinance as yf\n",
    "\n",
    "import sys\n",
    "sys.path.append('../')\n",
    "\n",
    "import wavy\n",
    "\n",
    "tickers = pd.read_html('https://en.wikipedia.org/wiki/List_of_S%26P_500_companies')[0].Symbol\n",
    "\n",
    "msft = yf.Ticker(\"MSFT\")\n",
    "\n",
    "hist = msft.history(period=\"max\", start=\"2005-01-01\")\n",
    "\n",
    "hist = hist[['Open', 'High', 'Low', 'Close']]\n",
    "\n",
    "df = hist.pct_change()\n",
    "\n",
    "df.dropna(inplace=True)\n",
    "\n",
    "x, y = wavy.create_panels(df, lookback=5, horizon=1)"
   ]
  },
  {
   "cell_type": "markdown",
   "metadata": {},
   "source": [
    "# Index\n",
    "### Index"
   ]
  },
  {
   "cell_type": "code",
   "execution_count": 2,
   "metadata": {},
   "outputs": [
    {
     "name": "stdout",
     "output_type": "stream",
     "text": [
      "size                           1\n",
      "timesteps                      1\n",
      "start        2005-01-10 00:00:00\n",
      "end          2005-01-10 00:00:00\n",
      "Name: Panel, dtype: object\n"
     ]
    },
    {
     "data": {
      "text/plain": [
       "<Panel, size 1>"
      ]
     },
     "execution_count": 2,
     "metadata": {},
     "output_type": "execute_result"
    }
   ],
   "source": [
    "x[0]"
   ]
  },
  {
   "cell_type": "markdown",
   "metadata": {},
   "source": [
    "### Slice"
   ]
  },
  {
   "cell_type": "code",
   "execution_count": 3,
   "metadata": {},
   "outputs": [
    {
     "name": "stdout",
     "output_type": "stream",
     "text": [
      "size                           2\n",
      "timesteps                      1\n",
      "start        2005-01-10 00:00:00\n",
      "end          2005-01-11 00:00:00\n",
      "Name: Panel, dtype: object\n"
     ]
    },
    {
     "data": {
      "text/plain": [
       "<Panel, size 2>"
      ]
     },
     "execution_count": 3,
     "metadata": {},
     "output_type": "execute_result"
    }
   ],
   "source": [
    "x[0:2]"
   ]
  },
  {
   "cell_type": "markdown",
   "metadata": {},
   "source": [
    "### List"
   ]
  },
  {
   "cell_type": "code",
   "execution_count": 4,
   "metadata": {},
   "outputs": [
    {
     "name": "stdout",
     "output_type": "stream",
     "text": [
      "size                           3\n",
      "timesteps                      1\n",
      "start        2005-01-10 00:00:00\n",
      "end          2005-01-12 00:00:00\n",
      "Name: Panel, dtype: object\n"
     ]
    },
    {
     "data": {
      "text/plain": [
       "<Panel, size 3>"
      ]
     },
     "execution_count": 4,
     "metadata": {},
     "output_type": "execute_result"
    }
   ],
   "source": [
    "x[[0,1,2]]"
   ]
  },
  {
   "cell_type": "markdown",
   "metadata": {},
   "source": [
    "# Column"
   ]
  },
  {
   "cell_type": "code",
   "execution_count": 5,
   "metadata": {},
   "outputs": [
    {
     "name": "stdout",
     "output_type": "stream",
     "text": [
      "size                        4350\n",
      "timesteps                      1\n",
      "start        2005-01-10 00:00:00\n",
      "end          2022-04-20 00:00:00\n",
      "Name: Panel, dtype: object\n"
     ]
    },
    {
     "data": {
      "text/plain": [
       "<Panel, size 4350>"
      ]
     },
     "execution_count": 5,
     "metadata": {},
     "output_type": "execute_result"
    }
   ],
   "source": [
    "x['High']"
   ]
  },
  {
   "cell_type": "code",
   "execution_count": 6,
   "metadata": {},
   "outputs": [
    {
     "name": "stdout",
     "output_type": "stream",
     "text": [
      "size                        4350\n",
      "timesteps                      1\n",
      "start        2005-01-10 00:00:00\n",
      "end          2022-04-20 00:00:00\n",
      "Name: Panel, dtype: object\n"
     ]
    },
    {
     "data": {
      "text/plain": [
       "<Panel, size 4350>"
      ]
     },
     "execution_count": 6,
     "metadata": {},
     "output_type": "execute_result"
    }
   ],
   "source": [
    "x[['High']]"
   ]
  },
  {
   "cell_type": "markdown",
   "metadata": {},
   "source": [
    "# Tuple"
   ]
  },
  {
   "cell_type": "code",
   "execution_count": 7,
   "metadata": {},
   "outputs": [
    {
     "name": "stdout",
     "output_type": "stream",
     "text": [
      "size                           1\n",
      "timesteps                      1\n",
      "start        2005-01-10 00:00:00\n",
      "end          2005-01-10 00:00:00\n",
      "Name: Panel, dtype: object\n"
     ]
    },
    {
     "data": {
      "text/plain": [
       "<Panel, size 1>"
      ]
     },
     "execution_count": 7,
     "metadata": {},
     "output_type": "execute_result"
    }
   ],
   "source": [
    "x[0, 'High']"
   ]
  },
  {
   "cell_type": "code",
   "execution_count": 8,
   "metadata": {},
   "outputs": [
    {
     "name": "stdout",
     "output_type": "stream",
     "text": [
      "size                           2\n",
      "timesteps                      1\n",
      "start        2005-01-10 00:00:00\n",
      "end          2005-01-11 00:00:00\n",
      "Name: Panel, dtype: object\n"
     ]
    },
    {
     "data": {
      "text/plain": [
       "<Panel, size 2>"
      ]
     },
     "execution_count": 8,
     "metadata": {},
     "output_type": "execute_result"
    }
   ],
   "source": [
    "x[0:2, 'High']"
   ]
  },
  {
   "cell_type": "code",
   "execution_count": 9,
   "metadata": {},
   "outputs": [
    {
     "name": "stdout",
     "output_type": "stream",
     "text": [
      "size                           3\n",
      "timesteps                      1\n",
      "start        2005-01-10 00:00:00\n",
      "end          2005-01-12 00:00:00\n",
      "Name: Panel, dtype: object\n"
     ]
    },
    {
     "data": {
      "text/plain": [
       "<Panel, size 3>"
      ]
     },
     "execution_count": 9,
     "metadata": {},
     "output_type": "execute_result"
    }
   ],
   "source": [
    "x[[0, 1, 2], 'High']"
   ]
  },
  {
   "cell_type": "code",
   "execution_count": 10,
   "metadata": {},
   "outputs": [
    {
     "name": "stdout",
     "output_type": "stream",
     "text": [
      "size                           1\n",
      "timesteps                      1\n",
      "start        2005-01-10 00:00:00\n",
      "end          2005-01-10 00:00:00\n",
      "Name: Panel, dtype: object\n"
     ]
    },
    {
     "data": {
      "text/plain": [
       "<Panel, size 1>"
      ]
     },
     "execution_count": 10,
     "metadata": {},
     "output_type": "execute_result"
    }
   ],
   "source": [
    "x[0, ['High']]"
   ]
  },
  {
   "cell_type": "code",
   "execution_count": 11,
   "metadata": {},
   "outputs": [
    {
     "name": "stdout",
     "output_type": "stream",
     "text": [
      "size                           2\n",
      "timesteps                      1\n",
      "start        2005-01-10 00:00:00\n",
      "end          2005-01-11 00:00:00\n",
      "Name: Panel, dtype: object\n"
     ]
    },
    {
     "data": {
      "text/plain": [
       "<Panel, size 2>"
      ]
     },
     "execution_count": 11,
     "metadata": {},
     "output_type": "execute_result"
    }
   ],
   "source": [
    "x[0:2, ['High']]"
   ]
  },
  {
   "cell_type": "code",
   "execution_count": 12,
   "metadata": {},
   "outputs": [
    {
     "name": "stdout",
     "output_type": "stream",
     "text": [
      "size                           3\n",
      "timesteps                      1\n",
      "start        2005-01-10 00:00:00\n",
      "end          2005-01-12 00:00:00\n",
      "Name: Panel, dtype: object\n"
     ]
    },
    {
     "data": {
      "text/plain": [
       "<Panel, size 3>"
      ]
     },
     "execution_count": 12,
     "metadata": {},
     "output_type": "execute_result"
    }
   ],
   "source": [
    "x[[0, 1, 2], ['High']]"
   ]
  },
  {
   "cell_type": "code",
   "execution_count": 13,
   "metadata": {},
   "outputs": [],
   "source": [
    "a = x[0, 'High']\n",
    "b = x[0, 'High']"
   ]
  },
  {
   "cell_type": "code",
   "execution_count": 20,
   "metadata": {},
   "outputs": [
    {
     "ename": "TypeError",
     "evalue": "unsupported operand type(s) for +: 'Panel' and 'Panel'",
     "output_type": "error",
     "traceback": [
      "\u001b[0;31m---------------------------------------------------------------------------\u001b[0m",
      "\u001b[0;31mTypeError\u001b[0m                                 Traceback (most recent call last)",
      "\u001b[0;32m/var/folders/1h/2q97f2rx4qz77b9l1gp7wvvm0000gn/T/ipykernel_78534/1216668022.py\u001b[0m in \u001b[0;36m<module>\u001b[0;34m\u001b[0m\n\u001b[0;32m----> 1\u001b[0;31m \u001b[0ma\u001b[0m \u001b[0;34m+\u001b[0m \u001b[0mb\u001b[0m\u001b[0;34m\u001b[0m\u001b[0;34m\u001b[0m\u001b[0m\n\u001b[0m",
      "\u001b[0;31mTypeError\u001b[0m: unsupported operand type(s) for +: 'Panel' and 'Panel'"
     ]
    }
   ],
   "source": [
    "a + b"
   ]
  },
  {
   "cell_type": "code",
   "execution_count": 19,
   "metadata": {},
   "outputs": [
    {
     "data": {
      "text/plain": [
       "[                    High\n",
       " Date                    \n",
       " 2005-01-04  5.565766e-03\n",
       " 2005-01-05  3.615323e-07\n",
       " 2005-01-06 -1.476233e-03\n",
       " 2005-01-07 -6.282567e-03\n",
       " 2005-01-10 -1.115437e-03]"
      ]
     },
     "execution_count": 19,
     "metadata": {},
     "output_type": "execute_result"
    }
   ],
   "source": []
  },
  {
   "cell_type": "code",
   "execution_count": null,
   "metadata": {},
   "outputs": [],
   "source": []
  }
 ],
 "metadata": {
  "interpreter": {
   "hash": "d29008525db33303aa4d4b77a2853fb64f5d0b1de170742737059760db4b9ffb"
  },
  "kernelspec": {
   "display_name": "Python 3.8.12 ('.env': venv)",
   "language": "python",
   "name": "python3"
  },
  "language_info": {
   "codemirror_mode": {
    "name": "ipython",
    "version": 3
   },
   "file_extension": ".py",
   "mimetype": "text/x-python",
   "name": "python",
   "nbconvert_exporter": "python",
   "pygments_lexer": "ipython3",
   "version": "3.8.12"
  },
  "orig_nbformat": 4
 },
 "nbformat": 4,
 "nbformat_minor": 2
}
