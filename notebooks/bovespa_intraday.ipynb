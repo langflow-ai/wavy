{
 "cells": [
  {
   "cell_type": "code",
   "execution_count": 1,
   "metadata": {},
   "outputs": [],
   "source": [
    "import sys\n",
    "sys.path.append('../')\n",
    "\n",
    "%load_ext autoreload\n",
    "%autoreload 2"
   ]
  },
  {
   "cell_type": "code",
   "execution_count": 2,
   "metadata": {},
   "outputs": [
    {
     "name": "stderr",
     "output_type": "stream",
     "text": [
      "/Users/ibiscp/GitHub/logspace/wavy/.venv/lib/python3.8/site-packages/tqdm/auto.py:22: TqdmWarning: IProgress not found. Please update jupyter and ipywidgets. See https://ipywidgets.readthedocs.io/en/stable/user_install.html\n",
      "  from .autonotebook import tqdm as notebook_tqdm\n"
     ]
    },
    {
     "data": {
      "text/html": [
       "<div>\n",
       "<style scoped>\n",
       "    .dataframe tbody tr th:only-of-type {\n",
       "        vertical-align: middle;\n",
       "    }\n",
       "\n",
       "    .dataframe tbody tr th {\n",
       "        vertical-align: top;\n",
       "    }\n",
       "\n",
       "    .dataframe thead tr th {\n",
       "        text-align: left;\n",
       "    }\n",
       "\n",
       "    .dataframe thead tr:last-of-type th {\n",
       "        text-align: right;\n",
       "    }\n",
       "</style>\n",
       "<table border=\"1\" class=\"dataframe\">\n",
       "  <thead>\n",
       "    <tr>\n",
       "      <th></th>\n",
       "      <th colspan=\"9\" halign=\"left\">vale3</th>\n",
       "      <th>petr4</th>\n",
       "      <th>...</th>\n",
       "      <th>prio3</th>\n",
       "      <th colspan=\"9\" halign=\"left\">b3sa3</th>\n",
       "    </tr>\n",
       "    <tr>\n",
       "      <th></th>\n",
       "      <th>symbol</th>\n",
       "      <th>price</th>\n",
       "      <th>open</th>\n",
       "      <th>high</th>\n",
       "      <th>low</th>\n",
       "      <th>previous</th>\n",
       "      <th>quantityTrades</th>\n",
       "      <th>volumeAmount</th>\n",
       "      <th>volumeFinancier</th>\n",
       "      <th>symbol</th>\n",
       "      <th>...</th>\n",
       "      <th>volumeFinancier</th>\n",
       "      <th>symbol</th>\n",
       "      <th>price</th>\n",
       "      <th>open</th>\n",
       "      <th>high</th>\n",
       "      <th>low</th>\n",
       "      <th>previous</th>\n",
       "      <th>quantityTrades</th>\n",
       "      <th>volumeAmount</th>\n",
       "      <th>volumeFinancier</th>\n",
       "    </tr>\n",
       "    <tr>\n",
       "      <th>timeTrade</th>\n",
       "      <th></th>\n",
       "      <th></th>\n",
       "      <th></th>\n",
       "      <th></th>\n",
       "      <th></th>\n",
       "      <th></th>\n",
       "      <th></th>\n",
       "      <th></th>\n",
       "      <th></th>\n",
       "      <th></th>\n",
       "      <th></th>\n",
       "      <th></th>\n",
       "      <th></th>\n",
       "      <th></th>\n",
       "      <th></th>\n",
       "      <th></th>\n",
       "      <th></th>\n",
       "      <th></th>\n",
       "      <th></th>\n",
       "      <th></th>\n",
       "      <th></th>\n",
       "    </tr>\n",
       "  </thead>\n",
       "  <tbody>\n",
       "    <tr>\n",
       "      <th>2012-01-02 09:28:00</th>\n",
       "      <td>NaN</td>\n",
       "      <td>NaN</td>\n",
       "      <td>NaN</td>\n",
       "      <td>NaN</td>\n",
       "      <td>NaN</td>\n",
       "      <td>NaN</td>\n",
       "      <td>NaN</td>\n",
       "      <td>NaN</td>\n",
       "      <td>NaN</td>\n",
       "      <td>NaN</td>\n",
       "      <td>...</td>\n",
       "      <td>NaN</td>\n",
       "      <td>NaN</td>\n",
       "      <td>NaN</td>\n",
       "      <td>NaN</td>\n",
       "      <td>NaN</td>\n",
       "      <td>NaN</td>\n",
       "      <td>NaN</td>\n",
       "      <td>NaN</td>\n",
       "      <td>NaN</td>\n",
       "      <td>NaN</td>\n",
       "    </tr>\n",
       "    <tr>\n",
       "      <th>2012-01-02 10:19:00</th>\n",
       "      <td>NaN</td>\n",
       "      <td>NaN</td>\n",
       "      <td>NaN</td>\n",
       "      <td>NaN</td>\n",
       "      <td>NaN</td>\n",
       "      <td>NaN</td>\n",
       "      <td>NaN</td>\n",
       "      <td>NaN</td>\n",
       "      <td>NaN</td>\n",
       "      <td>NaN</td>\n",
       "      <td>...</td>\n",
       "      <td>NaN</td>\n",
       "      <td>NaN</td>\n",
       "      <td>NaN</td>\n",
       "      <td>NaN</td>\n",
       "      <td>NaN</td>\n",
       "      <td>NaN</td>\n",
       "      <td>NaN</td>\n",
       "      <td>NaN</td>\n",
       "      <td>NaN</td>\n",
       "      <td>NaN</td>\n",
       "    </tr>\n",
       "    <tr>\n",
       "      <th>2012-01-02 11:03:00</th>\n",
       "      <td>NaN</td>\n",
       "      <td>NaN</td>\n",
       "      <td>NaN</td>\n",
       "      <td>NaN</td>\n",
       "      <td>NaN</td>\n",
       "      <td>NaN</td>\n",
       "      <td>NaN</td>\n",
       "      <td>NaN</td>\n",
       "      <td>NaN</td>\n",
       "      <td>NaN</td>\n",
       "      <td>...</td>\n",
       "      <td>NaN</td>\n",
       "      <td>b3sa3</td>\n",
       "      <td>7.22</td>\n",
       "      <td>7.22</td>\n",
       "      <td>7.24</td>\n",
       "      <td>7.22</td>\n",
       "      <td>7.26</td>\n",
       "      <td>49.0</td>\n",
       "      <td>412700.0</td>\n",
       "      <td>4023901.0</td>\n",
       "    </tr>\n",
       "    <tr>\n",
       "      <th>2012-01-02 11:04:00</th>\n",
       "      <td>NaN</td>\n",
       "      <td>NaN</td>\n",
       "      <td>NaN</td>\n",
       "      <td>NaN</td>\n",
       "      <td>NaN</td>\n",
       "      <td>NaN</td>\n",
       "      <td>NaN</td>\n",
       "      <td>NaN</td>\n",
       "      <td>NaN</td>\n",
       "      <td>petr4</td>\n",
       "      <td>...</td>\n",
       "      <td>NaN</td>\n",
       "      <td>b3sa3</td>\n",
       "      <td>7.26</td>\n",
       "      <td>7.24</td>\n",
       "      <td>7.26</td>\n",
       "      <td>7.24</td>\n",
       "      <td>7.22</td>\n",
       "      <td>12.0</td>\n",
       "      <td>4400.0</td>\n",
       "      <td>43022.0</td>\n",
       "    </tr>\n",
       "    <tr>\n",
       "      <th>2012-01-02 11:05:00</th>\n",
       "      <td>vale3</td>\n",
       "      <td>26.86</td>\n",
       "      <td>26.74</td>\n",
       "      <td>26.86</td>\n",
       "      <td>26.74</td>\n",
       "      <td>26.53</td>\n",
       "      <td>29.0</td>\n",
       "      <td>45400.0</td>\n",
       "      <td>1805948.0</td>\n",
       "      <td>petr4</td>\n",
       "      <td>...</td>\n",
       "      <td>NaN</td>\n",
       "      <td>b3sa3</td>\n",
       "      <td>7.26</td>\n",
       "      <td>7.26</td>\n",
       "      <td>7.26</td>\n",
       "      <td>7.26</td>\n",
       "      <td>7.26</td>\n",
       "      <td>2.0</td>\n",
       "      <td>200.0</td>\n",
       "      <td>1960.0</td>\n",
       "    </tr>\n",
       "  </tbody>\n",
       "</table>\n",
       "<p>5 rows × 45 columns</p>\n",
       "</div>"
      ],
      "text/plain": [
       "                     vale3                                       \\\n",
       "                    symbol  price   open   high    low previous   \n",
       "timeTrade                                                         \n",
       "2012-01-02 09:28:00    NaN    NaN    NaN    NaN    NaN      NaN   \n",
       "2012-01-02 10:19:00    NaN    NaN    NaN    NaN    NaN      NaN   \n",
       "2012-01-02 11:03:00    NaN    NaN    NaN    NaN    NaN      NaN   \n",
       "2012-01-02 11:04:00    NaN    NaN    NaN    NaN    NaN      NaN   \n",
       "2012-01-02 11:05:00  vale3  26.86  26.74  26.86  26.74    26.53   \n",
       "\n",
       "                                                                 petr4  ...  \\\n",
       "                    quantityTrades volumeAmount volumeFinancier symbol  ...   \n",
       "timeTrade                                                               ...   \n",
       "2012-01-02 09:28:00            NaN          NaN             NaN    NaN  ...   \n",
       "2012-01-02 10:19:00            NaN          NaN             NaN    NaN  ...   \n",
       "2012-01-02 11:03:00            NaN          NaN             NaN    NaN  ...   \n",
       "2012-01-02 11:04:00            NaN          NaN             NaN  petr4  ...   \n",
       "2012-01-02 11:05:00           29.0      45400.0       1805948.0  petr4  ...   \n",
       "\n",
       "                              prio3  b3sa3                                   \\\n",
       "                    volumeFinancier symbol price  open  high   low previous   \n",
       "timeTrade                                                                     \n",
       "2012-01-02 09:28:00             NaN    NaN   NaN   NaN   NaN   NaN      NaN   \n",
       "2012-01-02 10:19:00             NaN    NaN   NaN   NaN   NaN   NaN      NaN   \n",
       "2012-01-02 11:03:00             NaN  b3sa3  7.22  7.22  7.24  7.22     7.26   \n",
       "2012-01-02 11:04:00             NaN  b3sa3  7.26  7.24  7.26  7.24     7.22   \n",
       "2012-01-02 11:05:00             NaN  b3sa3  7.26  7.26  7.26  7.26     7.26   \n",
       "\n",
       "                                                                 \n",
       "                    quantityTrades volumeAmount volumeFinancier  \n",
       "timeTrade                                                        \n",
       "2012-01-02 09:28:00            NaN          NaN             NaN  \n",
       "2012-01-02 10:19:00            NaN          NaN             NaN  \n",
       "2012-01-02 11:03:00           49.0     412700.0       4023901.0  \n",
       "2012-01-02 11:04:00           12.0       4400.0         43022.0  \n",
       "2012-01-02 11:05:00            2.0        200.0          1960.0  \n",
       "\n",
       "[5 rows x 45 columns]"
      ]
     },
     "execution_count": 2,
     "metadata": {},
     "output_type": "execute_result"
    }
   ],
   "source": [
    "# Import the necessary modules\n",
    "import yfinance as yf\n",
    "import wavy\n",
    "import pandas as pd\n",
    "import numpy as np\n",
    "\n",
    "# Load pickle file\n",
    "hist = pd.read_pickle('../data/intraday_stocks.pkl')\n",
    "\n",
    "hist.head()"
   ]
  },
  {
   "cell_type": "code",
   "execution_count": 3,
   "metadata": {},
   "outputs": [],
   "source": [
    "# Select the interest columns\n",
    "hist = hist[['petr4']]\n",
    "\n",
    "hist.columns = hist.columns.droplevel()"
   ]
  },
  {
   "cell_type": "code",
   "execution_count": 4,
   "metadata": {},
   "outputs": [
    {
     "data": {
      "text/html": [
       "<div>\n",
       "<style scoped>\n",
       "    .dataframe tbody tr th:only-of-type {\n",
       "        vertical-align: middle;\n",
       "    }\n",
       "\n",
       "    .dataframe tbody tr th {\n",
       "        vertical-align: top;\n",
       "    }\n",
       "\n",
       "    .dataframe thead th {\n",
       "        text-align: right;\n",
       "    }\n",
       "</style>\n",
       "<table border=\"1\" class=\"dataframe\">\n",
       "  <thead>\n",
       "    <tr style=\"text-align: right;\">\n",
       "      <th></th>\n",
       "      <th>price</th>\n",
       "      <th>open</th>\n",
       "      <th>high</th>\n",
       "      <th>low</th>\n",
       "      <th>quantityTrades</th>\n",
       "      <th>volumeAmount</th>\n",
       "      <th>volumeFinancier</th>\n",
       "    </tr>\n",
       "    <tr>\n",
       "      <th>timeTrade</th>\n",
       "      <th></th>\n",
       "      <th></th>\n",
       "      <th></th>\n",
       "      <th></th>\n",
       "      <th></th>\n",
       "      <th></th>\n",
       "      <th></th>\n",
       "    </tr>\n",
       "  </thead>\n",
       "  <tbody>\n",
       "    <tr>\n",
       "      <th>2012-01-02 11:04:00</th>\n",
       "      <td>17.97</td>\n",
       "      <td>18.01</td>\n",
       "      <td>18.03</td>\n",
       "      <td>17.97</td>\n",
       "      <td>89.0</td>\n",
       "      <td>245300.0</td>\n",
       "      <td>5276453.0</td>\n",
       "    </tr>\n",
       "    <tr>\n",
       "      <th>2012-01-02 11:05:00</th>\n",
       "      <td>18.00</td>\n",
       "      <td>17.99</td>\n",
       "      <td>18.01</td>\n",
       "      <td>17.98</td>\n",
       "      <td>15.0</td>\n",
       "      <td>36000.0</td>\n",
       "      <td>773995.0</td>\n",
       "    </tr>\n",
       "    <tr>\n",
       "      <th>2012-01-02 11:06:00</th>\n",
       "      <td>18.01</td>\n",
       "      <td>18.00</td>\n",
       "      <td>18.03</td>\n",
       "      <td>18.00</td>\n",
       "      <td>63.0</td>\n",
       "      <td>35800.0</td>\n",
       "      <td>770228.0</td>\n",
       "    </tr>\n",
       "    <tr>\n",
       "      <th>2012-01-02 11:07:00</th>\n",
       "      <td>18.04</td>\n",
       "      <td>18.02</td>\n",
       "      <td>18.04</td>\n",
       "      <td>18.01</td>\n",
       "      <td>57.0</td>\n",
       "      <td>54900.0</td>\n",
       "      <td>1181642.0</td>\n",
       "    </tr>\n",
       "    <tr>\n",
       "      <th>2012-01-02 11:08:00</th>\n",
       "      <td>18.09</td>\n",
       "      <td>18.03</td>\n",
       "      <td>18.09</td>\n",
       "      <td>18.03</td>\n",
       "      <td>109.0</td>\n",
       "      <td>131900.0</td>\n",
       "      <td>2846212.0</td>\n",
       "    </tr>\n",
       "  </tbody>\n",
       "</table>\n",
       "</div>"
      ],
      "text/plain": [
       "                     price   open   high    low  quantityTrades  volumeAmount  \\\n",
       "timeTrade                                                                       \n",
       "2012-01-02 11:04:00  17.97  18.01  18.03  17.97            89.0      245300.0   \n",
       "2012-01-02 11:05:00  18.00  17.99  18.01  17.98            15.0       36000.0   \n",
       "2012-01-02 11:06:00  18.01  18.00  18.03  18.00            63.0       35800.0   \n",
       "2012-01-02 11:07:00  18.04  18.02  18.04  18.01            57.0       54900.0   \n",
       "2012-01-02 11:08:00  18.09  18.03  18.09  18.03           109.0      131900.0   \n",
       "\n",
       "                     volumeFinancier  \n",
       "timeTrade                             \n",
       "2012-01-02 11:04:00        5276453.0  \n",
       "2012-01-02 11:05:00         773995.0  \n",
       "2012-01-02 11:06:00         770228.0  \n",
       "2012-01-02 11:07:00        1181642.0  \n",
       "2012-01-02 11:08:00        2846212.0  "
      ]
     },
     "execution_count": 4,
     "metadata": {},
     "output_type": "execute_result"
    }
   ],
   "source": [
    "# Select the interest columns\n",
    "hist = hist[['price', 'open', 'high', 'low', 'quantityTrades', 'volumeAmount', 'volumeFinancier']]\n",
    "\n",
    "# Plot the data\n",
    "# hist.plot()\n",
    "\n",
    "# Drop rows with NaN\n",
    "hist.dropna(inplace=True)\n",
    "\n",
    "hist.head()"
   ]
  },
  {
   "cell_type": "code",
   "execution_count": 5,
   "metadata": {},
   "outputs": [
    {
     "data": {
      "text/plain": [
       "(1015428, 7)"
      ]
     },
     "execution_count": 5,
     "metadata": {},
     "output_type": "execute_result"
    }
   ],
   "source": [
    "hist.shape"
   ]
  },
  {
   "cell_type": "code",
   "execution_count": 6,
   "metadata": {},
   "outputs": [
    {
     "data": {
      "text/html": [
       "<div>\n",
       "<style scoped>\n",
       "    .dataframe tbody tr th:only-of-type {\n",
       "        vertical-align: middle;\n",
       "    }\n",
       "\n",
       "    .dataframe tbody tr th {\n",
       "        vertical-align: top;\n",
       "    }\n",
       "\n",
       "    .dataframe thead th {\n",
       "        text-align: right;\n",
       "    }\n",
       "</style>\n",
       "<table border=\"1\" class=\"dataframe\">\n",
       "  <thead>\n",
       "    <tr style=\"text-align: right;\">\n",
       "      <th></th>\n",
       "      <th>price</th>\n",
       "      <th>open</th>\n",
       "      <th>high</th>\n",
       "      <th>low</th>\n",
       "      <th>quantityTrades</th>\n",
       "      <th>volumeAmount</th>\n",
       "      <th>volumeFinancier</th>\n",
       "    </tr>\n",
       "    <tr>\n",
       "      <th>timeTrade</th>\n",
       "      <th></th>\n",
       "      <th></th>\n",
       "      <th></th>\n",
       "      <th></th>\n",
       "      <th></th>\n",
       "      <th></th>\n",
       "      <th></th>\n",
       "    </tr>\n",
       "  </thead>\n",
       "  <tbody>\n",
       "    <tr>\n",
       "      <th>2012-01-02 11:04:00</th>\n",
       "      <td>17.97</td>\n",
       "      <td>18.01</td>\n",
       "      <td>18.03</td>\n",
       "      <td>17.97</td>\n",
       "      <td>89.0</td>\n",
       "      <td>245300.0</td>\n",
       "      <td>5276453.0</td>\n",
       "    </tr>\n",
       "    <tr>\n",
       "      <th>2012-01-02 11:05:00</th>\n",
       "      <td>18.00</td>\n",
       "      <td>17.99</td>\n",
       "      <td>18.01</td>\n",
       "      <td>17.98</td>\n",
       "      <td>15.0</td>\n",
       "      <td>36000.0</td>\n",
       "      <td>773995.0</td>\n",
       "    </tr>\n",
       "    <tr>\n",
       "      <th>2012-01-02 11:06:00</th>\n",
       "      <td>18.01</td>\n",
       "      <td>18.00</td>\n",
       "      <td>18.03</td>\n",
       "      <td>18.00</td>\n",
       "      <td>63.0</td>\n",
       "      <td>35800.0</td>\n",
       "      <td>770228.0</td>\n",
       "    </tr>\n",
       "    <tr>\n",
       "      <th>2012-01-02 11:07:00</th>\n",
       "      <td>18.04</td>\n",
       "      <td>18.02</td>\n",
       "      <td>18.04</td>\n",
       "      <td>18.01</td>\n",
       "      <td>57.0</td>\n",
       "      <td>54900.0</td>\n",
       "      <td>1181642.0</td>\n",
       "    </tr>\n",
       "    <tr>\n",
       "      <th>2012-01-02 11:08:00</th>\n",
       "      <td>18.09</td>\n",
       "      <td>18.03</td>\n",
       "      <td>18.09</td>\n",
       "      <td>18.03</td>\n",
       "      <td>109.0</td>\n",
       "      <td>131900.0</td>\n",
       "      <td>2846212.0</td>\n",
       "    </tr>\n",
       "    <tr>\n",
       "      <th>...</th>\n",
       "      <td>...</td>\n",
       "      <td>...</td>\n",
       "      <td>...</td>\n",
       "      <td>...</td>\n",
       "      <td>...</td>\n",
       "      <td>...</td>\n",
       "      <td>...</td>\n",
       "    </tr>\n",
       "    <tr>\n",
       "      <th>2012-01-02 19:24:00</th>\n",
       "      <td>18.24</td>\n",
       "      <td>18.24</td>\n",
       "      <td>18.24</td>\n",
       "      <td>18.24</td>\n",
       "      <td>3.0</td>\n",
       "      <td>800.0</td>\n",
       "      <td>17432.0</td>\n",
       "    </tr>\n",
       "    <tr>\n",
       "      <th>2012-01-02 19:25:00</th>\n",
       "      <td>18.24</td>\n",
       "      <td>18.24</td>\n",
       "      <td>18.24</td>\n",
       "      <td>18.24</td>\n",
       "      <td>3.0</td>\n",
       "      <td>1300.0</td>\n",
       "      <td>28327.0</td>\n",
       "    </tr>\n",
       "    <tr>\n",
       "      <th>2012-01-02 19:26:00</th>\n",
       "      <td>18.23</td>\n",
       "      <td>18.23</td>\n",
       "      <td>18.23</td>\n",
       "      <td>18.23</td>\n",
       "      <td>3.0</td>\n",
       "      <td>4000.0</td>\n",
       "      <td>87120.0</td>\n",
       "    </tr>\n",
       "    <tr>\n",
       "      <th>2012-01-02 19:27:00</th>\n",
       "      <td>18.21</td>\n",
       "      <td>18.23</td>\n",
       "      <td>18.23</td>\n",
       "      <td>18.21</td>\n",
       "      <td>11.0</td>\n",
       "      <td>20000.0</td>\n",
       "      <td>435206.0</td>\n",
       "    </tr>\n",
       "    <tr>\n",
       "      <th>2012-01-02 19:29:00</th>\n",
       "      <td>18.24</td>\n",
       "      <td>18.23</td>\n",
       "      <td>18.24</td>\n",
       "      <td>18.23</td>\n",
       "      <td>5.0</td>\n",
       "      <td>2400.0</td>\n",
       "      <td>52286.0</td>\n",
       "    </tr>\n",
       "  </tbody>\n",
       "</table>\n",
       "<p>438 rows × 7 columns</p>\n",
       "</div>"
      ],
      "text/plain": [
       "                     price   open   high    low  quantityTrades  volumeAmount  \\\n",
       "timeTrade                                                                       \n",
       "2012-01-02 11:04:00  17.97  18.01  18.03  17.97            89.0      245300.0   \n",
       "2012-01-02 11:05:00  18.00  17.99  18.01  17.98            15.0       36000.0   \n",
       "2012-01-02 11:06:00  18.01  18.00  18.03  18.00            63.0       35800.0   \n",
       "2012-01-02 11:07:00  18.04  18.02  18.04  18.01            57.0       54900.0   \n",
       "2012-01-02 11:08:00  18.09  18.03  18.09  18.03           109.0      131900.0   \n",
       "...                    ...    ...    ...    ...             ...           ...   \n",
       "2012-01-02 19:24:00  18.24  18.24  18.24  18.24             3.0         800.0   \n",
       "2012-01-02 19:25:00  18.24  18.24  18.24  18.24             3.0        1300.0   \n",
       "2012-01-02 19:26:00  18.23  18.23  18.23  18.23             3.0        4000.0   \n",
       "2012-01-02 19:27:00  18.21  18.23  18.23  18.21            11.0       20000.0   \n",
       "2012-01-02 19:29:00  18.24  18.23  18.24  18.23             5.0        2400.0   \n",
       "\n",
       "                     volumeFinancier  \n",
       "timeTrade                             \n",
       "2012-01-02 11:04:00        5276453.0  \n",
       "2012-01-02 11:05:00         773995.0  \n",
       "2012-01-02 11:06:00         770228.0  \n",
       "2012-01-02 11:07:00        1181642.0  \n",
       "2012-01-02 11:08:00        2846212.0  \n",
       "...                              ...  \n",
       "2012-01-02 19:24:00          17432.0  \n",
       "2012-01-02 19:25:00          28327.0  \n",
       "2012-01-02 19:26:00          87120.0  \n",
       "2012-01-02 19:27:00         435206.0  \n",
       "2012-01-02 19:29:00          52286.0  \n",
       "\n",
       "[438 rows x 7 columns]"
      ]
     },
     "execution_count": 6,
     "metadata": {},
     "output_type": "execute_result"
    }
   ],
   "source": [
    "# filter index by date\n",
    "hist.loc['2012-01-02']"
   ]
  },
  {
   "cell_type": "code",
   "execution_count": null,
   "metadata": {},
   "outputs": [],
   "source": [
    "hist = hist.resample('D').agg({'price': 'mean', 'open': 'first', 'high': 'max', 'low': 'min', 'quantityTrades': 'sum', 'volumeAmount': 'sum', 'volumeFinancier':'sum'})"
   ]
  },
  {
   "cell_type": "code",
   "execution_count": null,
   "metadata": {},
   "outputs": [],
   "source": [
    "# hist.shape[0]/a.shape[0]"
   ]
  },
  {
   "cell_type": "code",
   "execution_count": 7,
   "metadata": {},
   "outputs": [
    {
     "data": {
      "text/html": [
       "<div>\n",
       "<style scoped>\n",
       "    .dataframe tbody tr th:only-of-type {\n",
       "        vertical-align: middle;\n",
       "    }\n",
       "\n",
       "    .dataframe tbody tr th {\n",
       "        vertical-align: top;\n",
       "    }\n",
       "\n",
       "    .dataframe thead th {\n",
       "        text-align: right;\n",
       "    }\n",
       "</style>\n",
       "<table border=\"1\" class=\"dataframe\">\n",
       "  <thead>\n",
       "    <tr style=\"text-align: right;\">\n",
       "      <th></th>\n",
       "      <th>price</th>\n",
       "      <th>open</th>\n",
       "      <th>high</th>\n",
       "      <th>low</th>\n",
       "      <th>quantityTrades</th>\n",
       "      <th>volumeAmount</th>\n",
       "      <th>volumeFinancier</th>\n",
       "    </tr>\n",
       "    <tr>\n",
       "      <th>timeTrade</th>\n",
       "      <th></th>\n",
       "      <th></th>\n",
       "      <th></th>\n",
       "      <th></th>\n",
       "      <th></th>\n",
       "      <th></th>\n",
       "      <th></th>\n",
       "    </tr>\n",
       "  </thead>\n",
       "  <tbody>\n",
       "    <tr>\n",
       "      <th>2012-01-02 11:04:00</th>\n",
       "      <td>17.97</td>\n",
       "      <td>18.01</td>\n",
       "      <td>18.03</td>\n",
       "      <td>17.97</td>\n",
       "      <td>89.0</td>\n",
       "      <td>245300.0</td>\n",
       "      <td>5276453.0</td>\n",
       "    </tr>\n",
       "    <tr>\n",
       "      <th>2012-01-02 11:05:00</th>\n",
       "      <td>18.00</td>\n",
       "      <td>17.99</td>\n",
       "      <td>18.01</td>\n",
       "      <td>17.98</td>\n",
       "      <td>15.0</td>\n",
       "      <td>36000.0</td>\n",
       "      <td>773995.0</td>\n",
       "    </tr>\n",
       "    <tr>\n",
       "      <th>2012-01-02 11:06:00</th>\n",
       "      <td>18.01</td>\n",
       "      <td>18.00</td>\n",
       "      <td>18.03</td>\n",
       "      <td>18.00</td>\n",
       "      <td>63.0</td>\n",
       "      <td>35800.0</td>\n",
       "      <td>770228.0</td>\n",
       "    </tr>\n",
       "    <tr>\n",
       "      <th>2012-01-02 11:07:00</th>\n",
       "      <td>18.04</td>\n",
       "      <td>18.02</td>\n",
       "      <td>18.04</td>\n",
       "      <td>18.01</td>\n",
       "      <td>57.0</td>\n",
       "      <td>54900.0</td>\n",
       "      <td>1181642.0</td>\n",
       "    </tr>\n",
       "    <tr>\n",
       "      <th>2012-01-02 11:08:00</th>\n",
       "      <td>18.09</td>\n",
       "      <td>18.03</td>\n",
       "      <td>18.09</td>\n",
       "      <td>18.03</td>\n",
       "      <td>109.0</td>\n",
       "      <td>131900.0</td>\n",
       "      <td>2846212.0</td>\n",
       "    </tr>\n",
       "  </tbody>\n",
       "</table>\n",
       "</div>"
      ],
      "text/plain": [
       "                     price   open   high    low  quantityTrades  volumeAmount  \\\n",
       "timeTrade                                                                       \n",
       "2012-01-02 11:04:00  17.97  18.01  18.03  17.97            89.0      245300.0   \n",
       "2012-01-02 11:05:00  18.00  17.99  18.01  17.98            15.0       36000.0   \n",
       "2012-01-02 11:06:00  18.01  18.00  18.03  18.00            63.0       35800.0   \n",
       "2012-01-02 11:07:00  18.04  18.02  18.04  18.01            57.0       54900.0   \n",
       "2012-01-02 11:08:00  18.09  18.03  18.09  18.03           109.0      131900.0   \n",
       "\n",
       "                     volumeFinancier  \n",
       "timeTrade                             \n",
       "2012-01-02 11:04:00        5276453.0  \n",
       "2012-01-02 11:05:00         773995.0  \n",
       "2012-01-02 11:06:00         770228.0  \n",
       "2012-01-02 11:07:00        1181642.0  \n",
       "2012-01-02 11:08:00        2846212.0  "
      ]
     },
     "execution_count": 7,
     "metadata": {},
     "output_type": "execute_result"
    }
   ],
   "source": [
    "hist.head()"
   ]
  },
  {
   "cell_type": "code",
   "execution_count": 8,
   "metadata": {},
   "outputs": [],
   "source": [
    "hist['price_change'] = hist.price.pct_change()\n",
    "hist['open_change'] = hist.open.pct_change()\n",
    "hist['high_change'] = hist.high.pct_change()\n",
    "hist['low_change'] = hist.low.pct_change()\n",
    "hist['quantityTrades_change'] = hist.quantityTrades.pct_change()\n",
    "hist['volumeAmount_change'] = hist.volumeAmount.pct_change()\n",
    "hist['volumeFinancier_change'] = hist.volumeFinancier.pct_change()"
   ]
  },
  {
   "cell_type": "code",
   "execution_count": 9,
   "metadata": {},
   "outputs": [],
   "source": [
    "# Select the interest columns\n",
    "hist = hist[['price', 'price_change', 'open_change', 'high_change', 'low_change', 'quantityTrades_change', 'volumeAmount_change', 'volumeFinancier_change']]"
   ]
  },
  {
   "cell_type": "code",
   "execution_count": 10,
   "metadata": {},
   "outputs": [
    {
     "data": {
      "text/html": [
       "<div>\n",
       "<style scoped>\n",
       "    .dataframe tbody tr th:only-of-type {\n",
       "        vertical-align: middle;\n",
       "    }\n",
       "\n",
       "    .dataframe tbody tr th {\n",
       "        vertical-align: top;\n",
       "    }\n",
       "\n",
       "    .dataframe thead th {\n",
       "        text-align: right;\n",
       "    }\n",
       "</style>\n",
       "<table border=\"1\" class=\"dataframe\">\n",
       "  <thead>\n",
       "    <tr style=\"text-align: right;\">\n",
       "      <th></th>\n",
       "      <th>price</th>\n",
       "      <th>price_change</th>\n",
       "      <th>open_change</th>\n",
       "      <th>high_change</th>\n",
       "      <th>low_change</th>\n",
       "      <th>quantityTrades_change</th>\n",
       "      <th>volumeAmount_change</th>\n",
       "      <th>volumeFinancier_change</th>\n",
       "    </tr>\n",
       "    <tr>\n",
       "      <th>timeTrade</th>\n",
       "      <th></th>\n",
       "      <th></th>\n",
       "      <th></th>\n",
       "      <th></th>\n",
       "      <th></th>\n",
       "      <th></th>\n",
       "      <th></th>\n",
       "      <th></th>\n",
       "    </tr>\n",
       "  </thead>\n",
       "  <tbody>\n",
       "    <tr>\n",
       "      <th>2012-01-02 11:04:00</th>\n",
       "      <td>17.97</td>\n",
       "      <td>NaN</td>\n",
       "      <td>NaN</td>\n",
       "      <td>NaN</td>\n",
       "      <td>NaN</td>\n",
       "      <td>NaN</td>\n",
       "      <td>NaN</td>\n",
       "      <td>NaN</td>\n",
       "    </tr>\n",
       "    <tr>\n",
       "      <th>2012-01-02 11:05:00</th>\n",
       "      <td>18.00</td>\n",
       "      <td>0.001669</td>\n",
       "      <td>-0.001110</td>\n",
       "      <td>-0.001109</td>\n",
       "      <td>0.000556</td>\n",
       "      <td>-0.831461</td>\n",
       "      <td>-0.853241</td>\n",
       "      <td>-0.853311</td>\n",
       "    </tr>\n",
       "    <tr>\n",
       "      <th>2012-01-02 11:06:00</th>\n",
       "      <td>18.01</td>\n",
       "      <td>0.000556</td>\n",
       "      <td>0.000556</td>\n",
       "      <td>0.001110</td>\n",
       "      <td>0.001112</td>\n",
       "      <td>3.200000</td>\n",
       "      <td>-0.005556</td>\n",
       "      <td>-0.004867</td>\n",
       "    </tr>\n",
       "    <tr>\n",
       "      <th>2012-01-02 11:07:00</th>\n",
       "      <td>18.04</td>\n",
       "      <td>0.001666</td>\n",
       "      <td>0.001111</td>\n",
       "      <td>0.000555</td>\n",
       "      <td>0.000556</td>\n",
       "      <td>-0.095238</td>\n",
       "      <td>0.533520</td>\n",
       "      <td>0.534146</td>\n",
       "    </tr>\n",
       "    <tr>\n",
       "      <th>2012-01-02 11:08:00</th>\n",
       "      <td>18.09</td>\n",
       "      <td>0.002772</td>\n",
       "      <td>0.000555</td>\n",
       "      <td>0.002772</td>\n",
       "      <td>0.001110</td>\n",
       "      <td>0.912281</td>\n",
       "      <td>1.402550</td>\n",
       "      <td>1.408692</td>\n",
       "    </tr>\n",
       "  </tbody>\n",
       "</table>\n",
       "</div>"
      ],
      "text/plain": [
       "                     price  price_change  open_change  high_change  \\\n",
       "timeTrade                                                            \n",
       "2012-01-02 11:04:00  17.97           NaN          NaN          NaN   \n",
       "2012-01-02 11:05:00  18.00      0.001669    -0.001110    -0.001109   \n",
       "2012-01-02 11:06:00  18.01      0.000556     0.000556     0.001110   \n",
       "2012-01-02 11:07:00  18.04      0.001666     0.001111     0.000555   \n",
       "2012-01-02 11:08:00  18.09      0.002772     0.000555     0.002772   \n",
       "\n",
       "                     low_change  quantityTrades_change  volumeAmount_change  \\\n",
       "timeTrade                                                                     \n",
       "2012-01-02 11:04:00         NaN                    NaN                  NaN   \n",
       "2012-01-02 11:05:00    0.000556              -0.831461            -0.853241   \n",
       "2012-01-02 11:06:00    0.001112               3.200000            -0.005556   \n",
       "2012-01-02 11:07:00    0.000556              -0.095238             0.533520   \n",
       "2012-01-02 11:08:00    0.001110               0.912281             1.402550   \n",
       "\n",
       "                     volumeFinancier_change  \n",
       "timeTrade                                    \n",
       "2012-01-02 11:04:00                     NaN  \n",
       "2012-01-02 11:05:00               -0.853311  \n",
       "2012-01-02 11:06:00               -0.004867  \n",
       "2012-01-02 11:07:00                0.534146  \n",
       "2012-01-02 11:08:00                1.408692  "
      ]
     },
     "execution_count": 10,
     "metadata": {},
     "output_type": "execute_result"
    }
   ],
   "source": [
    "hist.head()"
   ]
  },
  {
   "cell_type": "code",
   "execution_count": 11,
   "metadata": {},
   "outputs": [],
   "source": [
    "# Calculate percent change\n",
    "# hist = hist.pct_change()\n",
    "\n",
    "# Drop rows with NaN\n",
    "hist.replace([np.inf, -np.inf], np.nan, inplace=True)\n",
    "hist.dropna(inplace=True)"
   ]
  },
  {
   "cell_type": "code",
   "execution_count": 12,
   "metadata": {},
   "outputs": [
    {
     "data": {
      "text/html": [
       "<div>\n",
       "<style scoped>\n",
       "    .dataframe tbody tr th:only-of-type {\n",
       "        vertical-align: middle;\n",
       "    }\n",
       "\n",
       "    .dataframe tbody tr th {\n",
       "        vertical-align: top;\n",
       "    }\n",
       "\n",
       "    .dataframe thead th {\n",
       "        text-align: right;\n",
       "    }\n",
       "</style>\n",
       "<table border=\"1\" class=\"dataframe\">\n",
       "  <thead>\n",
       "    <tr style=\"text-align: right;\">\n",
       "      <th></th>\n",
       "      <th>price</th>\n",
       "      <th>price_change</th>\n",
       "      <th>open_change</th>\n",
       "      <th>high_change</th>\n",
       "      <th>low_change</th>\n",
       "      <th>quantityTrades_change</th>\n",
       "      <th>volumeAmount_change</th>\n",
       "      <th>volumeFinancier_change</th>\n",
       "    </tr>\n",
       "    <tr>\n",
       "      <th>timeTrade</th>\n",
       "      <th></th>\n",
       "      <th></th>\n",
       "      <th></th>\n",
       "      <th></th>\n",
       "      <th></th>\n",
       "      <th></th>\n",
       "      <th></th>\n",
       "      <th></th>\n",
       "    </tr>\n",
       "  </thead>\n",
       "  <tbody>\n",
       "    <tr>\n",
       "      <th>2012-01-02 11:05:00</th>\n",
       "      <td>18.00</td>\n",
       "      <td>0.001669</td>\n",
       "      <td>-0.001110</td>\n",
       "      <td>-0.001109</td>\n",
       "      <td>0.000556</td>\n",
       "      <td>-0.831461</td>\n",
       "      <td>-0.853241</td>\n",
       "      <td>-0.853311</td>\n",
       "    </tr>\n",
       "    <tr>\n",
       "      <th>2012-01-02 11:06:00</th>\n",
       "      <td>18.01</td>\n",
       "      <td>0.000556</td>\n",
       "      <td>0.000556</td>\n",
       "      <td>0.001110</td>\n",
       "      <td>0.001112</td>\n",
       "      <td>3.200000</td>\n",
       "      <td>-0.005556</td>\n",
       "      <td>-0.004867</td>\n",
       "    </tr>\n",
       "    <tr>\n",
       "      <th>2012-01-02 11:07:00</th>\n",
       "      <td>18.04</td>\n",
       "      <td>0.001666</td>\n",
       "      <td>0.001111</td>\n",
       "      <td>0.000555</td>\n",
       "      <td>0.000556</td>\n",
       "      <td>-0.095238</td>\n",
       "      <td>0.533520</td>\n",
       "      <td>0.534146</td>\n",
       "    </tr>\n",
       "    <tr>\n",
       "      <th>2012-01-02 11:08:00</th>\n",
       "      <td>18.09</td>\n",
       "      <td>0.002772</td>\n",
       "      <td>0.000555</td>\n",
       "      <td>0.002772</td>\n",
       "      <td>0.001110</td>\n",
       "      <td>0.912281</td>\n",
       "      <td>1.402550</td>\n",
       "      <td>1.408692</td>\n",
       "    </tr>\n",
       "    <tr>\n",
       "      <th>2012-01-02 11:09:00</th>\n",
       "      <td>18.08</td>\n",
       "      <td>-0.000553</td>\n",
       "      <td>0.002219</td>\n",
       "      <td>-0.000553</td>\n",
       "      <td>0.002219</td>\n",
       "      <td>-0.247706</td>\n",
       "      <td>-0.615618</td>\n",
       "      <td>-0.615395</td>\n",
       "    </tr>\n",
       "  </tbody>\n",
       "</table>\n",
       "</div>"
      ],
      "text/plain": [
       "                     price  price_change  open_change  high_change  \\\n",
       "timeTrade                                                            \n",
       "2012-01-02 11:05:00  18.00      0.001669    -0.001110    -0.001109   \n",
       "2012-01-02 11:06:00  18.01      0.000556     0.000556     0.001110   \n",
       "2012-01-02 11:07:00  18.04      0.001666     0.001111     0.000555   \n",
       "2012-01-02 11:08:00  18.09      0.002772     0.000555     0.002772   \n",
       "2012-01-02 11:09:00  18.08     -0.000553     0.002219    -0.000553   \n",
       "\n",
       "                     low_change  quantityTrades_change  volumeAmount_change  \\\n",
       "timeTrade                                                                     \n",
       "2012-01-02 11:05:00    0.000556              -0.831461            -0.853241   \n",
       "2012-01-02 11:06:00    0.001112               3.200000            -0.005556   \n",
       "2012-01-02 11:07:00    0.000556              -0.095238             0.533520   \n",
       "2012-01-02 11:08:00    0.001110               0.912281             1.402550   \n",
       "2012-01-02 11:09:00    0.002219              -0.247706            -0.615618   \n",
       "\n",
       "                     volumeFinancier_change  \n",
       "timeTrade                                    \n",
       "2012-01-02 11:05:00               -0.853311  \n",
       "2012-01-02 11:06:00               -0.004867  \n",
       "2012-01-02 11:07:00                0.534146  \n",
       "2012-01-02 11:08:00                1.408692  \n",
       "2012-01-02 11:09:00               -0.615395  "
      ]
     },
     "execution_count": 12,
     "metadata": {},
     "output_type": "execute_result"
    }
   ],
   "source": [
    "hist.head()"
   ]
  },
  {
   "cell_type": "code",
   "execution_count": 13,
   "metadata": {},
   "outputs": [],
   "source": [
    "# Create panels\n",
    "x, y = wavy.create_panels(hist, lookback=30, gap=0, horizon=30)\n",
    "# x, y = wavy.create_panels(hist, lookback=30*300, gap=0, horizon=30*300)\n",
    "\n",
    "# # y will be the Close price of the next day\n",
    "# y = y[['Close']]\n",
    "\n",
    "# # Convert y to boolean\n",
    "# y = (y['Close'] > 0) + 0"
   ]
  },
  {
   "cell_type": "code",
   "execution_count": 14,
   "metadata": {},
   "outputs": [
    {
     "data": {
      "text/plain": [
       "(1015368, 30, 8)"
      ]
     },
     "execution_count": 14,
     "metadata": {},
     "output_type": "execute_result"
    }
   ],
   "source": [
    "x.shape"
   ]
  },
  {
   "cell_type": "code",
   "execution_count": 15,
   "metadata": {},
   "outputs": [],
   "source": [
    "y = y[['price']]"
   ]
  },
  {
   "cell_type": "code",
   "execution_count": null,
   "metadata": {},
   "outputs": [],
   "source": [
    "y.max()"
   ]
  },
  {
   "cell_type": "code",
   "execution_count": null,
   "metadata": {},
   "outputs": [],
   "source": [
    "y[0]"
   ]
  },
  {
   "cell_type": "code",
   "execution_count": null,
   "metadata": {},
   "outputs": [],
   "source": [
    "y = y.max()"
   ]
  },
  {
   "cell_type": "code",
   "execution_count": null,
   "metadata": {},
   "outputs": [],
   "source": [
    "x.iloc[-1]"
   ]
  },
  {
   "cell_type": "code",
   "execution_count": null,
   "metadata": {},
   "outputs": [],
   "source": [
    "y_bool = y > "
   ]
  },
  {
   "cell_type": "code",
   "execution_count": null,
   "metadata": {},
   "outputs": [],
   "source": [
    "x.plot()"
   ]
  },
  {
   "cell_type": "code",
   "execution_count": null,
   "metadata": {},
   "outputs": [],
   "source": [
    "y[0]"
   ]
  },
  {
   "cell_type": "code",
   "execution_count": null,
   "metadata": {},
   "outputs": [],
   "source": [
    "y.plot()"
   ]
  },
  {
   "cell_type": "code",
   "execution_count": null,
   "metadata": {},
   "outputs": [],
   "source": [
    "print(f\"x shape: {x.shape}\")\n",
    "print(f\"y shape: {y.shape}\")"
   ]
  },
  {
   "cell_type": "markdown",
   "metadata": {},
   "source": [
    "# Models"
   ]
  },
  {
   "cell_type": "code",
   "execution_count": null,
   "metadata": {},
   "outputs": [],
   "source": [
    "baselineshift = wavy.BaselineShift(x, y, model_type='regression')\n",
    "baselineshift.fit()\n",
    "baselineshift.score(on='val')"
   ]
  },
  {
   "cell_type": "code",
   "execution_count": null,
   "metadata": {},
   "outputs": [],
   "source": [
    "\n",
    "baselineconstant = wavy.BaselineConstant(x, y, model_type='regression')\n",
    "baselineconstant.fit()\n",
    "baselineconstant.score(on='val')"
   ]
  },
  {
   "cell_type": "code",
   "execution_count": null,
   "metadata": {},
   "outputs": [],
   "source": [
    "densemodel = wavy.DenseModel(x, y, model_type='regression')\n",
    "densemodel.fit()\n",
    "densemodel.score(on='val')"
   ]
  },
  {
   "cell_type": "code",
   "execution_count": null,
   "metadata": {},
   "outputs": [],
   "source": [
    "convmodel = wavy.ConvModel(x, y, model_type='regression')\n",
    "convmodel.fit()\n",
    "convmodel.score(on='val')"
   ]
  },
  {
   "cell_type": "code",
   "execution_count": null,
   "metadata": {},
   "outputs": [],
   "source": [
    "linearregression = wavy.LinearRegression(x, y)\n",
    "linearregression.fit()\n",
    "linearregression.score(on='val')"
   ]
  },
  {
   "cell_type": "code",
   "execution_count": null,
   "metadata": {},
   "outputs": [],
   "source": []
  },
  {
   "cell_type": "code",
   "execution_count": null,
   "metadata": {},
   "outputs": [],
   "source": []
  },
  {
   "cell_type": "code",
   "execution_count": null,
   "metadata": {},
   "outputs": [],
   "source": [
    "baselineconstant.x_train.shape"
   ]
  },
  {
   "cell_type": "code",
   "execution_count": null,
   "metadata": {},
   "outputs": [],
   "source": [
    "baselineconstant.y_train.shape"
   ]
  },
  {
   "cell_type": "code",
   "execution_count": null,
   "metadata": {},
   "outputs": [],
   "source": [
    "# Create model\n",
    "densemodel = wavy.DenseModel(x, y, model_type=\"regression\")"
   ]
  },
  {
   "cell_type": "code",
   "execution_count": null,
   "metadata": {},
   "outputs": [],
   "source": [
    "# Fit model\n",
    "densemodel.fit()\n",
    "\n",
    "# Score\n",
    "densemodel.score(on='val')"
   ]
  },
  {
   "cell_type": "code",
   "execution_count": null,
   "metadata": {},
   "outputs": [],
   "source": [
    "# Predict\n",
    "predicted = densemodel.predict(data=x.val)\n",
    "predicted"
   ]
  },
  {
   "cell_type": "code",
   "execution_count": null,
   "metadata": {},
   "outputs": [],
   "source": [
    "predicted[0]"
   ]
  },
  {
   "cell_type": "code",
   "execution_count": null,
   "metadata": {},
   "outputs": [],
   "source": []
  },
  {
   "cell_type": "code",
   "execution_count": null,
   "metadata": {},
   "outputs": [],
   "source": []
  },
  {
   "cell_type": "code",
   "execution_count": null,
   "metadata": {},
   "outputs": [],
   "source": []
  },
  {
   "cell_type": "code",
   "execution_count": null,
   "metadata": {},
   "outputs": [],
   "source": []
  },
  {
   "cell_type": "code",
   "execution_count": null,
   "metadata": {},
   "outputs": [],
   "source": []
  },
  {
   "cell_type": "code",
   "execution_count": null,
   "metadata": {},
   "outputs": [],
   "source": [
    "y = y[['Close']]"
   ]
  },
  {
   "cell_type": "code",
   "execution_count": null,
   "metadata": {},
   "outputs": [],
   "source": [
    "a = (y['Close'] > 0) + 0"
   ]
  },
  {
   "cell_type": "code",
   "execution_count": null,
   "metadata": {},
   "outputs": [],
   "source": [
    "a = y['Close'] > 0"
   ]
  },
  {
   "cell_type": "code",
   "execution_count": null,
   "metadata": {},
   "outputs": [],
   "source": [
    "densemodel = wavy.DenseModel(x, a, model_type=\"classification\")"
   ]
  },
  {
   "cell_type": "code",
   "execution_count": null,
   "metadata": {},
   "outputs": [],
   "source": [
    "densemodel.y[0]"
   ]
  },
  {
   "cell_type": "code",
   "execution_count": null,
   "metadata": {},
   "outputs": [],
   "source": [
    "densemodel.fit()"
   ]
  },
  {
   "cell_type": "code",
   "execution_count": null,
   "metadata": {},
   "outputs": [],
   "source": [
    "b = densemodel.predict(data=x.val)"
   ]
  },
  {
   "cell_type": "code",
   "execution_count": null,
   "metadata": {},
   "outputs": [],
   "source": [
    "b[0]"
   ]
  },
  {
   "cell_type": "code",
   "execution_count": null,
   "metadata": {},
   "outputs": [],
   "source": [
    "densemodel.score(on='val')"
   ]
  },
  {
   "cell_type": "code",
   "execution_count": null,
   "metadata": {},
   "outputs": [],
   "source": [
    "c"
   ]
  },
  {
   "cell_type": "code",
   "execution_count": null,
   "metadata": {},
   "outputs": [],
   "source": [
    "densemodel.y_test.squeeze()"
   ]
  },
  {
   "cell_type": "code",
   "execution_count": null,
   "metadata": {},
   "outputs": [],
   "source": [
    "threshold = densemodel.get_roc()"
   ]
  },
  {
   "cell_type": "code",
   "execution_count": null,
   "metadata": {},
   "outputs": [],
   "source": [
    "threshold"
   ]
  },
  {
   "cell_type": "code",
   "execution_count": null,
   "metadata": {},
   "outputs": [],
   "source": [
    "y_test = a.test.values.squeeze()\n",
    "predictions = densemodel.predict(data=x.test).values.squeeze()"
   ]
  },
  {
   "cell_type": "code",
   "execution_count": null,
   "metadata": {},
   "outputs": [],
   "source": [
    "from sklearn.metrics import roc_curve\n",
    "from sklearn.metrics import auc\n",
    "from sklearn.metrics import roc_auc_score\n",
    "import numpy as np\n",
    "import matplotlib.pyplot as plt\n",
    "def plot_roc_curve(fpr, tpr):\n",
    "    plt.plot(fpr, tpr, color='orange', label='ROC')\n",
    "    plt.plot([0, 1], [0, 1], color='darkblue', linestyle='--')\n",
    "    plt.xlabel('False Positive Rate')\n",
    "    plt.ylabel('True Positive Rate')\n",
    "    plt.title('Receiver Operating Characteristic (ROC) Curve')\n",
    "    plt.legend()\n",
    "    plt.show()\n",
    "# Computing manually fpr, tpr, thresholds and roc auc \n",
    "fpr, tpr, thresholds = roc_curve(y_test, predictions)\n",
    "roc_auc = auc(fpr, tpr)\n",
    "print(\"ROC_AUC Score : \",roc_auc)\n",
    "print(\"Function for ROC_AUC Score : \",roc_auc_score(y_test, predictions)) # Function present\n",
    "optimal_idx = np.argmax(tpr - fpr)\n",
    "optimal_threshold = thresholds[optimal_idx]\n",
    "print(\"Threshold value is:\", optimal_threshold)\n",
    "plot_roc_curve(fpr, tpr)"
   ]
  },
  {
   "cell_type": "code",
   "execution_count": null,
   "metadata": {},
   "outputs": [],
   "source": []
  },
  {
   "cell_type": "code",
   "execution_count": null,
   "metadata": {},
   "outputs": [],
   "source": []
  },
  {
   "cell_type": "code",
   "execution_count": null,
   "metadata": {},
   "outputs": [],
   "source": []
  },
  {
   "cell_type": "code",
   "execution_count": null,
   "metadata": {},
   "outputs": [],
   "source": []
  },
  {
   "cell_type": "code",
   "execution_count": null,
   "metadata": {},
   "outputs": [],
   "source": [
    "b[0]"
   ]
  },
  {
   "cell_type": "code",
   "execution_count": null,
   "metadata": {},
   "outputs": [],
   "source": [
    "y[0]"
   ]
  },
  {
   "cell_type": "code",
   "execution_count": null,
   "metadata": {},
   "outputs": [],
   "source": [
    "a[0]"
   ]
  },
  {
   "cell_type": "code",
   "execution_count": null,
   "metadata": {},
   "outputs": [],
   "source": [
    "a = densemodel.score()"
   ]
  },
  {
   "cell_type": "code",
   "execution_count": null,
   "metadata": {},
   "outputs": [],
   "source": [
    "a"
   ]
  },
  {
   "cell_type": "code",
   "execution_count": null,
   "metadata": {},
   "outputs": [],
   "source": []
  },
  {
   "cell_type": "code",
   "execution_count": null,
   "metadata": {},
   "outputs": [],
   "source": [
    "import numpy as np\n",
    "import pandas as pd\n",
    "import yfinance as yf\n",
    "\n",
    "from sklearn.dummy import DummyRegressor\n",
    "from sklearn.ensemble import RandomForestRegressor\n",
    "from sklearn.metrics import mean_absolute_error\n",
    "\n",
    "import wavy"
   ]
  },
  {
   "cell_type": "code",
   "execution_count": null,
   "metadata": {},
   "outputs": [],
   "source": [
    "tickers = pd.read_html('https://en.wikipedia.org/wiki/List_of_S%26P_500_companies')[0].Symbol"
   ]
  },
  {
   "cell_type": "code",
   "execution_count": null,
   "metadata": {},
   "outputs": [],
   "source": [
    "tickers"
   ]
  },
  {
   "cell_type": "code",
   "execution_count": null,
   "metadata": {},
   "outputs": [],
   "source": [
    "msft = yf.Ticker(\"MSFT\")\n",
    "\n",
    "# get stock info\n",
    "msft.info\n",
    "\n",
    "# get historical market data from 2005 on\n",
    "hist = msft.history(period=\"max\", start=\"2005-01-01\")"
   ]
  },
  {
   "cell_type": "code",
   "execution_count": null,
   "metadata": {},
   "outputs": [],
   "source": [
    "hist.head(10)"
   ]
  },
  {
   "cell_type": "code",
   "execution_count": null,
   "metadata": {},
   "outputs": [],
   "source": [
    "hist[['Open', 'High', 'Low', 'Close']].plot()"
   ]
  },
  {
   "cell_type": "code",
   "execution_count": null,
   "metadata": {},
   "outputs": [],
   "source": [
    "hist.Dividends.plot()"
   ]
  },
  {
   "cell_type": "code",
   "execution_count": null,
   "metadata": {},
   "outputs": [],
   "source": [
    "hist['Stock Splits'].plot()"
   ]
  },
  {
   "cell_type": "code",
   "execution_count": null,
   "metadata": {},
   "outputs": [],
   "source": [
    "hist = hist[['Open', 'High', 'Low', 'Close']]"
   ]
  },
  {
   "cell_type": "code",
   "execution_count": null,
   "metadata": {},
   "outputs": [],
   "source": [
    "hist = hist.pct_change()"
   ]
  },
  {
   "cell_type": "code",
   "execution_count": null,
   "metadata": {},
   "outputs": [],
   "source": [
    "hist.Close.plot()"
   ]
  },
  {
   "cell_type": "code",
   "execution_count": null,
   "metadata": {},
   "outputs": [],
   "source": [
    "print(len(hist) - len(hist.dropna()))\n",
    "hist.dropna(inplace=True)"
   ]
  },
  {
   "cell_type": "code",
   "execution_count": null,
   "metadata": {},
   "outputs": [],
   "source": [
    "hist.High.hist(bins=200)"
   ]
  },
  {
   "cell_type": "code",
   "execution_count": null,
   "metadata": {},
   "outputs": [],
   "source": [
    "x, y = wavy.create_panels(hist, lookback=5, gap=0, horizon=1)"
   ]
  },
  {
   "cell_type": "code",
   "execution_count": null,
   "metadata": {},
   "outputs": [],
   "source": [
    "x[0]"
   ]
  },
  {
   "cell_type": "code",
   "execution_count": null,
   "metadata": {},
   "outputs": [],
   "source": [
    "x.plot()"
   ]
  },
  {
   "cell_type": "code",
   "execution_count": null,
   "metadata": {},
   "outputs": [],
   "source": [
    "y[0]"
   ]
  },
  {
   "cell_type": "code",
   "execution_count": null,
   "metadata": {},
   "outputs": [],
   "source": [
    "# predict only the highest price\n",
    "y = y[['Close']]"
   ]
  },
  {
   "cell_type": "code",
   "execution_count": null,
   "metadata": {},
   "outputs": [],
   "source": [
    "a = y[['Close']] > 0"
   ]
  },
  {
   "cell_type": "code",
   "execution_count": null,
   "metadata": {},
   "outputs": [],
   "source": [
    "y[1]"
   ]
  },
  {
   "cell_type": "code",
   "execution_count": null,
   "metadata": {},
   "outputs": [],
   "source": [
    "y[0]"
   ]
  },
  {
   "cell_type": "code",
   "execution_count": null,
   "metadata": {},
   "outputs": [],
   "source": [
    "# try single col inputs first\n",
    "x_high = x[['High']]"
   ]
  },
  {
   "cell_type": "code",
   "execution_count": null,
   "metadata": {},
   "outputs": [],
   "source": [
    "# constant = wavy.ConstantModel(x_high, y, model_type=\"regression\")\n",
    "# constant.fit()"
   ]
  },
  {
   "cell_type": "code",
   "execution_count": null,
   "metadata": {},
   "outputs": [],
   "source": [
    "densemodel = wavy.DenseModel(x, y, model_type=\"classification\")"
   ]
  },
  {
   "cell_type": "code",
   "execution_count": null,
   "metadata": {},
   "outputs": [],
   "source": [
    "baseline = wavy.BaselineModel(x_high, y, model_type=\"regression\")\n",
    "baseline.fit() # val_MAE: 0.0136"
   ]
  },
  {
   "cell_type": "code",
   "execution_count": null,
   "metadata": {},
   "outputs": [],
   "source": [
    "# How to interpret that error? What does it mean comparing to the mean/std of the val set?\n",
    "np.median(baseline.y_val.flatten())"
   ]
  },
  {
   "cell_type": "code",
   "execution_count": null,
   "metadata": {},
   "outputs": [],
   "source": [
    "lr = wavy.LinearRegression(x_high, y)\n",
    "lr.fit(epochs=20)"
   ]
  },
  {
   "cell_type": "code",
   "execution_count": null,
   "metadata": {},
   "outputs": [],
   "source": []
  },
  {
   "cell_type": "code",
   "execution_count": null,
   "metadata": {},
   "outputs": [],
   "source": [
    "y.test[0]"
   ]
  },
  {
   "cell_type": "code",
   "execution_count": null,
   "metadata": {},
   "outputs": [],
   "source": [
    "y.test[1]"
   ]
  },
  {
   "cell_type": "code",
   "execution_count": null,
   "metadata": {},
   "outputs": [],
   "source": [
    "baseline.x_test.shape"
   ]
  },
  {
   "cell_type": "code",
   "execution_count": null,
   "metadata": {},
   "outputs": [],
   "source": [
    "from copy import deepcopy\n",
    "\n",
    "def update(panel, other):\n",
    "    panel = deepcopy(panel)\n",
    "\n",
    "    for i, j in zip(panel, other):\n",
    "        i.iloc[:,:] = j\n",
    "    return panel"
   ]
  },
  {
   "cell_type": "code",
   "execution_count": null,
   "metadata": {},
   "outputs": [],
   "source": [
    "y.test.shape"
   ]
  },
  {
   "cell_type": "code",
   "execution_count": null,
   "metadata": {},
   "outputs": [],
   "source": [
    "a = update(y.test[1:], baseline.predict())"
   ]
  },
  {
   "cell_type": "code",
   "execution_count": null,
   "metadata": {},
   "outputs": [],
   "source": [
    "a[0]"
   ]
  },
  {
   "cell_type": "code",
   "execution_count": null,
   "metadata": {},
   "outputs": [],
   "source": [
    "y.test[1]"
   ]
  },
  {
   "cell_type": "code",
   "execution_count": null,
   "metadata": {},
   "outputs": [],
   "source": [
    "copy(y.test)"
   ]
  },
  {
   "cell_type": "code",
   "execution_count": null,
   "metadata": {},
   "outputs": [],
   "source": [
    "b = baseline.predict()"
   ]
  },
  {
   "cell_type": "code",
   "execution_count": null,
   "metadata": {},
   "outputs": [],
   "source": [
    "b[0]"
   ]
  },
  {
   "cell_type": "code",
   "execution_count": null,
   "metadata": {},
   "outputs": [],
   "source": [
    "dense = wavy.DenseModel(x_high, y, model_type=\"regression\")\n",
    "dense.fit(epochs=20)"
   ]
  },
  {
   "cell_type": "code",
   "execution_count": null,
   "metadata": {},
   "outputs": [],
   "source": [
    "conv = wavy.ConvModel(x_high, y, model_type=\"regression\")\n",
    "conv.fit(epochs=20)\n",
    "\n",
    "# using a cannon ball to kill an ant!"
   ]
  },
  {
   "cell_type": "code",
   "execution_count": null,
   "metadata": {},
   "outputs": [],
   "source": [
    "dummy = wavy.ShallowModel(x_high, y, model=DummyRegressor, metrics=[mean_absolute_error], strategy=\"mean\")\n",
    "dummy.fit()"
   ]
  },
  {
   "cell_type": "code",
   "execution_count": null,
   "metadata": {},
   "outputs": [],
   "source": [
    "rf = wavy.ShallowModel(x, y, model=RandomForestRegressor, metrics=[mean_absolute_error], n_estimators=50)\n",
    "rf.fit()"
   ]
  },
  {
   "cell_type": "code",
   "execution_count": null,
   "metadata": {},
   "outputs": [],
   "source": []
  },
  {
   "cell_type": "code",
   "execution_count": null,
   "metadata": {},
   "outputs": [],
   "source": []
  },
  {
   "cell_type": "code",
   "execution_count": null,
   "metadata": {},
   "outputs": [],
   "source": [
    "dense = wavy.DenseModel(x, y, model_type=\"regression\")\n",
    "dense.fit(epochs=20)"
   ]
  },
  {
   "cell_type": "code",
   "execution_count": null,
   "metadata": {},
   "outputs": [],
   "source": [
    "# Try the same models but with all input columns\n",
    "# TODO: Use function to compute default results per model\n",
    "\n",
    "# lr = wavy.LinearRegression(x, y)\n",
    "# lr.fit(epochs=20)"
   ]
  },
  {
   "cell_type": "code",
   "execution_count": null,
   "metadata": {},
   "outputs": [],
   "source": []
  },
  {
   "cell_type": "code",
   "execution_count": null,
   "metadata": {},
   "outputs": [],
   "source": []
  },
  {
   "cell_type": "code",
   "execution_count": null,
   "metadata": {},
   "outputs": [],
   "source": []
  },
  {
   "cell_type": "code",
   "execution_count": null,
   "metadata": {},
   "outputs": [],
   "source": []
  },
  {
   "cell_type": "code",
   "execution_count": null,
   "metadata": {},
   "outputs": [],
   "source": []
  },
  {
   "cell_type": "code",
   "execution_count": null,
   "metadata": {},
   "outputs": [],
   "source": []
  }
 ],
 "metadata": {
  "interpreter": {
   "hash": "0123dfba8c593a15e2367f7801b8447e0567eb9b4e2888ec1d8b254d9f13f9cc"
  },
  "kernelspec": {
   "display_name": "Python 3.8.12 ('.venv': poetry)",
   "language": "python",
   "name": "python3"
  },
  "language_info": {
   "codemirror_mode": {
    "name": "ipython",
    "version": 3
   },
   "file_extension": ".py",
   "mimetype": "text/x-python",
   "name": "python",
   "nbconvert_exporter": "python",
   "pygments_lexer": "ipython3",
   "version": "3.8.13"
  }
 },
 "nbformat": 4,
 "nbformat_minor": 4
}
